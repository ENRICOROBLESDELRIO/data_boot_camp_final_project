{
  "nbformat": 4,
  "nbformat_minor": 0,
  "metadata": {
    "colab": {
      "name": "Analysis Raquel V02.ipynb",
      "provenance": [],
      "authorship_tag": "ABX9TyNK9vBwoN3nTWcl/Gg/xrZ1",
      "include_colab_link": true
    },
    "kernelspec": {
      "name": "python3",
      "display_name": "Python 3"
    },
    "language_info": {
      "name": "python"
    }
  },
  "cells": [
    {
      "cell_type": "markdown",
      "metadata": {
        "id": "view-in-github",
        "colab_type": "text"
      },
      "source": [
        "<a href=\"https://colab.research.google.com/github/ENRICOROBLESDELRIO/data_boot_camp_final_project/blob/raquel_branch/Analysis_Raquel_V02.ipynb\" target=\"_parent\"><img src=\"https://colab.research.google.com/assets/colab-badge.svg\" alt=\"Open In Colab\"/></a>"
      ]
    },
    {
      "cell_type": "code",
      "metadata": {
        "colab": {
          "base_uri": "https://localhost:8080/"
        },
        "id": "R1_ORxm76DH0",
        "outputId": "5a50d6fd-7adc-474b-cb25-b5ef1c6be6de"
      },
      "source": [
        "!pip install --upgrade -q pygsheets"
      ],
      "execution_count": 1,
      "outputs": [
        {
          "output_type": "stream",
          "name": "stdout",
          "text": [
            "\u001b[?25l\r\u001b[K     |██▏                             | 10 kB 24.5 MB/s eta 0:00:01\r\u001b[K     |████▍                           | 20 kB 25.9 MB/s eta 0:00:01\r\u001b[K     |██████▋                         | 30 kB 12.1 MB/s eta 0:00:01\r\u001b[K     |████████▉                       | 40 kB 9.4 MB/s eta 0:00:01\r\u001b[K     |███████████                     | 51 kB 5.0 MB/s eta 0:00:01\r\u001b[K     |█████████████▎                  | 61 kB 5.5 MB/s eta 0:00:01\r\u001b[K     |███████████████▌                | 71 kB 5.9 MB/s eta 0:00:01\r\u001b[K     |█████████████████▊              | 81 kB 6.6 MB/s eta 0:00:01\r\u001b[K     |████████████████████            | 92 kB 6.4 MB/s eta 0:00:01\r\u001b[K     |██████████████████████▏         | 102 kB 5.1 MB/s eta 0:00:01\r\u001b[K     |████████████████████████▍       | 112 kB 5.1 MB/s eta 0:00:01\r\u001b[K     |██████████████████████████▋     | 122 kB 5.1 MB/s eta 0:00:01\r\u001b[K     |████████████████████████████▉   | 133 kB 5.1 MB/s eta 0:00:01\r\u001b[K     |███████████████████████████████ | 143 kB 5.1 MB/s eta 0:00:01\r\u001b[K     |████████████████████████████████| 147 kB 5.1 MB/s \n",
            "\u001b[?25h"
          ]
        }
      ]
    },
    {
      "cell_type": "markdown",
      "metadata": {
        "id": "J5HiyJilmmUx"
      },
      "source": [
        "# **Database set up**\n",
        "\n"
      ]
    },
    {
      "cell_type": "code",
      "metadata": {
        "colab": {
          "base_uri": "https://localhost:8080/"
        },
        "id": "8R3XMRODmcgz",
        "outputId": "72db223a-bc29-401e-cf8a-3315646a3ac1"
      },
      "source": [
        "# Libraries and dependencies\n",
        "\n",
        "import numpy as np\n",
        "from matplotlib import pyplot as plt\n",
        "import pandas as pd\n",
        "import seaborn as sns\n",
        "import math\n",
        "from sklearn.metrics import accuracy_score\n",
        "from google.colab import files\n",
        "from sqlalchemy import create_engine\n",
        "import psycopg2\n",
        "\n",
        "\n",
        "# Import for models\n",
        "from sklearn.preprocessing import LabelEncoder\n",
        "from sklearn.preprocessing import StandardScaler\n",
        "from sklearn import tree\n",
        "from sklearn.model_selection import train_test_split\n",
        "from sklearn.metrics import confusion_matrix, accuracy_score, classification_report"
      ],
      "execution_count": 2,
      "outputs": [
        {
          "output_type": "stream",
          "name": "stderr",
          "text": [
            "/usr/local/lib/python3.7/dist-packages/psycopg2/__init__.py:144: UserWarning: The psycopg2 wheel package will be renamed from release 2.8; in order to keep installing from binary please use \"pip install psycopg2-binary\" instead. For details see: <http://initd.org/psycopg/docs/install.html#binary-install-from-pypi>.\n",
            "  \"\"\")\n"
          ]
        }
      ]
    },
    {
      "cell_type": "code",
      "metadata": {
        "colab": {
          "base_uri": "https://localhost:8080/"
        },
        "id": "Cl11rPcHm5Yq",
        "outputId": "add536a5-a3c2-47a1-a239-a54025de151d"
      },
      "source": [
        "# Google Cloud SQL connexion:\n",
        "# Code taken from: https://stackoverflow.com/questions/53180140/how-to-access-cloud-sql-from-google-colab\n",
        "!gcloud auth login\n",
        "!gcloud config set project endeavor-intelligence-unit\n",
        "!gcloud sql instances describe finalprojectdb"
      ],
      "execution_count": 3,
      "outputs": [
        {
          "output_type": "stream",
          "name": "stdout",
          "text": [
            "Go to the following link in your browser:\n",
            "\n",
            "    https://accounts.google.com/o/oauth2/auth?response_type=code&client_id=32555940559.apps.googleusercontent.com&redirect_uri=urn%3Aietf%3Awg%3Aoauth%3A2.0%3Aoob&scope=openid+https%3A%2F%2Fwww.googleapis.com%2Fauth%2Fuserinfo.email+https%3A%2F%2Fwww.googleapis.com%2Fauth%2Fcloud-platform+https%3A%2F%2Fwww.googleapis.com%2Fauth%2Fappengine.admin+https%3A%2F%2Fwww.googleapis.com%2Fauth%2Fcompute+https%3A%2F%2Fwww.googleapis.com%2Fauth%2Faccounts.reauth&state=9zqu9i8PfTkp56KqzOTW02jqVGH577&prompt=consent&access_type=offline&code_challenge=gbVKbtSof6vV3IaMYi11voGcIM-QHeayWel9h9N1zDE&code_challenge_method=S256\n",
            "\n",
            "Enter verification code: 4/1AX4XfWhXWVEu0jO88PfxZ1z7DYEvqz8GBxS78PP3X713pPZsTh2qDyRrJxI\n",
            "\n",
            "You are now logged in as [racvbs@gmail.com].\n",
            "Your current project is [None].  You can change this setting by running:\n",
            "  $ gcloud config set project PROJECT_ID\n",
            "Updated property [core/project].\n",
            "\u001b[1;33mWARNING:\u001b[0m You do not appear to have access to project [endeavor-intelligence-unit] or it does not exist.\n",
            "\u001b[1;31mERROR:\u001b[0m (gcloud.sql.instances.describe) There was no instance found at projects/endeavor-intelligence-unit/instances/finalprojectdb or you are not authorized to access it.\n"
          ]
        }
      ]
    },
    {
      "cell_type": "code",
      "metadata": {
        "colab": {
          "base_uri": "https://localhost:8080/"
        },
        "id": "gW37_EqQm-Km",
        "outputId": "e0a95939-cbdf-43fe-879a-c11c2d3de8e1"
      },
      "source": [
        "# download and initialize the psql proxy\n",
        "!wget https://dl.google.com/cloudsql/cloud_sql_proxy.linux.amd64 -O cloud_sql_proxy\n",
        "!chmod +x cloud_sql_proxy\n",
        "\n",
        "# \"connectionName\" is from the previous block\n",
        "!nohup ./cloud_sql_proxy -instances=\"endeavor-intelligence-unit:northamerica-northeast2:finalprojectdb\"=tcp:5432 &\n",
        "!sleep 30s"
      ],
      "execution_count": 4,
      "outputs": [
        {
          "output_type": "stream",
          "name": "stdout",
          "text": [
            "--2021-11-12 00:23:47--  https://dl.google.com/cloudsql/cloud_sql_proxy.linux.amd64\n",
            "Resolving dl.google.com (dl.google.com)... 74.125.202.190, 74.125.202.136, 74.125.202.91, ...\n",
            "Connecting to dl.google.com (dl.google.com)|74.125.202.190|:443... connected.\n",
            "HTTP request sent, awaiting response... 200 OK\n",
            "Length: 16638816 (16M) [application/octet-stream]\n",
            "Saving to: ‘cloud_sql_proxy’\n",
            "\n",
            "\rcloud_sql_proxy       0%[                    ]       0  --.-KB/s               \rcloud_sql_proxy     100%[===================>]  15.87M  --.-KB/s    in 0.08s   \n",
            "\n",
            "2021-11-12 00:23:47 (202 MB/s) - ‘cloud_sql_proxy’ saved [16638816/16638816]\n",
            "\n",
            "nohup: appending output to 'nohup.out'\n"
          ]
        }
      ]
    },
    {
      "cell_type": "code",
      "metadata": {
        "colab": {
          "base_uri": "https://localhost:8080/"
        },
        "id": "YkhkF_q_nEIU",
        "outputId": "7c0a50ac-cef1-4938-f3a2-018f6ec58cd0"
      },
      "source": [
        "#Checking the proxy´s logs \n",
        "!cat nohup.out"
      ],
      "execution_count": 5,
      "outputs": [
        {
          "output_type": "stream",
          "name": "stdout",
          "text": [
            "2021/11/12 00:23:47 current FDs rlimit set to 1048576, wanted limit is 8500. Nothing to do here.\n",
            "2021/11/12 00:23:49 errors parsing config:\n",
            "\tgoogleapi: Error 403: The client is not authorized to make this request., notAuthorized\n"
          ]
        }
      ]
    },
    {
      "cell_type": "code",
      "metadata": {
        "id": "eKm2h5_rnIqS",
        "colab": {
          "base_uri": "https://localhost:8080/"
        },
        "outputId": "fe214d1a-1bec-4260-8614-9bfc6a52dcc3"
      },
      "source": [
        "# Connection to protect access and users to the database: \n",
        "from google.colab import drive\n",
        "drive.mount('/content/drive')"
      ],
      "execution_count": 7,
      "outputs": [
        {
          "output_type": "stream",
          "name": "stdout",
          "text": [
            "Mounted at /content/drive\n"
          ]
        }
      ]
    },
    {
      "cell_type": "code",
      "metadata": {
        "id": "St8NzNkSxL33"
      },
      "source": [
        "# Connection to the file with user and access to the database: \n",
        "\n",
        "from google.colab import files\n",
        "\n",
        "with open('/content/drive/MyDrive/Final_project/Second_Deliverable/key_config.txt', \"r\") as file:\n",
        "    FileasList = file.readlines()\n",
        "    username = FileasList[0]\n",
        "    password = FileasList[1]\n",
        "\n",
        "    new_line = []\n",
        "    # Loop through the file\n",
        "    for i in FileasList:\n",
        "        # Get rid of any new lines (\"enter\")\n",
        "        i = i.replace(\"\\n\", \"\")\n",
        "        # Add the cleaned data to the new_line list\n",
        "        new_line.append(i)\n",
        "    # Set the username to be the first object\n",
        "    username = new_line[0]\n",
        "    # Set the password to be the second object\n",
        "    password = new_line[1]\n",
        "    # Set the host to be the third object\n",
        "    host = new_line[2]\n",
        "    # Set the port to be the four object\n",
        "    port = new_line[3]\n",
        "    # Set the database to be the five object\n",
        "    database = new_line[4]"
      ],
      "execution_count": 8,
      "outputs": []
    },
    {
      "cell_type": "code",
      "metadata": {
        "id": "zOWmO3D6yEzr"
      },
      "source": [
        "# Connexion throught psycopg2 Google Cloud SQL data base\n",
        "\n",
        "conn = psycopg2.connect(\n",
        "    host=host, port=port, database=database,\n",
        "    user=username, password=password)"
      ],
      "execution_count": 9,
      "outputs": []
    },
    {
      "cell_type": "markdown",
      "metadata": {
        "id": "n_8GOlZ7nOZn"
      },
      "source": [
        "# **Founders cleaning**\n"
      ]
    },
    {
      "cell_type": "markdown",
      "metadata": {
        "id": "tS9ZsI9mnLMD"
      },
      "source": [
        "**Libraries**\n"
      ]
    },
    {
      "cell_type": "code",
      "metadata": {
        "id": "5tJGj1cn6LjL"
      },
      "source": [
        "\n",
        "# Libraries and dependencies\n",
        "\n",
        "import numpy as np\n",
        "from matplotlib import pyplot as plt\n",
        "import pandas as pd\n",
        "import seaborn as sns\n",
        "import math\n",
        "from sklearn.metrics import accuracy_score\n",
        "from google.colab import files\n",
        "\n",
        "## Import for models\n",
        "from sklearn.preprocessing import LabelEncoder\n",
        "from sklearn.preprocessing import StandardScaler\n",
        "from sklearn import tree\n",
        "from sklearn.model_selection import train_test_split\n",
        "from sklearn.metrics import confusion_matrix, accuracy_score, classification_report"
      ],
      "execution_count": 10,
      "outputs": []
    },
    {
      "cell_type": "code",
      "metadata": {
        "colab": {
          "base_uri": "https://localhost:8080/",
          "height": 277
        },
        "id": "XU20WihIoaHs",
        "outputId": "6f295428-813b-44ba-c82c-e74500575a7a"
      },
      "source": [
        "# Query to connect with SQL data base from Founders Demographics \n",
        "SQL_Query = pd.read_sql_query('''select * FROM \"Founders\" ''', conn)\n",
        "founders_df = pd.DataFrame(SQL_Query)\n",
        "founders_df.head()"
      ],
      "execution_count": 11,
      "outputs": [
        {
          "output_type": "execute_result",
          "data": {
            "text/html": [
              "<div>\n",
              "<style scoped>\n",
              "    .dataframe tbody tr th:only-of-type {\n",
              "        vertical-align: middle;\n",
              "    }\n",
              "\n",
              "    .dataframe tbody tr th {\n",
              "        vertical-align: top;\n",
              "    }\n",
              "\n",
              "    .dataframe thead th {\n",
              "        text-align: right;\n",
              "    }\n",
              "</style>\n",
              "<table border=\"1\" class=\"dataframe\">\n",
              "  <thead>\n",
              "    <tr style=\"text-align: right;\">\n",
              "      <th></th>\n",
              "      <th>id_founder</th>\n",
              "      <th>id_company</th>\n",
              "      <th>general_location</th>\n",
              "      <th>manager_exp</th>\n",
              "      <th>clevel_exp</th>\n",
              "      <th>engineering_exp</th>\n",
              "      <th>sales_exp</th>\n",
              "      <th>finance_exp</th>\n",
              "      <th>human_capital_exp</th>\n",
              "      <th>consulting_exp</th>\n",
              "      <th>founder_exp</th>\n",
              "      <th>foundation_year</th>\n",
              "      <th>years_of_experience_as_entreprenuer</th>\n",
              "      <th>age_of_first_entrepreneurship</th>\n",
              "      <th>age</th>\n",
              "      <th>years_of_experience</th>\n",
              "      <th>number_of_startups</th>\n",
              "      <th>gender</th>\n",
              "      <th>foreing_studies</th>\n",
              "      <th>foreing_work_experience</th>\n",
              "      <th>foreing_founder</th>\n",
              "    </tr>\n",
              "  </thead>\n",
              "  <tbody>\n",
              "    <tr>\n",
              "      <th>0</th>\n",
              "      <td>1</td>\n",
              "      <td>7</td>\n",
              "      <td>Ciudad de México, México</td>\n",
              "      <td>1</td>\n",
              "      <td>1</td>\n",
              "      <td>0</td>\n",
              "      <td>0</td>\n",
              "      <td>0</td>\n",
              "      <td>0</td>\n",
              "      <td>0</td>\n",
              "      <td>1.0</td>\n",
              "      <td>2020.0</td>\n",
              "      <td>12.0</td>\n",
              "      <td>31.0</td>\n",
              "      <td>32.0</td>\n",
              "      <td>13.0</td>\n",
              "      <td>4</td>\n",
              "      <td>M</td>\n",
              "      <td>0</td>\n",
              "      <td>0</td>\n",
              "      <td>0</td>\n",
              "    </tr>\n",
              "    <tr>\n",
              "      <th>1</th>\n",
              "      <td>2</td>\n",
              "      <td>23</td>\n",
              "      <td>Ciudad de México, México</td>\n",
              "      <td>0</td>\n",
              "      <td>1</td>\n",
              "      <td>0</td>\n",
              "      <td>0</td>\n",
              "      <td>0</td>\n",
              "      <td>0</td>\n",
              "      <td>0</td>\n",
              "      <td>1.0</td>\n",
              "      <td>2014.0</td>\n",
              "      <td>4.0</td>\n",
              "      <td>25.0</td>\n",
              "      <td>32.0</td>\n",
              "      <td>11.0</td>\n",
              "      <td>2</td>\n",
              "      <td>M</td>\n",
              "      <td>0</td>\n",
              "      <td>0</td>\n",
              "      <td>0</td>\n",
              "    </tr>\n",
              "    <tr>\n",
              "      <th>2</th>\n",
              "      <td>3</td>\n",
              "      <td>141</td>\n",
              "      <td>México</td>\n",
              "      <td>0</td>\n",
              "      <td>1</td>\n",
              "      <td>0</td>\n",
              "      <td>0</td>\n",
              "      <td>0</td>\n",
              "      <td>0</td>\n",
              "      <td>0</td>\n",
              "      <td>0.0</td>\n",
              "      <td>2015.0</td>\n",
              "      <td>0.0</td>\n",
              "      <td>22.0</td>\n",
              "      <td>28.0</td>\n",
              "      <td>6.0</td>\n",
              "      <td>1</td>\n",
              "      <td>M</td>\n",
              "      <td>0</td>\n",
              "      <td>1</td>\n",
              "      <td>0</td>\n",
              "    </tr>\n",
              "    <tr>\n",
              "      <th>3</th>\n",
              "      <td>4</td>\n",
              "      <td>152</td>\n",
              "      <td>Ciudad de México, México</td>\n",
              "      <td>0</td>\n",
              "      <td>0</td>\n",
              "      <td>0</td>\n",
              "      <td>0</td>\n",
              "      <td>1</td>\n",
              "      <td>0</td>\n",
              "      <td>1</td>\n",
              "      <td>1.0</td>\n",
              "      <td>2017.0</td>\n",
              "      <td>6.0</td>\n",
              "      <td>28.0</td>\n",
              "      <td>32.0</td>\n",
              "      <td>10.0</td>\n",
              "      <td>3</td>\n",
              "      <td>M</td>\n",
              "      <td>1</td>\n",
              "      <td>1</td>\n",
              "      <td>1</td>\n",
              "    </tr>\n",
              "    <tr>\n",
              "      <th>4</th>\n",
              "      <td>5</td>\n",
              "      <td>155</td>\n",
              "      <td>México</td>\n",
              "      <td>1</td>\n",
              "      <td>1</td>\n",
              "      <td>0</td>\n",
              "      <td>0</td>\n",
              "      <td>0</td>\n",
              "      <td>0</td>\n",
              "      <td>0</td>\n",
              "      <td>0.0</td>\n",
              "      <td>2015.0</td>\n",
              "      <td>10.0</td>\n",
              "      <td>27.0</td>\n",
              "      <td>33.0</td>\n",
              "      <td>16.0</td>\n",
              "      <td>1</td>\n",
              "      <td>M</td>\n",
              "      <td>1</td>\n",
              "      <td>0</td>\n",
              "      <td>0</td>\n",
              "    </tr>\n",
              "  </tbody>\n",
              "</table>\n",
              "</div>"
            ],
            "text/plain": [
              "   id_founder  id_company  ... foreing_work_experience  foreing_founder\n",
              "0           1           7  ...                       0                0\n",
              "1           2          23  ...                       0                0\n",
              "2           3         141  ...                       1                0\n",
              "3           4         152  ...                       1                1\n",
              "4           5         155  ...                       0                0\n",
              "\n",
              "[5 rows x 21 columns]"
            ]
          },
          "metadata": {},
          "execution_count": 11
        }
      ]
    },
    {
      "cell_type": "code",
      "metadata": {
        "colab": {
          "base_uri": "https://localhost:8080/"
        },
        "id": "zgJzhnZ16faD",
        "outputId": "0bdb5dfa-0065-4540-f680-be08f89ef628"
      },
      "source": [
        "# data types\n",
        "founders_df.dtypes"
      ],
      "execution_count": 12,
      "outputs": [
        {
          "output_type": "execute_result",
          "data": {
            "text/plain": [
              "id_founder                               int64\n",
              "id_company                               int64\n",
              "general_location                        object\n",
              "manager_exp                              int64\n",
              "clevel_exp                               int64\n",
              "engineering_exp                          int64\n",
              "sales_exp                                int64\n",
              "finance_exp                              int64\n",
              "human_capital_exp                        int64\n",
              "consulting_exp                           int64\n",
              "founder_exp                            float64\n",
              "foundation_year                        float64\n",
              "years_of_experience_as_entreprenuer    float64\n",
              "age_of_first_entrepreneurship          float64\n",
              "age                                    float64\n",
              "years_of_experience                    float64\n",
              "number_of_startups                       int64\n",
              "gender                                  object\n",
              "foreing_studies                          int64\n",
              "foreing_work_experience                  int64\n",
              "foreing_founder                          int64\n",
              "dtype: object"
            ]
          },
          "metadata": {},
          "execution_count": 12
        }
      ]
    },
    {
      "cell_type": "code",
      "metadata": {
        "colab": {
          "base_uri": "https://localhost:8080/"
        },
        "id": "wvti57BoyvGz",
        "outputId": "2f105ba5-4bc0-4b63-909d-d1948ec67184"
      },
      "source": [
        "founders_df.count()"
      ],
      "execution_count": 13,
      "outputs": [
        {
          "output_type": "execute_result",
          "data": {
            "text/plain": [
              "id_founder                             640\n",
              "id_company                             640\n",
              "general_location                       629\n",
              "manager_exp                            640\n",
              "clevel_exp                             640\n",
              "engineering_exp                        640\n",
              "sales_exp                              640\n",
              "finance_exp                            640\n",
              "human_capital_exp                      640\n",
              "consulting_exp                         640\n",
              "founder_exp                            639\n",
              "foundation_year                        633\n",
              "years_of_experience_as_entreprenuer    633\n",
              "age_of_first_entrepreneurship          566\n",
              "age                                    634\n",
              "years_of_experience                    634\n",
              "number_of_startups                     640\n",
              "gender                                 640\n",
              "foreing_studies                        640\n",
              "foreing_work_experience                640\n",
              "foreing_founder                        640\n",
              "dtype: int64"
            ]
          },
          "metadata": {},
          "execution_count": 13
        }
      ]
    },
    {
      "cell_type": "code",
      "metadata": {
        "colab": {
          "base_uri": "https://localhost:8080/",
          "height": 277
        },
        "id": "KiHxBx-My8yD",
        "outputId": "7e30b499-1bf6-4b52-f884-7329cda12cb9"
      },
      "source": [
        "# Review\n",
        "founders_df.head()"
      ],
      "execution_count": 30,
      "outputs": [
        {
          "output_type": "execute_result",
          "data": {
            "text/html": [
              "<div>\n",
              "<style scoped>\n",
              "    .dataframe tbody tr th:only-of-type {\n",
              "        vertical-align: middle;\n",
              "    }\n",
              "\n",
              "    .dataframe tbody tr th {\n",
              "        vertical-align: top;\n",
              "    }\n",
              "\n",
              "    .dataframe thead th {\n",
              "        text-align: right;\n",
              "    }\n",
              "</style>\n",
              "<table border=\"1\" class=\"dataframe\">\n",
              "  <thead>\n",
              "    <tr style=\"text-align: right;\">\n",
              "      <th></th>\n",
              "      <th>id_founder</th>\n",
              "      <th>id_company</th>\n",
              "      <th>general_location</th>\n",
              "      <th>manager_exp</th>\n",
              "      <th>clevel_exp</th>\n",
              "      <th>engineering_exp</th>\n",
              "      <th>sales_exp</th>\n",
              "      <th>finance_exp</th>\n",
              "      <th>human_capital_exp</th>\n",
              "      <th>consulting_exp</th>\n",
              "      <th>founder_exp</th>\n",
              "      <th>foundation_year</th>\n",
              "      <th>years_of_experience_as_entreprenuer</th>\n",
              "      <th>age_of_first_entrepreneurship</th>\n",
              "      <th>age</th>\n",
              "      <th>years_of_experience</th>\n",
              "      <th>number_of_startups</th>\n",
              "      <th>gender</th>\n",
              "      <th>foreing_studies</th>\n",
              "      <th>foreing_work_experience</th>\n",
              "      <th>foreing_founder</th>\n",
              "    </tr>\n",
              "  </thead>\n",
              "  <tbody>\n",
              "    <tr>\n",
              "      <th>0</th>\n",
              "      <td>1</td>\n",
              "      <td>7</td>\n",
              "      <td>Ciudad de México, México</td>\n",
              "      <td>1</td>\n",
              "      <td>1</td>\n",
              "      <td>0</td>\n",
              "      <td>0</td>\n",
              "      <td>0</td>\n",
              "      <td>0</td>\n",
              "      <td>0</td>\n",
              "      <td>1.0</td>\n",
              "      <td>2020.0</td>\n",
              "      <td>12.0</td>\n",
              "      <td>31.0</td>\n",
              "      <td>32.0</td>\n",
              "      <td>13.0</td>\n",
              "      <td>4</td>\n",
              "      <td>M</td>\n",
              "      <td>0</td>\n",
              "      <td>0</td>\n",
              "      <td>0</td>\n",
              "    </tr>\n",
              "    <tr>\n",
              "      <th>1</th>\n",
              "      <td>2</td>\n",
              "      <td>23</td>\n",
              "      <td>Ciudad de México, México</td>\n",
              "      <td>0</td>\n",
              "      <td>1</td>\n",
              "      <td>0</td>\n",
              "      <td>0</td>\n",
              "      <td>0</td>\n",
              "      <td>0</td>\n",
              "      <td>0</td>\n",
              "      <td>1.0</td>\n",
              "      <td>2014.0</td>\n",
              "      <td>4.0</td>\n",
              "      <td>25.0</td>\n",
              "      <td>32.0</td>\n",
              "      <td>11.0</td>\n",
              "      <td>2</td>\n",
              "      <td>M</td>\n",
              "      <td>0</td>\n",
              "      <td>0</td>\n",
              "      <td>0</td>\n",
              "    </tr>\n",
              "    <tr>\n",
              "      <th>2</th>\n",
              "      <td>3</td>\n",
              "      <td>141</td>\n",
              "      <td>México</td>\n",
              "      <td>0</td>\n",
              "      <td>1</td>\n",
              "      <td>0</td>\n",
              "      <td>0</td>\n",
              "      <td>0</td>\n",
              "      <td>0</td>\n",
              "      <td>0</td>\n",
              "      <td>0.0</td>\n",
              "      <td>2015.0</td>\n",
              "      <td>0.0</td>\n",
              "      <td>22.0</td>\n",
              "      <td>28.0</td>\n",
              "      <td>6.0</td>\n",
              "      <td>1</td>\n",
              "      <td>M</td>\n",
              "      <td>0</td>\n",
              "      <td>1</td>\n",
              "      <td>0</td>\n",
              "    </tr>\n",
              "    <tr>\n",
              "      <th>3</th>\n",
              "      <td>4</td>\n",
              "      <td>152</td>\n",
              "      <td>Ciudad de México, México</td>\n",
              "      <td>0</td>\n",
              "      <td>0</td>\n",
              "      <td>0</td>\n",
              "      <td>0</td>\n",
              "      <td>1</td>\n",
              "      <td>0</td>\n",
              "      <td>1</td>\n",
              "      <td>1.0</td>\n",
              "      <td>2017.0</td>\n",
              "      <td>6.0</td>\n",
              "      <td>28.0</td>\n",
              "      <td>32.0</td>\n",
              "      <td>10.0</td>\n",
              "      <td>3</td>\n",
              "      <td>M</td>\n",
              "      <td>1</td>\n",
              "      <td>1</td>\n",
              "      <td>1</td>\n",
              "    </tr>\n",
              "    <tr>\n",
              "      <th>4</th>\n",
              "      <td>5</td>\n",
              "      <td>155</td>\n",
              "      <td>México</td>\n",
              "      <td>1</td>\n",
              "      <td>1</td>\n",
              "      <td>0</td>\n",
              "      <td>0</td>\n",
              "      <td>0</td>\n",
              "      <td>0</td>\n",
              "      <td>0</td>\n",
              "      <td>0.0</td>\n",
              "      <td>2015.0</td>\n",
              "      <td>10.0</td>\n",
              "      <td>27.0</td>\n",
              "      <td>33.0</td>\n",
              "      <td>16.0</td>\n",
              "      <td>1</td>\n",
              "      <td>M</td>\n",
              "      <td>1</td>\n",
              "      <td>0</td>\n",
              "      <td>0</td>\n",
              "    </tr>\n",
              "  </tbody>\n",
              "</table>\n",
              "</div>"
            ],
            "text/plain": [
              "   id_founder  id_company  ... foreing_work_experience  foreing_founder\n",
              "0           1           7  ...                       0                0\n",
              "1           2          23  ...                       0                0\n",
              "2           3         141  ...                       1                0\n",
              "3           4         152  ...                       1                1\n",
              "4           5         155  ...                       0                0\n",
              "\n",
              "[5 rows x 21 columns]"
            ]
          },
          "metadata": {},
          "execution_count": 30
        }
      ]
    },
    {
      "cell_type": "code",
      "metadata": {
        "colab": {
          "base_uri": "https://localhost:8080/"
        },
        "id": "mdc9Aq2P6pMe",
        "outputId": "60390261-b151-4b0e-b8af-f70965966a6f"
      },
      "source": [
        "# Drop the null columns where all values are null\n",
        "founders_df = founders_df.dropna(axis='columns', how='all')\n",
        "\n",
        "# Drop the null rows\n",
        "founders_df = founders_df.dropna()\n",
        "founders_df.count()"
      ],
      "execution_count": 34,
      "outputs": [
        {
          "output_type": "execute_result",
          "data": {
            "text/plain": [
              "id_founder                             555\n",
              "id_company                             555\n",
              "general_location                       555\n",
              "manager_exp                            555\n",
              "clevel_exp                             555\n",
              "engineering_exp                        555\n",
              "sales_exp                              555\n",
              "finance_exp                            555\n",
              "human_capital_exp                      555\n",
              "consulting_exp                         555\n",
              "founder_exp                            555\n",
              "foundation_year                        555\n",
              "years_of_experience_as_entreprenuer    555\n",
              "age_of_first_entrepreneurship          555\n",
              "age                                    555\n",
              "years_of_experience                    555\n",
              "number_of_startups                     555\n",
              "gender                                 555\n",
              "foreing_studies                        555\n",
              "foreing_work_experience                555\n",
              "foreing_founder                        555\n",
              "dtype: int64"
            ]
          },
          "metadata": {},
          "execution_count": 34
        }
      ]
    },
    {
      "cell_type": "code",
      "metadata": {
        "colab": {
          "base_uri": "https://localhost:8080/",
          "height": 225
        },
        "id": "w0uXIlLh6uPD",
        "outputId": "1b47b974-93c0-4007-ec67-7d9853e33860"
      },
      "source": [
        "# Encoding labels\n",
        "le = LabelEncoder()\n",
        "founders_df_Encode = founders_df.copy()\n",
        "founders_df_Encode['general_location'] = le.fit_transform(founders_df_Encode['general_location'])\n",
        "founders_df_Encode['gender'] = le.fit_transform(founders_df_Encode['gender'])\n",
        "\n",
        "# Get the name of the columns\n",
        "columnsName = founders_df_Encode.columns.tolist()\n",
        "\n",
        "# convert variables to numerical\n",
        "for column in columnsName:\n",
        "  founders_df_Encode[column] = pd.to_numeric(founders_df_Encode[column], errors='coerce').astype('Int64').fillna(0)\n",
        "\n",
        "founders_df_Encode.head()"
      ],
      "execution_count": 39,
      "outputs": [
        {
          "output_type": "execute_result",
          "data": {
            "text/html": [
              "<div>\n",
              "<style scoped>\n",
              "    .dataframe tbody tr th:only-of-type {\n",
              "        vertical-align: middle;\n",
              "    }\n",
              "\n",
              "    .dataframe tbody tr th {\n",
              "        vertical-align: top;\n",
              "    }\n",
              "\n",
              "    .dataframe thead th {\n",
              "        text-align: right;\n",
              "    }\n",
              "</style>\n",
              "<table border=\"1\" class=\"dataframe\">\n",
              "  <thead>\n",
              "    <tr style=\"text-align: right;\">\n",
              "      <th></th>\n",
              "      <th>id_founder</th>\n",
              "      <th>id_company</th>\n",
              "      <th>general_location</th>\n",
              "      <th>manager_exp</th>\n",
              "      <th>clevel_exp</th>\n",
              "      <th>engineering_exp</th>\n",
              "      <th>sales_exp</th>\n",
              "      <th>finance_exp</th>\n",
              "      <th>human_capital_exp</th>\n",
              "      <th>consulting_exp</th>\n",
              "      <th>founder_exp</th>\n",
              "      <th>foundation_year</th>\n",
              "      <th>years_of_experience_as_entreprenuer</th>\n",
              "      <th>age_of_first_entrepreneurship</th>\n",
              "      <th>age</th>\n",
              "      <th>years_of_experience</th>\n",
              "      <th>number_of_startups</th>\n",
              "      <th>gender</th>\n",
              "      <th>foreing_studies</th>\n",
              "      <th>foreing_work_experience</th>\n",
              "      <th>foreing_founder</th>\n",
              "    </tr>\n",
              "  </thead>\n",
              "  <tbody>\n",
              "    <tr>\n",
              "      <th>0</th>\n",
              "      <td>1</td>\n",
              "      <td>7</td>\n",
              "      <td>22</td>\n",
              "      <td>1</td>\n",
              "      <td>1</td>\n",
              "      <td>0</td>\n",
              "      <td>0</td>\n",
              "      <td>0</td>\n",
              "      <td>0</td>\n",
              "      <td>0</td>\n",
              "      <td>1</td>\n",
              "      <td>2020</td>\n",
              "      <td>12</td>\n",
              "      <td>31</td>\n",
              "      <td>32</td>\n",
              "      <td>13</td>\n",
              "      <td>4</td>\n",
              "      <td>1</td>\n",
              "      <td>0</td>\n",
              "      <td>0</td>\n",
              "      <td>0</td>\n",
              "    </tr>\n",
              "    <tr>\n",
              "      <th>1</th>\n",
              "      <td>2</td>\n",
              "      <td>23</td>\n",
              "      <td>22</td>\n",
              "      <td>0</td>\n",
              "      <td>1</td>\n",
              "      <td>0</td>\n",
              "      <td>0</td>\n",
              "      <td>0</td>\n",
              "      <td>0</td>\n",
              "      <td>0</td>\n",
              "      <td>1</td>\n",
              "      <td>2014</td>\n",
              "      <td>4</td>\n",
              "      <td>25</td>\n",
              "      <td>32</td>\n",
              "      <td>11</td>\n",
              "      <td>2</td>\n",
              "      <td>1</td>\n",
              "      <td>0</td>\n",
              "      <td>0</td>\n",
              "      <td>0</td>\n",
              "    </tr>\n",
              "    <tr>\n",
              "      <th>2</th>\n",
              "      <td>3</td>\n",
              "      <td>141</td>\n",
              "      <td>76</td>\n",
              "      <td>0</td>\n",
              "      <td>1</td>\n",
              "      <td>0</td>\n",
              "      <td>0</td>\n",
              "      <td>0</td>\n",
              "      <td>0</td>\n",
              "      <td>0</td>\n",
              "      <td>0</td>\n",
              "      <td>2015</td>\n",
              "      <td>0</td>\n",
              "      <td>22</td>\n",
              "      <td>28</td>\n",
              "      <td>6</td>\n",
              "      <td>1</td>\n",
              "      <td>1</td>\n",
              "      <td>0</td>\n",
              "      <td>1</td>\n",
              "      <td>0</td>\n",
              "    </tr>\n",
              "    <tr>\n",
              "      <th>3</th>\n",
              "      <td>4</td>\n",
              "      <td>152</td>\n",
              "      <td>22</td>\n",
              "      <td>0</td>\n",
              "      <td>0</td>\n",
              "      <td>0</td>\n",
              "      <td>0</td>\n",
              "      <td>1</td>\n",
              "      <td>0</td>\n",
              "      <td>1</td>\n",
              "      <td>1</td>\n",
              "      <td>2017</td>\n",
              "      <td>6</td>\n",
              "      <td>28</td>\n",
              "      <td>32</td>\n",
              "      <td>10</td>\n",
              "      <td>3</td>\n",
              "      <td>1</td>\n",
              "      <td>1</td>\n",
              "      <td>1</td>\n",
              "      <td>1</td>\n",
              "    </tr>\n",
              "    <tr>\n",
              "      <th>4</th>\n",
              "      <td>5</td>\n",
              "      <td>155</td>\n",
              "      <td>76</td>\n",
              "      <td>1</td>\n",
              "      <td>1</td>\n",
              "      <td>0</td>\n",
              "      <td>0</td>\n",
              "      <td>0</td>\n",
              "      <td>0</td>\n",
              "      <td>0</td>\n",
              "      <td>0</td>\n",
              "      <td>2015</td>\n",
              "      <td>10</td>\n",
              "      <td>27</td>\n",
              "      <td>33</td>\n",
              "      <td>16</td>\n",
              "      <td>1</td>\n",
              "      <td>1</td>\n",
              "      <td>1</td>\n",
              "      <td>0</td>\n",
              "      <td>0</td>\n",
              "    </tr>\n",
              "  </tbody>\n",
              "</table>\n",
              "</div>"
            ],
            "text/plain": [
              "   id_founder  id_company  ...  foreing_work_experience  foreing_founder\n",
              "0           1           7  ...                        0                0\n",
              "1           2          23  ...                        0                0\n",
              "2           3         141  ...                        1                0\n",
              "3           4         152  ...                        1                1\n",
              "4           5         155  ...                        0                0\n",
              "\n",
              "[5 rows x 21 columns]"
            ]
          },
          "metadata": {},
          "execution_count": 39
        }
      ]
    },
    {
      "cell_type": "code",
      "metadata": {
        "colab": {
          "base_uri": "https://localhost:8080/"
        },
        "id": "2_Pt4Acu6yWb",
        "outputId": "9f9823bf-a081-434e-ba51-8213c7cdab78"
      },
      "source": [
        "# data types\n",
        "founders_df_Encode.dtypes"
      ],
      "execution_count": 40,
      "outputs": [
        {
          "output_type": "execute_result",
          "data": {
            "text/plain": [
              "id_founder                             Int64\n",
              "id_company                             Int64\n",
              "general_location                       Int64\n",
              "manager_exp                            Int64\n",
              "clevel_exp                             Int64\n",
              "engineering_exp                        Int64\n",
              "sales_exp                              Int64\n",
              "finance_exp                            Int64\n",
              "human_capital_exp                      Int64\n",
              "consulting_exp                         Int64\n",
              "founder_exp                            Int64\n",
              "foundation_year                        Int64\n",
              "years_of_experience_as_entreprenuer    Int64\n",
              "age_of_first_entrepreneurship          Int64\n",
              "age                                    Int64\n",
              "years_of_experience                    Int64\n",
              "number_of_startups                     Int64\n",
              "gender                                 Int64\n",
              "foreing_studies                        Int64\n",
              "foreing_work_experience                Int64\n",
              "foreing_founder                        Int64\n",
              "dtype: object"
            ]
          },
          "metadata": {},
          "execution_count": 40
        }
      ]
    },
    {
      "cell_type": "markdown",
      "metadata": {
        "id": "irmgLPLw69Uw"
      },
      "source": [
        "# **Founder's experience**"
      ]
    },
    {
      "cell_type": "code",
      "metadata": {
        "id": "E9je_FLS7BuA"
      },
      "source": [
        "# Experience percentages\n",
        "manager_exp_percentage = founders_df_Encode[\"manager_exp\"].value_counts(1)[1]\n",
        "clevel_exp_percentage = founders_df_Encode[\"clevel_exp\"].value_counts(1)[1]\n",
        "engineering_exp_percentage = founders_df_Encode[\"engineering_exp\"].value_counts(1)[1]\n",
        "sales_exp_percentage = founders_df_Encode[\"sales_exp\"].value_counts(1)[1]\n",
        "finance_exp_percentage = founders_df_Encode[\"finance_exp\"].value_counts(1)[1]\n",
        "human_capital_exp_percentage = founders_df_Encode[\"human_capital_exp\"].value_counts(1)[1]\n",
        "consulting_exp_percentage = founders_df_Encode[\"consulting_exp\"].value_counts(1)[1]\n",
        "founder_exp_percentage = founders_df_Encode[\"founder_exp\"].value_counts(1)[1]\n"
      ],
      "execution_count": 41,
      "outputs": []
    },
    {
      "cell_type": "code",
      "metadata": {
        "colab": {
          "base_uri": "https://localhost:8080/",
          "height": 81
        },
        "id": "bfKk1kX07qJL",
        "outputId": "d1db93f9-8d71-4197-a9d2-620685af09b5"
      },
      "source": [
        "# experience vector\n",
        "experience = {\n",
        "    \"Management\": manager_exp_percentage,\n",
        "    \"C-Level\": clevel_exp_percentage,\n",
        "    \"Engineering\": engineering_exp_percentage,\n",
        "    \"Sales\": sales_exp_percentage,\n",
        "    \"Finance\": finance_exp_percentage,\n",
        "    \"Human Resources\": human_capital_exp_percentage,\n",
        "    \"Consulting\": consulting_exp_percentage,\n",
        "    \"Founder\": founder_exp_percentage,\n",
        "}\n",
        "experience_df = pd.DataFrame([experience])\n",
        "experience_df"
      ],
      "execution_count": 42,
      "outputs": [
        {
          "output_type": "execute_result",
          "data": {
            "text/html": [
              "<div>\n",
              "<style scoped>\n",
              "    .dataframe tbody tr th:only-of-type {\n",
              "        vertical-align: middle;\n",
              "    }\n",
              "\n",
              "    .dataframe tbody tr th {\n",
              "        vertical-align: top;\n",
              "    }\n",
              "\n",
              "    .dataframe thead th {\n",
              "        text-align: right;\n",
              "    }\n",
              "</style>\n",
              "<table border=\"1\" class=\"dataframe\">\n",
              "  <thead>\n",
              "    <tr style=\"text-align: right;\">\n",
              "      <th></th>\n",
              "      <th>Management</th>\n",
              "      <th>C-Level</th>\n",
              "      <th>Engineering</th>\n",
              "      <th>Sales</th>\n",
              "      <th>Finance</th>\n",
              "      <th>Human Resources</th>\n",
              "      <th>Consulting</th>\n",
              "      <th>Founder</th>\n",
              "    </tr>\n",
              "  </thead>\n",
              "  <tbody>\n",
              "    <tr>\n",
              "      <th>0</th>\n",
              "      <td>0.495495</td>\n",
              "      <td>0.654054</td>\n",
              "      <td>0.185586</td>\n",
              "      <td>0.099099</td>\n",
              "      <td>0.100901</td>\n",
              "      <td>0.028829</td>\n",
              "      <td>0.216216</td>\n",
              "      <td>0.776577</td>\n",
              "    </tr>\n",
              "  </tbody>\n",
              "</table>\n",
              "</div>"
            ],
            "text/plain": [
              "   Management   C-Level  Engineering  ...  Human Resources  Consulting   Founder\n",
              "0    0.495495  0.654054     0.185586  ...         0.028829    0.216216  0.776577\n",
              "\n",
              "[1 rows x 8 columns]"
            ]
          },
          "metadata": {},
          "execution_count": 42
        }
      ]
    },
    {
      "cell_type": "code",
      "metadata": {
        "colab": {
          "base_uri": "https://localhost:8080/",
          "height": 313
        },
        "id": "kRA-cCLU7_XK",
        "outputId": "42331d9a-eee3-4635-a618-e922b898ce8d"
      },
      "source": [
        "# \n",
        "x_axis_exp = experience.keys()\n",
        "y_axis_exp = experience.values()\n",
        "plt.bar(x_axis_exp, y_axis_exp, color='r', alpha=0.5, align=\"center\")\n",
        "# Create labels for the x and y axes.\n",
        "plt.xlabel(\"Experience\")\n",
        "plt.ylabel(\"% of founders with experience\")\n",
        "plt.title(\"Experience of founders\")"
      ],
      "execution_count": 47,
      "outputs": [
        {
          "output_type": "execute_result",
          "data": {
            "text/plain": [
              "Text(0.5, 1.0, 'Experience of founders')"
            ]
          },
          "metadata": {},
          "execution_count": 47
        },
        {
          "output_type": "display_data",
          "data": {
            "image/png": "[encoded data removed]",
            "text/plain": [
              "<Figure size 432x288 with 1 Axes>"
            ]
          },
          "metadata": {
            "needs_background": "light"
          }
        }
      ]
    },
    {
      "cell_type": "code",
      "metadata": {
        "id": "cp4_cPok8G2B",
        "colab": {
          "base_uri": "https://localhost:8080/"
        },
        "outputId": "f046a932-dec9-467e-cc72-9f80b93370e8"
      },
      "source": [
        "year_foundation = founders_df[\"foundation_year\"].value_counts()\n",
        "year_foundation"
      ],
      "execution_count": 50,
      "outputs": [
        {
          "output_type": "execute_result",
          "data": {
            "text/plain": [
              "2015.0    84\n",
              "2016.0    63\n",
              "2014.0    60\n",
              "2019.0    53\n",
              "2018.0    53\n",
              "2017.0    52\n",
              "2020.0    45\n",
              "2013.0    44\n",
              "2012.0    35\n",
              "2011.0    19\n",
              "2021.0    18\n",
              "2010.0     9\n",
              "2008.0     4\n",
              "2009.0     4\n",
              "2007.0     2\n",
              "2002.0     2\n",
              "2003.0     2\n",
              "1999.0     2\n",
              "2004.0     1\n",
              "1997.0     1\n",
              "2006.0     1\n",
              "2001.0     1\n",
              "Name: foundation_year, dtype: int64"
            ]
          },
          "metadata": {},
          "execution_count": 50
        }
      ]
    },
    {
      "cell_type": "code",
      "metadata": {
        "colab": {
          "base_uri": "https://localhost:8080/",
          "height": 207
        },
        "id": "2bxIpU6J8taA",
        "outputId": "4b1860d6-dd93-46af-e5f9-1571260e3dab"
      },
      "source": [
        "# Plot for foundation_year\n",
        "x_axis_year = year_foundation.keys()\n",
        "y_axis_year = year_foundation.values()"
      ],
      "execution_count": 53,
      "outputs": [
        {
          "output_type": "error",
          "ename": "TypeError",
          "evalue": "ignored",
          "traceback": [
            "\u001b[0;31m---------------------------------------------------------------------------\u001b[0m",
            "\u001b[0;31mTypeError\u001b[0m                                 Traceback (most recent call last)",
            "\u001b[0;32m<ipython-input-53-f2ee4018416f>\u001b[0m in \u001b[0;36m<module>\u001b[0;34m()\u001b[0m\n\u001b[1;32m      1\u001b[0m \u001b[0;31m# Plot for foundation_year\u001b[0m\u001b[0;34m\u001b[0m\u001b[0;34m\u001b[0m\u001b[0;34m\u001b[0m\u001b[0m\n\u001b[1;32m      2\u001b[0m \u001b[0mx_axis_year\u001b[0m \u001b[0;34m=\u001b[0m \u001b[0myear_foundation\u001b[0m\u001b[0;34m.\u001b[0m\u001b[0mkeys\u001b[0m\u001b[0;34m(\u001b[0m\u001b[0;34m)\u001b[0m\u001b[0;34m\u001b[0m\u001b[0;34m\u001b[0m\u001b[0m\n\u001b[0;32m----> 3\u001b[0;31m \u001b[0my_axis_year\u001b[0m \u001b[0;34m=\u001b[0m \u001b[0myear_foundation\u001b[0m\u001b[0;34m.\u001b[0m\u001b[0mvalues\u001b[0m\u001b[0;34m(\u001b[0m\u001b[0;34m)\u001b[0m\u001b[0;34m\u001b[0m\u001b[0;34m\u001b[0m\u001b[0m\n\u001b[0m",
            "\u001b[0;31mTypeError\u001b[0m: 'numpy.ndarray' object is not callable"
          ]
        }
      ]
    },
    {
      "cell_type": "code",
      "metadata": {
        "colab": {
          "base_uri": "https://localhost:8080/",
          "height": 295
        },
        "id": "XNrVvw-99fel",
        "outputId": "234bd448-67e7-43c4-d828-20d909ca1ea6"
      },
      "source": [
        ""
      ],
      "execution_count": null,
      "outputs": [
        {
          "output_type": "display_data",
          "data": {
            "image/png": "[encoded data removed]",
            "text/plain": [
              "<Figure size 432x288 with 1 Axes>"
            ]
          },
          "metadata": {
            "needs_background": "light"
          }
        }
      ]
    },
    {
      "cell_type": "markdown",
      "metadata": {
        "id": "Skhcxh1Z_CUt"
      },
      "source": [
        "# **Companies**\n"
      ]
    },
    {
      "cell_type": "code",
      "metadata": {
        "id": "ce6UrZPa_B9o"
      },
      "source": [
        ""
      ],
      "execution_count": null,
      "outputs": []
    }
  ]
}