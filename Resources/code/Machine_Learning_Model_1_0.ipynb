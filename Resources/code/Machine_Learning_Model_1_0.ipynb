{
  "nbformat": 4,
  "nbformat_minor": 0,
  "metadata": {
    "colab": {
      "name": "Machine_Learning_Model_1.0.ipynb",
      "provenance": [],
      "include_colab_link": true
    },
    "kernelspec": {
      "name": "python3",
      "display_name": "Python 3"
    },
    "language_info": {
      "name": "python"
    },
    "accelerator": "GPU"
  },
  "cells": [
    {
      "cell_type": "markdown",
      "metadata": {
        "id": "view-in-github",
        "colab_type": "text"
      },
      "source": [
        "<a href=\"https://colab.research.google.com/github/ENRICOROBLESDELRIO/data_boot_camp_final_project/blob/enrico_branch/Machine_Learning_Model_1_0.ipynb\" target=\"_parent\"><img src=\"https://colab.research.google.com/assets/colab-badge.svg\" alt=\"Open In Colab\"/></a>"
      ]
    },
    {
      "cell_type": "code",
      "metadata": {
        "id": "r9dYm9X8WDRm",
        "colab": {
          "base_uri": "https://localhost:8080/"
        },
        "outputId": "60e10c61-1d8e-4d07-dc25-e1ffe9404ee4"
      },
      "source": [
        "!pip install --upgrade -q pygsheets"
      ],
      "execution_count": 1,
      "outputs": [
        {
          "output_type": "stream",
          "name": "stdout",
          "text": [
            "\u001b[?25l\r\u001b[K     |██▏                             | 10 kB 17.1 MB/s eta 0:00:01\r\u001b[K     |████▍                           | 20 kB 13.7 MB/s eta 0:00:01\r\u001b[K     |██████▋                         | 30 kB 9.7 MB/s eta 0:00:01\r\u001b[K     |████████▉                       | 40 kB 8.5 MB/s eta 0:00:01\r\u001b[K     |███████████                     | 51 kB 6.1 MB/s eta 0:00:01\r\u001b[K     |█████████████▎                  | 61 kB 6.1 MB/s eta 0:00:01\r\u001b[K     |███████████████▌                | 71 kB 5.2 MB/s eta 0:00:01\r\u001b[K     |█████████████████▊              | 81 kB 5.8 MB/s eta 0:00:01\r\u001b[K     |████████████████████            | 92 kB 5.7 MB/s eta 0:00:01\r\u001b[K     |██████████████████████▏         | 102 kB 5.5 MB/s eta 0:00:01\r\u001b[K     |████████████████████████▍       | 112 kB 5.5 MB/s eta 0:00:01\r\u001b[K     |██████████████████████████▋     | 122 kB 5.5 MB/s eta 0:00:01\r\u001b[K     |████████████████████████████▉   | 133 kB 5.5 MB/s eta 0:00:01\r\u001b[K     |███████████████████████████████ | 143 kB 5.5 MB/s eta 0:00:01\r\u001b[K     |████████████████████████████████| 147 kB 5.5 MB/s \n",
            "\u001b[?25h"
          ]
        }
      ]
    },
    {
      "cell_type": "markdown",
      "metadata": {
        "id": "DXb_G2ziaWpp"
      },
      "source": [
        "# **Import data**"
      ]
    },
    {
      "cell_type": "code",
      "metadata": {
        "id": "xj9AvLhhaP2D"
      },
      "source": [
        "# Authenticator code\n",
        "\n",
        "import google.auth\n",
        "from google.colab import auth\n",
        "\n",
        "auth.authenticate_user()\n",
        "import pygsheets\n",
        "credentials, _ = google.auth.default()\n",
        "gc = pygsheets.client.Client(credentials)"
      ],
      "execution_count": 2,
      "outputs": []
    },
    {
      "cell_type": "code",
      "metadata": {
        "id": "ur-bvUd6yStV"
      },
      "source": [
        "# Libraries and dependencies\n",
        "\n",
        "import numpy as np\n",
        "from matplotlib import pyplot as plt\n",
        "import pandas as pd\n",
        "import seaborn as sns\n",
        "import math\n",
        "from sklearn.metrics import accuracy_score\n",
        "from google.colab import files"
      ],
      "execution_count": 3,
      "outputs": []
    },
    {
      "cell_type": "code",
      "metadata": {
        "colab": {
          "base_uri": "https://localhost:8080/",
          "height": 224
        },
        "id": "8Cgv8BX4x_Jh",
        "outputId": "7e038cd1-a093-49cb-f9b7-5c22f068afaf"
      },
      "source": [
        "# Google Sheet with the data base of companies\n",
        "\n",
        "sheet = gc.open_by_key('1wMcaDShdLmXnhfo6Co-rozlvo_hSw83A1BcO3nYcy8g')\n",
        "worksheet = sheet.worksheet_by_title('Companies')\n",
        "\n",
        "# get_all_values into a data frame\n",
        "db_companies = worksheet.get_as_df()\n",
        "db_companies.head() "
      ],
      "execution_count": 6,
      "outputs": [
        {
          "output_type": "execute_result",
          "data": {
            "text/html": [
              "<div>\n",
              "<style scoped>\n",
              "    .dataframe tbody tr th:only-of-type {\n",
              "        vertical-align: middle;\n",
              "    }\n",
              "\n",
              "    .dataframe tbody tr th {\n",
              "        vertical-align: top;\n",
              "    }\n",
              "\n",
              "    .dataframe thead th {\n",
              "        text-align: right;\n",
              "    }\n",
              "</style>\n",
              "<table border=\"1\" class=\"dataframe\">\n",
              "  <thead>\n",
              "    <tr style=\"text-align: right;\">\n",
              "      <th></th>\n",
              "      <th>id_company</th>\n",
              "      <th>category</th>\n",
              "      <th>founding_year</th>\n",
              "      <th>seed_year</th>\n",
              "      <th>seed_amount</th>\n",
              "      <th>last_funding_year</th>\n",
              "      <th>months_since_last_funding</th>\n",
              "      <th>amount_last_funding</th>\n",
              "      <th>support_company</th>\n",
              "      <th>manufacture_equipment</th>\n",
              "      <th>develop_new_tech</th>\n",
              "      <th>grow_company</th>\n",
              "      <th>add_new_services</th>\n",
              "      <th>develop_business</th>\n",
              "      <th>financial_banking</th>\n",
              "      <th>develop_products_services</th>\n",
              "      <th>marketing_strategies</th>\n",
              "      <th>expand_internationality</th>\n",
              "      <th>consolidate_company</th>\n",
              "      <th>increase_team</th>\n",
              "      <th>number_employees</th>\n",
              "      <th>number_investors</th>\n",
              "      <th>foreing_vc</th>\n",
              "      <th>local_vc</th>\n",
              "      <th>current_status</th>\n",
              "      <th>soonicorn</th>\n",
              "      <th>more100_employees</th>\n",
              "      <th>rounds_funding_factor</th>\n",
              "      <th>increase_employees</th>\n",
              "      <th>increase_capital</th>\n",
              "    </tr>\n",
              "  </thead>\n",
              "  <tbody>\n",
              "    <tr>\n",
              "      <th>0</th>\n",
              "      <td>A</td>\n",
              "      <td>1</td>\n",
              "      <td>2017</td>\n",
              "      <td>2020</td>\n",
              "      <td>10000</td>\n",
              "      <td>2021</td>\n",
              "      <td>0.0</td>\n",
              "      <td>12400000</td>\n",
              "      <td>0</td>\n",
              "      <td>0</td>\n",
              "      <td>0</td>\n",
              "      <td>0</td>\n",
              "      <td>0</td>\n",
              "      <td>0</td>\n",
              "      <td>0</td>\n",
              "      <td>0</td>\n",
              "      <td>0</td>\n",
              "      <td>0</td>\n",
              "      <td>0</td>\n",
              "      <td>0</td>\n",
              "      <td>11</td>\n",
              "      <td>19</td>\n",
              "      <td>0</td>\n",
              "      <td>1</td>\n",
              "      <td>1</td>\n",
              "      <td>0</td>\n",
              "      <td>0</td>\n",
              "      <td>2.0</td>\n",
              "      <td>5</td>\n",
              "      <td>12390000</td>\n",
              "    </tr>\n",
              "    <tr>\n",
              "      <th>1</th>\n",
              "      <td>B</td>\n",
              "      <td>2</td>\n",
              "      <td>2013</td>\n",
              "      <td>2016</td>\n",
              "      <td>170000</td>\n",
              "      <td>2016</td>\n",
              "      <td>0.4</td>\n",
              "      <td>170000</td>\n",
              "      <td>0</td>\n",
              "      <td>0</td>\n",
              "      <td>0</td>\n",
              "      <td>0</td>\n",
              "      <td>0</td>\n",
              "      <td>0</td>\n",
              "      <td>0</td>\n",
              "      <td>0</td>\n",
              "      <td>0</td>\n",
              "      <td>0</td>\n",
              "      <td>0</td>\n",
              "      <td>0</td>\n",
              "      <td>6</td>\n",
              "      <td>19</td>\n",
              "      <td>0</td>\n",
              "      <td>1</td>\n",
              "      <td>1</td>\n",
              "      <td>0</td>\n",
              "      <td>0</td>\n",
              "      <td>8.0</td>\n",
              "      <td>0</td>\n",
              "      <td>0</td>\n",
              "    </tr>\n",
              "    <tr>\n",
              "      <th>2</th>\n",
              "      <td>C</td>\n",
              "      <td>1</td>\n",
              "      <td>2014</td>\n",
              "      <td>2014</td>\n",
              "      <td>50000</td>\n",
              "      <td>2021</td>\n",
              "      <td>0.0</td>\n",
              "      <td>235000000</td>\n",
              "      <td>0</td>\n",
              "      <td>0</td>\n",
              "      <td>0</td>\n",
              "      <td>0</td>\n",
              "      <td>0</td>\n",
              "      <td>0</td>\n",
              "      <td>0</td>\n",
              "      <td>0</td>\n",
              "      <td>0</td>\n",
              "      <td>0</td>\n",
              "      <td>0</td>\n",
              "      <td>0</td>\n",
              "      <td>590</td>\n",
              "      <td>19</td>\n",
              "      <td>1</td>\n",
              "      <td>1</td>\n",
              "      <td>1</td>\n",
              "      <td>1</td>\n",
              "      <td>1</td>\n",
              "      <td>0.5</td>\n",
              "      <td>587</td>\n",
              "      <td>234950000</td>\n",
              "    </tr>\n",
              "    <tr>\n",
              "      <th>3</th>\n",
              "      <td>D</td>\n",
              "      <td>1</td>\n",
              "      <td>2019</td>\n",
              "      <td>2019</td>\n",
              "      <td>3750000</td>\n",
              "      <td>2021</td>\n",
              "      <td>0.0</td>\n",
              "      <td>14000000</td>\n",
              "      <td>0</td>\n",
              "      <td>0</td>\n",
              "      <td>0</td>\n",
              "      <td>0</td>\n",
              "      <td>0</td>\n",
              "      <td>0</td>\n",
              "      <td>0</td>\n",
              "      <td>0</td>\n",
              "      <td>0</td>\n",
              "      <td>0</td>\n",
              "      <td>0</td>\n",
              "      <td>0</td>\n",
              "      <td>76</td>\n",
              "      <td>19</td>\n",
              "      <td>0</td>\n",
              "      <td>1</td>\n",
              "      <td>1</td>\n",
              "      <td>0</td>\n",
              "      <td>0</td>\n",
              "      <td>0.7</td>\n",
              "      <td>29</td>\n",
              "      <td>10250000</td>\n",
              "    </tr>\n",
              "    <tr>\n",
              "      <th>4</th>\n",
              "      <td>E</td>\n",
              "      <td>1</td>\n",
              "      <td>2014</td>\n",
              "      <td>2014</td>\n",
              "      <td>150000</td>\n",
              "      <td>2020</td>\n",
              "      <td>0.1</td>\n",
              "      <td>1750000</td>\n",
              "      <td>0</td>\n",
              "      <td>0</td>\n",
              "      <td>0</td>\n",
              "      <td>0</td>\n",
              "      <td>0</td>\n",
              "      <td>0</td>\n",
              "      <td>0</td>\n",
              "      <td>0</td>\n",
              "      <td>0</td>\n",
              "      <td>0</td>\n",
              "      <td>0</td>\n",
              "      <td>0</td>\n",
              "      <td>64</td>\n",
              "      <td>19</td>\n",
              "      <td>0</td>\n",
              "      <td>1</td>\n",
              "      <td>1</td>\n",
              "      <td>0</td>\n",
              "      <td>0</td>\n",
              "      <td>1.2</td>\n",
              "      <td>8</td>\n",
              "      <td>1600000</td>\n",
              "    </tr>\n",
              "  </tbody>\n",
              "</table>\n",
              "</div>"
            ],
            "text/plain": [
              "  id_company  category  ...  increase_employees  increase_capital\n",
              "0          A         1  ...                   5          12390000\n",
              "1          B         2  ...                   0                 0\n",
              "2          C         1  ...                 587         234950000\n",
              "3          D         1  ...                  29          10250000\n",
              "4          E         1  ...                   8           1600000\n",
              "\n",
              "[5 rows x 30 columns]"
            ]
          },
          "metadata": {},
          "execution_count": 6
        }
      ]
    },
    {
      "cell_type": "code",
      "metadata": {
        "colab": {
          "base_uri": "https://localhost:8080/"
        },
        "id": "HJoAIjvz2H2z",
        "outputId": "de7dfabb-976a-4bcd-e7cd-8fad043487cb"
      },
      "source": [
        "# data types\n",
        "db_companies.dtypes"
      ],
      "execution_count": 7,
      "outputs": [
        {
          "output_type": "execute_result",
          "data": {
            "text/plain": [
              "id_company                    object\n",
              "category                       int64\n",
              "founding_year                  int64\n",
              "seed_year                      int64\n",
              "seed_amount                    int64\n",
              "last_funding_year              int64\n",
              "months_since_last_funding    float64\n",
              "amount_last_funding            int64\n",
              "support_company                int64\n",
              "manufacture_equipment          int64\n",
              "develop_new_tech               int64\n",
              "grow_company                   int64\n",
              "add_new_services               int64\n",
              "develop_business               int64\n",
              "financial_banking              int64\n",
              "develop_products_services      int64\n",
              "marketing_strategies           int64\n",
              "expand_internationality        int64\n",
              "consolidate_company            int64\n",
              "increase_team                  int64\n",
              "number_employees               int64\n",
              "number_investors               int64\n",
              "foreing_vc                     int64\n",
              "local_vc                       int64\n",
              "current_status                 int64\n",
              "soonicorn                      int64\n",
              "more100_employees              int64\n",
              "rounds_funding_factor        float64\n",
              "increase_employees             int64\n",
              "increase_capital               int64\n",
              "dtype: object"
            ]
          },
          "metadata": {},
          "execution_count": 7
        }
      ]
    },
    {
      "cell_type": "code",
      "metadata": {
        "colab": {
          "base_uri": "https://localhost:8080/",
          "height": 359
        },
        "id": "0czRvkg25nSH",
        "outputId": "dba80757-4dfe-4b24-c1cd-58e8c0441ed4"
      },
      "source": [
        "# Google Sheet with the data base of founders\n",
        "\n",
        "sheet_2 = gc.open_by_key('1wMcaDShdLmXnhfo6Co-rozlvo_hSw83A1BcO3nYcy8g')\n",
        "worksheet = sheet_2.worksheet_by_title('Founders')\n",
        "\n",
        "# get_all_values into a data frame\n",
        "db_founders = worksheet.get_as_df()\n",
        "db_founders.head() "
      ],
      "execution_count": 8,
      "outputs": [
        {
          "output_type": "execute_result",
          "data": {
            "text/html": [
              "<div>\n",
              "<style scoped>\n",
              "    .dataframe tbody tr th:only-of-type {\n",
              "        vertical-align: middle;\n",
              "    }\n",
              "\n",
              "    .dataframe tbody tr th {\n",
              "        vertical-align: top;\n",
              "    }\n",
              "\n",
              "    .dataframe thead th {\n",
              "        text-align: right;\n",
              "    }\n",
              "</style>\n",
              "<table border=\"1\" class=\"dataframe\">\n",
              "  <thead>\n",
              "    <tr style=\"text-align: right;\">\n",
              "      <th></th>\n",
              "      <th>id_founder</th>\n",
              "      <th>id_company</th>\n",
              "      <th>general_location</th>\n",
              "      <th>manager_exp</th>\n",
              "      <th>clevel_exp</th>\n",
              "      <th>engineering_exp</th>\n",
              "      <th>sales_exp</th>\n",
              "      <th>finance_exp</th>\n",
              "      <th>human_capital_exp</th>\n",
              "      <th>marketing_exp</th>\n",
              "      <th>consulting_exp</th>\n",
              "      <th>founder_exp</th>\n",
              "      <th>abroad_experience</th>\n",
              "      <th>worked_on_plus100_company</th>\n",
              "      <th>software_exp</th>\n",
              "      <th>insurance_exp</th>\n",
              "      <th>agriculture_related_deg</th>\n",
              "      <th>business_deg</th>\n",
              "      <th>entreprenueurship_deg</th>\n",
              "      <th>financial_deg</th>\n",
              "      <th>marketing_deg</th>\n",
              "      <th>maths_engineering_deg</th>\n",
              "      <th>project_management</th>\n",
              "      <th>research</th>\n",
              "      <th>sales</th>\n",
              "      <th>soft_skills</th>\n",
              "      <th>software_skills</th>\n",
              "      <th>foundation_year</th>\n",
              "      <th>years_of_experience_as_entreprenuer</th>\n",
              "      <th>age_of_first_entrepreneurship</th>\n",
              "      <th>age</th>\n",
              "      <th>years_of_experience</th>\n",
              "      <th>number_of_startups</th>\n",
              "      <th>gender</th>\n",
              "      <th>category</th>\n",
              "      <th>foreing_studies</th>\n",
              "      <th>foreing_work_experience</th>\n",
              "      <th>foreing_founder</th>\n",
              "    </tr>\n",
              "  </thead>\n",
              "  <tbody>\n",
              "    <tr>\n",
              "      <th>0</th>\n",
              "      <td>1</td>\n",
              "      <td>7</td>\n",
              "      <td>Ciudad de México, México</td>\n",
              "      <td>1</td>\n",
              "      <td>1</td>\n",
              "      <td>0</td>\n",
              "      <td>0</td>\n",
              "      <td>0</td>\n",
              "      <td>0</td>\n",
              "      <td></td>\n",
              "      <td>0</td>\n",
              "      <td>1</td>\n",
              "      <td></td>\n",
              "      <td></td>\n",
              "      <td>0</td>\n",
              "      <td></td>\n",
              "      <td></td>\n",
              "      <td>1</td>\n",
              "      <td>1</td>\n",
              "      <td>0</td>\n",
              "      <td>1</td>\n",
              "      <td>1</td>\n",
              "      <td>1</td>\n",
              "      <td>1</td>\n",
              "      <td>0</td>\n",
              "      <td>1</td>\n",
              "      <td>1</td>\n",
              "      <td>2008</td>\n",
              "      <td>0</td>\n",
              "      <td>19</td>\n",
              "      <td>31</td>\n",
              "      <td>13</td>\n",
              "      <td>4</td>\n",
              "      <td>M</td>\n",
              "      <td>Cadena de suministro digital</td>\n",
              "      <td></td>\n",
              "      <td></td>\n",
              "      <td></td>\n",
              "    </tr>\n",
              "    <tr>\n",
              "      <th>1</th>\n",
              "      <td>2</td>\n",
              "      <td>23</td>\n",
              "      <td>Ciudad de México, México</td>\n",
              "      <td>0</td>\n",
              "      <td>1</td>\n",
              "      <td>0</td>\n",
              "      <td>0</td>\n",
              "      <td>0</td>\n",
              "      <td>0</td>\n",
              "      <td></td>\n",
              "      <td>0</td>\n",
              "      <td>1</td>\n",
              "      <td></td>\n",
              "      <td></td>\n",
              "      <td>0</td>\n",
              "      <td></td>\n",
              "      <td></td>\n",
              "      <td>1</td>\n",
              "      <td>1</td>\n",
              "      <td>0</td>\n",
              "      <td>1</td>\n",
              "      <td>0</td>\n",
              "      <td>1</td>\n",
              "      <td>0</td>\n",
              "      <td>1</td>\n",
              "      <td>1</td>\n",
              "      <td>0</td>\n",
              "      <td>2010</td>\n",
              "      <td>0</td>\n",
              "      <td>21</td>\n",
              "      <td>31</td>\n",
              "      <td>11</td>\n",
              "      <td>2</td>\n",
              "      <td>M</td>\n",
              "      <td>Cadena de suministro digital</td>\n",
              "      <td></td>\n",
              "      <td></td>\n",
              "      <td></td>\n",
              "    </tr>\n",
              "    <tr>\n",
              "      <th>2</th>\n",
              "      <td>3</td>\n",
              "      <td>141</td>\n",
              "      <td>México</td>\n",
              "      <td>0</td>\n",
              "      <td>1</td>\n",
              "      <td>0</td>\n",
              "      <td>0</td>\n",
              "      <td>0</td>\n",
              "      <td>0</td>\n",
              "      <td></td>\n",
              "      <td>0</td>\n",
              "      <td></td>\n",
              "      <td>1</td>\n",
              "      <td>0</td>\n",
              "      <td></td>\n",
              "      <td></td>\n",
              "      <td>1</td>\n",
              "      <td>1</td>\n",
              "      <td>1</td>\n",
              "      <td>0</td>\n",
              "      <td>1</td>\n",
              "      <td>0</td>\n",
              "      <td>1</td>\n",
              "      <td>1</td>\n",
              "      <td>0</td>\n",
              "      <td>1</td>\n",
              "      <td></td>\n",
              "      <td></td>\n",
              "      <td></td>\n",
              "      <td></td>\n",
              "      <td>27</td>\n",
              "      <td>6</td>\n",
              "      <td>0</td>\n",
              "      <td>M</td>\n",
              "      <td></td>\n",
              "      <td></td>\n",
              "      <td></td>\n",
              "      <td></td>\n",
              "    </tr>\n",
              "    <tr>\n",
              "      <th>3</th>\n",
              "      <td>4</td>\n",
              "      <td>152</td>\n",
              "      <td>Ciudad de México, México</td>\n",
              "      <td>0</td>\n",
              "      <td>0</td>\n",
              "      <td>0</td>\n",
              "      <td>0</td>\n",
              "      <td>1</td>\n",
              "      <td>0</td>\n",
              "      <td></td>\n",
              "      <td>1</td>\n",
              "      <td>1</td>\n",
              "      <td></td>\n",
              "      <td></td>\n",
              "      <td>0</td>\n",
              "      <td></td>\n",
              "      <td></td>\n",
              "      <td>1</td>\n",
              "      <td>1</td>\n",
              "      <td>0</td>\n",
              "      <td>1</td>\n",
              "      <td>0</td>\n",
              "      <td>1</td>\n",
              "      <td>0</td>\n",
              "      <td>0</td>\n",
              "      <td>1</td>\n",
              "      <td>0</td>\n",
              "      <td>2012</td>\n",
              "      <td>1</td>\n",
              "      <td>23</td>\n",
              "      <td>31</td>\n",
              "      <td>10</td>\n",
              "      <td>3</td>\n",
              "      <td>M</td>\n",
              "      <td>Recursos Humanos y compromiso de las personas</td>\n",
              "      <td></td>\n",
              "      <td></td>\n",
              "      <td></td>\n",
              "    </tr>\n",
              "    <tr>\n",
              "      <th>4</th>\n",
              "      <td>5</td>\n",
              "      <td>155</td>\n",
              "      <td>México</td>\n",
              "      <td>1</td>\n",
              "      <td>1</td>\n",
              "      <td>0</td>\n",
              "      <td>0</td>\n",
              "      <td>0</td>\n",
              "      <td>0</td>\n",
              "      <td></td>\n",
              "      <td>0</td>\n",
              "      <td></td>\n",
              "      <td>0</td>\n",
              "      <td>0</td>\n",
              "      <td></td>\n",
              "      <td></td>\n",
              "      <td>1</td>\n",
              "      <td>1</td>\n",
              "      <td>1</td>\n",
              "      <td>1</td>\n",
              "      <td>1</td>\n",
              "      <td>0</td>\n",
              "      <td>1</td>\n",
              "      <td>0</td>\n",
              "      <td>0</td>\n",
              "      <td>1</td>\n",
              "      <td></td>\n",
              "      <td>2010</td>\n",
              "      <td>5</td>\n",
              "      <td>22</td>\n",
              "      <td>32</td>\n",
              "      <td>16</td>\n",
              "      <td>2</td>\n",
              "      <td>M</td>\n",
              "      <td></td>\n",
              "      <td></td>\n",
              "      <td></td>\n",
              "      <td></td>\n",
              "    </tr>\n",
              "  </tbody>\n",
              "</table>\n",
              "</div>"
            ],
            "text/plain": [
              "   id_founder  id_company  ... foreing_work_experience foreing_founder\n",
              "0           1           7  ...                                        \n",
              "1           2          23  ...                                        \n",
              "2           3         141  ...                                        \n",
              "3           4         152  ...                                        \n",
              "4           5         155  ...                                        \n",
              "\n",
              "[5 rows x 38 columns]"
            ]
          },
          "metadata": {},
          "execution_count": 8
        }
      ]
    },
    {
      "cell_type": "code",
      "metadata": {
        "colab": {
          "base_uri": "https://localhost:8080/"
        },
        "id": "WML-IC0W7aFS",
        "outputId": "8c203836-255a-4fd2-9e0c-7fd995832f61"
      },
      "source": [
        "# data types\n",
        "db_founders.dtypes"
      ],
      "execution_count": 9,
      "outputs": [
        {
          "output_type": "execute_result",
          "data": {
            "text/plain": [
              "id_founder                              int64\n",
              "id_company                              int64\n",
              "general_location                       object\n",
              "manager_exp                            object\n",
              "clevel_exp                             object\n",
              "engineering_exp                        object\n",
              "sales_exp                              object\n",
              "finance_exp                            object\n",
              "human_capital_exp                      object\n",
              "marketing_exp                          object\n",
              "consulting_exp                         object\n",
              "founder_exp                            object\n",
              "abroad_experience                      object\n",
              "worked_on_plus100_company              object\n",
              "software_exp                           object\n",
              "insurance_exp                          object\n",
              "agriculture_related_deg                object\n",
              "business_deg                           object\n",
              "entreprenueurship_deg                  object\n",
              "financial_deg                          object\n",
              "marketing_deg                          object\n",
              "maths_engineering_deg                  object\n",
              "project_management                     object\n",
              "research                               object\n",
              "sales                                  object\n",
              "soft_skills                            object\n",
              "software_skills                        object\n",
              "foundation_year                        object\n",
              "years_of_experience_as_entreprenuer    object\n",
              "age_of_first_entrepreneurship          object\n",
              "age                                    object\n",
              "years_of_experience                    object\n",
              "number_of_startups                     object\n",
              "gender                                 object\n",
              "category                               object\n",
              "foreing_studies                        object\n",
              "foreing_work_experience                object\n",
              "foreing_founder                        object\n",
              "dtype: object"
            ]
          },
          "metadata": {},
          "execution_count": 9
        }
      ]
    },
    {
      "cell_type": "code",
      "metadata": {
        "colab": {
          "base_uri": "https://localhost:8080/",
          "height": 224
        },
        "id": "B8YQn_g77mLD",
        "outputId": "a25de5dd-f45e-4a03-99a3-8006865b2a9f"
      },
      "source": [
        "# Google Sheet with the data base of VC Rounds \n",
        "\n",
        "sheet_2 = gc.open_by_key('1wMcaDShdLmXnhfo6Co-rozlvo_hSw83A1BcO3nYcy8g')\n",
        "worksheet = sheet_2.worksheet_by_title('Rounds')\n",
        "\n",
        "# get_all_values into a data frame\n",
        "db_rounds = worksheet.get_as_df()\n",
        "db_rounds.head()"
      ],
      "execution_count": 10,
      "outputs": [
        {
          "output_type": "execute_result",
          "data": {
            "text/html": [
              "<div>\n",
              "<style scoped>\n",
              "    .dataframe tbody tr th:only-of-type {\n",
              "        vertical-align: middle;\n",
              "    }\n",
              "\n",
              "    .dataframe tbody tr th {\n",
              "        vertical-align: top;\n",
              "    }\n",
              "\n",
              "    .dataframe thead th {\n",
              "        text-align: right;\n",
              "    }\n",
              "</style>\n",
              "<table border=\"1\" class=\"dataframe\">\n",
              "  <thead>\n",
              "    <tr style=\"text-align: right;\">\n",
              "      <th></th>\n",
              "      <th>id_company</th>\n",
              "      <th>round_year</th>\n",
              "      <th>round_amount</th>\n",
              "      <th>support_company</th>\n",
              "      <th>manufacture_equipment</th>\n",
              "      <th>develop_new_tech</th>\n",
              "      <th>grow_company</th>\n",
              "      <th>add_new_services</th>\n",
              "      <th>develop_business</th>\n",
              "      <th>financial_banking</th>\n",
              "      <th>develop_products_services</th>\n",
              "      <th>marketing_strategies</th>\n",
              "      <th>expand_internationality</th>\n",
              "      <th>consolidate_company</th>\n",
              "      <th>increase_team</th>\n",
              "    </tr>\n",
              "  </thead>\n",
              "  <tbody>\n",
              "    <tr>\n",
              "      <th>0</th>\n",
              "      <td>A</td>\n",
              "      <td>2020</td>\n",
              "      <td>$10,000.00</td>\n",
              "      <td>0</td>\n",
              "      <td>0</td>\n",
              "      <td>0</td>\n",
              "      <td>0</td>\n",
              "      <td>0</td>\n",
              "      <td>0</td>\n",
              "      <td>0</td>\n",
              "      <td>0</td>\n",
              "      <td>0</td>\n",
              "      <td>0</td>\n",
              "      <td>0</td>\n",
              "      <td>0</td>\n",
              "    </tr>\n",
              "    <tr>\n",
              "      <th>1</th>\n",
              "      <td>A</td>\n",
              "      <td>2021</td>\n",
              "      <td>$12,400,000</td>\n",
              "      <td>0</td>\n",
              "      <td>0</td>\n",
              "      <td>0</td>\n",
              "      <td>1</td>\n",
              "      <td>0</td>\n",
              "      <td>0</td>\n",
              "      <td>0</td>\n",
              "      <td>0</td>\n",
              "      <td>0</td>\n",
              "      <td>0</td>\n",
              "      <td>0</td>\n",
              "      <td>0</td>\n",
              "    </tr>\n",
              "    <tr>\n",
              "      <th>2</th>\n",
              "      <td>B</td>\n",
              "      <td>2016</td>\n",
              "      <td>$170,000</td>\n",
              "      <td>0</td>\n",
              "      <td>0</td>\n",
              "      <td>0</td>\n",
              "      <td>0</td>\n",
              "      <td>0</td>\n",
              "      <td>0</td>\n",
              "      <td>0</td>\n",
              "      <td>0</td>\n",
              "      <td>0</td>\n",
              "      <td>0</td>\n",
              "      <td>0</td>\n",
              "      <td>0</td>\n",
              "    </tr>\n",
              "    <tr>\n",
              "      <th>3</th>\n",
              "      <td>C</td>\n",
              "      <td>2014</td>\n",
              "      <td></td>\n",
              "      <td>0</td>\n",
              "      <td>0</td>\n",
              "      <td>0</td>\n",
              "      <td>0</td>\n",
              "      <td>0</td>\n",
              "      <td>0</td>\n",
              "      <td>0</td>\n",
              "      <td>0</td>\n",
              "      <td>0</td>\n",
              "      <td>0</td>\n",
              "      <td>0</td>\n",
              "      <td>0</td>\n",
              "    </tr>\n",
              "    <tr>\n",
              "      <th>4</th>\n",
              "      <td>C</td>\n",
              "      <td>2016</td>\n",
              "      <td>$8,000,000</td>\n",
              "      <td>0</td>\n",
              "      <td>0</td>\n",
              "      <td>0</td>\n",
              "      <td>0</td>\n",
              "      <td>0</td>\n",
              "      <td>0</td>\n",
              "      <td>0</td>\n",
              "      <td>0</td>\n",
              "      <td>0</td>\n",
              "      <td>0</td>\n",
              "      <td>0</td>\n",
              "      <td>0</td>\n",
              "    </tr>\n",
              "  </tbody>\n",
              "</table>\n",
              "</div>"
            ],
            "text/plain": [
              "  id_company  round_year  ... consolidate_company  increase_team\n",
              "0          A        2020  ...                   0              0\n",
              "1          A        2021  ...                   0              0\n",
              "2          B        2016  ...                   0              0\n",
              "3          C        2014  ...                   0              0\n",
              "4          C        2016  ...                   0              0\n",
              "\n",
              "[5 rows x 15 columns]"
            ]
          },
          "metadata": {},
          "execution_count": 10
        }
      ]
    },
    {
      "cell_type": "code",
      "metadata": {
        "colab": {
          "base_uri": "https://localhost:8080/"
        },
        "id": "aGl8A4Tj8jU4",
        "outputId": "7862ded4-1290-4c14-a718-a31aba01ab77"
      },
      "source": [
        "# data types\n",
        "db_rounds.dtypes"
      ],
      "execution_count": 11,
      "outputs": [
        {
          "output_type": "execute_result",
          "data": {
            "text/plain": [
              "id_company                   object\n",
              "round_year                    int64\n",
              "round_amount                 object\n",
              "support_company               int64\n",
              "manufacture_equipment         int64\n",
              "develop_new_tech              int64\n",
              "grow_company                  int64\n",
              "add_new_services              int64\n",
              "develop_business              int64\n",
              "financial_banking             int64\n",
              "develop_products_services     int64\n",
              "marketing_strategies          int64\n",
              "expand_internationality       int64\n",
              "consolidate_company           int64\n",
              "increase_team                 int64\n",
              "dtype: object"
            ]
          },
          "metadata": {},
          "execution_count": 11
        }
      ]
    },
    {
      "cell_type": "markdown",
      "metadata": {
        "id": "EVKuUzHX-Gng"
      },
      "source": [
        "## **Random Forest**"
      ]
    },
    {
      "cell_type": "code",
      "metadata": {
        "id": "I-pG4BKj8ld5"
      },
      "source": [
        "from sklearn.ensemble import RandomForestClassifier\n",
        "from sklearn.preprocessing import StandardScaler\n",
        "from sklearn.model_selection import train_test_split\n",
        "from sklearn.metrics import confusion_matrix, accuracy_score, classification_report"
      ],
      "execution_count": 12,
      "outputs": []
    },
    {
      "cell_type": "code",
      "metadata": {
        "colab": {
          "base_uri": "https://localhost:8080/",
          "height": 224
        },
        "id": "TVF0wHmL_4Qp",
        "outputId": "d6896494-5b53-48e6-b948-2c377e3939c9"
      },
      "source": [
        "# 1. Define features set\n",
        "X = db_companies.copy()\n",
        "X = X.drop([\"more100_employees\",\"id_company\"], axis=1)\n",
        "X.head()"
      ],
      "execution_count": 13,
      "outputs": [
        {
          "output_type": "execute_result",
          "data": {
            "text/html": [
              "<div>\n",
              "<style scoped>\n",
              "    .dataframe tbody tr th:only-of-type {\n",
              "        vertical-align: middle;\n",
              "    }\n",
              "\n",
              "    .dataframe tbody tr th {\n",
              "        vertical-align: top;\n",
              "    }\n",
              "\n",
              "    .dataframe thead th {\n",
              "        text-align: right;\n",
              "    }\n",
              "</style>\n",
              "<table border=\"1\" class=\"dataframe\">\n",
              "  <thead>\n",
              "    <tr style=\"text-align: right;\">\n",
              "      <th></th>\n",
              "      <th>category</th>\n",
              "      <th>founding_year</th>\n",
              "      <th>seed_year</th>\n",
              "      <th>seed_amount</th>\n",
              "      <th>last_funding_year</th>\n",
              "      <th>months_since_last_funding</th>\n",
              "      <th>amount_last_funding</th>\n",
              "      <th>support_company</th>\n",
              "      <th>manufacture_equipment</th>\n",
              "      <th>develop_new_tech</th>\n",
              "      <th>grow_company</th>\n",
              "      <th>add_new_services</th>\n",
              "      <th>develop_business</th>\n",
              "      <th>financial_banking</th>\n",
              "      <th>develop_products_services</th>\n",
              "      <th>marketing_strategies</th>\n",
              "      <th>expand_internationality</th>\n",
              "      <th>consolidate_company</th>\n",
              "      <th>increase_team</th>\n",
              "      <th>number_employees</th>\n",
              "      <th>number_investors</th>\n",
              "      <th>foreing_vc</th>\n",
              "      <th>local_vc</th>\n",
              "      <th>current_status</th>\n",
              "      <th>soonicorn</th>\n",
              "      <th>rounds_funding_factor</th>\n",
              "      <th>increase_employees</th>\n",
              "      <th>increase_capital</th>\n",
              "    </tr>\n",
              "  </thead>\n",
              "  <tbody>\n",
              "    <tr>\n",
              "      <th>0</th>\n",
              "      <td>1</td>\n",
              "      <td>2017</td>\n",
              "      <td>2020</td>\n",
              "      <td>10000</td>\n",
              "      <td>2021</td>\n",
              "      <td>0.0</td>\n",
              "      <td>12400000</td>\n",
              "      <td>0</td>\n",
              "      <td>0</td>\n",
              "      <td>0</td>\n",
              "      <td>0</td>\n",
              "      <td>0</td>\n",
              "      <td>0</td>\n",
              "      <td>0</td>\n",
              "      <td>0</td>\n",
              "      <td>0</td>\n",
              "      <td>0</td>\n",
              "      <td>0</td>\n",
              "      <td>0</td>\n",
              "      <td>11</td>\n",
              "      <td>19</td>\n",
              "      <td>0</td>\n",
              "      <td>1</td>\n",
              "      <td>1</td>\n",
              "      <td>0</td>\n",
              "      <td>2.0</td>\n",
              "      <td>5</td>\n",
              "      <td>12390000</td>\n",
              "    </tr>\n",
              "    <tr>\n",
              "      <th>1</th>\n",
              "      <td>2</td>\n",
              "      <td>2013</td>\n",
              "      <td>2016</td>\n",
              "      <td>170000</td>\n",
              "      <td>2016</td>\n",
              "      <td>0.4</td>\n",
              "      <td>170000</td>\n",
              "      <td>0</td>\n",
              "      <td>0</td>\n",
              "      <td>0</td>\n",
              "      <td>0</td>\n",
              "      <td>0</td>\n",
              "      <td>0</td>\n",
              "      <td>0</td>\n",
              "      <td>0</td>\n",
              "      <td>0</td>\n",
              "      <td>0</td>\n",
              "      <td>0</td>\n",
              "      <td>0</td>\n",
              "      <td>6</td>\n",
              "      <td>19</td>\n",
              "      <td>0</td>\n",
              "      <td>1</td>\n",
              "      <td>1</td>\n",
              "      <td>0</td>\n",
              "      <td>8.0</td>\n",
              "      <td>0</td>\n",
              "      <td>0</td>\n",
              "    </tr>\n",
              "    <tr>\n",
              "      <th>2</th>\n",
              "      <td>1</td>\n",
              "      <td>2014</td>\n",
              "      <td>2014</td>\n",
              "      <td>50000</td>\n",
              "      <td>2021</td>\n",
              "      <td>0.0</td>\n",
              "      <td>235000000</td>\n",
              "      <td>0</td>\n",
              "      <td>0</td>\n",
              "      <td>0</td>\n",
              "      <td>0</td>\n",
              "      <td>0</td>\n",
              "      <td>0</td>\n",
              "      <td>0</td>\n",
              "      <td>0</td>\n",
              "      <td>0</td>\n",
              "      <td>0</td>\n",
              "      <td>0</td>\n",
              "      <td>0</td>\n",
              "      <td>590</td>\n",
              "      <td>19</td>\n",
              "      <td>1</td>\n",
              "      <td>1</td>\n",
              "      <td>1</td>\n",
              "      <td>1</td>\n",
              "      <td>0.5</td>\n",
              "      <td>587</td>\n",
              "      <td>234950000</td>\n",
              "    </tr>\n",
              "    <tr>\n",
              "      <th>3</th>\n",
              "      <td>1</td>\n",
              "      <td>2019</td>\n",
              "      <td>2019</td>\n",
              "      <td>3750000</td>\n",
              "      <td>2021</td>\n",
              "      <td>0.0</td>\n",
              "      <td>14000000</td>\n",
              "      <td>0</td>\n",
              "      <td>0</td>\n",
              "      <td>0</td>\n",
              "      <td>0</td>\n",
              "      <td>0</td>\n",
              "      <td>0</td>\n",
              "      <td>0</td>\n",
              "      <td>0</td>\n",
              "      <td>0</td>\n",
              "      <td>0</td>\n",
              "      <td>0</td>\n",
              "      <td>0</td>\n",
              "      <td>76</td>\n",
              "      <td>19</td>\n",
              "      <td>0</td>\n",
              "      <td>1</td>\n",
              "      <td>1</td>\n",
              "      <td>0</td>\n",
              "      <td>0.7</td>\n",
              "      <td>29</td>\n",
              "      <td>10250000</td>\n",
              "    </tr>\n",
              "    <tr>\n",
              "      <th>4</th>\n",
              "      <td>1</td>\n",
              "      <td>2014</td>\n",
              "      <td>2014</td>\n",
              "      <td>150000</td>\n",
              "      <td>2020</td>\n",
              "      <td>0.1</td>\n",
              "      <td>1750000</td>\n",
              "      <td>0</td>\n",
              "      <td>0</td>\n",
              "      <td>0</td>\n",
              "      <td>0</td>\n",
              "      <td>0</td>\n",
              "      <td>0</td>\n",
              "      <td>0</td>\n",
              "      <td>0</td>\n",
              "      <td>0</td>\n",
              "      <td>0</td>\n",
              "      <td>0</td>\n",
              "      <td>0</td>\n",
              "      <td>64</td>\n",
              "      <td>19</td>\n",
              "      <td>0</td>\n",
              "      <td>1</td>\n",
              "      <td>1</td>\n",
              "      <td>0</td>\n",
              "      <td>1.2</td>\n",
              "      <td>8</td>\n",
              "      <td>1600000</td>\n",
              "    </tr>\n",
              "  </tbody>\n",
              "</table>\n",
              "</div>"
            ],
            "text/plain": [
              "   category  founding_year  ...  increase_employees  increase_capital\n",
              "0         1           2017  ...                   5          12390000\n",
              "1         2           2013  ...                   0                 0\n",
              "2         1           2014  ...                 587         234950000\n",
              "3         1           2019  ...                  29          10250000\n",
              "4         1           2014  ...                   8           1600000\n",
              "\n",
              "[5 rows x 28 columns]"
            ]
          },
          "metadata": {},
          "execution_count": 13
        }
      ]
    },
    {
      "cell_type": "code",
      "metadata": {
        "colab": {
          "base_uri": "https://localhost:8080/"
        },
        "id": "zIect1QjCrsl",
        "outputId": "ec42dd50-7d98-4cf4-ca84-828d4490e325"
      },
      "source": [
        "# 2. Define the target set. \n",
        "# Here, we're using the ravel() method, which performs the same procedure on our target set data as the values attribute.\n",
        "y = db_companies[\"more100_employees\"].ravel()\n",
        "y[:5]"
      ],
      "execution_count": 14,
      "outputs": [
        {
          "output_type": "execute_result",
          "data": {
            "text/plain": [
              "array([0, 0, 1, 0, 0])"
            ]
          },
          "metadata": {},
          "execution_count": 14
        }
      ]
    },
    {
      "cell_type": "markdown",
      "metadata": {
        "id": "ZHhqJfk5D5S0"
      },
      "source": [
        "When the train_test_split() function is executed, our data is split into a specific proportion of the original data sets. By default, our training and testing data sets are 75% and 25%, respectively, of the original data. Using the following code, we can see the data's 75-25 split."
      ]
    },
    {
      "cell_type": "code",
      "metadata": {
        "id": "XFJyiMiOD11z"
      },
      "source": [
        "# 3. Splitting into Train and Test sets\n",
        "X_train, X_test, y_train, y_test = train_test_split(X, y, random_state=78)"
      ],
      "execution_count": 15,
      "outputs": []
    },
    {
      "cell_type": "code",
      "metadata": {
        "colab": {
          "base_uri": "https://localhost:8080/"
        },
        "id": "UJdxOjmtD84z",
        "outputId": "21aaebfd-4993-4b08-de3a-23183a43ba2e"
      },
      "source": [
        "#Printings arrays\n",
        "\n",
        "print(X_train.shape)\n",
        "print(X_test.shape)\n",
        "print(y_train.shape)\n",
        "print(y_test.shape)"
      ],
      "execution_count": 16,
      "outputs": [
        {
          "output_type": "stream",
          "name": "stdout",
          "text": [
            "(8, 28)\n",
            "(3, 28)\n",
            "(8,)\n",
            "(3,)\n"
          ]
        }
      ]
    },
    {
      "cell_type": "code",
      "metadata": {
        "colab": {
          "base_uri": "https://localhost:8080/"
        },
        "id": "5VfXs0xSeTmq",
        "outputId": "78d837b3-7950-49a8-b149-7dd4617793a9"
      },
      "source": [
        "X_train.dtypes"
      ],
      "execution_count": 17,
      "outputs": [
        {
          "output_type": "execute_result",
          "data": {
            "text/plain": [
              "category                       int64\n",
              "founding_year                  int64\n",
              "seed_year                      int64\n",
              "seed_amount                    int64\n",
              "last_funding_year              int64\n",
              "months_since_last_funding    float64\n",
              "amount_last_funding            int64\n",
              "support_company                int64\n",
              "manufacture_equipment          int64\n",
              "develop_new_tech               int64\n",
              "grow_company                   int64\n",
              "add_new_services               int64\n",
              "develop_business               int64\n",
              "financial_banking              int64\n",
              "develop_products_services      int64\n",
              "marketing_strategies           int64\n",
              "expand_internationality        int64\n",
              "consolidate_company            int64\n",
              "increase_team                  int64\n",
              "number_employees               int64\n",
              "number_investors               int64\n",
              "foreing_vc                     int64\n",
              "local_vc                       int64\n",
              "current_status                 int64\n",
              "soonicorn                      int64\n",
              "rounds_funding_factor        float64\n",
              "increase_employees             int64\n",
              "increase_capital               int64\n",
              "dtype: object"
            ]
          },
          "metadata": {},
          "execution_count": 17
        }
      ]
    },
    {
      "cell_type": "code",
      "metadata": {
        "colab": {
          "base_uri": "https://localhost:8080/"
        },
        "id": "Jp5HuOOAheh7",
        "outputId": "d303a365-f30e-4f89-ea58-9d817c38221b"
      },
      "source": [
        "X_train['increase_capital'] = pd.to_numeric(X_train.increase_capital, errors='coerce')"
      ],
      "execution_count": 18,
      "outputs": [
        {
          "output_type": "stream",
          "name": "stderr",
          "text": [
            "/usr/local/lib/python3.7/dist-packages/ipykernel_launcher.py:1: SettingWithCopyWarning: \n",
            "A value is trying to be set on a copy of a slice from a DataFrame.\n",
            "Try using .loc[row_indexer,col_indexer] = value instead\n",
            "\n",
            "See the caveats in the documentation: https://pandas.pydata.org/pandas-docs/stable/user_guide/indexing.html#returning-a-view-versus-a-copy\n",
            "  \"\"\"Entry point for launching an IPython kernel.\n"
          ]
        }
      ]
    },
    {
      "cell_type": "code",
      "metadata": {
        "colab": {
          "base_uri": "https://localhost:8080/"
        },
        "id": "XEUoMQxWihJ4",
        "outputId": "f40ce112-1ddc-43e7-e6b0-b0e98cd471b3"
      },
      "source": [
        "X_train.dtypes"
      ],
      "execution_count": 19,
      "outputs": [
        {
          "output_type": "execute_result",
          "data": {
            "text/plain": [
              "category                       int64\n",
              "founding_year                  int64\n",
              "seed_year                      int64\n",
              "seed_amount                    int64\n",
              "last_funding_year              int64\n",
              "months_since_last_funding    float64\n",
              "amount_last_funding            int64\n",
              "support_company                int64\n",
              "manufacture_equipment          int64\n",
              "develop_new_tech               int64\n",
              "grow_company                   int64\n",
              "add_new_services               int64\n",
              "develop_business               int64\n",
              "financial_banking              int64\n",
              "develop_products_services      int64\n",
              "marketing_strategies           int64\n",
              "expand_internationality        int64\n",
              "consolidate_company            int64\n",
              "increase_team                  int64\n",
              "number_employees               int64\n",
              "number_investors               int64\n",
              "foreing_vc                     int64\n",
              "local_vc                       int64\n",
              "current_status                 int64\n",
              "soonicorn                      int64\n",
              "rounds_funding_factor        float64\n",
              "increase_employees             int64\n",
              "increase_capital               int64\n",
              "dtype: object"
            ]
          },
          "metadata": {},
          "execution_count": 19
        }
      ]
    },
    {
      "cell_type": "code",
      "metadata": {
        "colab": {
          "base_uri": "https://localhost:8080/"
        },
        "id": "pWfvTtXlitV4",
        "outputId": "4e567d1b-1475-4a45-f49e-924e2ffdf6eb"
      },
      "source": [
        "X_test.dtypes"
      ],
      "execution_count": 20,
      "outputs": [
        {
          "output_type": "execute_result",
          "data": {
            "text/plain": [
              "category                       int64\n",
              "founding_year                  int64\n",
              "seed_year                      int64\n",
              "seed_amount                    int64\n",
              "last_funding_year              int64\n",
              "months_since_last_funding    float64\n",
              "amount_last_funding            int64\n",
              "support_company                int64\n",
              "manufacture_equipment          int64\n",
              "develop_new_tech               int64\n",
              "grow_company                   int64\n",
              "add_new_services               int64\n",
              "develop_business               int64\n",
              "financial_banking              int64\n",
              "develop_products_services      int64\n",
              "marketing_strategies           int64\n",
              "expand_internationality        int64\n",
              "consolidate_company            int64\n",
              "increase_team                  int64\n",
              "number_employees               int64\n",
              "number_investors               int64\n",
              "foreing_vc                     int64\n",
              "local_vc                       int64\n",
              "current_status                 int64\n",
              "soonicorn                      int64\n",
              "rounds_funding_factor        float64\n",
              "increase_employees             int64\n",
              "increase_capital               int64\n",
              "dtype: object"
            ]
          },
          "metadata": {},
          "execution_count": 20
        }
      ]
    },
    {
      "cell_type": "code",
      "metadata": {
        "colab": {
          "base_uri": "https://localhost:8080/"
        },
        "id": "Rs5qpK50i1OZ",
        "outputId": "18ebe18a-8e18-4ac8-ff08-87b66e7b2a20"
      },
      "source": [
        "X_test['increase_capital'] = pd.to_numeric(X_test.increase_capital, errors='coerce')"
      ],
      "execution_count": 21,
      "outputs": [
        {
          "output_type": "stream",
          "name": "stderr",
          "text": [
            "/usr/local/lib/python3.7/dist-packages/ipykernel_launcher.py:1: SettingWithCopyWarning: \n",
            "A value is trying to be set on a copy of a slice from a DataFrame.\n",
            "Try using .loc[row_indexer,col_indexer] = value instead\n",
            "\n",
            "See the caveats in the documentation: https://pandas.pydata.org/pandas-docs/stable/user_guide/indexing.html#returning-a-view-versus-a-copy\n",
            "  \"\"\"Entry point for launching an IPython kernel.\n"
          ]
        }
      ]
    },
    {
      "cell_type": "code",
      "metadata": {
        "id": "-HWwv1IpEXpE"
      },
      "source": [
        "# Creating StandardScaler instance\n",
        "# Now that we have split our data into training and testing sets, we can scale the data using Scikit-learn's StandardScaler.\n",
        "\n",
        "# Creating a StandardScaler instance.\n",
        "scaler = StandardScaler()\n",
        "\n",
        "# Fitting the Standard Scaler with the training data.\n",
        "X_scaler = scaler.fit(X_train)\n",
        "\n",
        "# Scaling the data.\n",
        "X_train_scaled = X_scaler.transform(X_train)\n",
        "X_test_scaled = X_scaler.transform(X_test)"
      ],
      "execution_count": 22,
      "outputs": []
    },
    {
      "cell_type": "code",
      "metadata": {
        "id": "xPKWa0EUEj6U"
      },
      "source": [
        "# Create a random forest classifier.\n",
        "rf_model = RandomForestClassifier(n_estimators=500, random_state=78)"
      ],
      "execution_count": 23,
      "outputs": []
    },
    {
      "cell_type": "code",
      "metadata": {
        "colab": {
          "base_uri": "https://localhost:8080/"
        },
        "id": "rFGtt4GFjiqE",
        "outputId": "9e211229-6608-4a68-d3f1-7b7e0616404e"
      },
      "source": [
        "y_train"
      ],
      "execution_count": 24,
      "outputs": [
        {
          "output_type": "execute_result",
          "data": {
            "text/plain": [
              "array([0, 0, 0, 0, 0, 0, 0, 0])"
            ]
          },
          "metadata": {},
          "execution_count": 24
        }
      ]
    },
    {
      "cell_type": "code",
      "metadata": {
        "id": "TpY-_z5IEo0Q"
      },
      "source": [
        "# Fitting the model\n",
        "rf_model = rf_model.fit(X_train_scaled, y_train)"
      ],
      "execution_count": 25,
      "outputs": []
    },
    {
      "cell_type": "markdown",
      "metadata": {
        "id": "dHzQoH8JKD2C"
      },
      "source": [
        "**Making Predictions**"
      ]
    },
    {
      "cell_type": "code",
      "metadata": {
        "id": "85jzprRAEsLh"
      },
      "source": [
        "# Making predictions using the testing data\n",
        "predictions = rf_model.predict(X_test_scaled)"
      ],
      "execution_count": 26,
      "outputs": []
    },
    {
      "cell_type": "code",
      "metadata": {
        "colab": {
          "base_uri": "https://localhost:8080/"
        },
        "id": "p5WDn9FWJl1j",
        "outputId": "4d878784-98b3-4258-fa8d-46ba58bf2dcc"
      },
      "source": [
        "predictions "
      ],
      "execution_count": 27,
      "outputs": [
        {
          "output_type": "execute_result",
          "data": {
            "text/plain": [
              "array([0, 0, 0])"
            ]
          },
          "metadata": {},
          "execution_count": 27
        }
      ]
    },
    {
      "cell_type": "markdown",
      "metadata": {
        "id": "eOCVDdd_JoKE"
      },
      "source": [
        "**Model Evaluation**"
      ]
    },
    {
      "cell_type": "code",
      "metadata": {
        "colab": {
          "base_uri": "https://localhost:8080/",
          "height": 111
        },
        "id": "oSS3mBhmJtcf",
        "outputId": "7e5a054e-9c10-4af4-a270-32b5fc25959e"
      },
      "source": [
        "# Calculating the confusion matrix\n",
        "cm = confusion_matrix(y_test, predictions)\n",
        "\n",
        "# Create a DataFrame from the confusion matrix\n",
        "cm_df = pd.DataFrame(\n",
        "    cm, index=[\"Actual 0\", \"Actual 1\"], columns=[\"Predicted 0\", \"Predicted 1\"]\n",
        ")\n",
        "\n",
        "cm_df"
      ],
      "execution_count": 28,
      "outputs": [
        {
          "output_type": "execute_result",
          "data": {
            "text/html": [
              "<div>\n",
              "<style scoped>\n",
              "    .dataframe tbody tr th:only-of-type {\n",
              "        vertical-align: middle;\n",
              "    }\n",
              "\n",
              "    .dataframe tbody tr th {\n",
              "        vertical-align: top;\n",
              "    }\n",
              "\n",
              "    .dataframe thead th {\n",
              "        text-align: right;\n",
              "    }\n",
              "</style>\n",
              "<table border=\"1\" class=\"dataframe\">\n",
              "  <thead>\n",
              "    <tr style=\"text-align: right;\">\n",
              "      <th></th>\n",
              "      <th>Predicted 0</th>\n",
              "      <th>Predicted 1</th>\n",
              "    </tr>\n",
              "  </thead>\n",
              "  <tbody>\n",
              "    <tr>\n",
              "      <th>Actual 0</th>\n",
              "      <td>2</td>\n",
              "      <td>0</td>\n",
              "    </tr>\n",
              "    <tr>\n",
              "      <th>Actual 1</th>\n",
              "      <td>1</td>\n",
              "      <td>0</td>\n",
              "    </tr>\n",
              "  </tbody>\n",
              "</table>\n",
              "</div>"
            ],
            "text/plain": [
              "          Predicted 0  Predicted 1\n",
              "Actual 0            2            0\n",
              "Actual 1            1            0"
            ]
          },
          "metadata": {},
          "execution_count": 28
        }
      ]
    },
    {
      "cell_type": "code",
      "metadata": {
        "colab": {
          "base_uri": "https://localhost:8080/"
        },
        "id": "qL55ah5fkZ8A",
        "outputId": "790b2795-4376-4cb1-dc9d-dd36cf8025c4"
      },
      "source": [
        "# Calculating the accuracy score.\n",
        "acc_score = accuracy_score(y_test, predictions)\n",
        "acc_score"
      ],
      "execution_count": 29,
      "outputs": [
        {
          "output_type": "execute_result",
          "data": {
            "text/plain": [
              "0.6666666666666666"
            ]
          },
          "metadata": {},
          "execution_count": 29
        }
      ]
    },
    {
      "cell_type": "code",
      "metadata": {
        "colab": {
          "base_uri": "https://localhost:8080/",
          "height": 380
        },
        "id": "IGBtqJivkdfP",
        "outputId": "adf2daf3-de16-4b74-9444-c12227d0b214"
      },
      "source": [
        "# Displaying results\n",
        "print(\"Confusion Matrix\")\n",
        "display(cm_df)\n",
        "print(f\"Accuracy Score : {acc_score}\")\n",
        "print(\"Classification Report\")\n",
        "print(classification_report(y_test, predictions))"
      ],
      "execution_count": 30,
      "outputs": [
        {
          "output_type": "stream",
          "name": "stdout",
          "text": [
            "Confusion Matrix\n"
          ]
        },
        {
          "output_type": "display_data",
          "data": {
            "text/html": [
              "<div>\n",
              "<style scoped>\n",
              "    .dataframe tbody tr th:only-of-type {\n",
              "        vertical-align: middle;\n",
              "    }\n",
              "\n",
              "    .dataframe tbody tr th {\n",
              "        vertical-align: top;\n",
              "    }\n",
              "\n",
              "    .dataframe thead th {\n",
              "        text-align: right;\n",
              "    }\n",
              "</style>\n",
              "<table border=\"1\" class=\"dataframe\">\n",
              "  <thead>\n",
              "    <tr style=\"text-align: right;\">\n",
              "      <th></th>\n",
              "      <th>Predicted 0</th>\n",
              "      <th>Predicted 1</th>\n",
              "    </tr>\n",
              "  </thead>\n",
              "  <tbody>\n",
              "    <tr>\n",
              "      <th>Actual 0</th>\n",
              "      <td>2</td>\n",
              "      <td>0</td>\n",
              "    </tr>\n",
              "    <tr>\n",
              "      <th>Actual 1</th>\n",
              "      <td>1</td>\n",
              "      <td>0</td>\n",
              "    </tr>\n",
              "  </tbody>\n",
              "</table>\n",
              "</div>"
            ],
            "text/plain": [
              "          Predicted 0  Predicted 1\n",
              "Actual 0            2            0\n",
              "Actual 1            1            0"
            ]
          },
          "metadata": {}
        },
        {
          "output_type": "stream",
          "name": "stdout",
          "text": [
            "Accuracy Score : 0.6666666666666666\n",
            "Classification Report\n",
            "              precision    recall  f1-score   support\n",
            "\n",
            "           0       0.67      1.00      0.80         2\n",
            "           1       0.00      0.00      0.00         1\n",
            "\n",
            "    accuracy                           0.67         3\n",
            "   macro avg       0.33      0.50      0.40         3\n",
            "weighted avg       0.44      0.67      0.53         3\n",
            "\n"
          ]
        },
        {
          "output_type": "stream",
          "name": "stderr",
          "text": [
            "/usr/local/lib/python3.7/dist-packages/sklearn/metrics/_classification.py:1272: UndefinedMetricWarning: Precision and F-score are ill-defined and being set to 0.0 in labels with no predicted samples. Use `zero_division` parameter to control this behavior.\n",
            "  _warn_prf(average, modifier, msg_start, len(result))\n"
          ]
        }
      ]
    }
  ]
}