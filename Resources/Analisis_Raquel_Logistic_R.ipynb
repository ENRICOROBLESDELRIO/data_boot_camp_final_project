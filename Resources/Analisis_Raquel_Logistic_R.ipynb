{
  "nbformat": 4,
  "nbformat_minor": 0,
  "metadata": {
    "colab": {
      "name": "Analisis Raquel - Logistic R.ipynb",
      "provenance": [],
      "collapsed_sections": [
        "0lhvkHfyMhBi",
        "S9wMAAwiNBqr",
        "uPn8kpAyNLB_",
        "1t_SYPaAD2rZ",
        "aMsSPil7PfyS",
        "HwkglXsLmF5-",
        "ZlKIlNGK-6r8",
        "aB9BoDd9_fDY",
        "CdZTYISbBv3g",
        "Syf5JdOWDEiA",
        "LP9DWLKBDEiB",
        "9NQeYUV6DEiC",
        "rVJxPeiaDEiE",
        "qJttRUfNDEiF",
        "Ot4wRG3jDFlc"
      ],
      "toc_visible": true,
      "authorship_tag": "ABX9TyN6CSevqMD0bhdcMGxep1uL",
      "include_colab_link": true
    },
    "kernelspec": {
      "name": "python3",
      "display_name": "Python 3"
    },
    "language_info": {
      "name": "python"
    }
  },
  "cells": [
    {
      "cell_type": "markdown",
      "metadata": {
        "id": "view-in-github",
        "colab_type": "text"
      },
      "source": [
        "<a href=\"https://colab.research.google.com/github/ENRICOROBLESDELRIO/data_boot_camp_final_project/blob/raquel_branch/Analisis_Raquel_Logistic_R.ipynb\" target=\"_parent\"><img src=\"https://colab.research.google.com/assets/colab-badge.svg\" alt=\"Open In Colab\"/></a>"
      ]
    },
    {
      "cell_type": "markdown",
      "metadata": {
        "id": "5G9BfmJLL_5y"
      },
      "source": [
        "# Data base set up\n"
      ]
    },
    {
      "cell_type": "code",
      "metadata": {
        "id": "cbXFDV_RKhgE",
        "colab": {
          "base_uri": "https://localhost:8080/"
        },
        "outputId": "507d592e-23fe-47ac-8ef5-cc3d0805b665"
      },
      "source": [
        "# Libraries and dependencies\n",
        "\n",
        "import numpy as np\n",
        "import pandas as pd\n",
        "import seaborn as sns\n",
        "import math\n",
        "import psycopg2\n",
        "import matplotlib.pyplot as plt\n",
        "\n",
        "from matplotlib import pyplot as plt\n",
        "from sklearn.metrics import accuracy_score\n",
        "from sklearn.datasets import make_blobs\n",
        "from google.colab import files\n",
        "from sqlalchemy import create_engine\n",
        "\n",
        "## Import for models\n",
        "from sklearn.preprocessing import LabelEncoder\n",
        "from sklearn.preprocessing import StandardScaler\n",
        "from sklearn import tree\n",
        "from sklearn.model_selection import train_test_split\n",
        "from sklearn.linear_model import LogisticRegression\n",
        "from sklearn.metrics import confusion_matrix, accuracy_score, classification_report"
      ],
      "execution_count": 1,
      "outputs": [
        {
          "output_type": "stream",
          "name": "stderr",
          "text": [
            "/usr/local/lib/python3.7/dist-packages/psycopg2/__init__.py:144: UserWarning: The psycopg2 wheel package will be renamed from release 2.8; in order to keep installing from binary please use \"pip install psycopg2-binary\" instead. For details see: <http://initd.org/psycopg/docs/install.html#binary-install-from-pypi>.\n",
            "  \"\"\")\n"
          ]
        }
      ]
    },
    {
      "cell_type": "code",
      "metadata": {
        "colab": {
          "base_uri": "https://localhost:8080/"
        },
        "id": "LA02CJqDK3OW",
        "outputId": "7fabd9fe-a966-4b53-dcc2-eae2ba896e2e"
      },
      "source": [
        "# Google Cloud SQL connexion:\n",
        "# Code taken from: https://stackoverflow.com/questions/53180140/how-to-access-cloud-sql-from-google-colab\n",
        "!gcloud auth login\n",
        "!gcloud config set project endeavor-intelligence-unit\n",
        "!gcloud sql instances describe finalprojectdb\n"
      ],
      "execution_count": 2,
      "outputs": [
        {
          "output_type": "stream",
          "name": "stdout",
          "text": [
            "Go to the following link in your browser:\n",
            "\n",
            "    https://accounts.google.com/o/oauth2/auth?response_type=code&client_id=32555940559.apps.googleusercontent.com&redirect_uri=urn%3Aietf%3Awg%3Aoauth%3A2.0%3Aoob&scope=openid+https%3A%2F%2Fwww.googleapis.com%2Fauth%2Fuserinfo.email+https%3A%2F%2Fwww.googleapis.com%2Fauth%2Fcloud-platform+https%3A%2F%2Fwww.googleapis.com%2Fauth%2Fappengine.admin+https%3A%2F%2Fwww.googleapis.com%2Fauth%2Fcompute+https%3A%2F%2Fwww.googleapis.com%2Fauth%2Faccounts.reauth&state=LbkSKZtiJGeHsywrPQD25kv4QwEqNc&prompt=consent&access_type=offline&code_challenge=-Cm3_9LFg8m23B9B_X8fF2RpPeNJfBGKocAB4yK2aI8&code_challenge_method=S256\n",
            "\n",
            "Enter verification code: 4/1AX4XfWiI9hXUVb5am4mgugr7tQq5Pj92P2q3vEswF0P4tg3wtZjnSNb0-cg\n",
            "\n",
            "You are now logged in as [racvbs@gmail.com].\n",
            "Your current project is [None].  You can change this setting by running:\n",
            "  $ gcloud config set project PROJECT_ID\n",
            "Updated property [core/project].\n",
            "\u001b[1;33mWARNING:\u001b[0m You do not appear to have access to project [endeavor-intelligence-unit] or it does not exist.\n",
            "\u001b[1;31mERROR:\u001b[0m (gcloud.sql.instances.describe) There was no instance found at projects/endeavor-intelligence-unit/instances/finalprojectdb or you are not authorized to access it.\n"
          ]
        }
      ]
    },
    {
      "cell_type": "code",
      "metadata": {
        "colab": {
          "base_uri": "https://localhost:8080/"
        },
        "id": "ekoJ92pDMKmf",
        "outputId": "c2cc4d28-06a9-4127-83ef-d87e6a880d2b"
      },
      "source": [
        "# download and initialize the psql proxy\n",
        "!wget https://dl.google.com/cloudsql/cloud_sql_proxy.linux.amd64 -O cloud_sql_proxy\n",
        "!chmod +x cloud_sql_proxy\n",
        "\n",
        "# \"connectionName\" is from the previous block\n",
        "!nohup ./cloud_sql_proxy -instances=\"endeavor-intelligence-unit:northamerica-northeast2:finalprojectdb\"=tcp:5432 &\n",
        "!sleep 30s"
      ],
      "execution_count": 3,
      "outputs": [
        {
          "output_type": "stream",
          "name": "stdout",
          "text": [
            "--2021-11-21 00:27:00--  https://dl.google.com/cloudsql/cloud_sql_proxy.linux.amd64\n",
            "Resolving dl.google.com (dl.google.com)... 172.217.203.136, 172.217.203.91, 172.217.203.190, ...\n",
            "Connecting to dl.google.com (dl.google.com)|172.217.203.136|:443... connected.\n",
            "HTTP request sent, awaiting response... 200 OK\n",
            "Length: 16638816 (16M) [application/octet-stream]\n",
            "Saving to: ‘cloud_sql_proxy’\n",
            "\n",
            "\rcloud_sql_proxy       0%[                    ]       0  --.-KB/s               \rcloud_sql_proxy     100%[===================>]  15.87M  --.-KB/s    in 0.07s   \n",
            "\n",
            "2021-11-21 00:27:00 (215 MB/s) - ‘cloud_sql_proxy’ saved [16638816/16638816]\n",
            "\n",
            "nohup: appending output to 'nohup.out'\n"
          ]
        }
      ]
    },
    {
      "cell_type": "code",
      "metadata": {
        "colab": {
          "base_uri": "https://localhost:8080/"
        },
        "id": "W5GOZ2q0MRul",
        "outputId": "9ffdaf22-b42f-4214-ecf9-dc2492421525"
      },
      "source": [
        "# Connection to protect access and users to the database: \n",
        "from google.colab import drive\n",
        "drive.mount('/content/drive')"
      ],
      "execution_count": 4,
      "outputs": [
        {
          "output_type": "stream",
          "name": "stdout",
          "text": [
            "Mounted at /content/drive\n"
          ]
        }
      ]
    },
    {
      "cell_type": "code",
      "metadata": {
        "id": "cN8F59lTMTHr"
      },
      "source": [
        "# Connection to the file with user and access to the database: \n",
        "\n",
        "from google.colab import files\n",
        "\n",
        "with open('/content/drive/MyDrive/Final_project/Second_Deliverable/key_config.txt', \"r\") as file:\n",
        "    FileasList = file.readlines()\n",
        "    username = FileasList[0]\n",
        "    password = FileasList[1]\n",
        "\n",
        "    new_line = []\n",
        "    # Loop through the file\n",
        "    for i in FileasList:\n",
        "        # Get rid of any new lines (\"enter\")\n",
        "        i = i.replace(\"\\n\", \"\")\n",
        "        # Add the cleaned data to the new_line list\n",
        "        new_line.append(i)\n",
        "    # Set the username to be the first object\n",
        "    username = new_line[0]\n",
        "    # Set the password to be the second object\n",
        "    password = new_line[1]\n",
        "    # Set the host to be the third object\n",
        "    host = new_line[2]\n",
        "    # Set the port to be the four object\n",
        "    port = new_line[3]\n",
        "    # Set the database to be the five object\n",
        "    database = new_line[4]"
      ],
      "execution_count": 5,
      "outputs": []
    },
    {
      "cell_type": "code",
      "metadata": {
        "id": "hVDvAawSzOsK"
      },
      "source": [
        "# Connexion throught psycopg2 Google Cloud SQL data base\n",
        "\n",
        "conn = psycopg2.connect(\n",
        "    host=host, port=port, database=database,\n",
        "    user=username, password=password)"
      ],
      "execution_count": 6,
      "outputs": []
    },
    {
      "cell_type": "markdown",
      "metadata": {
        "id": "0lhvkHfyMhBi"
      },
      "source": [
        "## Cleaning"
      ]
    },
    {
      "cell_type": "code",
      "metadata": {
        "colab": {
          "base_uri": "https://localhost:8080/",
          "height": 0
        },
        "id": "ryKeDaYRMZed",
        "outputId": "fa362491-ac05-4d0b-cf0d-79982cd6e8d5"
      },
      "source": [
        "# Query to connect with SQL data base\n",
        "SQL_Query = pd.read_sql_query('''select * FROM \"companies\" ''', conn)\n",
        "companies_df = pd.DataFrame(SQL_Query)\n",
        "companies_df.head(20)"
      ],
      "execution_count": 7,
      "outputs": [
        {
          "output_type": "execute_result",
          "data": {
            "text/html": [
              "<div>\n",
              "<style scoped>\n",
              "    .dataframe tbody tr th:only-of-type {\n",
              "        vertical-align: middle;\n",
              "    }\n",
              "\n",
              "    .dataframe tbody tr th {\n",
              "        vertical-align: top;\n",
              "    }\n",
              "\n",
              "    .dataframe thead th {\n",
              "        text-align: right;\n",
              "    }\n",
              "</style>\n",
              "<table border=\"1\" class=\"dataframe\">\n",
              "  <thead>\n",
              "    <tr style=\"text-align: right;\">\n",
              "      <th></th>\n",
              "      <th>id_company</th>\n",
              "      <th>foundation_year</th>\n",
              "      <th>category</th>\n",
              "      <th>first_r_year</th>\n",
              "      <th>first_r_amount</th>\n",
              "      <th>last_funding_year</th>\n",
              "      <th>amount_last_funding</th>\n",
              "      <th>month_since_last_funding</th>\n",
              "      <th>number_employees</th>\n",
              "      <th>increase_employees</th>\n",
              "      <th>number_investors</th>\n",
              "      <th>current_status</th>\n",
              "      <th>rounds_funding_factor</th>\n",
              "      <th>soonicorn</th>\n",
              "      <th>more50_employees</th>\n",
              "      <th>more100_employees</th>\n",
              "      <th>dp_year</th>\n",
              "      <th>dp_rounds_count</th>\n",
              "      <th>dp_rounds_amount_sum</th>\n",
              "      <th>dp_rounds_amount_max</th>\n",
              "      <th>dp_last_round_year</th>\n",
              "      <th>dp_last_round_amount</th>\n",
              "      <th>dp_years_operating</th>\n",
              "      <th>max_manager_exp</th>\n",
              "      <th>max_clevel_exp</th>\n",
              "      <th>max_engineering_exp</th>\n",
              "      <th>max_sales_exp</th>\n",
              "      <th>max_finance_exp</th>\n",
              "      <th>max_human_capital_exp</th>\n",
              "      <th>max_consulting_exp</th>\n",
              "      <th>max_founder_exp</th>\n",
              "      <th>max_number_of_startups</th>\n",
              "      <th>max_gender</th>\n",
              "      <th>max_foreing_studies</th>\n",
              "      <th>max_foreing_work_experience</th>\n",
              "      <th>max_foreing_founder</th>\n",
              "      <th>max_dp_years_of_experience</th>\n",
              "      <th>max_dp_years_of_experience_as_entreprenuer</th>\n",
              "      <th>sum_manager_exp</th>\n",
              "      <th>sum_clevel_exp</th>\n",
              "      <th>sum_engineering_exp</th>\n",
              "      <th>sum_sales_exp</th>\n",
              "      <th>sum_finance_exp</th>\n",
              "      <th>sum_human_capital_exp</th>\n",
              "      <th>sum_consulting_exp</th>\n",
              "      <th>sum_founder_exp</th>\n",
              "      <th>sum_number_of_startups</th>\n",
              "      <th>sum_gender</th>\n",
              "      <th>sum_foreing_studies</th>\n",
              "      <th>sum_foreing_work_experience</th>\n",
              "      <th>sum_foreing_founder</th>\n",
              "      <th>sum_dp_years_of_experience</th>\n",
              "      <th>sum_dp_years_of_experience_as_entreprenuer</th>\n",
              "      <th>mean_manager_exp</th>\n",
              "      <th>mean_clevel_exp</th>\n",
              "      <th>mean_engineering_exp</th>\n",
              "      <th>mean_sales_exp</th>\n",
              "      <th>mean_finance_exp</th>\n",
              "      <th>mean_human_capital_exp</th>\n",
              "      <th>mean_consulting_exp</th>\n",
              "      <th>mean_founder_exp</th>\n",
              "      <th>mean_number_of_startups</th>\n",
              "      <th>mean_gender</th>\n",
              "      <th>mean_foreing_studies</th>\n",
              "      <th>mean_foreing_work_experience</th>\n",
              "      <th>mean_foreing_founder</th>\n",
              "      <th>mean_dp_years_of_experience</th>\n",
              "      <th>mean_dp_years_of_experience_as_entreprenuer</th>\n",
              "    </tr>\n",
              "  </thead>\n",
              "  <tbody>\n",
              "    <tr>\n",
              "      <th>0</th>\n",
              "      <td>3.0</td>\n",
              "      <td>2017.0</td>\n",
              "      <td>0.0</td>\n",
              "      <td>2017.0</td>\n",
              "      <td>1400000.0</td>\n",
              "      <td>2017.0</td>\n",
              "      <td>1400000.0</td>\n",
              "      <td>48.0</td>\n",
              "      <td>33.0</td>\n",
              "      <td>8.0</td>\n",
              "      <td>3.0</td>\n",
              "      <td>1.0</td>\n",
              "      <td>4.0</td>\n",
              "      <td>0.0</td>\n",
              "      <td>0.0</td>\n",
              "      <td>0.0</td>\n",
              "      <td>2017.0</td>\n",
              "      <td>1.0</td>\n",
              "      <td>1400000.0</td>\n",
              "      <td>1400000.0</td>\n",
              "      <td>2017.0</td>\n",
              "      <td>1400000.0</td>\n",
              "      <td>0.0</td>\n",
              "      <td>1.0</td>\n",
              "      <td>1.0</td>\n",
              "      <td>0.0</td>\n",
              "      <td>0.0</td>\n",
              "      <td>0.0</td>\n",
              "      <td>0.0</td>\n",
              "      <td>0.0</td>\n",
              "      <td>1.0</td>\n",
              "      <td>3.0</td>\n",
              "      <td>1.0</td>\n",
              "      <td>1.0</td>\n",
              "      <td>0.0</td>\n",
              "      <td>0.0</td>\n",
              "      <td>12.0</td>\n",
              "      <td>8.0</td>\n",
              "      <td>1.0</td>\n",
              "      <td>1.0</td>\n",
              "      <td>0.0</td>\n",
              "      <td>0.0</td>\n",
              "      <td>0.0</td>\n",
              "      <td>0.0</td>\n",
              "      <td>0.0</td>\n",
              "      <td>2.0</td>\n",
              "      <td>4.0</td>\n",
              "      <td>2.0</td>\n",
              "      <td>1.0</td>\n",
              "      <td>0.0</td>\n",
              "      <td>0.0</td>\n",
              "      <td>22.0</td>\n",
              "      <td>15.0</td>\n",
              "      <td>0.0</td>\n",
              "      <td>0.0</td>\n",
              "      <td>0.0</td>\n",
              "      <td>0.0</td>\n",
              "      <td>0.0</td>\n",
              "      <td>0.0</td>\n",
              "      <td>0.0</td>\n",
              "      <td>1.0</td>\n",
              "      <td>2.0</td>\n",
              "      <td>1.0</td>\n",
              "      <td>0.0</td>\n",
              "      <td>0.0</td>\n",
              "      <td>0.0</td>\n",
              "      <td>11.0</td>\n",
              "      <td>7.0</td>\n",
              "    </tr>\n",
              "    <tr>\n",
              "      <th>1</th>\n",
              "      <td>7.0</td>\n",
              "      <td>2018.0</td>\n",
              "      <td>0.0</td>\n",
              "      <td>2018.0</td>\n",
              "      <td>10500.0</td>\n",
              "      <td>2018.0</td>\n",
              "      <td>10500.0</td>\n",
              "      <td>36.0</td>\n",
              "      <td>10.0</td>\n",
              "      <td>0.0</td>\n",
              "      <td>2.0</td>\n",
              "      <td>0.0</td>\n",
              "      <td>3.0</td>\n",
              "      <td>0.0</td>\n",
              "      <td>0.0</td>\n",
              "      <td>0.0</td>\n",
              "      <td>2018.0</td>\n",
              "      <td>1.0</td>\n",
              "      <td>10500.0</td>\n",
              "      <td>10500.0</td>\n",
              "      <td>2018.0</td>\n",
              "      <td>10500.0</td>\n",
              "      <td>0.0</td>\n",
              "      <td>1.0</td>\n",
              "      <td>1.0</td>\n",
              "      <td>0.0</td>\n",
              "      <td>0.0</td>\n",
              "      <td>0.0</td>\n",
              "      <td>0.0</td>\n",
              "      <td>0.0</td>\n",
              "      <td>1.0</td>\n",
              "      <td>4.0</td>\n",
              "      <td>1.0</td>\n",
              "      <td>0.0</td>\n",
              "      <td>0.0</td>\n",
              "      <td>0.0</td>\n",
              "      <td>10.0</td>\n",
              "      <td>9.0</td>\n",
              "      <td>1.0</td>\n",
              "      <td>1.0</td>\n",
              "      <td>0.0</td>\n",
              "      <td>0.0</td>\n",
              "      <td>0.0</td>\n",
              "      <td>0.0</td>\n",
              "      <td>0.0</td>\n",
              "      <td>1.0</td>\n",
              "      <td>4.0</td>\n",
              "      <td>1.0</td>\n",
              "      <td>0.0</td>\n",
              "      <td>0.0</td>\n",
              "      <td>0.0</td>\n",
              "      <td>10.0</td>\n",
              "      <td>9.0</td>\n",
              "      <td>1.0</td>\n",
              "      <td>1.0</td>\n",
              "      <td>0.0</td>\n",
              "      <td>0.0</td>\n",
              "      <td>0.0</td>\n",
              "      <td>0.0</td>\n",
              "      <td>0.0</td>\n",
              "      <td>1.0</td>\n",
              "      <td>4.0</td>\n",
              "      <td>1.0</td>\n",
              "      <td>0.0</td>\n",
              "      <td>0.0</td>\n",
              "      <td>0.0</td>\n",
              "      <td>10.0</td>\n",
              "      <td>9.0</td>\n",
              "    </tr>\n",
              "    <tr>\n",
              "      <th>2</th>\n",
              "      <td>10.0</td>\n",
              "      <td>2015.0</td>\n",
              "      <td>0.0</td>\n",
              "      <td>2015.0</td>\n",
              "      <td>200000.0</td>\n",
              "      <td>2015.0</td>\n",
              "      <td>200000.0</td>\n",
              "      <td>72.0</td>\n",
              "      <td>11.0</td>\n",
              "      <td>14.0</td>\n",
              "      <td>1.0</td>\n",
              "      <td>1.0</td>\n",
              "      <td>6.0</td>\n",
              "      <td>0.0</td>\n",
              "      <td>0.0</td>\n",
              "      <td>0.0</td>\n",
              "      <td>2015.0</td>\n",
              "      <td>1.0</td>\n",
              "      <td>200000.0</td>\n",
              "      <td>200000.0</td>\n",
              "      <td>2015.0</td>\n",
              "      <td>200000.0</td>\n",
              "      <td>0.0</td>\n",
              "      <td>1.0</td>\n",
              "      <td>1.0</td>\n",
              "      <td>0.0</td>\n",
              "      <td>0.0</td>\n",
              "      <td>0.0</td>\n",
              "      <td>0.0</td>\n",
              "      <td>0.0</td>\n",
              "      <td>1.0</td>\n",
              "      <td>1.0</td>\n",
              "      <td>1.0</td>\n",
              "      <td>0.0</td>\n",
              "      <td>0.0</td>\n",
              "      <td>0.0</td>\n",
              "      <td>12.0</td>\n",
              "      <td>2.0</td>\n",
              "      <td>1.0</td>\n",
              "      <td>1.0</td>\n",
              "      <td>0.0</td>\n",
              "      <td>0.0</td>\n",
              "      <td>0.0</td>\n",
              "      <td>0.0</td>\n",
              "      <td>0.0</td>\n",
              "      <td>1.0</td>\n",
              "      <td>1.0</td>\n",
              "      <td>1.0</td>\n",
              "      <td>0.0</td>\n",
              "      <td>0.0</td>\n",
              "      <td>0.0</td>\n",
              "      <td>12.0</td>\n",
              "      <td>2.0</td>\n",
              "      <td>1.0</td>\n",
              "      <td>1.0</td>\n",
              "      <td>0.0</td>\n",
              "      <td>0.0</td>\n",
              "      <td>0.0</td>\n",
              "      <td>0.0</td>\n",
              "      <td>0.0</td>\n",
              "      <td>1.0</td>\n",
              "      <td>1.0</td>\n",
              "      <td>1.0</td>\n",
              "      <td>0.0</td>\n",
              "      <td>0.0</td>\n",
              "      <td>0.0</td>\n",
              "      <td>12.0</td>\n",
              "      <td>2.0</td>\n",
              "    </tr>\n",
              "    <tr>\n",
              "      <th>3</th>\n",
              "      <td>23.0</td>\n",
              "      <td>2013.0</td>\n",
              "      <td>0.0</td>\n",
              "      <td>2013.0</td>\n",
              "      <td>150000.0</td>\n",
              "      <td>2021.0</td>\n",
              "      <td>40000000.0</td>\n",
              "      <td>0.0</td>\n",
              "      <td>1001.0</td>\n",
              "      <td>0.0</td>\n",
              "      <td>0.0</td>\n",
              "      <td>1.0</td>\n",
              "      <td>0.0</td>\n",
              "      <td>1.0</td>\n",
              "      <td>1.0</td>\n",
              "      <td>1.0</td>\n",
              "      <td>2021.0</td>\n",
              "      <td>5.0</td>\n",
              "      <td>54800000.0</td>\n",
              "      <td>40000000.0</td>\n",
              "      <td>2021.0</td>\n",
              "      <td>40000000.0</td>\n",
              "      <td>8.0</td>\n",
              "      <td>0.0</td>\n",
              "      <td>1.0</td>\n",
              "      <td>0.0</td>\n",
              "      <td>0.0</td>\n",
              "      <td>0.0</td>\n",
              "      <td>0.0</td>\n",
              "      <td>0.0</td>\n",
              "      <td>1.0</td>\n",
              "      <td>2.0</td>\n",
              "      <td>1.0</td>\n",
              "      <td>0.0</td>\n",
              "      <td>0.0</td>\n",
              "      <td>0.0</td>\n",
              "      <td>11.0</td>\n",
              "      <td>4.0</td>\n",
              "      <td>0.0</td>\n",
              "      <td>1.0</td>\n",
              "      <td>0.0</td>\n",
              "      <td>0.0</td>\n",
              "      <td>0.0</td>\n",
              "      <td>0.0</td>\n",
              "      <td>0.0</td>\n",
              "      <td>1.0</td>\n",
              "      <td>2.0</td>\n",
              "      <td>1.0</td>\n",
              "      <td>0.0</td>\n",
              "      <td>0.0</td>\n",
              "      <td>0.0</td>\n",
              "      <td>11.0</td>\n",
              "      <td>4.0</td>\n",
              "      <td>0.0</td>\n",
              "      <td>1.0</td>\n",
              "      <td>0.0</td>\n",
              "      <td>0.0</td>\n",
              "      <td>0.0</td>\n",
              "      <td>0.0</td>\n",
              "      <td>0.0</td>\n",
              "      <td>1.0</td>\n",
              "      <td>2.0</td>\n",
              "      <td>1.0</td>\n",
              "      <td>0.0</td>\n",
              "      <td>0.0</td>\n",
              "      <td>0.0</td>\n",
              "      <td>11.0</td>\n",
              "      <td>4.0</td>\n",
              "    </tr>\n",
              "    <tr>\n",
              "      <th>4</th>\n",
              "      <td>51.0</td>\n",
              "      <td>2018.0</td>\n",
              "      <td>0.0</td>\n",
              "      <td>2018.0</td>\n",
              "      <td>20000.0</td>\n",
              "      <td>2018.0</td>\n",
              "      <td>20000.0</td>\n",
              "      <td>36.0</td>\n",
              "      <td>10.0</td>\n",
              "      <td>0.0</td>\n",
              "      <td>1.0</td>\n",
              "      <td>0.0</td>\n",
              "      <td>3.0</td>\n",
              "      <td>0.0</td>\n",
              "      <td>0.0</td>\n",
              "      <td>0.0</td>\n",
              "      <td>2018.0</td>\n",
              "      <td>1.0</td>\n",
              "      <td>20000.0</td>\n",
              "      <td>20000.0</td>\n",
              "      <td>2018.0</td>\n",
              "      <td>20000.0</td>\n",
              "      <td>0.0</td>\n",
              "      <td>0.0</td>\n",
              "      <td>1.0</td>\n",
              "      <td>1.0</td>\n",
              "      <td>0.0</td>\n",
              "      <td>0.0</td>\n",
              "      <td>0.0</td>\n",
              "      <td>0.0</td>\n",
              "      <td>0.0</td>\n",
              "      <td>1.0</td>\n",
              "      <td>1.0</td>\n",
              "      <td>1.0</td>\n",
              "      <td>0.0</td>\n",
              "      <td>0.0</td>\n",
              "      <td>5.0</td>\n",
              "      <td>0.0</td>\n",
              "      <td>0.0</td>\n",
              "      <td>1.0</td>\n",
              "      <td>1.0</td>\n",
              "      <td>0.0</td>\n",
              "      <td>0.0</td>\n",
              "      <td>0.0</td>\n",
              "      <td>0.0</td>\n",
              "      <td>0.0</td>\n",
              "      <td>1.0</td>\n",
              "      <td>1.0</td>\n",
              "      <td>1.0</td>\n",
              "      <td>0.0</td>\n",
              "      <td>0.0</td>\n",
              "      <td>5.0</td>\n",
              "      <td>0.0</td>\n",
              "      <td>0.0</td>\n",
              "      <td>1.0</td>\n",
              "      <td>1.0</td>\n",
              "      <td>0.0</td>\n",
              "      <td>0.0</td>\n",
              "      <td>0.0</td>\n",
              "      <td>0.0</td>\n",
              "      <td>0.0</td>\n",
              "      <td>1.0</td>\n",
              "      <td>1.0</td>\n",
              "      <td>1.0</td>\n",
              "      <td>0.0</td>\n",
              "      <td>0.0</td>\n",
              "      <td>5.0</td>\n",
              "      <td>0.0</td>\n",
              "    </tr>\n",
              "    <tr>\n",
              "      <th>5</th>\n",
              "      <td>64.0</td>\n",
              "      <td>2017.0</td>\n",
              "      <td>0.0</td>\n",
              "      <td>2017.0</td>\n",
              "      <td>50000.0</td>\n",
              "      <td>2017.0</td>\n",
              "      <td>50000.0</td>\n",
              "      <td>48.0</td>\n",
              "      <td>10.0</td>\n",
              "      <td>3.0</td>\n",
              "      <td>1.0</td>\n",
              "      <td>1.0</td>\n",
              "      <td>4.0</td>\n",
              "      <td>0.0</td>\n",
              "      <td>0.0</td>\n",
              "      <td>0.0</td>\n",
              "      <td>2017.0</td>\n",
              "      <td>1.0</td>\n",
              "      <td>50000.0</td>\n",
              "      <td>50000.0</td>\n",
              "      <td>2017.0</td>\n",
              "      <td>50000.0</td>\n",
              "      <td>0.0</td>\n",
              "      <td>1.0</td>\n",
              "      <td>1.0</td>\n",
              "      <td>0.0</td>\n",
              "      <td>0.0</td>\n",
              "      <td>1.0</td>\n",
              "      <td>0.0</td>\n",
              "      <td>0.0</td>\n",
              "      <td>0.0</td>\n",
              "      <td>1.0</td>\n",
              "      <td>1.0</td>\n",
              "      <td>0.0</td>\n",
              "      <td>0.0</td>\n",
              "      <td>0.0</td>\n",
              "      <td>1.0</td>\n",
              "      <td>0.0</td>\n",
              "      <td>1.0</td>\n",
              "      <td>1.0</td>\n",
              "      <td>0.0</td>\n",
              "      <td>0.0</td>\n",
              "      <td>1.0</td>\n",
              "      <td>0.0</td>\n",
              "      <td>0.0</td>\n",
              "      <td>0.0</td>\n",
              "      <td>1.0</td>\n",
              "      <td>1.0</td>\n",
              "      <td>0.0</td>\n",
              "      <td>0.0</td>\n",
              "      <td>0.0</td>\n",
              "      <td>1.0</td>\n",
              "      <td>0.0</td>\n",
              "      <td>1.0</td>\n",
              "      <td>1.0</td>\n",
              "      <td>0.0</td>\n",
              "      <td>0.0</td>\n",
              "      <td>1.0</td>\n",
              "      <td>0.0</td>\n",
              "      <td>0.0</td>\n",
              "      <td>0.0</td>\n",
              "      <td>1.0</td>\n",
              "      <td>1.0</td>\n",
              "      <td>0.0</td>\n",
              "      <td>0.0</td>\n",
              "      <td>0.0</td>\n",
              "      <td>1.0</td>\n",
              "      <td>0.0</td>\n",
              "    </tr>\n",
              "    <tr>\n",
              "      <th>6</th>\n",
              "      <td>93.0</td>\n",
              "      <td>2011.0</td>\n",
              "      <td>0.0</td>\n",
              "      <td>2011.0</td>\n",
              "      <td>30000.0</td>\n",
              "      <td>2011.0</td>\n",
              "      <td>30000.0</td>\n",
              "      <td>120.0</td>\n",
              "      <td>10.0</td>\n",
              "      <td>0.0</td>\n",
              "      <td>1.0</td>\n",
              "      <td>1.0</td>\n",
              "      <td>10.0</td>\n",
              "      <td>0.0</td>\n",
              "      <td>0.0</td>\n",
              "      <td>0.0</td>\n",
              "      <td>2011.0</td>\n",
              "      <td>1.0</td>\n",
              "      <td>30000.0</td>\n",
              "      <td>30000.0</td>\n",
              "      <td>2011.0</td>\n",
              "      <td>30000.0</td>\n",
              "      <td>0.0</td>\n",
              "      <td>1.0</td>\n",
              "      <td>1.0</td>\n",
              "      <td>1.0</td>\n",
              "      <td>0.0</td>\n",
              "      <td>0.0</td>\n",
              "      <td>0.0</td>\n",
              "      <td>0.0</td>\n",
              "      <td>1.0</td>\n",
              "      <td>2.0</td>\n",
              "      <td>1.0</td>\n",
              "      <td>0.0</td>\n",
              "      <td>1.0</td>\n",
              "      <td>0.0</td>\n",
              "      <td>6.0</td>\n",
              "      <td>0.0</td>\n",
              "      <td>1.0</td>\n",
              "      <td>2.0</td>\n",
              "      <td>1.0</td>\n",
              "      <td>0.0</td>\n",
              "      <td>0.0</td>\n",
              "      <td>0.0</td>\n",
              "      <td>0.0</td>\n",
              "      <td>2.0</td>\n",
              "      <td>3.0</td>\n",
              "      <td>2.0</td>\n",
              "      <td>0.0</td>\n",
              "      <td>1.0</td>\n",
              "      <td>0.0</td>\n",
              "      <td>7.0</td>\n",
              "      <td>0.0</td>\n",
              "      <td>0.0</td>\n",
              "      <td>1.0</td>\n",
              "      <td>0.0</td>\n",
              "      <td>0.0</td>\n",
              "      <td>0.0</td>\n",
              "      <td>0.0</td>\n",
              "      <td>0.0</td>\n",
              "      <td>1.0</td>\n",
              "      <td>1.0</td>\n",
              "      <td>1.0</td>\n",
              "      <td>0.0</td>\n",
              "      <td>0.0</td>\n",
              "      <td>0.0</td>\n",
              "      <td>3.0</td>\n",
              "      <td>0.0</td>\n",
              "    </tr>\n",
              "    <tr>\n",
              "      <th>7</th>\n",
              "      <td>129.0</td>\n",
              "      <td>2020.0</td>\n",
              "      <td>0.0</td>\n",
              "      <td>2020.0</td>\n",
              "      <td>33000.0</td>\n",
              "      <td>2020.0</td>\n",
              "      <td>33000.0</td>\n",
              "      <td>12.0</td>\n",
              "      <td>10.0</td>\n",
              "      <td>4.0</td>\n",
              "      <td>1.0</td>\n",
              "      <td>1.0</td>\n",
              "      <td>1.0</td>\n",
              "      <td>0.0</td>\n",
              "      <td>0.0</td>\n",
              "      <td>0.0</td>\n",
              "      <td>2020.0</td>\n",
              "      <td>1.0</td>\n",
              "      <td>33000.0</td>\n",
              "      <td>33000.0</td>\n",
              "      <td>2020.0</td>\n",
              "      <td>33000.0</td>\n",
              "      <td>0.0</td>\n",
              "      <td>1.0</td>\n",
              "      <td>1.0</td>\n",
              "      <td>0.0</td>\n",
              "      <td>0.0</td>\n",
              "      <td>0.0</td>\n",
              "      <td>0.0</td>\n",
              "      <td>0.0</td>\n",
              "      <td>1.0</td>\n",
              "      <td>3.0</td>\n",
              "      <td>1.0</td>\n",
              "      <td>1.0</td>\n",
              "      <td>1.0</td>\n",
              "      <td>1.0</td>\n",
              "      <td>25.0</td>\n",
              "      <td>20.0</td>\n",
              "      <td>1.0</td>\n",
              "      <td>1.0</td>\n",
              "      <td>0.0</td>\n",
              "      <td>0.0</td>\n",
              "      <td>0.0</td>\n",
              "      <td>0.0</td>\n",
              "      <td>0.0</td>\n",
              "      <td>1.0</td>\n",
              "      <td>3.0</td>\n",
              "      <td>1.0</td>\n",
              "      <td>1.0</td>\n",
              "      <td>1.0</td>\n",
              "      <td>1.0</td>\n",
              "      <td>25.0</td>\n",
              "      <td>20.0</td>\n",
              "      <td>1.0</td>\n",
              "      <td>1.0</td>\n",
              "      <td>0.0</td>\n",
              "      <td>0.0</td>\n",
              "      <td>0.0</td>\n",
              "      <td>0.0</td>\n",
              "      <td>0.0</td>\n",
              "      <td>1.0</td>\n",
              "      <td>3.0</td>\n",
              "      <td>1.0</td>\n",
              "      <td>1.0</td>\n",
              "      <td>1.0</td>\n",
              "      <td>1.0</td>\n",
              "      <td>25.0</td>\n",
              "      <td>20.0</td>\n",
              "    </tr>\n",
              "    <tr>\n",
              "      <th>8</th>\n",
              "      <td>141.0</td>\n",
              "      <td>2015.0</td>\n",
              "      <td>0.0</td>\n",
              "      <td>2015.0</td>\n",
              "      <td>250000.0</td>\n",
              "      <td>2021.0</td>\n",
              "      <td>15000000.0</td>\n",
              "      <td>0.0</td>\n",
              "      <td>130.0</td>\n",
              "      <td>98.0</td>\n",
              "      <td>0.0</td>\n",
              "      <td>1.0</td>\n",
              "      <td>0.0</td>\n",
              "      <td>0.0</td>\n",
              "      <td>1.0</td>\n",
              "      <td>1.0</td>\n",
              "      <td>2021.0</td>\n",
              "      <td>6.0</td>\n",
              "      <td>25500000.0</td>\n",
              "      <td>15000000.0</td>\n",
              "      <td>2021.0</td>\n",
              "      <td>15000000.0</td>\n",
              "      <td>6.0</td>\n",
              "      <td>0.0</td>\n",
              "      <td>1.0</td>\n",
              "      <td>1.0</td>\n",
              "      <td>0.0</td>\n",
              "      <td>0.0</td>\n",
              "      <td>0.0</td>\n",
              "      <td>0.0</td>\n",
              "      <td>1.0</td>\n",
              "      <td>5.0</td>\n",
              "      <td>1.0</td>\n",
              "      <td>0.0</td>\n",
              "      <td>1.0</td>\n",
              "      <td>1.0</td>\n",
              "      <td>24.0</td>\n",
              "      <td>18.0</td>\n",
              "      <td>0.0</td>\n",
              "      <td>3.0</td>\n",
              "      <td>1.0</td>\n",
              "      <td>0.0</td>\n",
              "      <td>0.0</td>\n",
              "      <td>0.0</td>\n",
              "      <td>0.0</td>\n",
              "      <td>3.0</td>\n",
              "      <td>9.0</td>\n",
              "      <td>4.0</td>\n",
              "      <td>0.0</td>\n",
              "      <td>2.0</td>\n",
              "      <td>1.0</td>\n",
              "      <td>51.0</td>\n",
              "      <td>27.0</td>\n",
              "      <td>0.0</td>\n",
              "      <td>0.0</td>\n",
              "      <td>0.0</td>\n",
              "      <td>0.0</td>\n",
              "      <td>0.0</td>\n",
              "      <td>0.0</td>\n",
              "      <td>0.0</td>\n",
              "      <td>0.0</td>\n",
              "      <td>2.0</td>\n",
              "      <td>1.0</td>\n",
              "      <td>0.0</td>\n",
              "      <td>0.0</td>\n",
              "      <td>0.0</td>\n",
              "      <td>12.0</td>\n",
              "      <td>6.0</td>\n",
              "    </tr>\n",
              "    <tr>\n",
              "      <th>9</th>\n",
              "      <td>147.0</td>\n",
              "      <td>2017.0</td>\n",
              "      <td>0.0</td>\n",
              "      <td>2017.0</td>\n",
              "      <td>26000.0</td>\n",
              "      <td>2017.0</td>\n",
              "      <td>26000.0</td>\n",
              "      <td>48.0</td>\n",
              "      <td>11.0</td>\n",
              "      <td>3.0</td>\n",
              "      <td>1.0</td>\n",
              "      <td>1.0</td>\n",
              "      <td>4.0</td>\n",
              "      <td>0.0</td>\n",
              "      <td>0.0</td>\n",
              "      <td>0.0</td>\n",
              "      <td>2017.0</td>\n",
              "      <td>1.0</td>\n",
              "      <td>26000.0</td>\n",
              "      <td>26000.0</td>\n",
              "      <td>2017.0</td>\n",
              "      <td>26000.0</td>\n",
              "      <td>0.0</td>\n",
              "      <td>1.0</td>\n",
              "      <td>1.0</td>\n",
              "      <td>0.0</td>\n",
              "      <td>0.0</td>\n",
              "      <td>1.0</td>\n",
              "      <td>0.0</td>\n",
              "      <td>1.0</td>\n",
              "      <td>1.0</td>\n",
              "      <td>1.0</td>\n",
              "      <td>1.0</td>\n",
              "      <td>1.0</td>\n",
              "      <td>1.0</td>\n",
              "      <td>1.0</td>\n",
              "      <td>11.0</td>\n",
              "      <td>5.0</td>\n",
              "      <td>1.0</td>\n",
              "      <td>1.0</td>\n",
              "      <td>0.0</td>\n",
              "      <td>0.0</td>\n",
              "      <td>1.0</td>\n",
              "      <td>0.0</td>\n",
              "      <td>1.0</td>\n",
              "      <td>1.0</td>\n",
              "      <td>1.0</td>\n",
              "      <td>1.0</td>\n",
              "      <td>1.0</td>\n",
              "      <td>1.0</td>\n",
              "      <td>1.0</td>\n",
              "      <td>11.0</td>\n",
              "      <td>5.0</td>\n",
              "      <td>1.0</td>\n",
              "      <td>1.0</td>\n",
              "      <td>0.0</td>\n",
              "      <td>0.0</td>\n",
              "      <td>1.0</td>\n",
              "      <td>0.0</td>\n",
              "      <td>1.0</td>\n",
              "      <td>1.0</td>\n",
              "      <td>1.0</td>\n",
              "      <td>1.0</td>\n",
              "      <td>1.0</td>\n",
              "      <td>1.0</td>\n",
              "      <td>1.0</td>\n",
              "      <td>11.0</td>\n",
              "      <td>5.0</td>\n",
              "    </tr>\n",
              "    <tr>\n",
              "      <th>10</th>\n",
              "      <td>150.0</td>\n",
              "      <td>2015.0</td>\n",
              "      <td>0.0</td>\n",
              "      <td>2015.0</td>\n",
              "      <td>30000.0</td>\n",
              "      <td>2017.0</td>\n",
              "      <td>792393.0</td>\n",
              "      <td>48.0</td>\n",
              "      <td>51.0</td>\n",
              "      <td>85.0</td>\n",
              "      <td>1.0</td>\n",
              "      <td>1.0</td>\n",
              "      <td>2.0</td>\n",
              "      <td>0.0</td>\n",
              "      <td>1.0</td>\n",
              "      <td>0.0</td>\n",
              "      <td>2017.0</td>\n",
              "      <td>2.0</td>\n",
              "      <td>822393.0</td>\n",
              "      <td>792393.0</td>\n",
              "      <td>2017.0</td>\n",
              "      <td>792393.0</td>\n",
              "      <td>2.0</td>\n",
              "      <td>1.0</td>\n",
              "      <td>1.0</td>\n",
              "      <td>0.0</td>\n",
              "      <td>0.0</td>\n",
              "      <td>1.0</td>\n",
              "      <td>0.0</td>\n",
              "      <td>0.0</td>\n",
              "      <td>1.0</td>\n",
              "      <td>1.0</td>\n",
              "      <td>1.0</td>\n",
              "      <td>1.0</td>\n",
              "      <td>1.0</td>\n",
              "      <td>0.0</td>\n",
              "      <td>7.0</td>\n",
              "      <td>1.0</td>\n",
              "      <td>2.0</td>\n",
              "      <td>2.0</td>\n",
              "      <td>0.0</td>\n",
              "      <td>0.0</td>\n",
              "      <td>2.0</td>\n",
              "      <td>0.0</td>\n",
              "      <td>0.0</td>\n",
              "      <td>2.0</td>\n",
              "      <td>2.0</td>\n",
              "      <td>2.0</td>\n",
              "      <td>2.0</td>\n",
              "      <td>2.0</td>\n",
              "      <td>0.0</td>\n",
              "      <td>14.0</td>\n",
              "      <td>2.0</td>\n",
              "      <td>1.0</td>\n",
              "      <td>1.0</td>\n",
              "      <td>0.0</td>\n",
              "      <td>0.0</td>\n",
              "      <td>1.0</td>\n",
              "      <td>0.0</td>\n",
              "      <td>0.0</td>\n",
              "      <td>1.0</td>\n",
              "      <td>1.0</td>\n",
              "      <td>1.0</td>\n",
              "      <td>1.0</td>\n",
              "      <td>1.0</td>\n",
              "      <td>0.0</td>\n",
              "      <td>7.0</td>\n",
              "      <td>1.0</td>\n",
              "    </tr>\n",
              "    <tr>\n",
              "      <th>11</th>\n",
              "      <td>152.0</td>\n",
              "      <td>2019.0</td>\n",
              "      <td>0.0</td>\n",
              "      <td>2019.0</td>\n",
              "      <td>1600000.0</td>\n",
              "      <td>2019.0</td>\n",
              "      <td>1600000.0</td>\n",
              "      <td>24.0</td>\n",
              "      <td>15.0</td>\n",
              "      <td>4.0</td>\n",
              "      <td>3.0</td>\n",
              "      <td>1.0</td>\n",
              "      <td>2.0</td>\n",
              "      <td>0.0</td>\n",
              "      <td>0.0</td>\n",
              "      <td>0.0</td>\n",
              "      <td>2019.0</td>\n",
              "      <td>1.0</td>\n",
              "      <td>1600000.0</td>\n",
              "      <td>1600000.0</td>\n",
              "      <td>2019.0</td>\n",
              "      <td>1600000.0</td>\n",
              "      <td>0.0</td>\n",
              "      <td>1.0</td>\n",
              "      <td>1.0</td>\n",
              "      <td>1.0</td>\n",
              "      <td>0.0</td>\n",
              "      <td>1.0</td>\n",
              "      <td>0.0</td>\n",
              "      <td>1.0</td>\n",
              "      <td>1.0</td>\n",
              "      <td>3.0</td>\n",
              "      <td>1.0</td>\n",
              "      <td>1.0</td>\n",
              "      <td>1.0</td>\n",
              "      <td>1.0</td>\n",
              "      <td>8.0</td>\n",
              "      <td>4.0</td>\n",
              "      <td>1.0</td>\n",
              "      <td>1.0</td>\n",
              "      <td>1.0</td>\n",
              "      <td>0.0</td>\n",
              "      <td>1.0</td>\n",
              "      <td>0.0</td>\n",
              "      <td>2.0</td>\n",
              "      <td>3.0</td>\n",
              "      <td>8.0</td>\n",
              "      <td>3.0</td>\n",
              "      <td>2.0</td>\n",
              "      <td>3.0</td>\n",
              "      <td>3.0</td>\n",
              "      <td>18.0</td>\n",
              "      <td>6.0</td>\n",
              "      <td>0.0</td>\n",
              "      <td>0.0</td>\n",
              "      <td>0.0</td>\n",
              "      <td>0.0</td>\n",
              "      <td>0.0</td>\n",
              "      <td>0.0</td>\n",
              "      <td>0.0</td>\n",
              "      <td>1.0</td>\n",
              "      <td>2.0</td>\n",
              "      <td>1.0</td>\n",
              "      <td>0.0</td>\n",
              "      <td>1.0</td>\n",
              "      <td>1.0</td>\n",
              "      <td>6.0</td>\n",
              "      <td>2.0</td>\n",
              "    </tr>\n",
              "    <tr>\n",
              "      <th>12</th>\n",
              "      <td>155.0</td>\n",
              "      <td>2016.0</td>\n",
              "      <td>0.0</td>\n",
              "      <td>2016.0</td>\n",
              "      <td>400000.0</td>\n",
              "      <td>2020.0</td>\n",
              "      <td>45000000.0</td>\n",
              "      <td>12.0</td>\n",
              "      <td>192.0</td>\n",
              "      <td>156.0</td>\n",
              "      <td>0.0</td>\n",
              "      <td>1.0</td>\n",
              "      <td>0.0</td>\n",
              "      <td>1.0</td>\n",
              "      <td>1.0</td>\n",
              "      <td>1.0</td>\n",
              "      <td>2020.0</td>\n",
              "      <td>5.0</td>\n",
              "      <td>72500000.0</td>\n",
              "      <td>45000000.0</td>\n",
              "      <td>2020.0</td>\n",
              "      <td>45000000.0</td>\n",
              "      <td>4.0</td>\n",
              "      <td>1.0</td>\n",
              "      <td>1.0</td>\n",
              "      <td>0.0</td>\n",
              "      <td>0.0</td>\n",
              "      <td>0.0</td>\n",
              "      <td>0.0</td>\n",
              "      <td>0.0</td>\n",
              "      <td>0.0</td>\n",
              "      <td>1.0</td>\n",
              "      <td>1.0</td>\n",
              "      <td>1.0</td>\n",
              "      <td>0.0</td>\n",
              "      <td>0.0</td>\n",
              "      <td>15.0</td>\n",
              "      <td>9.0</td>\n",
              "      <td>1.0</td>\n",
              "      <td>1.0</td>\n",
              "      <td>0.0</td>\n",
              "      <td>0.0</td>\n",
              "      <td>0.0</td>\n",
              "      <td>0.0</td>\n",
              "      <td>0.0</td>\n",
              "      <td>0.0</td>\n",
              "      <td>1.0</td>\n",
              "      <td>1.0</td>\n",
              "      <td>1.0</td>\n",
              "      <td>0.0</td>\n",
              "      <td>0.0</td>\n",
              "      <td>15.0</td>\n",
              "      <td>9.0</td>\n",
              "      <td>1.0</td>\n",
              "      <td>1.0</td>\n",
              "      <td>0.0</td>\n",
              "      <td>0.0</td>\n",
              "      <td>0.0</td>\n",
              "      <td>0.0</td>\n",
              "      <td>0.0</td>\n",
              "      <td>0.0</td>\n",
              "      <td>1.0</td>\n",
              "      <td>1.0</td>\n",
              "      <td>1.0</td>\n",
              "      <td>0.0</td>\n",
              "      <td>0.0</td>\n",
              "      <td>15.0</td>\n",
              "      <td>9.0</td>\n",
              "    </tr>\n",
              "    <tr>\n",
              "      <th>13</th>\n",
              "      <td>166.0</td>\n",
              "      <td>2014.0</td>\n",
              "      <td>0.0</td>\n",
              "      <td>2014.0</td>\n",
              "      <td>100000.0</td>\n",
              "      <td>2016.0</td>\n",
              "      <td>50000.0</td>\n",
              "      <td>60.0</td>\n",
              "      <td>40.0</td>\n",
              "      <td>36.0</td>\n",
              "      <td>0.0</td>\n",
              "      <td>1.0</td>\n",
              "      <td>1.0</td>\n",
              "      <td>0.0</td>\n",
              "      <td>0.0</td>\n",
              "      <td>0.0</td>\n",
              "      <td>2016.0</td>\n",
              "      <td>3.0</td>\n",
              "      <td>950000.0</td>\n",
              "      <td>800000.0</td>\n",
              "      <td>2016.0</td>\n",
              "      <td>50000.0</td>\n",
              "      <td>2.0</td>\n",
              "      <td>1.0</td>\n",
              "      <td>0.0</td>\n",
              "      <td>0.0</td>\n",
              "      <td>0.0</td>\n",
              "      <td>1.0</td>\n",
              "      <td>0.0</td>\n",
              "      <td>0.0</td>\n",
              "      <td>0.0</td>\n",
              "      <td>1.0</td>\n",
              "      <td>0.0</td>\n",
              "      <td>0.0</td>\n",
              "      <td>0.0</td>\n",
              "      <td>0.0</td>\n",
              "      <td>9.0</td>\n",
              "      <td>3.0</td>\n",
              "      <td>1.0</td>\n",
              "      <td>0.0</td>\n",
              "      <td>0.0</td>\n",
              "      <td>0.0</td>\n",
              "      <td>1.0</td>\n",
              "      <td>0.0</td>\n",
              "      <td>0.0</td>\n",
              "      <td>0.0</td>\n",
              "      <td>1.0</td>\n",
              "      <td>0.0</td>\n",
              "      <td>0.0</td>\n",
              "      <td>0.0</td>\n",
              "      <td>0.0</td>\n",
              "      <td>9.0</td>\n",
              "      <td>3.0</td>\n",
              "      <td>1.0</td>\n",
              "      <td>0.0</td>\n",
              "      <td>0.0</td>\n",
              "      <td>0.0</td>\n",
              "      <td>1.0</td>\n",
              "      <td>0.0</td>\n",
              "      <td>0.0</td>\n",
              "      <td>0.0</td>\n",
              "      <td>1.0</td>\n",
              "      <td>0.0</td>\n",
              "      <td>0.0</td>\n",
              "      <td>0.0</td>\n",
              "      <td>0.0</td>\n",
              "      <td>9.0</td>\n",
              "      <td>3.0</td>\n",
              "    </tr>\n",
              "    <tr>\n",
              "      <th>14</th>\n",
              "      <td>167.0</td>\n",
              "      <td>2004.0</td>\n",
              "      <td>0.0</td>\n",
              "      <td>2004.0</td>\n",
              "      <td>0.0</td>\n",
              "      <td>2008.0</td>\n",
              "      <td>100000.0</td>\n",
              "      <td>156.0</td>\n",
              "      <td>31.0</td>\n",
              "      <td>5.0</td>\n",
              "      <td>1.0</td>\n",
              "      <td>1.0</td>\n",
              "      <td>4.0</td>\n",
              "      <td>0.0</td>\n",
              "      <td>0.0</td>\n",
              "      <td>0.0</td>\n",
              "      <td>2008.0</td>\n",
              "      <td>3.0</td>\n",
              "      <td>100000.0</td>\n",
              "      <td>100000.0</td>\n",
              "      <td>2008.0</td>\n",
              "      <td>100000.0</td>\n",
              "      <td>4.0</td>\n",
              "      <td>0.0</td>\n",
              "      <td>1.0</td>\n",
              "      <td>0.0</td>\n",
              "      <td>0.0</td>\n",
              "      <td>0.0</td>\n",
              "      <td>0.0</td>\n",
              "      <td>0.0</td>\n",
              "      <td>1.0</td>\n",
              "      <td>1.0</td>\n",
              "      <td>1.0</td>\n",
              "      <td>0.0</td>\n",
              "      <td>0.0</td>\n",
              "      <td>0.0</td>\n",
              "      <td>5.0</td>\n",
              "      <td>0.0</td>\n",
              "      <td>0.0</td>\n",
              "      <td>1.0</td>\n",
              "      <td>0.0</td>\n",
              "      <td>0.0</td>\n",
              "      <td>0.0</td>\n",
              "      <td>0.0</td>\n",
              "      <td>0.0</td>\n",
              "      <td>1.0</td>\n",
              "      <td>1.0</td>\n",
              "      <td>1.0</td>\n",
              "      <td>0.0</td>\n",
              "      <td>0.0</td>\n",
              "      <td>0.0</td>\n",
              "      <td>5.0</td>\n",
              "      <td>0.0</td>\n",
              "      <td>0.0</td>\n",
              "      <td>1.0</td>\n",
              "      <td>0.0</td>\n",
              "      <td>0.0</td>\n",
              "      <td>0.0</td>\n",
              "      <td>0.0</td>\n",
              "      <td>0.0</td>\n",
              "      <td>1.0</td>\n",
              "      <td>1.0</td>\n",
              "      <td>1.0</td>\n",
              "      <td>0.0</td>\n",
              "      <td>0.0</td>\n",
              "      <td>0.0</td>\n",
              "      <td>5.0</td>\n",
              "      <td>0.0</td>\n",
              "    </tr>\n",
              "    <tr>\n",
              "      <th>15</th>\n",
              "      <td>180.0</td>\n",
              "      <td>2014.0</td>\n",
              "      <td>0.0</td>\n",
              "      <td>2014.0</td>\n",
              "      <td>125287.0</td>\n",
              "      <td>2014.0</td>\n",
              "      <td>125287.0</td>\n",
              "      <td>84.0</td>\n",
              "      <td>1.0</td>\n",
              "      <td>0.0</td>\n",
              "      <td>1.0</td>\n",
              "      <td>0.0</td>\n",
              "      <td>7.0</td>\n",
              "      <td>0.0</td>\n",
              "      <td>0.0</td>\n",
              "      <td>0.0</td>\n",
              "      <td>2014.0</td>\n",
              "      <td>1.0</td>\n",
              "      <td>125287.0</td>\n",
              "      <td>125287.0</td>\n",
              "      <td>2014.0</td>\n",
              "      <td>125287.0</td>\n",
              "      <td>0.0</td>\n",
              "      <td>0.0</td>\n",
              "      <td>1.0</td>\n",
              "      <td>1.0</td>\n",
              "      <td>0.0</td>\n",
              "      <td>0.0</td>\n",
              "      <td>0.0</td>\n",
              "      <td>0.0</td>\n",
              "      <td>1.0</td>\n",
              "      <td>1.0</td>\n",
              "      <td>1.0</td>\n",
              "      <td>0.0</td>\n",
              "      <td>1.0</td>\n",
              "      <td>1.0</td>\n",
              "      <td>14.0</td>\n",
              "      <td>5.0</td>\n",
              "      <td>0.0</td>\n",
              "      <td>1.0</td>\n",
              "      <td>1.0</td>\n",
              "      <td>0.0</td>\n",
              "      <td>0.0</td>\n",
              "      <td>0.0</td>\n",
              "      <td>0.0</td>\n",
              "      <td>1.0</td>\n",
              "      <td>1.0</td>\n",
              "      <td>1.0</td>\n",
              "      <td>0.0</td>\n",
              "      <td>1.0</td>\n",
              "      <td>1.0</td>\n",
              "      <td>14.0</td>\n",
              "      <td>5.0</td>\n",
              "      <td>0.0</td>\n",
              "      <td>1.0</td>\n",
              "      <td>1.0</td>\n",
              "      <td>0.0</td>\n",
              "      <td>0.0</td>\n",
              "      <td>0.0</td>\n",
              "      <td>0.0</td>\n",
              "      <td>1.0</td>\n",
              "      <td>1.0</td>\n",
              "      <td>1.0</td>\n",
              "      <td>0.0</td>\n",
              "      <td>1.0</td>\n",
              "      <td>1.0</td>\n",
              "      <td>14.0</td>\n",
              "      <td>5.0</td>\n",
              "    </tr>\n",
              "    <tr>\n",
              "      <th>16</th>\n",
              "      <td>185.0</td>\n",
              "      <td>2015.0</td>\n",
              "      <td>0.0</td>\n",
              "      <td>2015.0</td>\n",
              "      <td>35400000.0</td>\n",
              "      <td>2020.0</td>\n",
              "      <td>125000000.0</td>\n",
              "      <td>12.0</td>\n",
              "      <td>1001.0</td>\n",
              "      <td>444.0</td>\n",
              "      <td>1.0</td>\n",
              "      <td>1.0</td>\n",
              "      <td>0.0</td>\n",
              "      <td>1.0</td>\n",
              "      <td>1.0</td>\n",
              "      <td>1.0</td>\n",
              "      <td>2020.0</td>\n",
              "      <td>1.0</td>\n",
              "      <td>125000000.0</td>\n",
              "      <td>125000000.0</td>\n",
              "      <td>2020.0</td>\n",
              "      <td>125000000.0</td>\n",
              "      <td>5.0</td>\n",
              "      <td>0.0</td>\n",
              "      <td>0.0</td>\n",
              "      <td>0.0</td>\n",
              "      <td>0.0</td>\n",
              "      <td>0.0</td>\n",
              "      <td>0.0</td>\n",
              "      <td>0.0</td>\n",
              "      <td>1.0</td>\n",
              "      <td>4.0</td>\n",
              "      <td>1.0</td>\n",
              "      <td>1.0</td>\n",
              "      <td>0.0</td>\n",
              "      <td>0.0</td>\n",
              "      <td>19.0</td>\n",
              "      <td>19.0</td>\n",
              "      <td>0.0</td>\n",
              "      <td>0.0</td>\n",
              "      <td>0.0</td>\n",
              "      <td>0.0</td>\n",
              "      <td>0.0</td>\n",
              "      <td>0.0</td>\n",
              "      <td>0.0</td>\n",
              "      <td>1.0</td>\n",
              "      <td>4.0</td>\n",
              "      <td>1.0</td>\n",
              "      <td>1.0</td>\n",
              "      <td>0.0</td>\n",
              "      <td>0.0</td>\n",
              "      <td>19.0</td>\n",
              "      <td>19.0</td>\n",
              "      <td>0.0</td>\n",
              "      <td>0.0</td>\n",
              "      <td>0.0</td>\n",
              "      <td>0.0</td>\n",
              "      <td>0.0</td>\n",
              "      <td>0.0</td>\n",
              "      <td>0.0</td>\n",
              "      <td>1.0</td>\n",
              "      <td>4.0</td>\n",
              "      <td>1.0</td>\n",
              "      <td>1.0</td>\n",
              "      <td>0.0</td>\n",
              "      <td>0.0</td>\n",
              "      <td>19.0</td>\n",
              "      <td>19.0</td>\n",
              "    </tr>\n",
              "    <tr>\n",
              "      <th>17</th>\n",
              "      <td>213.0</td>\n",
              "      <td>2021.0</td>\n",
              "      <td>0.0</td>\n",
              "      <td>2021.0</td>\n",
              "      <td>130000.0</td>\n",
              "      <td>2021.0</td>\n",
              "      <td>130000.0</td>\n",
              "      <td>0.0</td>\n",
              "      <td>10.0</td>\n",
              "      <td>6.0</td>\n",
              "      <td>3.0</td>\n",
              "      <td>0.0</td>\n",
              "      <td>0.0</td>\n",
              "      <td>0.0</td>\n",
              "      <td>0.0</td>\n",
              "      <td>0.0</td>\n",
              "      <td>2021.0</td>\n",
              "      <td>1.0</td>\n",
              "      <td>130000.0</td>\n",
              "      <td>130000.0</td>\n",
              "      <td>2021.0</td>\n",
              "      <td>130000.0</td>\n",
              "      <td>0.0</td>\n",
              "      <td>1.0</td>\n",
              "      <td>1.0</td>\n",
              "      <td>0.0</td>\n",
              "      <td>0.0</td>\n",
              "      <td>0.0</td>\n",
              "      <td>0.0</td>\n",
              "      <td>1.0</td>\n",
              "      <td>1.0</td>\n",
              "      <td>4.0</td>\n",
              "      <td>1.0</td>\n",
              "      <td>1.0</td>\n",
              "      <td>0.0</td>\n",
              "      <td>0.0</td>\n",
              "      <td>13.0</td>\n",
              "      <td>11.0</td>\n",
              "      <td>1.0</td>\n",
              "      <td>1.0</td>\n",
              "      <td>0.0</td>\n",
              "      <td>0.0</td>\n",
              "      <td>0.0</td>\n",
              "      <td>0.0</td>\n",
              "      <td>1.0</td>\n",
              "      <td>1.0</td>\n",
              "      <td>4.0</td>\n",
              "      <td>1.0</td>\n",
              "      <td>1.0</td>\n",
              "      <td>0.0</td>\n",
              "      <td>0.0</td>\n",
              "      <td>13.0</td>\n",
              "      <td>11.0</td>\n",
              "      <td>1.0</td>\n",
              "      <td>1.0</td>\n",
              "      <td>0.0</td>\n",
              "      <td>0.0</td>\n",
              "      <td>0.0</td>\n",
              "      <td>0.0</td>\n",
              "      <td>1.0</td>\n",
              "      <td>1.0</td>\n",
              "      <td>4.0</td>\n",
              "      <td>1.0</td>\n",
              "      <td>1.0</td>\n",
              "      <td>0.0</td>\n",
              "      <td>0.0</td>\n",
              "      <td>13.0</td>\n",
              "      <td>11.0</td>\n",
              "    </tr>\n",
              "    <tr>\n",
              "      <th>18</th>\n",
              "      <td>219.0</td>\n",
              "      <td>2013.0</td>\n",
              "      <td>0.0</td>\n",
              "      <td>2013.0</td>\n",
              "      <td>8470000.0</td>\n",
              "      <td>2015.0</td>\n",
              "      <td>325000.0</td>\n",
              "      <td>72.0</td>\n",
              "      <td>93.0</td>\n",
              "      <td>38.0</td>\n",
              "      <td>1.0</td>\n",
              "      <td>1.0</td>\n",
              "      <td>3.0</td>\n",
              "      <td>0.0</td>\n",
              "      <td>1.0</td>\n",
              "      <td>0.0</td>\n",
              "      <td>2015.0</td>\n",
              "      <td>2.0</td>\n",
              "      <td>8795000.0</td>\n",
              "      <td>8470000.0</td>\n",
              "      <td>2015.0</td>\n",
              "      <td>325000.0</td>\n",
              "      <td>2.0</td>\n",
              "      <td>0.0</td>\n",
              "      <td>1.0</td>\n",
              "      <td>0.0</td>\n",
              "      <td>0.0</td>\n",
              "      <td>0.0</td>\n",
              "      <td>0.0</td>\n",
              "      <td>0.0</td>\n",
              "      <td>1.0</td>\n",
              "      <td>2.0</td>\n",
              "      <td>1.0</td>\n",
              "      <td>1.0</td>\n",
              "      <td>1.0</td>\n",
              "      <td>0.0</td>\n",
              "      <td>26.0</td>\n",
              "      <td>7.0</td>\n",
              "      <td>0.0</td>\n",
              "      <td>2.0</td>\n",
              "      <td>0.0</td>\n",
              "      <td>0.0</td>\n",
              "      <td>0.0</td>\n",
              "      <td>0.0</td>\n",
              "      <td>0.0</td>\n",
              "      <td>3.0</td>\n",
              "      <td>4.0</td>\n",
              "      <td>3.0</td>\n",
              "      <td>1.0</td>\n",
              "      <td>1.0</td>\n",
              "      <td>0.0</td>\n",
              "      <td>55.0</td>\n",
              "      <td>7.0</td>\n",
              "      <td>0.0</td>\n",
              "      <td>0.0</td>\n",
              "      <td>0.0</td>\n",
              "      <td>0.0</td>\n",
              "      <td>0.0</td>\n",
              "      <td>0.0</td>\n",
              "      <td>0.0</td>\n",
              "      <td>1.0</td>\n",
              "      <td>1.0</td>\n",
              "      <td>1.0</td>\n",
              "      <td>0.0</td>\n",
              "      <td>0.0</td>\n",
              "      <td>0.0</td>\n",
              "      <td>18.0</td>\n",
              "      <td>2.0</td>\n",
              "    </tr>\n",
              "    <tr>\n",
              "      <th>19</th>\n",
              "      <td>232.0</td>\n",
              "      <td>2021.0</td>\n",
              "      <td>0.0</td>\n",
              "      <td>2021.0</td>\n",
              "      <td>5200000.0</td>\n",
              "      <td>2021.0</td>\n",
              "      <td>10000000.0</td>\n",
              "      <td>0.0</td>\n",
              "      <td>45.0</td>\n",
              "      <td>36.0</td>\n",
              "      <td>1.0</td>\n",
              "      <td>1.0</td>\n",
              "      <td>0.0</td>\n",
              "      <td>0.0</td>\n",
              "      <td>0.0</td>\n",
              "      <td>0.0</td>\n",
              "      <td>2021.0</td>\n",
              "      <td>1.0</td>\n",
              "      <td>5200000.0</td>\n",
              "      <td>5200000.0</td>\n",
              "      <td>2021.0</td>\n",
              "      <td>5200000.0</td>\n",
              "      <td>0.0</td>\n",
              "      <td>1.0</td>\n",
              "      <td>1.0</td>\n",
              "      <td>0.0</td>\n",
              "      <td>1.0</td>\n",
              "      <td>0.0</td>\n",
              "      <td>0.0</td>\n",
              "      <td>0.0</td>\n",
              "      <td>1.0</td>\n",
              "      <td>1.0</td>\n",
              "      <td>1.0</td>\n",
              "      <td>1.0</td>\n",
              "      <td>0.0</td>\n",
              "      <td>0.0</td>\n",
              "      <td>9.0</td>\n",
              "      <td>8.0</td>\n",
              "      <td>1.0</td>\n",
              "      <td>1.0</td>\n",
              "      <td>0.0</td>\n",
              "      <td>1.0</td>\n",
              "      <td>0.0</td>\n",
              "      <td>0.0</td>\n",
              "      <td>0.0</td>\n",
              "      <td>1.0</td>\n",
              "      <td>1.0</td>\n",
              "      <td>1.0</td>\n",
              "      <td>1.0</td>\n",
              "      <td>0.0</td>\n",
              "      <td>0.0</td>\n",
              "      <td>9.0</td>\n",
              "      <td>8.0</td>\n",
              "      <td>1.0</td>\n",
              "      <td>1.0</td>\n",
              "      <td>0.0</td>\n",
              "      <td>1.0</td>\n",
              "      <td>0.0</td>\n",
              "      <td>0.0</td>\n",
              "      <td>0.0</td>\n",
              "      <td>1.0</td>\n",
              "      <td>1.0</td>\n",
              "      <td>1.0</td>\n",
              "      <td>1.0</td>\n",
              "      <td>0.0</td>\n",
              "      <td>0.0</td>\n",
              "      <td>9.0</td>\n",
              "      <td>8.0</td>\n",
              "    </tr>\n",
              "  </tbody>\n",
              "</table>\n",
              "</div>"
            ],
            "text/plain": [
              "    id_company  ...  mean_dp_years_of_experience_as_entreprenuer\n",
              "0          3.0  ...                                          7.0\n",
              "1          7.0  ...                                          9.0\n",
              "2         10.0  ...                                          2.0\n",
              "3         23.0  ...                                          4.0\n",
              "4         51.0  ...                                          0.0\n",
              "5         64.0  ...                                          0.0\n",
              "6         93.0  ...                                          0.0\n",
              "7        129.0  ...                                         20.0\n",
              "8        141.0  ...                                          6.0\n",
              "9        147.0  ...                                          5.0\n",
              "10       150.0  ...                                          1.0\n",
              "11       152.0  ...                                          2.0\n",
              "12       155.0  ...                                          9.0\n",
              "13       166.0  ...                                          3.0\n",
              "14       167.0  ...                                          0.0\n",
              "15       180.0  ...                                          5.0\n",
              "16       185.0  ...                                         19.0\n",
              "17       213.0  ...                                         11.0\n",
              "18       219.0  ...                                          2.0\n",
              "19       232.0  ...                                          8.0\n",
              "\n",
              "[20 rows x 68 columns]"
            ]
          },
          "metadata": {},
          "execution_count": 7
        }
      ]
    },
    {
      "cell_type": "code",
      "metadata": {
        "colab": {
          "base_uri": "https://localhost:8080/"
        },
        "id": "K0l7jyLxMdSv",
        "outputId": "afe4a83f-6d5e-4163-c511-fd0b3e8c318a"
      },
      "source": [
        "# data types\n",
        "companies_df.dtypes"
      ],
      "execution_count": 8,
      "outputs": [
        {
          "output_type": "execute_result",
          "data": {
            "text/plain": [
              "id_company                                     float64\n",
              "foundation_year                                float64\n",
              "category                                       float64\n",
              "first_r_year                                   float64\n",
              "first_r_amount                                 float64\n",
              "                                                ...   \n",
              "mean_foreing_studies                           float64\n",
              "mean_foreing_work_experience                   float64\n",
              "mean_foreing_founder                           float64\n",
              "mean_dp_years_of_experience                    float64\n",
              "mean_dp_years_of_experience_as_entreprenuer    float64\n",
              "Length: 68, dtype: object"
            ]
          },
          "metadata": {},
          "execution_count": 8
        }
      ]
    },
    {
      "cell_type": "code",
      "metadata": {
        "colab": {
          "base_uri": "https://localhost:8080/"
        },
        "id": "g3vS32uOMgEW",
        "outputId": "f62f5693-2630-44c0-f447-6b75c21425ed"
      },
      "source": [
        "# Is NA\n",
        "companies_df.isna().sum()"
      ],
      "execution_count": 9,
      "outputs": [
        {
          "output_type": "execute_result",
          "data": {
            "text/plain": [
              "id_company                                     0\n",
              "foundation_year                                0\n",
              "category                                       0\n",
              "first_r_year                                   0\n",
              "first_r_amount                                 0\n",
              "                                              ..\n",
              "mean_foreing_studies                           0\n",
              "mean_foreing_work_experience                   0\n",
              "mean_foreing_founder                           0\n",
              "mean_dp_years_of_experience                    0\n",
              "mean_dp_years_of_experience_as_entreprenuer    0\n",
              "Length: 68, dtype: int64"
            ]
          },
          "metadata": {},
          "execution_count": 9
        }
      ]
    },
    {
      "cell_type": "code",
      "metadata": {
        "colab": {
          "base_uri": "https://localhost:8080/"
        },
        "id": "AFao3cfrMrGp",
        "outputId": "f14b8a71-11a2-4393-df8a-e1a91f8ed615"
      },
      "source": [
        "# Counts\n",
        "companies_df.count()"
      ],
      "execution_count": 10,
      "outputs": [
        {
          "output_type": "execute_result",
          "data": {
            "text/plain": [
              "id_company                                     510\n",
              "foundation_year                                510\n",
              "category                                       510\n",
              "first_r_year                                   510\n",
              "first_r_amount                                 510\n",
              "                                              ... \n",
              "mean_foreing_studies                           510\n",
              "mean_foreing_work_experience                   510\n",
              "mean_foreing_founder                           510\n",
              "mean_dp_years_of_experience                    510\n",
              "mean_dp_years_of_experience_as_entreprenuer    510\n",
              "Length: 68, dtype: int64"
            ]
          },
          "metadata": {},
          "execution_count": 10
        }
      ]
    },
    {
      "cell_type": "code",
      "metadata": {
        "colab": {
          "base_uri": "https://localhost:8080/",
          "height": 0
        },
        "id": "G2oSnskEMvKI",
        "outputId": "7c2b9767-6c84-4bd1-a09b-ffcced513c98"
      },
      "source": [
        "# Drop the null columns where all values are null\n",
        "companies_df = companies_df.dropna(axis='columns', how='all')\n",
        "companies_df.head()"
      ],
      "execution_count": 11,
      "outputs": [
        {
          "output_type": "execute_result",
          "data": {
            "text/html": [
              "<div>\n",
              "<style scoped>\n",
              "    .dataframe tbody tr th:only-of-type {\n",
              "        vertical-align: middle;\n",
              "    }\n",
              "\n",
              "    .dataframe tbody tr th {\n",
              "        vertical-align: top;\n",
              "    }\n",
              "\n",
              "    .dataframe thead th {\n",
              "        text-align: right;\n",
              "    }\n",
              "</style>\n",
              "<table border=\"1\" class=\"dataframe\">\n",
              "  <thead>\n",
              "    <tr style=\"text-align: right;\">\n",
              "      <th></th>\n",
              "      <th>id_company</th>\n",
              "      <th>foundation_year</th>\n",
              "      <th>category</th>\n",
              "      <th>first_r_year</th>\n",
              "      <th>first_r_amount</th>\n",
              "      <th>last_funding_year</th>\n",
              "      <th>amount_last_funding</th>\n",
              "      <th>month_since_last_funding</th>\n",
              "      <th>number_employees</th>\n",
              "      <th>increase_employees</th>\n",
              "      <th>number_investors</th>\n",
              "      <th>current_status</th>\n",
              "      <th>rounds_funding_factor</th>\n",
              "      <th>soonicorn</th>\n",
              "      <th>more50_employees</th>\n",
              "      <th>more100_employees</th>\n",
              "      <th>dp_year</th>\n",
              "      <th>dp_rounds_count</th>\n",
              "      <th>dp_rounds_amount_sum</th>\n",
              "      <th>dp_rounds_amount_max</th>\n",
              "      <th>dp_last_round_year</th>\n",
              "      <th>dp_last_round_amount</th>\n",
              "      <th>dp_years_operating</th>\n",
              "      <th>max_manager_exp</th>\n",
              "      <th>max_clevel_exp</th>\n",
              "      <th>max_engineering_exp</th>\n",
              "      <th>max_sales_exp</th>\n",
              "      <th>max_finance_exp</th>\n",
              "      <th>max_human_capital_exp</th>\n",
              "      <th>max_consulting_exp</th>\n",
              "      <th>max_founder_exp</th>\n",
              "      <th>max_number_of_startups</th>\n",
              "      <th>max_gender</th>\n",
              "      <th>max_foreing_studies</th>\n",
              "      <th>max_foreing_work_experience</th>\n",
              "      <th>max_foreing_founder</th>\n",
              "      <th>max_dp_years_of_experience</th>\n",
              "      <th>max_dp_years_of_experience_as_entreprenuer</th>\n",
              "      <th>sum_manager_exp</th>\n",
              "      <th>sum_clevel_exp</th>\n",
              "      <th>sum_engineering_exp</th>\n",
              "      <th>sum_sales_exp</th>\n",
              "      <th>sum_finance_exp</th>\n",
              "      <th>sum_human_capital_exp</th>\n",
              "      <th>sum_consulting_exp</th>\n",
              "      <th>sum_founder_exp</th>\n",
              "      <th>sum_number_of_startups</th>\n",
              "      <th>sum_gender</th>\n",
              "      <th>sum_foreing_studies</th>\n",
              "      <th>sum_foreing_work_experience</th>\n",
              "      <th>sum_foreing_founder</th>\n",
              "      <th>sum_dp_years_of_experience</th>\n",
              "      <th>sum_dp_years_of_experience_as_entreprenuer</th>\n",
              "      <th>mean_manager_exp</th>\n",
              "      <th>mean_clevel_exp</th>\n",
              "      <th>mean_engineering_exp</th>\n",
              "      <th>mean_sales_exp</th>\n",
              "      <th>mean_finance_exp</th>\n",
              "      <th>mean_human_capital_exp</th>\n",
              "      <th>mean_consulting_exp</th>\n",
              "      <th>mean_founder_exp</th>\n",
              "      <th>mean_number_of_startups</th>\n",
              "      <th>mean_gender</th>\n",
              "      <th>mean_foreing_studies</th>\n",
              "      <th>mean_foreing_work_experience</th>\n",
              "      <th>mean_foreing_founder</th>\n",
              "      <th>mean_dp_years_of_experience</th>\n",
              "      <th>mean_dp_years_of_experience_as_entreprenuer</th>\n",
              "    </tr>\n",
              "  </thead>\n",
              "  <tbody>\n",
              "    <tr>\n",
              "      <th>0</th>\n",
              "      <td>3.0</td>\n",
              "      <td>2017.0</td>\n",
              "      <td>0.0</td>\n",
              "      <td>2017.0</td>\n",
              "      <td>1400000.0</td>\n",
              "      <td>2017.0</td>\n",
              "      <td>1400000.0</td>\n",
              "      <td>48.0</td>\n",
              "      <td>33.0</td>\n",
              "      <td>8.0</td>\n",
              "      <td>3.0</td>\n",
              "      <td>1.0</td>\n",
              "      <td>4.0</td>\n",
              "      <td>0.0</td>\n",
              "      <td>0.0</td>\n",
              "      <td>0.0</td>\n",
              "      <td>2017.0</td>\n",
              "      <td>1.0</td>\n",
              "      <td>1400000.0</td>\n",
              "      <td>1400000.0</td>\n",
              "      <td>2017.0</td>\n",
              "      <td>1400000.0</td>\n",
              "      <td>0.0</td>\n",
              "      <td>1.0</td>\n",
              "      <td>1.0</td>\n",
              "      <td>0.0</td>\n",
              "      <td>0.0</td>\n",
              "      <td>0.0</td>\n",
              "      <td>0.0</td>\n",
              "      <td>0.0</td>\n",
              "      <td>1.0</td>\n",
              "      <td>3.0</td>\n",
              "      <td>1.0</td>\n",
              "      <td>1.0</td>\n",
              "      <td>0.0</td>\n",
              "      <td>0.0</td>\n",
              "      <td>12.0</td>\n",
              "      <td>8.0</td>\n",
              "      <td>1.0</td>\n",
              "      <td>1.0</td>\n",
              "      <td>0.0</td>\n",
              "      <td>0.0</td>\n",
              "      <td>0.0</td>\n",
              "      <td>0.0</td>\n",
              "      <td>0.0</td>\n",
              "      <td>2.0</td>\n",
              "      <td>4.0</td>\n",
              "      <td>2.0</td>\n",
              "      <td>1.0</td>\n",
              "      <td>0.0</td>\n",
              "      <td>0.0</td>\n",
              "      <td>22.0</td>\n",
              "      <td>15.0</td>\n",
              "      <td>0.0</td>\n",
              "      <td>0.0</td>\n",
              "      <td>0.0</td>\n",
              "      <td>0.0</td>\n",
              "      <td>0.0</td>\n",
              "      <td>0.0</td>\n",
              "      <td>0.0</td>\n",
              "      <td>1.0</td>\n",
              "      <td>2.0</td>\n",
              "      <td>1.0</td>\n",
              "      <td>0.0</td>\n",
              "      <td>0.0</td>\n",
              "      <td>0.0</td>\n",
              "      <td>11.0</td>\n",
              "      <td>7.0</td>\n",
              "    </tr>\n",
              "    <tr>\n",
              "      <th>1</th>\n",
              "      <td>7.0</td>\n",
              "      <td>2018.0</td>\n",
              "      <td>0.0</td>\n",
              "      <td>2018.0</td>\n",
              "      <td>10500.0</td>\n",
              "      <td>2018.0</td>\n",
              "      <td>10500.0</td>\n",
              "      <td>36.0</td>\n",
              "      <td>10.0</td>\n",
              "      <td>0.0</td>\n",
              "      <td>2.0</td>\n",
              "      <td>0.0</td>\n",
              "      <td>3.0</td>\n",
              "      <td>0.0</td>\n",
              "      <td>0.0</td>\n",
              "      <td>0.0</td>\n",
              "      <td>2018.0</td>\n",
              "      <td>1.0</td>\n",
              "      <td>10500.0</td>\n",
              "      <td>10500.0</td>\n",
              "      <td>2018.0</td>\n",
              "      <td>10500.0</td>\n",
              "      <td>0.0</td>\n",
              "      <td>1.0</td>\n",
              "      <td>1.0</td>\n",
              "      <td>0.0</td>\n",
              "      <td>0.0</td>\n",
              "      <td>0.0</td>\n",
              "      <td>0.0</td>\n",
              "      <td>0.0</td>\n",
              "      <td>1.0</td>\n",
              "      <td>4.0</td>\n",
              "      <td>1.0</td>\n",
              "      <td>0.0</td>\n",
              "      <td>0.0</td>\n",
              "      <td>0.0</td>\n",
              "      <td>10.0</td>\n",
              "      <td>9.0</td>\n",
              "      <td>1.0</td>\n",
              "      <td>1.0</td>\n",
              "      <td>0.0</td>\n",
              "      <td>0.0</td>\n",
              "      <td>0.0</td>\n",
              "      <td>0.0</td>\n",
              "      <td>0.0</td>\n",
              "      <td>1.0</td>\n",
              "      <td>4.0</td>\n",
              "      <td>1.0</td>\n",
              "      <td>0.0</td>\n",
              "      <td>0.0</td>\n",
              "      <td>0.0</td>\n",
              "      <td>10.0</td>\n",
              "      <td>9.0</td>\n",
              "      <td>1.0</td>\n",
              "      <td>1.0</td>\n",
              "      <td>0.0</td>\n",
              "      <td>0.0</td>\n",
              "      <td>0.0</td>\n",
              "      <td>0.0</td>\n",
              "      <td>0.0</td>\n",
              "      <td>1.0</td>\n",
              "      <td>4.0</td>\n",
              "      <td>1.0</td>\n",
              "      <td>0.0</td>\n",
              "      <td>0.0</td>\n",
              "      <td>0.0</td>\n",
              "      <td>10.0</td>\n",
              "      <td>9.0</td>\n",
              "    </tr>\n",
              "    <tr>\n",
              "      <th>2</th>\n",
              "      <td>10.0</td>\n",
              "      <td>2015.0</td>\n",
              "      <td>0.0</td>\n",
              "      <td>2015.0</td>\n",
              "      <td>200000.0</td>\n",
              "      <td>2015.0</td>\n",
              "      <td>200000.0</td>\n",
              "      <td>72.0</td>\n",
              "      <td>11.0</td>\n",
              "      <td>14.0</td>\n",
              "      <td>1.0</td>\n",
              "      <td>1.0</td>\n",
              "      <td>6.0</td>\n",
              "      <td>0.0</td>\n",
              "      <td>0.0</td>\n",
              "      <td>0.0</td>\n",
              "      <td>2015.0</td>\n",
              "      <td>1.0</td>\n",
              "      <td>200000.0</td>\n",
              "      <td>200000.0</td>\n",
              "      <td>2015.0</td>\n",
              "      <td>200000.0</td>\n",
              "      <td>0.0</td>\n",
              "      <td>1.0</td>\n",
              "      <td>1.0</td>\n",
              "      <td>0.0</td>\n",
              "      <td>0.0</td>\n",
              "      <td>0.0</td>\n",
              "      <td>0.0</td>\n",
              "      <td>0.0</td>\n",
              "      <td>1.0</td>\n",
              "      <td>1.0</td>\n",
              "      <td>1.0</td>\n",
              "      <td>0.0</td>\n",
              "      <td>0.0</td>\n",
              "      <td>0.0</td>\n",
              "      <td>12.0</td>\n",
              "      <td>2.0</td>\n",
              "      <td>1.0</td>\n",
              "      <td>1.0</td>\n",
              "      <td>0.0</td>\n",
              "      <td>0.0</td>\n",
              "      <td>0.0</td>\n",
              "      <td>0.0</td>\n",
              "      <td>0.0</td>\n",
              "      <td>1.0</td>\n",
              "      <td>1.0</td>\n",
              "      <td>1.0</td>\n",
              "      <td>0.0</td>\n",
              "      <td>0.0</td>\n",
              "      <td>0.0</td>\n",
              "      <td>12.0</td>\n",
              "      <td>2.0</td>\n",
              "      <td>1.0</td>\n",
              "      <td>1.0</td>\n",
              "      <td>0.0</td>\n",
              "      <td>0.0</td>\n",
              "      <td>0.0</td>\n",
              "      <td>0.0</td>\n",
              "      <td>0.0</td>\n",
              "      <td>1.0</td>\n",
              "      <td>1.0</td>\n",
              "      <td>1.0</td>\n",
              "      <td>0.0</td>\n",
              "      <td>0.0</td>\n",
              "      <td>0.0</td>\n",
              "      <td>12.0</td>\n",
              "      <td>2.0</td>\n",
              "    </tr>\n",
              "    <tr>\n",
              "      <th>3</th>\n",
              "      <td>23.0</td>\n",
              "      <td>2013.0</td>\n",
              "      <td>0.0</td>\n",
              "      <td>2013.0</td>\n",
              "      <td>150000.0</td>\n",
              "      <td>2021.0</td>\n",
              "      <td>40000000.0</td>\n",
              "      <td>0.0</td>\n",
              "      <td>1001.0</td>\n",
              "      <td>0.0</td>\n",
              "      <td>0.0</td>\n",
              "      <td>1.0</td>\n",
              "      <td>0.0</td>\n",
              "      <td>1.0</td>\n",
              "      <td>1.0</td>\n",
              "      <td>1.0</td>\n",
              "      <td>2021.0</td>\n",
              "      <td>5.0</td>\n",
              "      <td>54800000.0</td>\n",
              "      <td>40000000.0</td>\n",
              "      <td>2021.0</td>\n",
              "      <td>40000000.0</td>\n",
              "      <td>8.0</td>\n",
              "      <td>0.0</td>\n",
              "      <td>1.0</td>\n",
              "      <td>0.0</td>\n",
              "      <td>0.0</td>\n",
              "      <td>0.0</td>\n",
              "      <td>0.0</td>\n",
              "      <td>0.0</td>\n",
              "      <td>1.0</td>\n",
              "      <td>2.0</td>\n",
              "      <td>1.0</td>\n",
              "      <td>0.0</td>\n",
              "      <td>0.0</td>\n",
              "      <td>0.0</td>\n",
              "      <td>11.0</td>\n",
              "      <td>4.0</td>\n",
              "      <td>0.0</td>\n",
              "      <td>1.0</td>\n",
              "      <td>0.0</td>\n",
              "      <td>0.0</td>\n",
              "      <td>0.0</td>\n",
              "      <td>0.0</td>\n",
              "      <td>0.0</td>\n",
              "      <td>1.0</td>\n",
              "      <td>2.0</td>\n",
              "      <td>1.0</td>\n",
              "      <td>0.0</td>\n",
              "      <td>0.0</td>\n",
              "      <td>0.0</td>\n",
              "      <td>11.0</td>\n",
              "      <td>4.0</td>\n",
              "      <td>0.0</td>\n",
              "      <td>1.0</td>\n",
              "      <td>0.0</td>\n",
              "      <td>0.0</td>\n",
              "      <td>0.0</td>\n",
              "      <td>0.0</td>\n",
              "      <td>0.0</td>\n",
              "      <td>1.0</td>\n",
              "      <td>2.0</td>\n",
              "      <td>1.0</td>\n",
              "      <td>0.0</td>\n",
              "      <td>0.0</td>\n",
              "      <td>0.0</td>\n",
              "      <td>11.0</td>\n",
              "      <td>4.0</td>\n",
              "    </tr>\n",
              "    <tr>\n",
              "      <th>4</th>\n",
              "      <td>51.0</td>\n",
              "      <td>2018.0</td>\n",
              "      <td>0.0</td>\n",
              "      <td>2018.0</td>\n",
              "      <td>20000.0</td>\n",
              "      <td>2018.0</td>\n",
              "      <td>20000.0</td>\n",
              "      <td>36.0</td>\n",
              "      <td>10.0</td>\n",
              "      <td>0.0</td>\n",
              "      <td>1.0</td>\n",
              "      <td>0.0</td>\n",
              "      <td>3.0</td>\n",
              "      <td>0.0</td>\n",
              "      <td>0.0</td>\n",
              "      <td>0.0</td>\n",
              "      <td>2018.0</td>\n",
              "      <td>1.0</td>\n",
              "      <td>20000.0</td>\n",
              "      <td>20000.0</td>\n",
              "      <td>2018.0</td>\n",
              "      <td>20000.0</td>\n",
              "      <td>0.0</td>\n",
              "      <td>0.0</td>\n",
              "      <td>1.0</td>\n",
              "      <td>1.0</td>\n",
              "      <td>0.0</td>\n",
              "      <td>0.0</td>\n",
              "      <td>0.0</td>\n",
              "      <td>0.0</td>\n",
              "      <td>0.0</td>\n",
              "      <td>1.0</td>\n",
              "      <td>1.0</td>\n",
              "      <td>1.0</td>\n",
              "      <td>0.0</td>\n",
              "      <td>0.0</td>\n",
              "      <td>5.0</td>\n",
              "      <td>0.0</td>\n",
              "      <td>0.0</td>\n",
              "      <td>1.0</td>\n",
              "      <td>1.0</td>\n",
              "      <td>0.0</td>\n",
              "      <td>0.0</td>\n",
              "      <td>0.0</td>\n",
              "      <td>0.0</td>\n",
              "      <td>0.0</td>\n",
              "      <td>1.0</td>\n",
              "      <td>1.0</td>\n",
              "      <td>1.0</td>\n",
              "      <td>0.0</td>\n",
              "      <td>0.0</td>\n",
              "      <td>5.0</td>\n",
              "      <td>0.0</td>\n",
              "      <td>0.0</td>\n",
              "      <td>1.0</td>\n",
              "      <td>1.0</td>\n",
              "      <td>0.0</td>\n",
              "      <td>0.0</td>\n",
              "      <td>0.0</td>\n",
              "      <td>0.0</td>\n",
              "      <td>0.0</td>\n",
              "      <td>1.0</td>\n",
              "      <td>1.0</td>\n",
              "      <td>1.0</td>\n",
              "      <td>0.0</td>\n",
              "      <td>0.0</td>\n",
              "      <td>5.0</td>\n",
              "      <td>0.0</td>\n",
              "    </tr>\n",
              "  </tbody>\n",
              "</table>\n",
              "</div>"
            ],
            "text/plain": [
              "   id_company  ...  mean_dp_years_of_experience_as_entreprenuer\n",
              "0         3.0  ...                                          7.0\n",
              "1         7.0  ...                                          9.0\n",
              "2        10.0  ...                                          2.0\n",
              "3        23.0  ...                                          4.0\n",
              "4        51.0  ...                                          0.0\n",
              "\n",
              "[5 rows x 68 columns]"
            ]
          },
          "metadata": {},
          "execution_count": 11
        }
      ]
    },
    {
      "cell_type": "code",
      "metadata": {
        "colab": {
          "base_uri": "https://localhost:8080/",
          "height": 0
        },
        "id": "6nmKDhOHM0lN",
        "outputId": "3e08ae86-9700-4b90-afa1-0e42bdf9e140"
      },
      "source": [
        "import re\n",
        "# Encoding labels\n",
        "le = LabelEncoder()\n",
        "db_companies_Encode = companies_df.copy()\n",
        "\n",
        "# Get the name of the columns\n",
        "columnsName = db_companies_Encode.columns.tolist()\n",
        "columnsName.remove('rounds_funding_factor')\n",
        "r = re.compile(\"^mean\")\n",
        "columnsName = [column for column in columnsName if not r.match(column)]\n",
        "\n",
        "# convert variables to numerical\n",
        "for column in columnsName:\n",
        "  db_companies_Encode[column] = pd.to_numeric(db_companies_Encode[column], errors='coerce').fillna(0).astype(np.int64)\n",
        "\n",
        "\n",
        "db_companies_Encode.head()\n"
      ],
      "execution_count": 12,
      "outputs": [
        {
          "output_type": "execute_result",
          "data": {
            "text/html": [
              "<div>\n",
              "<style scoped>\n",
              "    .dataframe tbody tr th:only-of-type {\n",
              "        vertical-align: middle;\n",
              "    }\n",
              "\n",
              "    .dataframe tbody tr th {\n",
              "        vertical-align: top;\n",
              "    }\n",
              "\n",
              "    .dataframe thead th {\n",
              "        text-align: right;\n",
              "    }\n",
              "</style>\n",
              "<table border=\"1\" class=\"dataframe\">\n",
              "  <thead>\n",
              "    <tr style=\"text-align: right;\">\n",
              "      <th></th>\n",
              "      <th>id_company</th>\n",
              "      <th>foundation_year</th>\n",
              "      <th>category</th>\n",
              "      <th>first_r_year</th>\n",
              "      <th>first_r_amount</th>\n",
              "      <th>last_funding_year</th>\n",
              "      <th>amount_last_funding</th>\n",
              "      <th>month_since_last_funding</th>\n",
              "      <th>number_employees</th>\n",
              "      <th>increase_employees</th>\n",
              "      <th>number_investors</th>\n",
              "      <th>current_status</th>\n",
              "      <th>rounds_funding_factor</th>\n",
              "      <th>soonicorn</th>\n",
              "      <th>more50_employees</th>\n",
              "      <th>more100_employees</th>\n",
              "      <th>dp_year</th>\n",
              "      <th>dp_rounds_count</th>\n",
              "      <th>dp_rounds_amount_sum</th>\n",
              "      <th>dp_rounds_amount_max</th>\n",
              "      <th>dp_last_round_year</th>\n",
              "      <th>dp_last_round_amount</th>\n",
              "      <th>dp_years_operating</th>\n",
              "      <th>max_manager_exp</th>\n",
              "      <th>max_clevel_exp</th>\n",
              "      <th>max_engineering_exp</th>\n",
              "      <th>max_sales_exp</th>\n",
              "      <th>max_finance_exp</th>\n",
              "      <th>max_human_capital_exp</th>\n",
              "      <th>max_consulting_exp</th>\n",
              "      <th>max_founder_exp</th>\n",
              "      <th>max_number_of_startups</th>\n",
              "      <th>max_gender</th>\n",
              "      <th>max_foreing_studies</th>\n",
              "      <th>max_foreing_work_experience</th>\n",
              "      <th>max_foreing_founder</th>\n",
              "      <th>max_dp_years_of_experience</th>\n",
              "      <th>max_dp_years_of_experience_as_entreprenuer</th>\n",
              "      <th>sum_manager_exp</th>\n",
              "      <th>sum_clevel_exp</th>\n",
              "      <th>sum_engineering_exp</th>\n",
              "      <th>sum_sales_exp</th>\n",
              "      <th>sum_finance_exp</th>\n",
              "      <th>sum_human_capital_exp</th>\n",
              "      <th>sum_consulting_exp</th>\n",
              "      <th>sum_founder_exp</th>\n",
              "      <th>sum_number_of_startups</th>\n",
              "      <th>sum_gender</th>\n",
              "      <th>sum_foreing_studies</th>\n",
              "      <th>sum_foreing_work_experience</th>\n",
              "      <th>sum_foreing_founder</th>\n",
              "      <th>sum_dp_years_of_experience</th>\n",
              "      <th>sum_dp_years_of_experience_as_entreprenuer</th>\n",
              "      <th>mean_manager_exp</th>\n",
              "      <th>mean_clevel_exp</th>\n",
              "      <th>mean_engineering_exp</th>\n",
              "      <th>mean_sales_exp</th>\n",
              "      <th>mean_finance_exp</th>\n",
              "      <th>mean_human_capital_exp</th>\n",
              "      <th>mean_consulting_exp</th>\n",
              "      <th>mean_founder_exp</th>\n",
              "      <th>mean_number_of_startups</th>\n",
              "      <th>mean_gender</th>\n",
              "      <th>mean_foreing_studies</th>\n",
              "      <th>mean_foreing_work_experience</th>\n",
              "      <th>mean_foreing_founder</th>\n",
              "      <th>mean_dp_years_of_experience</th>\n",
              "      <th>mean_dp_years_of_experience_as_entreprenuer</th>\n",
              "    </tr>\n",
              "  </thead>\n",
              "  <tbody>\n",
              "    <tr>\n",
              "      <th>0</th>\n",
              "      <td>3</td>\n",
              "      <td>2017</td>\n",
              "      <td>0</td>\n",
              "      <td>2017</td>\n",
              "      <td>1400000</td>\n",
              "      <td>2017</td>\n",
              "      <td>1400000</td>\n",
              "      <td>48</td>\n",
              "      <td>33</td>\n",
              "      <td>8</td>\n",
              "      <td>3</td>\n",
              "      <td>1</td>\n",
              "      <td>4.0</td>\n",
              "      <td>0</td>\n",
              "      <td>0</td>\n",
              "      <td>0</td>\n",
              "      <td>2017</td>\n",
              "      <td>1</td>\n",
              "      <td>1400000</td>\n",
              "      <td>1400000</td>\n",
              "      <td>2017</td>\n",
              "      <td>1400000</td>\n",
              "      <td>0</td>\n",
              "      <td>1</td>\n",
              "      <td>1</td>\n",
              "      <td>0</td>\n",
              "      <td>0</td>\n",
              "      <td>0</td>\n",
              "      <td>0</td>\n",
              "      <td>0</td>\n",
              "      <td>1</td>\n",
              "      <td>3</td>\n",
              "      <td>1</td>\n",
              "      <td>1</td>\n",
              "      <td>0</td>\n",
              "      <td>0</td>\n",
              "      <td>12</td>\n",
              "      <td>8</td>\n",
              "      <td>1</td>\n",
              "      <td>1</td>\n",
              "      <td>0</td>\n",
              "      <td>0</td>\n",
              "      <td>0</td>\n",
              "      <td>0</td>\n",
              "      <td>0</td>\n",
              "      <td>2</td>\n",
              "      <td>4</td>\n",
              "      <td>2</td>\n",
              "      <td>1</td>\n",
              "      <td>0</td>\n",
              "      <td>0</td>\n",
              "      <td>22</td>\n",
              "      <td>15</td>\n",
              "      <td>0.0</td>\n",
              "      <td>0.0</td>\n",
              "      <td>0.0</td>\n",
              "      <td>0.0</td>\n",
              "      <td>0.0</td>\n",
              "      <td>0.0</td>\n",
              "      <td>0.0</td>\n",
              "      <td>1.0</td>\n",
              "      <td>2.0</td>\n",
              "      <td>1.0</td>\n",
              "      <td>0.0</td>\n",
              "      <td>0.0</td>\n",
              "      <td>0.0</td>\n",
              "      <td>11.0</td>\n",
              "      <td>7.0</td>\n",
              "    </tr>\n",
              "    <tr>\n",
              "      <th>1</th>\n",
              "      <td>7</td>\n",
              "      <td>2018</td>\n",
              "      <td>0</td>\n",
              "      <td>2018</td>\n",
              "      <td>10500</td>\n",
              "      <td>2018</td>\n",
              "      <td>10500</td>\n",
              "      <td>36</td>\n",
              "      <td>10</td>\n",
              "      <td>0</td>\n",
              "      <td>2</td>\n",
              "      <td>0</td>\n",
              "      <td>3.0</td>\n",
              "      <td>0</td>\n",
              "      <td>0</td>\n",
              "      <td>0</td>\n",
              "      <td>2018</td>\n",
              "      <td>1</td>\n",
              "      <td>10500</td>\n",
              "      <td>10500</td>\n",
              "      <td>2018</td>\n",
              "      <td>10500</td>\n",
              "      <td>0</td>\n",
              "      <td>1</td>\n",
              "      <td>1</td>\n",
              "      <td>0</td>\n",
              "      <td>0</td>\n",
              "      <td>0</td>\n",
              "      <td>0</td>\n",
              "      <td>0</td>\n",
              "      <td>1</td>\n",
              "      <td>4</td>\n",
              "      <td>1</td>\n",
              "      <td>0</td>\n",
              "      <td>0</td>\n",
              "      <td>0</td>\n",
              "      <td>10</td>\n",
              "      <td>9</td>\n",
              "      <td>1</td>\n",
              "      <td>1</td>\n",
              "      <td>0</td>\n",
              "      <td>0</td>\n",
              "      <td>0</td>\n",
              "      <td>0</td>\n",
              "      <td>0</td>\n",
              "      <td>1</td>\n",
              "      <td>4</td>\n",
              "      <td>1</td>\n",
              "      <td>0</td>\n",
              "      <td>0</td>\n",
              "      <td>0</td>\n",
              "      <td>10</td>\n",
              "      <td>9</td>\n",
              "      <td>1.0</td>\n",
              "      <td>1.0</td>\n",
              "      <td>0.0</td>\n",
              "      <td>0.0</td>\n",
              "      <td>0.0</td>\n",
              "      <td>0.0</td>\n",
              "      <td>0.0</td>\n",
              "      <td>1.0</td>\n",
              "      <td>4.0</td>\n",
              "      <td>1.0</td>\n",
              "      <td>0.0</td>\n",
              "      <td>0.0</td>\n",
              "      <td>0.0</td>\n",
              "      <td>10.0</td>\n",
              "      <td>9.0</td>\n",
              "    </tr>\n",
              "    <tr>\n",
              "      <th>2</th>\n",
              "      <td>10</td>\n",
              "      <td>2015</td>\n",
              "      <td>0</td>\n",
              "      <td>2015</td>\n",
              "      <td>200000</td>\n",
              "      <td>2015</td>\n",
              "      <td>200000</td>\n",
              "      <td>72</td>\n",
              "      <td>11</td>\n",
              "      <td>14</td>\n",
              "      <td>1</td>\n",
              "      <td>1</td>\n",
              "      <td>6.0</td>\n",
              "      <td>0</td>\n",
              "      <td>0</td>\n",
              "      <td>0</td>\n",
              "      <td>2015</td>\n",
              "      <td>1</td>\n",
              "      <td>200000</td>\n",
              "      <td>200000</td>\n",
              "      <td>2015</td>\n",
              "      <td>200000</td>\n",
              "      <td>0</td>\n",
              "      <td>1</td>\n",
              "      <td>1</td>\n",
              "      <td>0</td>\n",
              "      <td>0</td>\n",
              "      <td>0</td>\n",
              "      <td>0</td>\n",
              "      <td>0</td>\n",
              "      <td>1</td>\n",
              "      <td>1</td>\n",
              "      <td>1</td>\n",
              "      <td>0</td>\n",
              "      <td>0</td>\n",
              "      <td>0</td>\n",
              "      <td>12</td>\n",
              "      <td>2</td>\n",
              "      <td>1</td>\n",
              "      <td>1</td>\n",
              "      <td>0</td>\n",
              "      <td>0</td>\n",
              "      <td>0</td>\n",
              "      <td>0</td>\n",
              "      <td>0</td>\n",
              "      <td>1</td>\n",
              "      <td>1</td>\n",
              "      <td>1</td>\n",
              "      <td>0</td>\n",
              "      <td>0</td>\n",
              "      <td>0</td>\n",
              "      <td>12</td>\n",
              "      <td>2</td>\n",
              "      <td>1.0</td>\n",
              "      <td>1.0</td>\n",
              "      <td>0.0</td>\n",
              "      <td>0.0</td>\n",
              "      <td>0.0</td>\n",
              "      <td>0.0</td>\n",
              "      <td>0.0</td>\n",
              "      <td>1.0</td>\n",
              "      <td>1.0</td>\n",
              "      <td>1.0</td>\n",
              "      <td>0.0</td>\n",
              "      <td>0.0</td>\n",
              "      <td>0.0</td>\n",
              "      <td>12.0</td>\n",
              "      <td>2.0</td>\n",
              "    </tr>\n",
              "    <tr>\n",
              "      <th>3</th>\n",
              "      <td>23</td>\n",
              "      <td>2013</td>\n",
              "      <td>0</td>\n",
              "      <td>2013</td>\n",
              "      <td>150000</td>\n",
              "      <td>2021</td>\n",
              "      <td>40000000</td>\n",
              "      <td>0</td>\n",
              "      <td>1001</td>\n",
              "      <td>0</td>\n",
              "      <td>0</td>\n",
              "      <td>1</td>\n",
              "      <td>0.0</td>\n",
              "      <td>1</td>\n",
              "      <td>1</td>\n",
              "      <td>1</td>\n",
              "      <td>2021</td>\n",
              "      <td>5</td>\n",
              "      <td>54800000</td>\n",
              "      <td>40000000</td>\n",
              "      <td>2021</td>\n",
              "      <td>40000000</td>\n",
              "      <td>8</td>\n",
              "      <td>0</td>\n",
              "      <td>1</td>\n",
              "      <td>0</td>\n",
              "      <td>0</td>\n",
              "      <td>0</td>\n",
              "      <td>0</td>\n",
              "      <td>0</td>\n",
              "      <td>1</td>\n",
              "      <td>2</td>\n",
              "      <td>1</td>\n",
              "      <td>0</td>\n",
              "      <td>0</td>\n",
              "      <td>0</td>\n",
              "      <td>11</td>\n",
              "      <td>4</td>\n",
              "      <td>0</td>\n",
              "      <td>1</td>\n",
              "      <td>0</td>\n",
              "      <td>0</td>\n",
              "      <td>0</td>\n",
              "      <td>0</td>\n",
              "      <td>0</td>\n",
              "      <td>1</td>\n",
              "      <td>2</td>\n",
              "      <td>1</td>\n",
              "      <td>0</td>\n",
              "      <td>0</td>\n",
              "      <td>0</td>\n",
              "      <td>11</td>\n",
              "      <td>4</td>\n",
              "      <td>0.0</td>\n",
              "      <td>1.0</td>\n",
              "      <td>0.0</td>\n",
              "      <td>0.0</td>\n",
              "      <td>0.0</td>\n",
              "      <td>0.0</td>\n",
              "      <td>0.0</td>\n",
              "      <td>1.0</td>\n",
              "      <td>2.0</td>\n",
              "      <td>1.0</td>\n",
              "      <td>0.0</td>\n",
              "      <td>0.0</td>\n",
              "      <td>0.0</td>\n",
              "      <td>11.0</td>\n",
              "      <td>4.0</td>\n",
              "    </tr>\n",
              "    <tr>\n",
              "      <th>4</th>\n",
              "      <td>51</td>\n",
              "      <td>2018</td>\n",
              "      <td>0</td>\n",
              "      <td>2018</td>\n",
              "      <td>20000</td>\n",
              "      <td>2018</td>\n",
              "      <td>20000</td>\n",
              "      <td>36</td>\n",
              "      <td>10</td>\n",
              "      <td>0</td>\n",
              "      <td>1</td>\n",
              "      <td>0</td>\n",
              "      <td>3.0</td>\n",
              "      <td>0</td>\n",
              "      <td>0</td>\n",
              "      <td>0</td>\n",
              "      <td>2018</td>\n",
              "      <td>1</td>\n",
              "      <td>20000</td>\n",
              "      <td>20000</td>\n",
              "      <td>2018</td>\n",
              "      <td>20000</td>\n",
              "      <td>0</td>\n",
              "      <td>0</td>\n",
              "      <td>1</td>\n",
              "      <td>1</td>\n",
              "      <td>0</td>\n",
              "      <td>0</td>\n",
              "      <td>0</td>\n",
              "      <td>0</td>\n",
              "      <td>0</td>\n",
              "      <td>1</td>\n",
              "      <td>1</td>\n",
              "      <td>1</td>\n",
              "      <td>0</td>\n",
              "      <td>0</td>\n",
              "      <td>5</td>\n",
              "      <td>0</td>\n",
              "      <td>0</td>\n",
              "      <td>1</td>\n",
              "      <td>1</td>\n",
              "      <td>0</td>\n",
              "      <td>0</td>\n",
              "      <td>0</td>\n",
              "      <td>0</td>\n",
              "      <td>0</td>\n",
              "      <td>1</td>\n",
              "      <td>1</td>\n",
              "      <td>1</td>\n",
              "      <td>0</td>\n",
              "      <td>0</td>\n",
              "      <td>5</td>\n",
              "      <td>0</td>\n",
              "      <td>0.0</td>\n",
              "      <td>1.0</td>\n",
              "      <td>1.0</td>\n",
              "      <td>0.0</td>\n",
              "      <td>0.0</td>\n",
              "      <td>0.0</td>\n",
              "      <td>0.0</td>\n",
              "      <td>0.0</td>\n",
              "      <td>1.0</td>\n",
              "      <td>1.0</td>\n",
              "      <td>1.0</td>\n",
              "      <td>0.0</td>\n",
              "      <td>0.0</td>\n",
              "      <td>5.0</td>\n",
              "      <td>0.0</td>\n",
              "    </tr>\n",
              "  </tbody>\n",
              "</table>\n",
              "</div>"
            ],
            "text/plain": [
              "   id_company  ...  mean_dp_years_of_experience_as_entreprenuer\n",
              "0           3  ...                                          7.0\n",
              "1           7  ...                                          9.0\n",
              "2          10  ...                                          2.0\n",
              "3          23  ...                                          4.0\n",
              "4          51  ...                                          0.0\n",
              "\n",
              "[5 rows x 68 columns]"
            ]
          },
          "metadata": {},
          "execution_count": 12
        }
      ]
    },
    {
      "cell_type": "code",
      "metadata": {
        "colab": {
          "base_uri": "https://localhost:8080/"
        },
        "id": "Q0OC1x5wM3w5",
        "outputId": "f65f2a26-9ed7-4edd-e907-93748552959d"
      },
      "source": [
        "# data types\n",
        "db_companies_Encode.dtypes"
      ],
      "execution_count": 13,
      "outputs": [
        {
          "output_type": "execute_result",
          "data": {
            "text/plain": [
              "id_company                                       int64\n",
              "foundation_year                                  int64\n",
              "category                                         int64\n",
              "first_r_year                                     int64\n",
              "first_r_amount                                   int64\n",
              "                                                ...   \n",
              "mean_foreing_studies                           float64\n",
              "mean_foreing_work_experience                   float64\n",
              "mean_foreing_founder                           float64\n",
              "mean_dp_years_of_experience                    float64\n",
              "mean_dp_years_of_experience_as_entreprenuer    float64\n",
              "Length: 68, dtype: object"
            ]
          },
          "metadata": {},
          "execution_count": 13
        }
      ]
    },
    {
      "cell_type": "code",
      "metadata": {
        "colab": {
          "base_uri": "https://localhost:8080/"
        },
        "id": "cUJ66xXfM7lr",
        "outputId": "e2d6a94d-113e-48b3-a08d-520b11c6b860"
      },
      "source": [
        "db_companies_Encode.isna().sum()"
      ],
      "execution_count": 14,
      "outputs": [
        {
          "output_type": "execute_result",
          "data": {
            "text/plain": [
              "id_company                                     0\n",
              "foundation_year                                0\n",
              "category                                       0\n",
              "first_r_year                                   0\n",
              "first_r_amount                                 0\n",
              "                                              ..\n",
              "mean_foreing_studies                           0\n",
              "mean_foreing_work_experience                   0\n",
              "mean_foreing_founder                           0\n",
              "mean_dp_years_of_experience                    0\n",
              "mean_dp_years_of_experience_as_entreprenuer    0\n",
              "Length: 68, dtype: int64"
            ]
          },
          "metadata": {},
          "execution_count": 14
        }
      ]
    },
    {
      "cell_type": "code",
      "metadata": {
        "colab": {
          "base_uri": "https://localhost:8080/"
        },
        "id": "282lGmkUM-PW",
        "outputId": "0a3df67a-4921-4146-97ed-8d6edf1fd895"
      },
      "source": [
        "db_companies_Encode.count()"
      ],
      "execution_count": 15,
      "outputs": [
        {
          "output_type": "execute_result",
          "data": {
            "text/plain": [
              "id_company                                     510\n",
              "foundation_year                                510\n",
              "category                                       510\n",
              "first_r_year                                   510\n",
              "first_r_amount                                 510\n",
              "                                              ... \n",
              "mean_foreing_studies                           510\n",
              "mean_foreing_work_experience                   510\n",
              "mean_foreing_founder                           510\n",
              "mean_dp_years_of_experience                    510\n",
              "mean_dp_years_of_experience_as_entreprenuer    510\n",
              "Length: 68, dtype: int64"
            ]
          },
          "metadata": {},
          "execution_count": 15
        }
      ]
    },
    {
      "cell_type": "markdown",
      "metadata": {
        "id": "S9wMAAwiNBqr"
      },
      "source": [
        "## Drop unnecessary variables"
      ]
    },
    {
      "cell_type": "code",
      "metadata": {
        "id": "lBq3kzPkVmbh"
      },
      "source": [
        "# Import our dependencies\n",
        "from sklearn.model_selection import train_test_split\n",
        "from sklearn.preprocessing import StandardScaler,OneHotEncoder\n",
        "import tensorflow as tf\n",
        "# Import checkpoint dependencies\n",
        "import os\n",
        "from tensorflow.keras.callbacks import ModelCheckpoint\n"
      ],
      "execution_count": 16,
      "outputs": []
    },
    {
      "cell_type": "code",
      "metadata": {
        "colab": {
          "base_uri": "https://localhost:8080/"
        },
        "id": "BUdKS7xFNFPb",
        "outputId": "fc5af57d-ef0e-46f4-c054-eef99910ae84"
      },
      "source": [
        "columnsName = db_companies_Encode.columns.tolist()\n",
        "r = re.compile(\"^mean|^max\")\n",
        "columnsName = [column for column in columnsName if r.match(column)]\n",
        "columnsName.extend([\"last_funding_year\",\"amount_last_funding\",\"month_since_last_funding\",\"number_employees\",\"increase_employees\",\"number_investors\"])\n",
        "columnsName"
      ],
      "execution_count": 17,
      "outputs": [
        {
          "output_type": "execute_result",
          "data": {
            "text/plain": [
              "['max_manager_exp',\n",
              " 'max_clevel_exp',\n",
              " 'max_engineering_exp',\n",
              " 'max_sales_exp',\n",
              " 'max_finance_exp',\n",
              " 'max_human_capital_exp',\n",
              " 'max_consulting_exp',\n",
              " 'max_founder_exp',\n",
              " 'max_number_of_startups',\n",
              " 'max_gender',\n",
              " 'max_foreing_studies',\n",
              " 'max_foreing_work_experience',\n",
              " 'max_foreing_founder',\n",
              " 'max_dp_years_of_experience',\n",
              " 'max_dp_years_of_experience_as_entreprenuer',\n",
              " 'mean_manager_exp',\n",
              " 'mean_clevel_exp',\n",
              " 'mean_engineering_exp',\n",
              " 'mean_sales_exp',\n",
              " 'mean_finance_exp',\n",
              " 'mean_human_capital_exp',\n",
              " 'mean_consulting_exp',\n",
              " 'mean_founder_exp',\n",
              " 'mean_number_of_startups',\n",
              " 'mean_gender',\n",
              " 'mean_foreing_studies',\n",
              " 'mean_foreing_work_experience',\n",
              " 'mean_foreing_founder',\n",
              " 'mean_dp_years_of_experience',\n",
              " 'mean_dp_years_of_experience_as_entreprenuer',\n",
              " 'last_funding_year',\n",
              " 'amount_last_funding',\n",
              " 'month_since_last_funding',\n",
              " 'number_employees',\n",
              " 'increase_employees',\n",
              " 'number_investors']"
            ]
          },
          "metadata": {},
          "execution_count": 17
        }
      ]
    },
    {
      "cell_type": "code",
      "metadata": {
        "colab": {
          "base_uri": "https://localhost:8080/",
          "height": 222
        },
        "id": "UZKUuHILTqM1",
        "outputId": "62a99a05-af42-4b55-863f-2921cf9846c0"
      },
      "source": [
        "db_companies_Encode_Model = db_companies_Encode.copy()\n",
        "db_companies_Encode_Model.head()"
      ],
      "execution_count": 18,
      "outputs": [
        {
          "output_type": "execute_result",
          "data": {
            "text/html": [
              "<div>\n",
              "<style scoped>\n",
              "    .dataframe tbody tr th:only-of-type {\n",
              "        vertical-align: middle;\n",
              "    }\n",
              "\n",
              "    .dataframe tbody tr th {\n",
              "        vertical-align: top;\n",
              "    }\n",
              "\n",
              "    .dataframe thead th {\n",
              "        text-align: right;\n",
              "    }\n",
              "</style>\n",
              "<table border=\"1\" class=\"dataframe\">\n",
              "  <thead>\n",
              "    <tr style=\"text-align: right;\">\n",
              "      <th></th>\n",
              "      <th>id_company</th>\n",
              "      <th>foundation_year</th>\n",
              "      <th>category</th>\n",
              "      <th>first_r_year</th>\n",
              "      <th>first_r_amount</th>\n",
              "      <th>last_funding_year</th>\n",
              "      <th>amount_last_funding</th>\n",
              "      <th>month_since_last_funding</th>\n",
              "      <th>number_employees</th>\n",
              "      <th>increase_employees</th>\n",
              "      <th>number_investors</th>\n",
              "      <th>current_status</th>\n",
              "      <th>rounds_funding_factor</th>\n",
              "      <th>soonicorn</th>\n",
              "      <th>more50_employees</th>\n",
              "      <th>more100_employees</th>\n",
              "      <th>dp_year</th>\n",
              "      <th>dp_rounds_count</th>\n",
              "      <th>dp_rounds_amount_sum</th>\n",
              "      <th>dp_rounds_amount_max</th>\n",
              "      <th>dp_last_round_year</th>\n",
              "      <th>dp_last_round_amount</th>\n",
              "      <th>dp_years_operating</th>\n",
              "      <th>max_manager_exp</th>\n",
              "      <th>max_clevel_exp</th>\n",
              "      <th>max_engineering_exp</th>\n",
              "      <th>max_sales_exp</th>\n",
              "      <th>max_finance_exp</th>\n",
              "      <th>max_human_capital_exp</th>\n",
              "      <th>max_consulting_exp</th>\n",
              "      <th>max_founder_exp</th>\n",
              "      <th>max_number_of_startups</th>\n",
              "      <th>max_gender</th>\n",
              "      <th>max_foreing_studies</th>\n",
              "      <th>max_foreing_work_experience</th>\n",
              "      <th>max_foreing_founder</th>\n",
              "      <th>max_dp_years_of_experience</th>\n",
              "      <th>max_dp_years_of_experience_as_entreprenuer</th>\n",
              "      <th>sum_manager_exp</th>\n",
              "      <th>sum_clevel_exp</th>\n",
              "      <th>sum_engineering_exp</th>\n",
              "      <th>sum_sales_exp</th>\n",
              "      <th>sum_finance_exp</th>\n",
              "      <th>sum_human_capital_exp</th>\n",
              "      <th>sum_consulting_exp</th>\n",
              "      <th>sum_founder_exp</th>\n",
              "      <th>sum_number_of_startups</th>\n",
              "      <th>sum_gender</th>\n",
              "      <th>sum_foreing_studies</th>\n",
              "      <th>sum_foreing_work_experience</th>\n",
              "      <th>sum_foreing_founder</th>\n",
              "      <th>sum_dp_years_of_experience</th>\n",
              "      <th>sum_dp_years_of_experience_as_entreprenuer</th>\n",
              "      <th>mean_manager_exp</th>\n",
              "      <th>mean_clevel_exp</th>\n",
              "      <th>mean_engineering_exp</th>\n",
              "      <th>mean_sales_exp</th>\n",
              "      <th>mean_finance_exp</th>\n",
              "      <th>mean_human_capital_exp</th>\n",
              "      <th>mean_consulting_exp</th>\n",
              "      <th>mean_founder_exp</th>\n",
              "      <th>mean_number_of_startups</th>\n",
              "      <th>mean_gender</th>\n",
              "      <th>mean_foreing_studies</th>\n",
              "      <th>mean_foreing_work_experience</th>\n",
              "      <th>mean_foreing_founder</th>\n",
              "      <th>mean_dp_years_of_experience</th>\n",
              "      <th>mean_dp_years_of_experience_as_entreprenuer</th>\n",
              "    </tr>\n",
              "  </thead>\n",
              "  <tbody>\n",
              "    <tr>\n",
              "      <th>0</th>\n",
              "      <td>3</td>\n",
              "      <td>2017</td>\n",
              "      <td>0</td>\n",
              "      <td>2017</td>\n",
              "      <td>1400000</td>\n",
              "      <td>2017</td>\n",
              "      <td>1400000</td>\n",
              "      <td>48</td>\n",
              "      <td>33</td>\n",
              "      <td>8</td>\n",
              "      <td>3</td>\n",
              "      <td>1</td>\n",
              "      <td>4.0</td>\n",
              "      <td>0</td>\n",
              "      <td>0</td>\n",
              "      <td>0</td>\n",
              "      <td>2017</td>\n",
              "      <td>1</td>\n",
              "      <td>1400000</td>\n",
              "      <td>1400000</td>\n",
              "      <td>2017</td>\n",
              "      <td>1400000</td>\n",
              "      <td>0</td>\n",
              "      <td>1</td>\n",
              "      <td>1</td>\n",
              "      <td>0</td>\n",
              "      <td>0</td>\n",
              "      <td>0</td>\n",
              "      <td>0</td>\n",
              "      <td>0</td>\n",
              "      <td>1</td>\n",
              "      <td>3</td>\n",
              "      <td>1</td>\n",
              "      <td>1</td>\n",
              "      <td>0</td>\n",
              "      <td>0</td>\n",
              "      <td>12</td>\n",
              "      <td>8</td>\n",
              "      <td>1</td>\n",
              "      <td>1</td>\n",
              "      <td>0</td>\n",
              "      <td>0</td>\n",
              "      <td>0</td>\n",
              "      <td>0</td>\n",
              "      <td>0</td>\n",
              "      <td>2</td>\n",
              "      <td>4</td>\n",
              "      <td>2</td>\n",
              "      <td>1</td>\n",
              "      <td>0</td>\n",
              "      <td>0</td>\n",
              "      <td>22</td>\n",
              "      <td>15</td>\n",
              "      <td>0.0</td>\n",
              "      <td>0.0</td>\n",
              "      <td>0.0</td>\n",
              "      <td>0.0</td>\n",
              "      <td>0.0</td>\n",
              "      <td>0.0</td>\n",
              "      <td>0.0</td>\n",
              "      <td>1.0</td>\n",
              "      <td>2.0</td>\n",
              "      <td>1.0</td>\n",
              "      <td>0.0</td>\n",
              "      <td>0.0</td>\n",
              "      <td>0.0</td>\n",
              "      <td>11.0</td>\n",
              "      <td>7.0</td>\n",
              "    </tr>\n",
              "    <tr>\n",
              "      <th>1</th>\n",
              "      <td>7</td>\n",
              "      <td>2018</td>\n",
              "      <td>0</td>\n",
              "      <td>2018</td>\n",
              "      <td>10500</td>\n",
              "      <td>2018</td>\n",
              "      <td>10500</td>\n",
              "      <td>36</td>\n",
              "      <td>10</td>\n",
              "      <td>0</td>\n",
              "      <td>2</td>\n",
              "      <td>0</td>\n",
              "      <td>3.0</td>\n",
              "      <td>0</td>\n",
              "      <td>0</td>\n",
              "      <td>0</td>\n",
              "      <td>2018</td>\n",
              "      <td>1</td>\n",
              "      <td>10500</td>\n",
              "      <td>10500</td>\n",
              "      <td>2018</td>\n",
              "      <td>10500</td>\n",
              "      <td>0</td>\n",
              "      <td>1</td>\n",
              "      <td>1</td>\n",
              "      <td>0</td>\n",
              "      <td>0</td>\n",
              "      <td>0</td>\n",
              "      <td>0</td>\n",
              "      <td>0</td>\n",
              "      <td>1</td>\n",
              "      <td>4</td>\n",
              "      <td>1</td>\n",
              "      <td>0</td>\n",
              "      <td>0</td>\n",
              "      <td>0</td>\n",
              "      <td>10</td>\n",
              "      <td>9</td>\n",
              "      <td>1</td>\n",
              "      <td>1</td>\n",
              "      <td>0</td>\n",
              "      <td>0</td>\n",
              "      <td>0</td>\n",
              "      <td>0</td>\n",
              "      <td>0</td>\n",
              "      <td>1</td>\n",
              "      <td>4</td>\n",
              "      <td>1</td>\n",
              "      <td>0</td>\n",
              "      <td>0</td>\n",
              "      <td>0</td>\n",
              "      <td>10</td>\n",
              "      <td>9</td>\n",
              "      <td>1.0</td>\n",
              "      <td>1.0</td>\n",
              "      <td>0.0</td>\n",
              "      <td>0.0</td>\n",
              "      <td>0.0</td>\n",
              "      <td>0.0</td>\n",
              "      <td>0.0</td>\n",
              "      <td>1.0</td>\n",
              "      <td>4.0</td>\n",
              "      <td>1.0</td>\n",
              "      <td>0.0</td>\n",
              "      <td>0.0</td>\n",
              "      <td>0.0</td>\n",
              "      <td>10.0</td>\n",
              "      <td>9.0</td>\n",
              "    </tr>\n",
              "    <tr>\n",
              "      <th>2</th>\n",
              "      <td>10</td>\n",
              "      <td>2015</td>\n",
              "      <td>0</td>\n",
              "      <td>2015</td>\n",
              "      <td>200000</td>\n",
              "      <td>2015</td>\n",
              "      <td>200000</td>\n",
              "      <td>72</td>\n",
              "      <td>11</td>\n",
              "      <td>14</td>\n",
              "      <td>1</td>\n",
              "      <td>1</td>\n",
              "      <td>6.0</td>\n",
              "      <td>0</td>\n",
              "      <td>0</td>\n",
              "      <td>0</td>\n",
              "      <td>2015</td>\n",
              "      <td>1</td>\n",
              "      <td>200000</td>\n",
              "      <td>200000</td>\n",
              "      <td>2015</td>\n",
              "      <td>200000</td>\n",
              "      <td>0</td>\n",
              "      <td>1</td>\n",
              "      <td>1</td>\n",
              "      <td>0</td>\n",
              "      <td>0</td>\n",
              "      <td>0</td>\n",
              "      <td>0</td>\n",
              "      <td>0</td>\n",
              "      <td>1</td>\n",
              "      <td>1</td>\n",
              "      <td>1</td>\n",
              "      <td>0</td>\n",
              "      <td>0</td>\n",
              "      <td>0</td>\n",
              "      <td>12</td>\n",
              "      <td>2</td>\n",
              "      <td>1</td>\n",
              "      <td>1</td>\n",
              "      <td>0</td>\n",
              "      <td>0</td>\n",
              "      <td>0</td>\n",
              "      <td>0</td>\n",
              "      <td>0</td>\n",
              "      <td>1</td>\n",
              "      <td>1</td>\n",
              "      <td>1</td>\n",
              "      <td>0</td>\n",
              "      <td>0</td>\n",
              "      <td>0</td>\n",
              "      <td>12</td>\n",
              "      <td>2</td>\n",
              "      <td>1.0</td>\n",
              "      <td>1.0</td>\n",
              "      <td>0.0</td>\n",
              "      <td>0.0</td>\n",
              "      <td>0.0</td>\n",
              "      <td>0.0</td>\n",
              "      <td>0.0</td>\n",
              "      <td>1.0</td>\n",
              "      <td>1.0</td>\n",
              "      <td>1.0</td>\n",
              "      <td>0.0</td>\n",
              "      <td>0.0</td>\n",
              "      <td>0.0</td>\n",
              "      <td>12.0</td>\n",
              "      <td>2.0</td>\n",
              "    </tr>\n",
              "    <tr>\n",
              "      <th>3</th>\n",
              "      <td>23</td>\n",
              "      <td>2013</td>\n",
              "      <td>0</td>\n",
              "      <td>2013</td>\n",
              "      <td>150000</td>\n",
              "      <td>2021</td>\n",
              "      <td>40000000</td>\n",
              "      <td>0</td>\n",
              "      <td>1001</td>\n",
              "      <td>0</td>\n",
              "      <td>0</td>\n",
              "      <td>1</td>\n",
              "      <td>0.0</td>\n",
              "      <td>1</td>\n",
              "      <td>1</td>\n",
              "      <td>1</td>\n",
              "      <td>2021</td>\n",
              "      <td>5</td>\n",
              "      <td>54800000</td>\n",
              "      <td>40000000</td>\n",
              "      <td>2021</td>\n",
              "      <td>40000000</td>\n",
              "      <td>8</td>\n",
              "      <td>0</td>\n",
              "      <td>1</td>\n",
              "      <td>0</td>\n",
              "      <td>0</td>\n",
              "      <td>0</td>\n",
              "      <td>0</td>\n",
              "      <td>0</td>\n",
              "      <td>1</td>\n",
              "      <td>2</td>\n",
              "      <td>1</td>\n",
              "      <td>0</td>\n",
              "      <td>0</td>\n",
              "      <td>0</td>\n",
              "      <td>11</td>\n",
              "      <td>4</td>\n",
              "      <td>0</td>\n",
              "      <td>1</td>\n",
              "      <td>0</td>\n",
              "      <td>0</td>\n",
              "      <td>0</td>\n",
              "      <td>0</td>\n",
              "      <td>0</td>\n",
              "      <td>1</td>\n",
              "      <td>2</td>\n",
              "      <td>1</td>\n",
              "      <td>0</td>\n",
              "      <td>0</td>\n",
              "      <td>0</td>\n",
              "      <td>11</td>\n",
              "      <td>4</td>\n",
              "      <td>0.0</td>\n",
              "      <td>1.0</td>\n",
              "      <td>0.0</td>\n",
              "      <td>0.0</td>\n",
              "      <td>0.0</td>\n",
              "      <td>0.0</td>\n",
              "      <td>0.0</td>\n",
              "      <td>1.0</td>\n",
              "      <td>2.0</td>\n",
              "      <td>1.0</td>\n",
              "      <td>0.0</td>\n",
              "      <td>0.0</td>\n",
              "      <td>0.0</td>\n",
              "      <td>11.0</td>\n",
              "      <td>4.0</td>\n",
              "    </tr>\n",
              "    <tr>\n",
              "      <th>4</th>\n",
              "      <td>51</td>\n",
              "      <td>2018</td>\n",
              "      <td>0</td>\n",
              "      <td>2018</td>\n",
              "      <td>20000</td>\n",
              "      <td>2018</td>\n",
              "      <td>20000</td>\n",
              "      <td>36</td>\n",
              "      <td>10</td>\n",
              "      <td>0</td>\n",
              "      <td>1</td>\n",
              "      <td>0</td>\n",
              "      <td>3.0</td>\n",
              "      <td>0</td>\n",
              "      <td>0</td>\n",
              "      <td>0</td>\n",
              "      <td>2018</td>\n",
              "      <td>1</td>\n",
              "      <td>20000</td>\n",
              "      <td>20000</td>\n",
              "      <td>2018</td>\n",
              "      <td>20000</td>\n",
              "      <td>0</td>\n",
              "      <td>0</td>\n",
              "      <td>1</td>\n",
              "      <td>1</td>\n",
              "      <td>0</td>\n",
              "      <td>0</td>\n",
              "      <td>0</td>\n",
              "      <td>0</td>\n",
              "      <td>0</td>\n",
              "      <td>1</td>\n",
              "      <td>1</td>\n",
              "      <td>1</td>\n",
              "      <td>0</td>\n",
              "      <td>0</td>\n",
              "      <td>5</td>\n",
              "      <td>0</td>\n",
              "      <td>0</td>\n",
              "      <td>1</td>\n",
              "      <td>1</td>\n",
              "      <td>0</td>\n",
              "      <td>0</td>\n",
              "      <td>0</td>\n",
              "      <td>0</td>\n",
              "      <td>0</td>\n",
              "      <td>1</td>\n",
              "      <td>1</td>\n",
              "      <td>1</td>\n",
              "      <td>0</td>\n",
              "      <td>0</td>\n",
              "      <td>5</td>\n",
              "      <td>0</td>\n",
              "      <td>0.0</td>\n",
              "      <td>1.0</td>\n",
              "      <td>1.0</td>\n",
              "      <td>0.0</td>\n",
              "      <td>0.0</td>\n",
              "      <td>0.0</td>\n",
              "      <td>0.0</td>\n",
              "      <td>0.0</td>\n",
              "      <td>1.0</td>\n",
              "      <td>1.0</td>\n",
              "      <td>1.0</td>\n",
              "      <td>0.0</td>\n",
              "      <td>0.0</td>\n",
              "      <td>5.0</td>\n",
              "      <td>0.0</td>\n",
              "    </tr>\n",
              "  </tbody>\n",
              "</table>\n",
              "</div>"
            ],
            "text/plain": [
              "   id_company  ...  mean_dp_years_of_experience_as_entreprenuer\n",
              "0           3  ...                                          7.0\n",
              "1           7  ...                                          9.0\n",
              "2          10  ...                                          2.0\n",
              "3          23  ...                                          4.0\n",
              "4          51  ...                                          0.0\n",
              "\n",
              "[5 rows x 68 columns]"
            ]
          },
          "metadata": {},
          "execution_count": 18
        }
      ]
    },
    {
      "cell_type": "code",
      "metadata": {
        "colab": {
          "base_uri": "https://localhost:8080/",
          "height": 222
        },
        "id": "JGi3pCj1T1gK",
        "outputId": "f74b34a9-2c23-427b-863f-0f05e565ab3f"
      },
      "source": [
        "for column in columnsName:\n",
        "  db_companies_Encode_Model = db_companies_Encode_Model.drop(column, axis='columns', inplace=False)\n",
        "  \n",
        "db_companies_Encode_Model.head()"
      ],
      "execution_count": 19,
      "outputs": [
        {
          "output_type": "execute_result",
          "data": {
            "text/html": [
              "<div>\n",
              "<style scoped>\n",
              "    .dataframe tbody tr th:only-of-type {\n",
              "        vertical-align: middle;\n",
              "    }\n",
              "\n",
              "    .dataframe tbody tr th {\n",
              "        vertical-align: top;\n",
              "    }\n",
              "\n",
              "    .dataframe thead th {\n",
              "        text-align: right;\n",
              "    }\n",
              "</style>\n",
              "<table border=\"1\" class=\"dataframe\">\n",
              "  <thead>\n",
              "    <tr style=\"text-align: right;\">\n",
              "      <th></th>\n",
              "      <th>id_company</th>\n",
              "      <th>foundation_year</th>\n",
              "      <th>category</th>\n",
              "      <th>first_r_year</th>\n",
              "      <th>first_r_amount</th>\n",
              "      <th>current_status</th>\n",
              "      <th>rounds_funding_factor</th>\n",
              "      <th>soonicorn</th>\n",
              "      <th>more50_employees</th>\n",
              "      <th>more100_employees</th>\n",
              "      <th>dp_year</th>\n",
              "      <th>dp_rounds_count</th>\n",
              "      <th>dp_rounds_amount_sum</th>\n",
              "      <th>dp_rounds_amount_max</th>\n",
              "      <th>dp_last_round_year</th>\n",
              "      <th>dp_last_round_amount</th>\n",
              "      <th>dp_years_operating</th>\n",
              "      <th>sum_manager_exp</th>\n",
              "      <th>sum_clevel_exp</th>\n",
              "      <th>sum_engineering_exp</th>\n",
              "      <th>sum_sales_exp</th>\n",
              "      <th>sum_finance_exp</th>\n",
              "      <th>sum_human_capital_exp</th>\n",
              "      <th>sum_consulting_exp</th>\n",
              "      <th>sum_founder_exp</th>\n",
              "      <th>sum_number_of_startups</th>\n",
              "      <th>sum_gender</th>\n",
              "      <th>sum_foreing_studies</th>\n",
              "      <th>sum_foreing_work_experience</th>\n",
              "      <th>sum_foreing_founder</th>\n",
              "      <th>sum_dp_years_of_experience</th>\n",
              "      <th>sum_dp_years_of_experience_as_entreprenuer</th>\n",
              "    </tr>\n",
              "  </thead>\n",
              "  <tbody>\n",
              "    <tr>\n",
              "      <th>0</th>\n",
              "      <td>3</td>\n",
              "      <td>2017</td>\n",
              "      <td>0</td>\n",
              "      <td>2017</td>\n",
              "      <td>1400000</td>\n",
              "      <td>1</td>\n",
              "      <td>4.0</td>\n",
              "      <td>0</td>\n",
              "      <td>0</td>\n",
              "      <td>0</td>\n",
              "      <td>2017</td>\n",
              "      <td>1</td>\n",
              "      <td>1400000</td>\n",
              "      <td>1400000</td>\n",
              "      <td>2017</td>\n",
              "      <td>1400000</td>\n",
              "      <td>0</td>\n",
              "      <td>1</td>\n",
              "      <td>1</td>\n",
              "      <td>0</td>\n",
              "      <td>0</td>\n",
              "      <td>0</td>\n",
              "      <td>0</td>\n",
              "      <td>0</td>\n",
              "      <td>2</td>\n",
              "      <td>4</td>\n",
              "      <td>2</td>\n",
              "      <td>1</td>\n",
              "      <td>0</td>\n",
              "      <td>0</td>\n",
              "      <td>22</td>\n",
              "      <td>15</td>\n",
              "    </tr>\n",
              "    <tr>\n",
              "      <th>1</th>\n",
              "      <td>7</td>\n",
              "      <td>2018</td>\n",
              "      <td>0</td>\n",
              "      <td>2018</td>\n",
              "      <td>10500</td>\n",
              "      <td>0</td>\n",
              "      <td>3.0</td>\n",
              "      <td>0</td>\n",
              "      <td>0</td>\n",
              "      <td>0</td>\n",
              "      <td>2018</td>\n",
              "      <td>1</td>\n",
              "      <td>10500</td>\n",
              "      <td>10500</td>\n",
              "      <td>2018</td>\n",
              "      <td>10500</td>\n",
              "      <td>0</td>\n",
              "      <td>1</td>\n",
              "      <td>1</td>\n",
              "      <td>0</td>\n",
              "      <td>0</td>\n",
              "      <td>0</td>\n",
              "      <td>0</td>\n",
              "      <td>0</td>\n",
              "      <td>1</td>\n",
              "      <td>4</td>\n",
              "      <td>1</td>\n",
              "      <td>0</td>\n",
              "      <td>0</td>\n",
              "      <td>0</td>\n",
              "      <td>10</td>\n",
              "      <td>9</td>\n",
              "    </tr>\n",
              "    <tr>\n",
              "      <th>2</th>\n",
              "      <td>10</td>\n",
              "      <td>2015</td>\n",
              "      <td>0</td>\n",
              "      <td>2015</td>\n",
              "      <td>200000</td>\n",
              "      <td>1</td>\n",
              "      <td>6.0</td>\n",
              "      <td>0</td>\n",
              "      <td>0</td>\n",
              "      <td>0</td>\n",
              "      <td>2015</td>\n",
              "      <td>1</td>\n",
              "      <td>200000</td>\n",
              "      <td>200000</td>\n",
              "      <td>2015</td>\n",
              "      <td>200000</td>\n",
              "      <td>0</td>\n",
              "      <td>1</td>\n",
              "      <td>1</td>\n",
              "      <td>0</td>\n",
              "      <td>0</td>\n",
              "      <td>0</td>\n",
              "      <td>0</td>\n",
              "      <td>0</td>\n",
              "      <td>1</td>\n",
              "      <td>1</td>\n",
              "      <td>1</td>\n",
              "      <td>0</td>\n",
              "      <td>0</td>\n",
              "      <td>0</td>\n",
              "      <td>12</td>\n",
              "      <td>2</td>\n",
              "    </tr>\n",
              "    <tr>\n",
              "      <th>3</th>\n",
              "      <td>23</td>\n",
              "      <td>2013</td>\n",
              "      <td>0</td>\n",
              "      <td>2013</td>\n",
              "      <td>150000</td>\n",
              "      <td>1</td>\n",
              "      <td>0.0</td>\n",
              "      <td>1</td>\n",
              "      <td>1</td>\n",
              "      <td>1</td>\n",
              "      <td>2021</td>\n",
              "      <td>5</td>\n",
              "      <td>54800000</td>\n",
              "      <td>40000000</td>\n",
              "      <td>2021</td>\n",
              "      <td>40000000</td>\n",
              "      <td>8</td>\n",
              "      <td>0</td>\n",
              "      <td>1</td>\n",
              "      <td>0</td>\n",
              "      <td>0</td>\n",
              "      <td>0</td>\n",
              "      <td>0</td>\n",
              "      <td>0</td>\n",
              "      <td>1</td>\n",
              "      <td>2</td>\n",
              "      <td>1</td>\n",
              "      <td>0</td>\n",
              "      <td>0</td>\n",
              "      <td>0</td>\n",
              "      <td>11</td>\n",
              "      <td>4</td>\n",
              "    </tr>\n",
              "    <tr>\n",
              "      <th>4</th>\n",
              "      <td>51</td>\n",
              "      <td>2018</td>\n",
              "      <td>0</td>\n",
              "      <td>2018</td>\n",
              "      <td>20000</td>\n",
              "      <td>0</td>\n",
              "      <td>3.0</td>\n",
              "      <td>0</td>\n",
              "      <td>0</td>\n",
              "      <td>0</td>\n",
              "      <td>2018</td>\n",
              "      <td>1</td>\n",
              "      <td>20000</td>\n",
              "      <td>20000</td>\n",
              "      <td>2018</td>\n",
              "      <td>20000</td>\n",
              "      <td>0</td>\n",
              "      <td>0</td>\n",
              "      <td>1</td>\n",
              "      <td>1</td>\n",
              "      <td>0</td>\n",
              "      <td>0</td>\n",
              "      <td>0</td>\n",
              "      <td>0</td>\n",
              "      <td>0</td>\n",
              "      <td>1</td>\n",
              "      <td>1</td>\n",
              "      <td>1</td>\n",
              "      <td>0</td>\n",
              "      <td>0</td>\n",
              "      <td>5</td>\n",
              "      <td>0</td>\n",
              "    </tr>\n",
              "  </tbody>\n",
              "</table>\n",
              "</div>"
            ],
            "text/plain": [
              "   id_company  ...  sum_dp_years_of_experience_as_entreprenuer\n",
              "0           3  ...                                          15\n",
              "1           7  ...                                           9\n",
              "2          10  ...                                           2\n",
              "3          23  ...                                           4\n",
              "4          51  ...                                           0\n",
              "\n",
              "[5 rows x 32 columns]"
            ]
          },
          "metadata": {},
          "execution_count": 19
        }
      ]
    },
    {
      "cell_type": "code",
      "metadata": {
        "colab": {
          "base_uri": "https://localhost:8080/"
        },
        "id": "lAlaKidfVWwo",
        "outputId": "39328729-2154-4540-bc65-be2028b8ba41"
      },
      "source": [
        "# Generate our categorical variable lists\n",
        "db_companies_cat = [\"foundation_year\",\"category\",\"first_r_year\",\"dp_year\",\"current_status\",\"dp_last_round_year\"] #\"max_manager_exp\",\"max_clevel_exp\",\"max_engineering_exp\",\"max_sales_exp\",\"max_finance_exp\",\"max_human_capital_exp\",\"max_consulting_exp\",\"max_founder_exp\",\"max_number_of_startups\",\"max_gender\",\"max_foreing_studies\",\"max_foreing_work_experience\",\"max_foreing_founder\"]\n",
        "db_companies_cat\n",
        "\n",
        "# id_company, last_funding_year, amount_last_funding, month_since_last_funding, number_employees, increase_employees"
      ],
      "execution_count": 20,
      "outputs": [
        {
          "output_type": "execute_result",
          "data": {
            "text/plain": [
              "['foundation_year',\n",
              " 'category',\n",
              " 'first_r_year',\n",
              " 'dp_year',\n",
              " 'current_status',\n",
              " 'dp_last_round_year']"
            ]
          },
          "metadata": {},
          "execution_count": 20
        }
      ]
    },
    {
      "cell_type": "code",
      "metadata": {
        "colab": {
          "base_uri": "https://localhost:8080/",
          "height": 257
        },
        "id": "-lNqzig5VSbx",
        "outputId": "b19cea40-30ec-4eb1-f4c2-f66ef6ab0eb0"
      },
      "source": [
        "# Create a OneHotEncoder instance\n",
        "enc = OneHotEncoder(sparse=False)\n",
        "\n",
        "# Fit and transform the OneHotEncoder using the categorical variable list\n",
        "encode_df = pd.DataFrame(enc.fit_transform(db_companies_Encode_Model[db_companies_cat]))\n",
        "\n",
        "# Add the encoded variable names to the dataframe\n",
        "encode_df.columns = enc.get_feature_names(db_companies_cat)\n",
        "encode_df.head()"
      ],
      "execution_count": 21,
      "outputs": [
        {
          "output_type": "stream",
          "name": "stderr",
          "text": [
            "/usr/local/lib/python3.7/dist-packages/sklearn/utils/deprecation.py:87: FutureWarning: Function get_feature_names is deprecated; get_feature_names is deprecated in 1.0 and will be removed in 1.2. Please use get_feature_names_out instead.\n",
            "  warnings.warn(msg, category=FutureWarning)\n"
          ]
        },
        {
          "output_type": "execute_result",
          "data": {
            "text/html": [
              "<div>\n",
              "<style scoped>\n",
              "    .dataframe tbody tr th:only-of-type {\n",
              "        vertical-align: middle;\n",
              "    }\n",
              "\n",
              "    .dataframe tbody tr th {\n",
              "        vertical-align: top;\n",
              "    }\n",
              "\n",
              "    .dataframe thead th {\n",
              "        text-align: right;\n",
              "    }\n",
              "</style>\n",
              "<table border=\"1\" class=\"dataframe\">\n",
              "  <thead>\n",
              "    <tr style=\"text-align: right;\">\n",
              "      <th></th>\n",
              "      <th>foundation_year_2000</th>\n",
              "      <th>foundation_year_2004</th>\n",
              "      <th>foundation_year_2006</th>\n",
              "      <th>foundation_year_2008</th>\n",
              "      <th>foundation_year_2009</th>\n",
              "      <th>foundation_year_2010</th>\n",
              "      <th>foundation_year_2011</th>\n",
              "      <th>foundation_year_2012</th>\n",
              "      <th>foundation_year_2013</th>\n",
              "      <th>foundation_year_2014</th>\n",
              "      <th>foundation_year_2015</th>\n",
              "      <th>foundation_year_2016</th>\n",
              "      <th>foundation_year_2017</th>\n",
              "      <th>foundation_year_2018</th>\n",
              "      <th>foundation_year_2019</th>\n",
              "      <th>foundation_year_2020</th>\n",
              "      <th>foundation_year_2021</th>\n",
              "      <th>category_0</th>\n",
              "      <th>first_r_year_2000</th>\n",
              "      <th>first_r_year_2004</th>\n",
              "      <th>first_r_year_2006</th>\n",
              "      <th>first_r_year_2008</th>\n",
              "      <th>first_r_year_2009</th>\n",
              "      <th>first_r_year_2010</th>\n",
              "      <th>first_r_year_2011</th>\n",
              "      <th>first_r_year_2012</th>\n",
              "      <th>first_r_year_2013</th>\n",
              "      <th>first_r_year_2014</th>\n",
              "      <th>first_r_year_2015</th>\n",
              "      <th>first_r_year_2016</th>\n",
              "      <th>first_r_year_2017</th>\n",
              "      <th>first_r_year_2018</th>\n",
              "      <th>first_r_year_2019</th>\n",
              "      <th>first_r_year_2020</th>\n",
              "      <th>first_r_year_2021</th>\n",
              "      <th>dp_year_0</th>\n",
              "      <th>dp_year_2000</th>\n",
              "      <th>dp_year_2008</th>\n",
              "      <th>dp_year_2011</th>\n",
              "      <th>dp_year_2012</th>\n",
              "      <th>dp_year_2013</th>\n",
              "      <th>dp_year_2014</th>\n",
              "      <th>dp_year_2015</th>\n",
              "      <th>dp_year_2016</th>\n",
              "      <th>dp_year_2017</th>\n",
              "      <th>dp_year_2018</th>\n",
              "      <th>dp_year_2019</th>\n",
              "      <th>dp_year_2020</th>\n",
              "      <th>dp_year_2021</th>\n",
              "      <th>current_status_0</th>\n",
              "      <th>current_status_1</th>\n",
              "      <th>dp_last_round_year_0</th>\n",
              "      <th>dp_last_round_year_2000</th>\n",
              "      <th>dp_last_round_year_2008</th>\n",
              "      <th>dp_last_round_year_2011</th>\n",
              "      <th>dp_last_round_year_2012</th>\n",
              "      <th>dp_last_round_year_2013</th>\n",
              "      <th>dp_last_round_year_2014</th>\n",
              "      <th>dp_last_round_year_2015</th>\n",
              "      <th>dp_last_round_year_2016</th>\n",
              "      <th>dp_last_round_year_2017</th>\n",
              "      <th>dp_last_round_year_2018</th>\n",
              "      <th>dp_last_round_year_2019</th>\n",
              "      <th>dp_last_round_year_2020</th>\n",
              "      <th>dp_last_round_year_2021</th>\n",
              "    </tr>\n",
              "  </thead>\n",
              "  <tbody>\n",
              "    <tr>\n",
              "      <th>0</th>\n",
              "      <td>0.0</td>\n",
              "      <td>0.0</td>\n",
              "      <td>0.0</td>\n",
              "      <td>0.0</td>\n",
              "      <td>0.0</td>\n",
              "      <td>0.0</td>\n",
              "      <td>0.0</td>\n",
              "      <td>0.0</td>\n",
              "      <td>0.0</td>\n",
              "      <td>0.0</td>\n",
              "      <td>0.0</td>\n",
              "      <td>0.0</td>\n",
              "      <td>1.0</td>\n",
              "      <td>0.0</td>\n",
              "      <td>0.0</td>\n",
              "      <td>0.0</td>\n",
              "      <td>0.0</td>\n",
              "      <td>1.0</td>\n",
              "      <td>0.0</td>\n",
              "      <td>0.0</td>\n",
              "      <td>0.0</td>\n",
              "      <td>0.0</td>\n",
              "      <td>0.0</td>\n",
              "      <td>0.0</td>\n",
              "      <td>0.0</td>\n",
              "      <td>0.0</td>\n",
              "      <td>0.0</td>\n",
              "      <td>0.0</td>\n",
              "      <td>0.0</td>\n",
              "      <td>0.0</td>\n",
              "      <td>1.0</td>\n",
              "      <td>0.0</td>\n",
              "      <td>0.0</td>\n",
              "      <td>0.0</td>\n",
              "      <td>0.0</td>\n",
              "      <td>0.0</td>\n",
              "      <td>0.0</td>\n",
              "      <td>0.0</td>\n",
              "      <td>0.0</td>\n",
              "      <td>0.0</td>\n",
              "      <td>0.0</td>\n",
              "      <td>0.0</td>\n",
              "      <td>0.0</td>\n",
              "      <td>0.0</td>\n",
              "      <td>1.0</td>\n",
              "      <td>0.0</td>\n",
              "      <td>0.0</td>\n",
              "      <td>0.0</td>\n",
              "      <td>0.0</td>\n",
              "      <td>0.0</td>\n",
              "      <td>1.0</td>\n",
              "      <td>0.0</td>\n",
              "      <td>0.0</td>\n",
              "      <td>0.0</td>\n",
              "      <td>0.0</td>\n",
              "      <td>0.0</td>\n",
              "      <td>0.0</td>\n",
              "      <td>0.0</td>\n",
              "      <td>0.0</td>\n",
              "      <td>0.0</td>\n",
              "      <td>1.0</td>\n",
              "      <td>0.0</td>\n",
              "      <td>0.0</td>\n",
              "      <td>0.0</td>\n",
              "      <td>0.0</td>\n",
              "    </tr>\n",
              "    <tr>\n",
              "      <th>1</th>\n",
              "      <td>0.0</td>\n",
              "      <td>0.0</td>\n",
              "      <td>0.0</td>\n",
              "      <td>0.0</td>\n",
              "      <td>0.0</td>\n",
              "      <td>0.0</td>\n",
              "      <td>0.0</td>\n",
              "      <td>0.0</td>\n",
              "      <td>0.0</td>\n",
              "      <td>0.0</td>\n",
              "      <td>0.0</td>\n",
              "      <td>0.0</td>\n",
              "      <td>0.0</td>\n",
              "      <td>1.0</td>\n",
              "      <td>0.0</td>\n",
              "      <td>0.0</td>\n",
              "      <td>0.0</td>\n",
              "      <td>1.0</td>\n",
              "      <td>0.0</td>\n",
              "      <td>0.0</td>\n",
              "      <td>0.0</td>\n",
              "      <td>0.0</td>\n",
              "      <td>0.0</td>\n",
              "      <td>0.0</td>\n",
              "      <td>0.0</td>\n",
              "      <td>0.0</td>\n",
              "      <td>0.0</td>\n",
              "      <td>0.0</td>\n",
              "      <td>0.0</td>\n",
              "      <td>0.0</td>\n",
              "      <td>0.0</td>\n",
              "      <td>1.0</td>\n",
              "      <td>0.0</td>\n",
              "      <td>0.0</td>\n",
              "      <td>0.0</td>\n",
              "      <td>0.0</td>\n",
              "      <td>0.0</td>\n",
              "      <td>0.0</td>\n",
              "      <td>0.0</td>\n",
              "      <td>0.0</td>\n",
              "      <td>0.0</td>\n",
              "      <td>0.0</td>\n",
              "      <td>0.0</td>\n",
              "      <td>0.0</td>\n",
              "      <td>0.0</td>\n",
              "      <td>1.0</td>\n",
              "      <td>0.0</td>\n",
              "      <td>0.0</td>\n",
              "      <td>0.0</td>\n",
              "      <td>1.0</td>\n",
              "      <td>0.0</td>\n",
              "      <td>0.0</td>\n",
              "      <td>0.0</td>\n",
              "      <td>0.0</td>\n",
              "      <td>0.0</td>\n",
              "      <td>0.0</td>\n",
              "      <td>0.0</td>\n",
              "      <td>0.0</td>\n",
              "      <td>0.0</td>\n",
              "      <td>0.0</td>\n",
              "      <td>0.0</td>\n",
              "      <td>1.0</td>\n",
              "      <td>0.0</td>\n",
              "      <td>0.0</td>\n",
              "      <td>0.0</td>\n",
              "    </tr>\n",
              "    <tr>\n",
              "      <th>2</th>\n",
              "      <td>0.0</td>\n",
              "      <td>0.0</td>\n",
              "      <td>0.0</td>\n",
              "      <td>0.0</td>\n",
              "      <td>0.0</td>\n",
              "      <td>0.0</td>\n",
              "      <td>0.0</td>\n",
              "      <td>0.0</td>\n",
              "      <td>0.0</td>\n",
              "      <td>0.0</td>\n",
              "      <td>1.0</td>\n",
              "      <td>0.0</td>\n",
              "      <td>0.0</td>\n",
              "      <td>0.0</td>\n",
              "      <td>0.0</td>\n",
              "      <td>0.0</td>\n",
              "      <td>0.0</td>\n",
              "      <td>1.0</td>\n",
              "      <td>0.0</td>\n",
              "      <td>0.0</td>\n",
              "      <td>0.0</td>\n",
              "      <td>0.0</td>\n",
              "      <td>0.0</td>\n",
              "      <td>0.0</td>\n",
              "      <td>0.0</td>\n",
              "      <td>0.0</td>\n",
              "      <td>0.0</td>\n",
              "      <td>0.0</td>\n",
              "      <td>1.0</td>\n",
              "      <td>0.0</td>\n",
              "      <td>0.0</td>\n",
              "      <td>0.0</td>\n",
              "      <td>0.0</td>\n",
              "      <td>0.0</td>\n",
              "      <td>0.0</td>\n",
              "      <td>0.0</td>\n",
              "      <td>0.0</td>\n",
              "      <td>0.0</td>\n",
              "      <td>0.0</td>\n",
              "      <td>0.0</td>\n",
              "      <td>0.0</td>\n",
              "      <td>0.0</td>\n",
              "      <td>1.0</td>\n",
              "      <td>0.0</td>\n",
              "      <td>0.0</td>\n",
              "      <td>0.0</td>\n",
              "      <td>0.0</td>\n",
              "      <td>0.0</td>\n",
              "      <td>0.0</td>\n",
              "      <td>0.0</td>\n",
              "      <td>1.0</td>\n",
              "      <td>0.0</td>\n",
              "      <td>0.0</td>\n",
              "      <td>0.0</td>\n",
              "      <td>0.0</td>\n",
              "      <td>0.0</td>\n",
              "      <td>0.0</td>\n",
              "      <td>0.0</td>\n",
              "      <td>1.0</td>\n",
              "      <td>0.0</td>\n",
              "      <td>0.0</td>\n",
              "      <td>0.0</td>\n",
              "      <td>0.0</td>\n",
              "      <td>0.0</td>\n",
              "      <td>0.0</td>\n",
              "    </tr>\n",
              "    <tr>\n",
              "      <th>3</th>\n",
              "      <td>0.0</td>\n",
              "      <td>0.0</td>\n",
              "      <td>0.0</td>\n",
              "      <td>0.0</td>\n",
              "      <td>0.0</td>\n",
              "      <td>0.0</td>\n",
              "      <td>0.0</td>\n",
              "      <td>0.0</td>\n",
              "      <td>1.0</td>\n",
              "      <td>0.0</td>\n",
              "      <td>0.0</td>\n",
              "      <td>0.0</td>\n",
              "      <td>0.0</td>\n",
              "      <td>0.0</td>\n",
              "      <td>0.0</td>\n",
              "      <td>0.0</td>\n",
              "      <td>0.0</td>\n",
              "      <td>1.0</td>\n",
              "      <td>0.0</td>\n",
              "      <td>0.0</td>\n",
              "      <td>0.0</td>\n",
              "      <td>0.0</td>\n",
              "      <td>0.0</td>\n",
              "      <td>0.0</td>\n",
              "      <td>0.0</td>\n",
              "      <td>0.0</td>\n",
              "      <td>1.0</td>\n",
              "      <td>0.0</td>\n",
              "      <td>0.0</td>\n",
              "      <td>0.0</td>\n",
              "      <td>0.0</td>\n",
              "      <td>0.0</td>\n",
              "      <td>0.0</td>\n",
              "      <td>0.0</td>\n",
              "      <td>0.0</td>\n",
              "      <td>0.0</td>\n",
              "      <td>0.0</td>\n",
              "      <td>0.0</td>\n",
              "      <td>0.0</td>\n",
              "      <td>0.0</td>\n",
              "      <td>0.0</td>\n",
              "      <td>0.0</td>\n",
              "      <td>0.0</td>\n",
              "      <td>0.0</td>\n",
              "      <td>0.0</td>\n",
              "      <td>0.0</td>\n",
              "      <td>0.0</td>\n",
              "      <td>0.0</td>\n",
              "      <td>1.0</td>\n",
              "      <td>0.0</td>\n",
              "      <td>1.0</td>\n",
              "      <td>0.0</td>\n",
              "      <td>0.0</td>\n",
              "      <td>0.0</td>\n",
              "      <td>0.0</td>\n",
              "      <td>0.0</td>\n",
              "      <td>0.0</td>\n",
              "      <td>0.0</td>\n",
              "      <td>0.0</td>\n",
              "      <td>0.0</td>\n",
              "      <td>0.0</td>\n",
              "      <td>0.0</td>\n",
              "      <td>0.0</td>\n",
              "      <td>0.0</td>\n",
              "      <td>1.0</td>\n",
              "    </tr>\n",
              "    <tr>\n",
              "      <th>4</th>\n",
              "      <td>0.0</td>\n",
              "      <td>0.0</td>\n",
              "      <td>0.0</td>\n",
              "      <td>0.0</td>\n",
              "      <td>0.0</td>\n",
              "      <td>0.0</td>\n",
              "      <td>0.0</td>\n",
              "      <td>0.0</td>\n",
              "      <td>0.0</td>\n",
              "      <td>0.0</td>\n",
              "      <td>0.0</td>\n",
              "      <td>0.0</td>\n",
              "      <td>0.0</td>\n",
              "      <td>1.0</td>\n",
              "      <td>0.0</td>\n",
              "      <td>0.0</td>\n",
              "      <td>0.0</td>\n",
              "      <td>1.0</td>\n",
              "      <td>0.0</td>\n",
              "      <td>0.0</td>\n",
              "      <td>0.0</td>\n",
              "      <td>0.0</td>\n",
              "      <td>0.0</td>\n",
              "      <td>0.0</td>\n",
              "      <td>0.0</td>\n",
              "      <td>0.0</td>\n",
              "      <td>0.0</td>\n",
              "      <td>0.0</td>\n",
              "      <td>0.0</td>\n",
              "      <td>0.0</td>\n",
              "      <td>0.0</td>\n",
              "      <td>1.0</td>\n",
              "      <td>0.0</td>\n",
              "      <td>0.0</td>\n",
              "      <td>0.0</td>\n",
              "      <td>0.0</td>\n",
              "      <td>0.0</td>\n",
              "      <td>0.0</td>\n",
              "      <td>0.0</td>\n",
              "      <td>0.0</td>\n",
              "      <td>0.0</td>\n",
              "      <td>0.0</td>\n",
              "      <td>0.0</td>\n",
              "      <td>0.0</td>\n",
              "      <td>0.0</td>\n",
              "      <td>1.0</td>\n",
              "      <td>0.0</td>\n",
              "      <td>0.0</td>\n",
              "      <td>0.0</td>\n",
              "      <td>1.0</td>\n",
              "      <td>0.0</td>\n",
              "      <td>0.0</td>\n",
              "      <td>0.0</td>\n",
              "      <td>0.0</td>\n",
              "      <td>0.0</td>\n",
              "      <td>0.0</td>\n",
              "      <td>0.0</td>\n",
              "      <td>0.0</td>\n",
              "      <td>0.0</td>\n",
              "      <td>0.0</td>\n",
              "      <td>0.0</td>\n",
              "      <td>1.0</td>\n",
              "      <td>0.0</td>\n",
              "      <td>0.0</td>\n",
              "      <td>0.0</td>\n",
              "    </tr>\n",
              "  </tbody>\n",
              "</table>\n",
              "</div>"
            ],
            "text/plain": [
              "   foundation_year_2000  ...  dp_last_round_year_2021\n",
              "0                   0.0  ...                      0.0\n",
              "1                   0.0  ...                      0.0\n",
              "2                   0.0  ...                      0.0\n",
              "3                   0.0  ...                      1.0\n",
              "4                   0.0  ...                      0.0\n",
              "\n",
              "[5 rows x 65 columns]"
            ]
          },
          "metadata": {},
          "execution_count": 21
        }
      ]
    },
    {
      "cell_type": "code",
      "metadata": {
        "colab": {
          "base_uri": "https://localhost:8080/",
          "height": 251
        },
        "id": "u6AHlu8UVcpH",
        "outputId": "314c500f-e9a7-4e76-f317-82e2c8812a8a"
      },
      "source": [
        "# Merge one-hot encoded features and drop the originals\n",
        "db_companies_Encode_Model = db_companies_Encode_Model.merge(encode_df,left_index=True, right_index=True)\n",
        "db_companies_Encode_Model = db_companies_Encode_Model.drop(db_companies_cat,1)\n",
        "db_companies_Encode_Model.head()"
      ],
      "execution_count": 22,
      "outputs": [
        {
          "output_type": "execute_result",
          "data": {
            "text/html": [
              "<div>\n",
              "<style scoped>\n",
              "    .dataframe tbody tr th:only-of-type {\n",
              "        vertical-align: middle;\n",
              "    }\n",
              "\n",
              "    .dataframe tbody tr th {\n",
              "        vertical-align: top;\n",
              "    }\n",
              "\n",
              "    .dataframe thead th {\n",
              "        text-align: right;\n",
              "    }\n",
              "</style>\n",
              "<table border=\"1\" class=\"dataframe\">\n",
              "  <thead>\n",
              "    <tr style=\"text-align: right;\">\n",
              "      <th></th>\n",
              "      <th>id_company</th>\n",
              "      <th>first_r_amount</th>\n",
              "      <th>rounds_funding_factor</th>\n",
              "      <th>soonicorn</th>\n",
              "      <th>more50_employees</th>\n",
              "      <th>more100_employees</th>\n",
              "      <th>dp_rounds_count</th>\n",
              "      <th>dp_rounds_amount_sum</th>\n",
              "      <th>dp_rounds_amount_max</th>\n",
              "      <th>dp_last_round_amount</th>\n",
              "      <th>dp_years_operating</th>\n",
              "      <th>sum_manager_exp</th>\n",
              "      <th>sum_clevel_exp</th>\n",
              "      <th>sum_engineering_exp</th>\n",
              "      <th>sum_sales_exp</th>\n",
              "      <th>sum_finance_exp</th>\n",
              "      <th>sum_human_capital_exp</th>\n",
              "      <th>sum_consulting_exp</th>\n",
              "      <th>sum_founder_exp</th>\n",
              "      <th>sum_number_of_startups</th>\n",
              "      <th>sum_gender</th>\n",
              "      <th>sum_foreing_studies</th>\n",
              "      <th>sum_foreing_work_experience</th>\n",
              "      <th>sum_foreing_founder</th>\n",
              "      <th>sum_dp_years_of_experience</th>\n",
              "      <th>sum_dp_years_of_experience_as_entreprenuer</th>\n",
              "      <th>foundation_year_2000</th>\n",
              "      <th>foundation_year_2004</th>\n",
              "      <th>foundation_year_2006</th>\n",
              "      <th>foundation_year_2008</th>\n",
              "      <th>foundation_year_2009</th>\n",
              "      <th>foundation_year_2010</th>\n",
              "      <th>foundation_year_2011</th>\n",
              "      <th>foundation_year_2012</th>\n",
              "      <th>foundation_year_2013</th>\n",
              "      <th>foundation_year_2014</th>\n",
              "      <th>foundation_year_2015</th>\n",
              "      <th>foundation_year_2016</th>\n",
              "      <th>foundation_year_2017</th>\n",
              "      <th>foundation_year_2018</th>\n",
              "      <th>...</th>\n",
              "      <th>first_r_year_2012</th>\n",
              "      <th>first_r_year_2013</th>\n",
              "      <th>first_r_year_2014</th>\n",
              "      <th>first_r_year_2015</th>\n",
              "      <th>first_r_year_2016</th>\n",
              "      <th>first_r_year_2017</th>\n",
              "      <th>first_r_year_2018</th>\n",
              "      <th>first_r_year_2019</th>\n",
              "      <th>first_r_year_2020</th>\n",
              "      <th>first_r_year_2021</th>\n",
              "      <th>dp_year_0</th>\n",
              "      <th>dp_year_2000</th>\n",
              "      <th>dp_year_2008</th>\n",
              "      <th>dp_year_2011</th>\n",
              "      <th>dp_year_2012</th>\n",
              "      <th>dp_year_2013</th>\n",
              "      <th>dp_year_2014</th>\n",
              "      <th>dp_year_2015</th>\n",
              "      <th>dp_year_2016</th>\n",
              "      <th>dp_year_2017</th>\n",
              "      <th>dp_year_2018</th>\n",
              "      <th>dp_year_2019</th>\n",
              "      <th>dp_year_2020</th>\n",
              "      <th>dp_year_2021</th>\n",
              "      <th>current_status_0</th>\n",
              "      <th>current_status_1</th>\n",
              "      <th>dp_last_round_year_0</th>\n",
              "      <th>dp_last_round_year_2000</th>\n",
              "      <th>dp_last_round_year_2008</th>\n",
              "      <th>dp_last_round_year_2011</th>\n",
              "      <th>dp_last_round_year_2012</th>\n",
              "      <th>dp_last_round_year_2013</th>\n",
              "      <th>dp_last_round_year_2014</th>\n",
              "      <th>dp_last_round_year_2015</th>\n",
              "      <th>dp_last_round_year_2016</th>\n",
              "      <th>dp_last_round_year_2017</th>\n",
              "      <th>dp_last_round_year_2018</th>\n",
              "      <th>dp_last_round_year_2019</th>\n",
              "      <th>dp_last_round_year_2020</th>\n",
              "      <th>dp_last_round_year_2021</th>\n",
              "    </tr>\n",
              "  </thead>\n",
              "  <tbody>\n",
              "    <tr>\n",
              "      <th>0</th>\n",
              "      <td>3</td>\n",
              "      <td>1400000</td>\n",
              "      <td>4.0</td>\n",
              "      <td>0</td>\n",
              "      <td>0</td>\n",
              "      <td>0</td>\n",
              "      <td>1</td>\n",
              "      <td>1400000</td>\n",
              "      <td>1400000</td>\n",
              "      <td>1400000</td>\n",
              "      <td>0</td>\n",
              "      <td>1</td>\n",
              "      <td>1</td>\n",
              "      <td>0</td>\n",
              "      <td>0</td>\n",
              "      <td>0</td>\n",
              "      <td>0</td>\n",
              "      <td>0</td>\n",
              "      <td>2</td>\n",
              "      <td>4</td>\n",
              "      <td>2</td>\n",
              "      <td>1</td>\n",
              "      <td>0</td>\n",
              "      <td>0</td>\n",
              "      <td>22</td>\n",
              "      <td>15</td>\n",
              "      <td>0.0</td>\n",
              "      <td>0.0</td>\n",
              "      <td>0.0</td>\n",
              "      <td>0.0</td>\n",
              "      <td>0.0</td>\n",
              "      <td>0.0</td>\n",
              "      <td>0.0</td>\n",
              "      <td>0.0</td>\n",
              "      <td>0.0</td>\n",
              "      <td>0.0</td>\n",
              "      <td>0.0</td>\n",
              "      <td>0.0</td>\n",
              "      <td>1.0</td>\n",
              "      <td>0.0</td>\n",
              "      <td>...</td>\n",
              "      <td>0.0</td>\n",
              "      <td>0.0</td>\n",
              "      <td>0.0</td>\n",
              "      <td>0.0</td>\n",
              "      <td>0.0</td>\n",
              "      <td>1.0</td>\n",
              "      <td>0.0</td>\n",
              "      <td>0.0</td>\n",
              "      <td>0.0</td>\n",
              "      <td>0.0</td>\n",
              "      <td>0.0</td>\n",
              "      <td>0.0</td>\n",
              "      <td>0.0</td>\n",
              "      <td>0.0</td>\n",
              "      <td>0.0</td>\n",
              "      <td>0.0</td>\n",
              "      <td>0.0</td>\n",
              "      <td>0.0</td>\n",
              "      <td>0.0</td>\n",
              "      <td>1.0</td>\n",
              "      <td>0.0</td>\n",
              "      <td>0.0</td>\n",
              "      <td>0.0</td>\n",
              "      <td>0.0</td>\n",
              "      <td>0.0</td>\n",
              "      <td>1.0</td>\n",
              "      <td>0.0</td>\n",
              "      <td>0.0</td>\n",
              "      <td>0.0</td>\n",
              "      <td>0.0</td>\n",
              "      <td>0.0</td>\n",
              "      <td>0.0</td>\n",
              "      <td>0.0</td>\n",
              "      <td>0.0</td>\n",
              "      <td>0.0</td>\n",
              "      <td>1.0</td>\n",
              "      <td>0.0</td>\n",
              "      <td>0.0</td>\n",
              "      <td>0.0</td>\n",
              "      <td>0.0</td>\n",
              "    </tr>\n",
              "    <tr>\n",
              "      <th>1</th>\n",
              "      <td>7</td>\n",
              "      <td>10500</td>\n",
              "      <td>3.0</td>\n",
              "      <td>0</td>\n",
              "      <td>0</td>\n",
              "      <td>0</td>\n",
              "      <td>1</td>\n",
              "      <td>10500</td>\n",
              "      <td>10500</td>\n",
              "      <td>10500</td>\n",
              "      <td>0</td>\n",
              "      <td>1</td>\n",
              "      <td>1</td>\n",
              "      <td>0</td>\n",
              "      <td>0</td>\n",
              "      <td>0</td>\n",
              "      <td>0</td>\n",
              "      <td>0</td>\n",
              "      <td>1</td>\n",
              "      <td>4</td>\n",
              "      <td>1</td>\n",
              "      <td>0</td>\n",
              "      <td>0</td>\n",
              "      <td>0</td>\n",
              "      <td>10</td>\n",
              "      <td>9</td>\n",
              "      <td>0.0</td>\n",
              "      <td>0.0</td>\n",
              "      <td>0.0</td>\n",
              "      <td>0.0</td>\n",
              "      <td>0.0</td>\n",
              "      <td>0.0</td>\n",
              "      <td>0.0</td>\n",
              "      <td>0.0</td>\n",
              "      <td>0.0</td>\n",
              "      <td>0.0</td>\n",
              "      <td>0.0</td>\n",
              "      <td>0.0</td>\n",
              "      <td>0.0</td>\n",
              "      <td>1.0</td>\n",
              "      <td>...</td>\n",
              "      <td>0.0</td>\n",
              "      <td>0.0</td>\n",
              "      <td>0.0</td>\n",
              "      <td>0.0</td>\n",
              "      <td>0.0</td>\n",
              "      <td>0.0</td>\n",
              "      <td>1.0</td>\n",
              "      <td>0.0</td>\n",
              "      <td>0.0</td>\n",
              "      <td>0.0</td>\n",
              "      <td>0.0</td>\n",
              "      <td>0.0</td>\n",
              "      <td>0.0</td>\n",
              "      <td>0.0</td>\n",
              "      <td>0.0</td>\n",
              "      <td>0.0</td>\n",
              "      <td>0.0</td>\n",
              "      <td>0.0</td>\n",
              "      <td>0.0</td>\n",
              "      <td>0.0</td>\n",
              "      <td>1.0</td>\n",
              "      <td>0.0</td>\n",
              "      <td>0.0</td>\n",
              "      <td>0.0</td>\n",
              "      <td>1.0</td>\n",
              "      <td>0.0</td>\n",
              "      <td>0.0</td>\n",
              "      <td>0.0</td>\n",
              "      <td>0.0</td>\n",
              "      <td>0.0</td>\n",
              "      <td>0.0</td>\n",
              "      <td>0.0</td>\n",
              "      <td>0.0</td>\n",
              "      <td>0.0</td>\n",
              "      <td>0.0</td>\n",
              "      <td>0.0</td>\n",
              "      <td>1.0</td>\n",
              "      <td>0.0</td>\n",
              "      <td>0.0</td>\n",
              "      <td>0.0</td>\n",
              "    </tr>\n",
              "    <tr>\n",
              "      <th>2</th>\n",
              "      <td>10</td>\n",
              "      <td>200000</td>\n",
              "      <td>6.0</td>\n",
              "      <td>0</td>\n",
              "      <td>0</td>\n",
              "      <td>0</td>\n",
              "      <td>1</td>\n",
              "      <td>200000</td>\n",
              "      <td>200000</td>\n",
              "      <td>200000</td>\n",
              "      <td>0</td>\n",
              "      <td>1</td>\n",
              "      <td>1</td>\n",
              "      <td>0</td>\n",
              "      <td>0</td>\n",
              "      <td>0</td>\n",
              "      <td>0</td>\n",
              "      <td>0</td>\n",
              "      <td>1</td>\n",
              "      <td>1</td>\n",
              "      <td>1</td>\n",
              "      <td>0</td>\n",
              "      <td>0</td>\n",
              "      <td>0</td>\n",
              "      <td>12</td>\n",
              "      <td>2</td>\n",
              "      <td>0.0</td>\n",
              "      <td>0.0</td>\n",
              "      <td>0.0</td>\n",
              "      <td>0.0</td>\n",
              "      <td>0.0</td>\n",
              "      <td>0.0</td>\n",
              "      <td>0.0</td>\n",
              "      <td>0.0</td>\n",
              "      <td>0.0</td>\n",
              "      <td>0.0</td>\n",
              "      <td>1.0</td>\n",
              "      <td>0.0</td>\n",
              "      <td>0.0</td>\n",
              "      <td>0.0</td>\n",
              "      <td>...</td>\n",
              "      <td>0.0</td>\n",
              "      <td>0.0</td>\n",
              "      <td>0.0</td>\n",
              "      <td>1.0</td>\n",
              "      <td>0.0</td>\n",
              "      <td>0.0</td>\n",
              "      <td>0.0</td>\n",
              "      <td>0.0</td>\n",
              "      <td>0.0</td>\n",
              "      <td>0.0</td>\n",
              "      <td>0.0</td>\n",
              "      <td>0.0</td>\n",
              "      <td>0.0</td>\n",
              "      <td>0.0</td>\n",
              "      <td>0.0</td>\n",
              "      <td>0.0</td>\n",
              "      <td>0.0</td>\n",
              "      <td>1.0</td>\n",
              "      <td>0.0</td>\n",
              "      <td>0.0</td>\n",
              "      <td>0.0</td>\n",
              "      <td>0.0</td>\n",
              "      <td>0.0</td>\n",
              "      <td>0.0</td>\n",
              "      <td>0.0</td>\n",
              "      <td>1.0</td>\n",
              "      <td>0.0</td>\n",
              "      <td>0.0</td>\n",
              "      <td>0.0</td>\n",
              "      <td>0.0</td>\n",
              "      <td>0.0</td>\n",
              "      <td>0.0</td>\n",
              "      <td>0.0</td>\n",
              "      <td>1.0</td>\n",
              "      <td>0.0</td>\n",
              "      <td>0.0</td>\n",
              "      <td>0.0</td>\n",
              "      <td>0.0</td>\n",
              "      <td>0.0</td>\n",
              "      <td>0.0</td>\n",
              "    </tr>\n",
              "    <tr>\n",
              "      <th>3</th>\n",
              "      <td>23</td>\n",
              "      <td>150000</td>\n",
              "      <td>0.0</td>\n",
              "      <td>1</td>\n",
              "      <td>1</td>\n",
              "      <td>1</td>\n",
              "      <td>5</td>\n",
              "      <td>54800000</td>\n",
              "      <td>40000000</td>\n",
              "      <td>40000000</td>\n",
              "      <td>8</td>\n",
              "      <td>0</td>\n",
              "      <td>1</td>\n",
              "      <td>0</td>\n",
              "      <td>0</td>\n",
              "      <td>0</td>\n",
              "      <td>0</td>\n",
              "      <td>0</td>\n",
              "      <td>1</td>\n",
              "      <td>2</td>\n",
              "      <td>1</td>\n",
              "      <td>0</td>\n",
              "      <td>0</td>\n",
              "      <td>0</td>\n",
              "      <td>11</td>\n",
              "      <td>4</td>\n",
              "      <td>0.0</td>\n",
              "      <td>0.0</td>\n",
              "      <td>0.0</td>\n",
              "      <td>0.0</td>\n",
              "      <td>0.0</td>\n",
              "      <td>0.0</td>\n",
              "      <td>0.0</td>\n",
              "      <td>0.0</td>\n",
              "      <td>1.0</td>\n",
              "      <td>0.0</td>\n",
              "      <td>0.0</td>\n",
              "      <td>0.0</td>\n",
              "      <td>0.0</td>\n",
              "      <td>0.0</td>\n",
              "      <td>...</td>\n",
              "      <td>0.0</td>\n",
              "      <td>1.0</td>\n",
              "      <td>0.0</td>\n",
              "      <td>0.0</td>\n",
              "      <td>0.0</td>\n",
              "      <td>0.0</td>\n",
              "      <td>0.0</td>\n",
              "      <td>0.0</td>\n",
              "      <td>0.0</td>\n",
              "      <td>0.0</td>\n",
              "      <td>0.0</td>\n",
              "      <td>0.0</td>\n",
              "      <td>0.0</td>\n",
              "      <td>0.0</td>\n",
              "      <td>0.0</td>\n",
              "      <td>0.0</td>\n",
              "      <td>0.0</td>\n",
              "      <td>0.0</td>\n",
              "      <td>0.0</td>\n",
              "      <td>0.0</td>\n",
              "      <td>0.0</td>\n",
              "      <td>0.0</td>\n",
              "      <td>0.0</td>\n",
              "      <td>1.0</td>\n",
              "      <td>0.0</td>\n",
              "      <td>1.0</td>\n",
              "      <td>0.0</td>\n",
              "      <td>0.0</td>\n",
              "      <td>0.0</td>\n",
              "      <td>0.0</td>\n",
              "      <td>0.0</td>\n",
              "      <td>0.0</td>\n",
              "      <td>0.0</td>\n",
              "      <td>0.0</td>\n",
              "      <td>0.0</td>\n",
              "      <td>0.0</td>\n",
              "      <td>0.0</td>\n",
              "      <td>0.0</td>\n",
              "      <td>0.0</td>\n",
              "      <td>1.0</td>\n",
              "    </tr>\n",
              "    <tr>\n",
              "      <th>4</th>\n",
              "      <td>51</td>\n",
              "      <td>20000</td>\n",
              "      <td>3.0</td>\n",
              "      <td>0</td>\n",
              "      <td>0</td>\n",
              "      <td>0</td>\n",
              "      <td>1</td>\n",
              "      <td>20000</td>\n",
              "      <td>20000</td>\n",
              "      <td>20000</td>\n",
              "      <td>0</td>\n",
              "      <td>0</td>\n",
              "      <td>1</td>\n",
              "      <td>1</td>\n",
              "      <td>0</td>\n",
              "      <td>0</td>\n",
              "      <td>0</td>\n",
              "      <td>0</td>\n",
              "      <td>0</td>\n",
              "      <td>1</td>\n",
              "      <td>1</td>\n",
              "      <td>1</td>\n",
              "      <td>0</td>\n",
              "      <td>0</td>\n",
              "      <td>5</td>\n",
              "      <td>0</td>\n",
              "      <td>0.0</td>\n",
              "      <td>0.0</td>\n",
              "      <td>0.0</td>\n",
              "      <td>0.0</td>\n",
              "      <td>0.0</td>\n",
              "      <td>0.0</td>\n",
              "      <td>0.0</td>\n",
              "      <td>0.0</td>\n",
              "      <td>0.0</td>\n",
              "      <td>0.0</td>\n",
              "      <td>0.0</td>\n",
              "      <td>0.0</td>\n",
              "      <td>0.0</td>\n",
              "      <td>1.0</td>\n",
              "      <td>...</td>\n",
              "      <td>0.0</td>\n",
              "      <td>0.0</td>\n",
              "      <td>0.0</td>\n",
              "      <td>0.0</td>\n",
              "      <td>0.0</td>\n",
              "      <td>0.0</td>\n",
              "      <td>1.0</td>\n",
              "      <td>0.0</td>\n",
              "      <td>0.0</td>\n",
              "      <td>0.0</td>\n",
              "      <td>0.0</td>\n",
              "      <td>0.0</td>\n",
              "      <td>0.0</td>\n",
              "      <td>0.0</td>\n",
              "      <td>0.0</td>\n",
              "      <td>0.0</td>\n",
              "      <td>0.0</td>\n",
              "      <td>0.0</td>\n",
              "      <td>0.0</td>\n",
              "      <td>0.0</td>\n",
              "      <td>1.0</td>\n",
              "      <td>0.0</td>\n",
              "      <td>0.0</td>\n",
              "      <td>0.0</td>\n",
              "      <td>1.0</td>\n",
              "      <td>0.0</td>\n",
              "      <td>0.0</td>\n",
              "      <td>0.0</td>\n",
              "      <td>0.0</td>\n",
              "      <td>0.0</td>\n",
              "      <td>0.0</td>\n",
              "      <td>0.0</td>\n",
              "      <td>0.0</td>\n",
              "      <td>0.0</td>\n",
              "      <td>0.0</td>\n",
              "      <td>0.0</td>\n",
              "      <td>1.0</td>\n",
              "      <td>0.0</td>\n",
              "      <td>0.0</td>\n",
              "      <td>0.0</td>\n",
              "    </tr>\n",
              "  </tbody>\n",
              "</table>\n",
              "<p>5 rows × 91 columns</p>\n",
              "</div>"
            ],
            "text/plain": [
              "   id_company  first_r_amount  ...  dp_last_round_year_2020  dp_last_round_year_2021\n",
              "0           3         1400000  ...                      0.0                      0.0\n",
              "1           7           10500  ...                      0.0                      0.0\n",
              "2          10          200000  ...                      0.0                      0.0\n",
              "3          23          150000  ...                      0.0                      1.0\n",
              "4          51           20000  ...                      0.0                      0.0\n",
              "\n",
              "[5 rows x 91 columns]"
            ]
          },
          "metadata": {},
          "execution_count": 22
        }
      ]
    },
    {
      "cell_type": "code",
      "metadata": {
        "colab": {
          "base_uri": "https://localhost:8080/",
          "height": 251
        },
        "id": "tZvFLM3BXyix",
        "outputId": "9a40dc46-ba43-4ebd-b422-df33341bb45b"
      },
      "source": [
        "db_companies_Encode_Model.drop(\"id_company\",axis='columns', inplace=True)\n",
        "db_companies_Encode_Model.head()"
      ],
      "execution_count": 23,
      "outputs": [
        {
          "output_type": "execute_result",
          "data": {
            "text/html": [
              "<div>\n",
              "<style scoped>\n",
              "    .dataframe tbody tr th:only-of-type {\n",
              "        vertical-align: middle;\n",
              "    }\n",
              "\n",
              "    .dataframe tbody tr th {\n",
              "        vertical-align: top;\n",
              "    }\n",
              "\n",
              "    .dataframe thead th {\n",
              "        text-align: right;\n",
              "    }\n",
              "</style>\n",
              "<table border=\"1\" class=\"dataframe\">\n",
              "  <thead>\n",
              "    <tr style=\"text-align: right;\">\n",
              "      <th></th>\n",
              "      <th>first_r_amount</th>\n",
              "      <th>rounds_funding_factor</th>\n",
              "      <th>soonicorn</th>\n",
              "      <th>more50_employees</th>\n",
              "      <th>more100_employees</th>\n",
              "      <th>dp_rounds_count</th>\n",
              "      <th>dp_rounds_amount_sum</th>\n",
              "      <th>dp_rounds_amount_max</th>\n",
              "      <th>dp_last_round_amount</th>\n",
              "      <th>dp_years_operating</th>\n",
              "      <th>sum_manager_exp</th>\n",
              "      <th>sum_clevel_exp</th>\n",
              "      <th>sum_engineering_exp</th>\n",
              "      <th>sum_sales_exp</th>\n",
              "      <th>sum_finance_exp</th>\n",
              "      <th>sum_human_capital_exp</th>\n",
              "      <th>sum_consulting_exp</th>\n",
              "      <th>sum_founder_exp</th>\n",
              "      <th>sum_number_of_startups</th>\n",
              "      <th>sum_gender</th>\n",
              "      <th>sum_foreing_studies</th>\n",
              "      <th>sum_foreing_work_experience</th>\n",
              "      <th>sum_foreing_founder</th>\n",
              "      <th>sum_dp_years_of_experience</th>\n",
              "      <th>sum_dp_years_of_experience_as_entreprenuer</th>\n",
              "      <th>foundation_year_2000</th>\n",
              "      <th>foundation_year_2004</th>\n",
              "      <th>foundation_year_2006</th>\n",
              "      <th>foundation_year_2008</th>\n",
              "      <th>foundation_year_2009</th>\n",
              "      <th>foundation_year_2010</th>\n",
              "      <th>foundation_year_2011</th>\n",
              "      <th>foundation_year_2012</th>\n",
              "      <th>foundation_year_2013</th>\n",
              "      <th>foundation_year_2014</th>\n",
              "      <th>foundation_year_2015</th>\n",
              "      <th>foundation_year_2016</th>\n",
              "      <th>foundation_year_2017</th>\n",
              "      <th>foundation_year_2018</th>\n",
              "      <th>foundation_year_2019</th>\n",
              "      <th>...</th>\n",
              "      <th>first_r_year_2012</th>\n",
              "      <th>first_r_year_2013</th>\n",
              "      <th>first_r_year_2014</th>\n",
              "      <th>first_r_year_2015</th>\n",
              "      <th>first_r_year_2016</th>\n",
              "      <th>first_r_year_2017</th>\n",
              "      <th>first_r_year_2018</th>\n",
              "      <th>first_r_year_2019</th>\n",
              "      <th>first_r_year_2020</th>\n",
              "      <th>first_r_year_2021</th>\n",
              "      <th>dp_year_0</th>\n",
              "      <th>dp_year_2000</th>\n",
              "      <th>dp_year_2008</th>\n",
              "      <th>dp_year_2011</th>\n",
              "      <th>dp_year_2012</th>\n",
              "      <th>dp_year_2013</th>\n",
              "      <th>dp_year_2014</th>\n",
              "      <th>dp_year_2015</th>\n",
              "      <th>dp_year_2016</th>\n",
              "      <th>dp_year_2017</th>\n",
              "      <th>dp_year_2018</th>\n",
              "      <th>dp_year_2019</th>\n",
              "      <th>dp_year_2020</th>\n",
              "      <th>dp_year_2021</th>\n",
              "      <th>current_status_0</th>\n",
              "      <th>current_status_1</th>\n",
              "      <th>dp_last_round_year_0</th>\n",
              "      <th>dp_last_round_year_2000</th>\n",
              "      <th>dp_last_round_year_2008</th>\n",
              "      <th>dp_last_round_year_2011</th>\n",
              "      <th>dp_last_round_year_2012</th>\n",
              "      <th>dp_last_round_year_2013</th>\n",
              "      <th>dp_last_round_year_2014</th>\n",
              "      <th>dp_last_round_year_2015</th>\n",
              "      <th>dp_last_round_year_2016</th>\n",
              "      <th>dp_last_round_year_2017</th>\n",
              "      <th>dp_last_round_year_2018</th>\n",
              "      <th>dp_last_round_year_2019</th>\n",
              "      <th>dp_last_round_year_2020</th>\n",
              "      <th>dp_last_round_year_2021</th>\n",
              "    </tr>\n",
              "  </thead>\n",
              "  <tbody>\n",
              "    <tr>\n",
              "      <th>0</th>\n",
              "      <td>1400000</td>\n",
              "      <td>4.0</td>\n",
              "      <td>0</td>\n",
              "      <td>0</td>\n",
              "      <td>0</td>\n",
              "      <td>1</td>\n",
              "      <td>1400000</td>\n",
              "      <td>1400000</td>\n",
              "      <td>1400000</td>\n",
              "      <td>0</td>\n",
              "      <td>1</td>\n",
              "      <td>1</td>\n",
              "      <td>0</td>\n",
              "      <td>0</td>\n",
              "      <td>0</td>\n",
              "      <td>0</td>\n",
              "      <td>0</td>\n",
              "      <td>2</td>\n",
              "      <td>4</td>\n",
              "      <td>2</td>\n",
              "      <td>1</td>\n",
              "      <td>0</td>\n",
              "      <td>0</td>\n",
              "      <td>22</td>\n",
              "      <td>15</td>\n",
              "      <td>0.0</td>\n",
              "      <td>0.0</td>\n",
              "      <td>0.0</td>\n",
              "      <td>0.0</td>\n",
              "      <td>0.0</td>\n",
              "      <td>0.0</td>\n",
              "      <td>0.0</td>\n",
              "      <td>0.0</td>\n",
              "      <td>0.0</td>\n",
              "      <td>0.0</td>\n",
              "      <td>0.0</td>\n",
              "      <td>0.0</td>\n",
              "      <td>1.0</td>\n",
              "      <td>0.0</td>\n",
              "      <td>0.0</td>\n",
              "      <td>...</td>\n",
              "      <td>0.0</td>\n",
              "      <td>0.0</td>\n",
              "      <td>0.0</td>\n",
              "      <td>0.0</td>\n",
              "      <td>0.0</td>\n",
              "      <td>1.0</td>\n",
              "      <td>0.0</td>\n",
              "      <td>0.0</td>\n",
              "      <td>0.0</td>\n",
              "      <td>0.0</td>\n",
              "      <td>0.0</td>\n",
              "      <td>0.0</td>\n",
              "      <td>0.0</td>\n",
              "      <td>0.0</td>\n",
              "      <td>0.0</td>\n",
              "      <td>0.0</td>\n",
              "      <td>0.0</td>\n",
              "      <td>0.0</td>\n",
              "      <td>0.0</td>\n",
              "      <td>1.0</td>\n",
              "      <td>0.0</td>\n",
              "      <td>0.0</td>\n",
              "      <td>0.0</td>\n",
              "      <td>0.0</td>\n",
              "      <td>0.0</td>\n",
              "      <td>1.0</td>\n",
              "      <td>0.0</td>\n",
              "      <td>0.0</td>\n",
              "      <td>0.0</td>\n",
              "      <td>0.0</td>\n",
              "      <td>0.0</td>\n",
              "      <td>0.0</td>\n",
              "      <td>0.0</td>\n",
              "      <td>0.0</td>\n",
              "      <td>0.0</td>\n",
              "      <td>1.0</td>\n",
              "      <td>0.0</td>\n",
              "      <td>0.0</td>\n",
              "      <td>0.0</td>\n",
              "      <td>0.0</td>\n",
              "    </tr>\n",
              "    <tr>\n",
              "      <th>1</th>\n",
              "      <td>10500</td>\n",
              "      <td>3.0</td>\n",
              "      <td>0</td>\n",
              "      <td>0</td>\n",
              "      <td>0</td>\n",
              "      <td>1</td>\n",
              "      <td>10500</td>\n",
              "      <td>10500</td>\n",
              "      <td>10500</td>\n",
              "      <td>0</td>\n",
              "      <td>1</td>\n",
              "      <td>1</td>\n",
              "      <td>0</td>\n",
              "      <td>0</td>\n",
              "      <td>0</td>\n",
              "      <td>0</td>\n",
              "      <td>0</td>\n",
              "      <td>1</td>\n",
              "      <td>4</td>\n",
              "      <td>1</td>\n",
              "      <td>0</td>\n",
              "      <td>0</td>\n",
              "      <td>0</td>\n",
              "      <td>10</td>\n",
              "      <td>9</td>\n",
              "      <td>0.0</td>\n",
              "      <td>0.0</td>\n",
              "      <td>0.0</td>\n",
              "      <td>0.0</td>\n",
              "      <td>0.0</td>\n",
              "      <td>0.0</td>\n",
              "      <td>0.0</td>\n",
              "      <td>0.0</td>\n",
              "      <td>0.0</td>\n",
              "      <td>0.0</td>\n",
              "      <td>0.0</td>\n",
              "      <td>0.0</td>\n",
              "      <td>0.0</td>\n",
              "      <td>1.0</td>\n",
              "      <td>0.0</td>\n",
              "      <td>...</td>\n",
              "      <td>0.0</td>\n",
              "      <td>0.0</td>\n",
              "      <td>0.0</td>\n",
              "      <td>0.0</td>\n",
              "      <td>0.0</td>\n",
              "      <td>0.0</td>\n",
              "      <td>1.0</td>\n",
              "      <td>0.0</td>\n",
              "      <td>0.0</td>\n",
              "      <td>0.0</td>\n",
              "      <td>0.0</td>\n",
              "      <td>0.0</td>\n",
              "      <td>0.0</td>\n",
              "      <td>0.0</td>\n",
              "      <td>0.0</td>\n",
              "      <td>0.0</td>\n",
              "      <td>0.0</td>\n",
              "      <td>0.0</td>\n",
              "      <td>0.0</td>\n",
              "      <td>0.0</td>\n",
              "      <td>1.0</td>\n",
              "      <td>0.0</td>\n",
              "      <td>0.0</td>\n",
              "      <td>0.0</td>\n",
              "      <td>1.0</td>\n",
              "      <td>0.0</td>\n",
              "      <td>0.0</td>\n",
              "      <td>0.0</td>\n",
              "      <td>0.0</td>\n",
              "      <td>0.0</td>\n",
              "      <td>0.0</td>\n",
              "      <td>0.0</td>\n",
              "      <td>0.0</td>\n",
              "      <td>0.0</td>\n",
              "      <td>0.0</td>\n",
              "      <td>0.0</td>\n",
              "      <td>1.0</td>\n",
              "      <td>0.0</td>\n",
              "      <td>0.0</td>\n",
              "      <td>0.0</td>\n",
              "    </tr>\n",
              "    <tr>\n",
              "      <th>2</th>\n",
              "      <td>200000</td>\n",
              "      <td>6.0</td>\n",
              "      <td>0</td>\n",
              "      <td>0</td>\n",
              "      <td>0</td>\n",
              "      <td>1</td>\n",
              "      <td>200000</td>\n",
              "      <td>200000</td>\n",
              "      <td>200000</td>\n",
              "      <td>0</td>\n",
              "      <td>1</td>\n",
              "      <td>1</td>\n",
              "      <td>0</td>\n",
              "      <td>0</td>\n",
              "      <td>0</td>\n",
              "      <td>0</td>\n",
              "      <td>0</td>\n",
              "      <td>1</td>\n",
              "      <td>1</td>\n",
              "      <td>1</td>\n",
              "      <td>0</td>\n",
              "      <td>0</td>\n",
              "      <td>0</td>\n",
              "      <td>12</td>\n",
              "      <td>2</td>\n",
              "      <td>0.0</td>\n",
              "      <td>0.0</td>\n",
              "      <td>0.0</td>\n",
              "      <td>0.0</td>\n",
              "      <td>0.0</td>\n",
              "      <td>0.0</td>\n",
              "      <td>0.0</td>\n",
              "      <td>0.0</td>\n",
              "      <td>0.0</td>\n",
              "      <td>0.0</td>\n",
              "      <td>1.0</td>\n",
              "      <td>0.0</td>\n",
              "      <td>0.0</td>\n",
              "      <td>0.0</td>\n",
              "      <td>0.0</td>\n",
              "      <td>...</td>\n",
              "      <td>0.0</td>\n",
              "      <td>0.0</td>\n",
              "      <td>0.0</td>\n",
              "      <td>1.0</td>\n",
              "      <td>0.0</td>\n",
              "      <td>0.0</td>\n",
              "      <td>0.0</td>\n",
              "      <td>0.0</td>\n",
              "      <td>0.0</td>\n",
              "      <td>0.0</td>\n",
              "      <td>0.0</td>\n",
              "      <td>0.0</td>\n",
              "      <td>0.0</td>\n",
              "      <td>0.0</td>\n",
              "      <td>0.0</td>\n",
              "      <td>0.0</td>\n",
              "      <td>0.0</td>\n",
              "      <td>1.0</td>\n",
              "      <td>0.0</td>\n",
              "      <td>0.0</td>\n",
              "      <td>0.0</td>\n",
              "      <td>0.0</td>\n",
              "      <td>0.0</td>\n",
              "      <td>0.0</td>\n",
              "      <td>0.0</td>\n",
              "      <td>1.0</td>\n",
              "      <td>0.0</td>\n",
              "      <td>0.0</td>\n",
              "      <td>0.0</td>\n",
              "      <td>0.0</td>\n",
              "      <td>0.0</td>\n",
              "      <td>0.0</td>\n",
              "      <td>0.0</td>\n",
              "      <td>1.0</td>\n",
              "      <td>0.0</td>\n",
              "      <td>0.0</td>\n",
              "      <td>0.0</td>\n",
              "      <td>0.0</td>\n",
              "      <td>0.0</td>\n",
              "      <td>0.0</td>\n",
              "    </tr>\n",
              "    <tr>\n",
              "      <th>3</th>\n",
              "      <td>150000</td>\n",
              "      <td>0.0</td>\n",
              "      <td>1</td>\n",
              "      <td>1</td>\n",
              "      <td>1</td>\n",
              "      <td>5</td>\n",
              "      <td>54800000</td>\n",
              "      <td>40000000</td>\n",
              "      <td>40000000</td>\n",
              "      <td>8</td>\n",
              "      <td>0</td>\n",
              "      <td>1</td>\n",
              "      <td>0</td>\n",
              "      <td>0</td>\n",
              "      <td>0</td>\n",
              "      <td>0</td>\n",
              "      <td>0</td>\n",
              "      <td>1</td>\n",
              "      <td>2</td>\n",
              "      <td>1</td>\n",
              "      <td>0</td>\n",
              "      <td>0</td>\n",
              "      <td>0</td>\n",
              "      <td>11</td>\n",
              "      <td>4</td>\n",
              "      <td>0.0</td>\n",
              "      <td>0.0</td>\n",
              "      <td>0.0</td>\n",
              "      <td>0.0</td>\n",
              "      <td>0.0</td>\n",
              "      <td>0.0</td>\n",
              "      <td>0.0</td>\n",
              "      <td>0.0</td>\n",
              "      <td>1.0</td>\n",
              "      <td>0.0</td>\n",
              "      <td>0.0</td>\n",
              "      <td>0.0</td>\n",
              "      <td>0.0</td>\n",
              "      <td>0.0</td>\n",
              "      <td>0.0</td>\n",
              "      <td>...</td>\n",
              "      <td>0.0</td>\n",
              "      <td>1.0</td>\n",
              "      <td>0.0</td>\n",
              "      <td>0.0</td>\n",
              "      <td>0.0</td>\n",
              "      <td>0.0</td>\n",
              "      <td>0.0</td>\n",
              "      <td>0.0</td>\n",
              "      <td>0.0</td>\n",
              "      <td>0.0</td>\n",
              "      <td>0.0</td>\n",
              "      <td>0.0</td>\n",
              "      <td>0.0</td>\n",
              "      <td>0.0</td>\n",
              "      <td>0.0</td>\n",
              "      <td>0.0</td>\n",
              "      <td>0.0</td>\n",
              "      <td>0.0</td>\n",
              "      <td>0.0</td>\n",
              "      <td>0.0</td>\n",
              "      <td>0.0</td>\n",
              "      <td>0.0</td>\n",
              "      <td>0.0</td>\n",
              "      <td>1.0</td>\n",
              "      <td>0.0</td>\n",
              "      <td>1.0</td>\n",
              "      <td>0.0</td>\n",
              "      <td>0.0</td>\n",
              "      <td>0.0</td>\n",
              "      <td>0.0</td>\n",
              "      <td>0.0</td>\n",
              "      <td>0.0</td>\n",
              "      <td>0.0</td>\n",
              "      <td>0.0</td>\n",
              "      <td>0.0</td>\n",
              "      <td>0.0</td>\n",
              "      <td>0.0</td>\n",
              "      <td>0.0</td>\n",
              "      <td>0.0</td>\n",
              "      <td>1.0</td>\n",
              "    </tr>\n",
              "    <tr>\n",
              "      <th>4</th>\n",
              "      <td>20000</td>\n",
              "      <td>3.0</td>\n",
              "      <td>0</td>\n",
              "      <td>0</td>\n",
              "      <td>0</td>\n",
              "      <td>1</td>\n",
              "      <td>20000</td>\n",
              "      <td>20000</td>\n",
              "      <td>20000</td>\n",
              "      <td>0</td>\n",
              "      <td>0</td>\n",
              "      <td>1</td>\n",
              "      <td>1</td>\n",
              "      <td>0</td>\n",
              "      <td>0</td>\n",
              "      <td>0</td>\n",
              "      <td>0</td>\n",
              "      <td>0</td>\n",
              "      <td>1</td>\n",
              "      <td>1</td>\n",
              "      <td>1</td>\n",
              "      <td>0</td>\n",
              "      <td>0</td>\n",
              "      <td>5</td>\n",
              "      <td>0</td>\n",
              "      <td>0.0</td>\n",
              "      <td>0.0</td>\n",
              "      <td>0.0</td>\n",
              "      <td>0.0</td>\n",
              "      <td>0.0</td>\n",
              "      <td>0.0</td>\n",
              "      <td>0.0</td>\n",
              "      <td>0.0</td>\n",
              "      <td>0.0</td>\n",
              "      <td>0.0</td>\n",
              "      <td>0.0</td>\n",
              "      <td>0.0</td>\n",
              "      <td>0.0</td>\n",
              "      <td>1.0</td>\n",
              "      <td>0.0</td>\n",
              "      <td>...</td>\n",
              "      <td>0.0</td>\n",
              "      <td>0.0</td>\n",
              "      <td>0.0</td>\n",
              "      <td>0.0</td>\n",
              "      <td>0.0</td>\n",
              "      <td>0.0</td>\n",
              "      <td>1.0</td>\n",
              "      <td>0.0</td>\n",
              "      <td>0.0</td>\n",
              "      <td>0.0</td>\n",
              "      <td>0.0</td>\n",
              "      <td>0.0</td>\n",
              "      <td>0.0</td>\n",
              "      <td>0.0</td>\n",
              "      <td>0.0</td>\n",
              "      <td>0.0</td>\n",
              "      <td>0.0</td>\n",
              "      <td>0.0</td>\n",
              "      <td>0.0</td>\n",
              "      <td>0.0</td>\n",
              "      <td>1.0</td>\n",
              "      <td>0.0</td>\n",
              "      <td>0.0</td>\n",
              "      <td>0.0</td>\n",
              "      <td>1.0</td>\n",
              "      <td>0.0</td>\n",
              "      <td>0.0</td>\n",
              "      <td>0.0</td>\n",
              "      <td>0.0</td>\n",
              "      <td>0.0</td>\n",
              "      <td>0.0</td>\n",
              "      <td>0.0</td>\n",
              "      <td>0.0</td>\n",
              "      <td>0.0</td>\n",
              "      <td>0.0</td>\n",
              "      <td>0.0</td>\n",
              "      <td>1.0</td>\n",
              "      <td>0.0</td>\n",
              "      <td>0.0</td>\n",
              "      <td>0.0</td>\n",
              "    </tr>\n",
              "  </tbody>\n",
              "</table>\n",
              "<p>5 rows × 90 columns</p>\n",
              "</div>"
            ],
            "text/plain": [
              "   first_r_amount  ...  dp_last_round_year_2021\n",
              "0         1400000  ...                      0.0\n",
              "1           10500  ...                      0.0\n",
              "2          200000  ...                      0.0\n",
              "3          150000  ...                      1.0\n",
              "4           20000  ...                      0.0\n",
              "\n",
              "[5 rows x 90 columns]"
            ]
          },
          "metadata": {},
          "execution_count": 23
        }
      ]
    },
    {
      "cell_type": "markdown",
      "metadata": {
        "id": "uPn8kpAyNLB_"
      },
      "source": [
        "# Models: Logistic Regression\n"
      ]
    },
    {
      "cell_type": "markdown",
      "metadata": {
        "id": "Q_pWDubfaMAP"
      },
      "source": [
        "The database and the way the y is defined lead us to explore this kind of modeling.\n",
        "\n",
        "y is dictomic - \n",
        "\n",
        "  * 0 is not successful\n",
        "  * 1 is successful\n",
        "\n",
        "X is a dataframe -\n",
        "\n",
        "  * First round variables\n",
        "  * Decision point round variables\n",
        "  * Sum of founder's experience"
      ]
    },
    {
      "cell_type": "markdown",
      "metadata": {
        "id": "1t_SYPaAD2rZ"
      },
      "source": [
        "## Definitions"
      ]
    },
    {
      "cell_type": "markdown",
      "metadata": {
        "id": "ciHwDuFRs_o6"
      },
      "source": [
        "We're going to make a few kind of treatments to model 'y', with\n",
        "\n",
        "  * Original data (clean)\n",
        "  * Standarized data but unbalanced\n",
        "  * Standarized data w/ over sampling\n",
        "  * Standarized data w/ under sampling"
      ]
    },
    {
      "cell_type": "code",
      "metadata": {
        "colab": {
          "base_uri": "https://localhost:8080/",
          "height": 434
        },
        "id": "rnQQgYzJWIBM",
        "outputId": "241c684c-52f8-4a01-c74f-ef4789a3372c"
      },
      "source": [
        "# Columns for modeling\n",
        "# Originals\n",
        "\n",
        "X_columns = db_companies_Encode_Model[[# First round\n",
        "             \"first_r_amount\", \"rounds_funding_factor\",\n",
        "             # Decission point\n",
        "             \"dp_rounds_count\",\t\"dp_rounds_amount_sum\",\t\"dp_rounds_amount_max\",\t\"dp_last_round_amount\",\t\"dp_years_operating\",\n",
        "             # Sum of Founder's Experience\n",
        "             \"sum_manager_exp\",\t\"sum_clevel_exp\",\t\"sum_engineering_exp\",\t\"sum_sales_exp\",\t\"sum_finance_exp\",\n",
        "             \"sum_human_capital_exp\",\t\"sum_consulting_exp\",\t\"sum_founder_exp\",\t\"sum_number_of_startups\",\n",
        "             \"sum_gender\",\t\"sum_foreing_studies\",\t\"sum_foreing_work_experience\",\t\"sum_foreing_founder\",\n",
        "             \"sum_dp_years_of_experience\",\t\"sum_dp_years_of_experience_as_entreprenuer\",\n",
        "             ]]\n",
        "X_columns"
      ],
      "execution_count": 268,
      "outputs": [
        {
          "output_type": "execute_result",
          "data": {
            "text/html": [
              "<div>\n",
              "<style scoped>\n",
              "    .dataframe tbody tr th:only-of-type {\n",
              "        vertical-align: middle;\n",
              "    }\n",
              "\n",
              "    .dataframe tbody tr th {\n",
              "        vertical-align: top;\n",
              "    }\n",
              "\n",
              "    .dataframe thead th {\n",
              "        text-align: right;\n",
              "    }\n",
              "</style>\n",
              "<table border=\"1\" class=\"dataframe\">\n",
              "  <thead>\n",
              "    <tr style=\"text-align: right;\">\n",
              "      <th></th>\n",
              "      <th>first_r_amount</th>\n",
              "      <th>rounds_funding_factor</th>\n",
              "      <th>dp_rounds_count</th>\n",
              "      <th>dp_rounds_amount_sum</th>\n",
              "      <th>dp_rounds_amount_max</th>\n",
              "      <th>dp_last_round_amount</th>\n",
              "      <th>dp_years_operating</th>\n",
              "      <th>sum_manager_exp</th>\n",
              "      <th>sum_clevel_exp</th>\n",
              "      <th>sum_engineering_exp</th>\n",
              "      <th>sum_sales_exp</th>\n",
              "      <th>sum_finance_exp</th>\n",
              "      <th>sum_human_capital_exp</th>\n",
              "      <th>sum_consulting_exp</th>\n",
              "      <th>sum_founder_exp</th>\n",
              "      <th>sum_number_of_startups</th>\n",
              "      <th>sum_gender</th>\n",
              "      <th>sum_foreing_studies</th>\n",
              "      <th>sum_foreing_work_experience</th>\n",
              "      <th>sum_foreing_founder</th>\n",
              "      <th>sum_dp_years_of_experience</th>\n",
              "      <th>sum_dp_years_of_experience_as_entreprenuer</th>\n",
              "    </tr>\n",
              "  </thead>\n",
              "  <tbody>\n",
              "    <tr>\n",
              "      <th>0</th>\n",
              "      <td>1400000</td>\n",
              "      <td>4.0</td>\n",
              "      <td>1</td>\n",
              "      <td>1400000</td>\n",
              "      <td>1400000</td>\n",
              "      <td>1400000</td>\n",
              "      <td>0</td>\n",
              "      <td>1</td>\n",
              "      <td>1</td>\n",
              "      <td>0</td>\n",
              "      <td>0</td>\n",
              "      <td>0</td>\n",
              "      <td>0</td>\n",
              "      <td>0</td>\n",
              "      <td>2</td>\n",
              "      <td>4</td>\n",
              "      <td>2</td>\n",
              "      <td>1</td>\n",
              "      <td>0</td>\n",
              "      <td>0</td>\n",
              "      <td>22</td>\n",
              "      <td>15</td>\n",
              "    </tr>\n",
              "    <tr>\n",
              "      <th>1</th>\n",
              "      <td>10500</td>\n",
              "      <td>3.0</td>\n",
              "      <td>1</td>\n",
              "      <td>10500</td>\n",
              "      <td>10500</td>\n",
              "      <td>10500</td>\n",
              "      <td>0</td>\n",
              "      <td>1</td>\n",
              "      <td>1</td>\n",
              "      <td>0</td>\n",
              "      <td>0</td>\n",
              "      <td>0</td>\n",
              "      <td>0</td>\n",
              "      <td>0</td>\n",
              "      <td>1</td>\n",
              "      <td>4</td>\n",
              "      <td>1</td>\n",
              "      <td>0</td>\n",
              "      <td>0</td>\n",
              "      <td>0</td>\n",
              "      <td>10</td>\n",
              "      <td>9</td>\n",
              "    </tr>\n",
              "    <tr>\n",
              "      <th>2</th>\n",
              "      <td>200000</td>\n",
              "      <td>6.0</td>\n",
              "      <td>1</td>\n",
              "      <td>200000</td>\n",
              "      <td>200000</td>\n",
              "      <td>200000</td>\n",
              "      <td>0</td>\n",
              "      <td>1</td>\n",
              "      <td>1</td>\n",
              "      <td>0</td>\n",
              "      <td>0</td>\n",
              "      <td>0</td>\n",
              "      <td>0</td>\n",
              "      <td>0</td>\n",
              "      <td>1</td>\n",
              "      <td>1</td>\n",
              "      <td>1</td>\n",
              "      <td>0</td>\n",
              "      <td>0</td>\n",
              "      <td>0</td>\n",
              "      <td>12</td>\n",
              "      <td>2</td>\n",
              "    </tr>\n",
              "    <tr>\n",
              "      <th>3</th>\n",
              "      <td>150000</td>\n",
              "      <td>0.0</td>\n",
              "      <td>5</td>\n",
              "      <td>54800000</td>\n",
              "      <td>40000000</td>\n",
              "      <td>40000000</td>\n",
              "      <td>8</td>\n",
              "      <td>0</td>\n",
              "      <td>1</td>\n",
              "      <td>0</td>\n",
              "      <td>0</td>\n",
              "      <td>0</td>\n",
              "      <td>0</td>\n",
              "      <td>0</td>\n",
              "      <td>1</td>\n",
              "      <td>2</td>\n",
              "      <td>1</td>\n",
              "      <td>0</td>\n",
              "      <td>0</td>\n",
              "      <td>0</td>\n",
              "      <td>11</td>\n",
              "      <td>4</td>\n",
              "    </tr>\n",
              "    <tr>\n",
              "      <th>4</th>\n",
              "      <td>20000</td>\n",
              "      <td>3.0</td>\n",
              "      <td>1</td>\n",
              "      <td>20000</td>\n",
              "      <td>20000</td>\n",
              "      <td>20000</td>\n",
              "      <td>0</td>\n",
              "      <td>0</td>\n",
              "      <td>1</td>\n",
              "      <td>1</td>\n",
              "      <td>0</td>\n",
              "      <td>0</td>\n",
              "      <td>0</td>\n",
              "      <td>0</td>\n",
              "      <td>0</td>\n",
              "      <td>1</td>\n",
              "      <td>1</td>\n",
              "      <td>1</td>\n",
              "      <td>0</td>\n",
              "      <td>0</td>\n",
              "      <td>5</td>\n",
              "      <td>0</td>\n",
              "    </tr>\n",
              "    <tr>\n",
              "      <th>...</th>\n",
              "      <td>...</td>\n",
              "      <td>...</td>\n",
              "      <td>...</td>\n",
              "      <td>...</td>\n",
              "      <td>...</td>\n",
              "      <td>...</td>\n",
              "      <td>...</td>\n",
              "      <td>...</td>\n",
              "      <td>...</td>\n",
              "      <td>...</td>\n",
              "      <td>...</td>\n",
              "      <td>...</td>\n",
              "      <td>...</td>\n",
              "      <td>...</td>\n",
              "      <td>...</td>\n",
              "      <td>...</td>\n",
              "      <td>...</td>\n",
              "      <td>...</td>\n",
              "      <td>...</td>\n",
              "      <td>...</td>\n",
              "      <td>...</td>\n",
              "      <td>...</td>\n",
              "    </tr>\n",
              "    <tr>\n",
              "      <th>505</th>\n",
              "      <td>750000</td>\n",
              "      <td>0.0</td>\n",
              "      <td>4</td>\n",
              "      <td>12510000</td>\n",
              "      <td>4960000</td>\n",
              "      <td>3100000</td>\n",
              "      <td>3</td>\n",
              "      <td>1</td>\n",
              "      <td>1</td>\n",
              "      <td>0</td>\n",
              "      <td>1</td>\n",
              "      <td>0</td>\n",
              "      <td>0</td>\n",
              "      <td>1</td>\n",
              "      <td>1</td>\n",
              "      <td>1</td>\n",
              "      <td>1</td>\n",
              "      <td>1</td>\n",
              "      <td>1</td>\n",
              "      <td>0</td>\n",
              "      <td>12</td>\n",
              "      <td>11</td>\n",
              "    </tr>\n",
              "    <tr>\n",
              "      <th>506</th>\n",
              "      <td>225000000</td>\n",
              "      <td>0.0</td>\n",
              "      <td>1</td>\n",
              "      <td>225000000</td>\n",
              "      <td>225000000</td>\n",
              "      <td>225000000</td>\n",
              "      <td>0</td>\n",
              "      <td>0</td>\n",
              "      <td>1</td>\n",
              "      <td>0</td>\n",
              "      <td>0</td>\n",
              "      <td>1</td>\n",
              "      <td>0</td>\n",
              "      <td>1</td>\n",
              "      <td>1</td>\n",
              "      <td>1</td>\n",
              "      <td>1</td>\n",
              "      <td>1</td>\n",
              "      <td>0</td>\n",
              "      <td>1</td>\n",
              "      <td>9</td>\n",
              "      <td>8</td>\n",
              "    </tr>\n",
              "    <tr>\n",
              "      <th>507</th>\n",
              "      <td>130000</td>\n",
              "      <td>0.0</td>\n",
              "      <td>1</td>\n",
              "      <td>130000</td>\n",
              "      <td>130000</td>\n",
              "      <td>130000</td>\n",
              "      <td>0</td>\n",
              "      <td>0</td>\n",
              "      <td>0</td>\n",
              "      <td>1</td>\n",
              "      <td>0</td>\n",
              "      <td>0</td>\n",
              "      <td>0</td>\n",
              "      <td>0</td>\n",
              "      <td>1</td>\n",
              "      <td>2</td>\n",
              "      <td>1</td>\n",
              "      <td>1</td>\n",
              "      <td>0</td>\n",
              "      <td>0</td>\n",
              "      <td>6</td>\n",
              "      <td>4</td>\n",
              "    </tr>\n",
              "    <tr>\n",
              "      <th>508</th>\n",
              "      <td>130000</td>\n",
              "      <td>0.0</td>\n",
              "      <td>1</td>\n",
              "      <td>130000</td>\n",
              "      <td>130000</td>\n",
              "      <td>130000</td>\n",
              "      <td>0</td>\n",
              "      <td>0</td>\n",
              "      <td>0</td>\n",
              "      <td>0</td>\n",
              "      <td>0</td>\n",
              "      <td>0</td>\n",
              "      <td>0</td>\n",
              "      <td>0</td>\n",
              "      <td>1</td>\n",
              "      <td>2</td>\n",
              "      <td>1</td>\n",
              "      <td>1</td>\n",
              "      <td>0</td>\n",
              "      <td>0</td>\n",
              "      <td>3</td>\n",
              "      <td>3</td>\n",
              "    </tr>\n",
              "    <tr>\n",
              "      <th>509</th>\n",
              "      <td>4900000</td>\n",
              "      <td>0.0</td>\n",
              "      <td>1</td>\n",
              "      <td>4900000</td>\n",
              "      <td>4900000</td>\n",
              "      <td>4900000</td>\n",
              "      <td>0</td>\n",
              "      <td>0</td>\n",
              "      <td>1</td>\n",
              "      <td>0</td>\n",
              "      <td>1</td>\n",
              "      <td>0</td>\n",
              "      <td>0</td>\n",
              "      <td>1</td>\n",
              "      <td>1</td>\n",
              "      <td>1</td>\n",
              "      <td>1</td>\n",
              "      <td>1</td>\n",
              "      <td>1</td>\n",
              "      <td>0</td>\n",
              "      <td>7</td>\n",
              "      <td>7</td>\n",
              "    </tr>\n",
              "  </tbody>\n",
              "</table>\n",
              "<p>510 rows × 22 columns</p>\n",
              "</div>"
            ],
            "text/plain": [
              "     first_r_amount  ...  sum_dp_years_of_experience_as_entreprenuer\n",
              "0           1400000  ...                                          15\n",
              "1             10500  ...                                           9\n",
              "2            200000  ...                                           2\n",
              "3            150000  ...                                           4\n",
              "4             20000  ...                                           0\n",
              "..              ...  ...                                         ...\n",
              "505          750000  ...                                          11\n",
              "506       225000000  ...                                           8\n",
              "507          130000  ...                                           4\n",
              "508          130000  ...                                           3\n",
              "509         4900000  ...                                           7\n",
              "\n",
              "[510 rows x 22 columns]"
            ]
          },
          "metadata": {},
          "execution_count": 268
        }
      ]
    },
    {
      "cell_type": "code",
      "metadata": {
        "colab": {
          "base_uri": "https://localhost:8080/",
          "height": 434
        },
        "id": "dh1i7r3ik5nR",
        "outputId": "82c1f718-fbb8-47e2-d0e7-9f00647dfdf1"
      },
      "source": [
        "# Columns for modeling\n",
        "# Making variables standard\n",
        "\n",
        "X_columns_standard = (X_columns - X_columns.mean())/X_columns.std()\n",
        "X_columns_standard"
      ],
      "execution_count": 269,
      "outputs": [
        {
          "output_type": "execute_result",
          "data": {
            "text/html": [
              "<div>\n",
              "<style scoped>\n",
              "    .dataframe tbody tr th:only-of-type {\n",
              "        vertical-align: middle;\n",
              "    }\n",
              "\n",
              "    .dataframe tbody tr th {\n",
              "        vertical-align: top;\n",
              "    }\n",
              "\n",
              "    .dataframe thead th {\n",
              "        text-align: right;\n",
              "    }\n",
              "</style>\n",
              "<table border=\"1\" class=\"dataframe\">\n",
              "  <thead>\n",
              "    <tr style=\"text-align: right;\">\n",
              "      <th></th>\n",
              "      <th>first_r_amount</th>\n",
              "      <th>rounds_funding_factor</th>\n",
              "      <th>dp_rounds_count</th>\n",
              "      <th>dp_rounds_amount_sum</th>\n",
              "      <th>dp_rounds_amount_max</th>\n",
              "      <th>dp_last_round_amount</th>\n",
              "      <th>dp_years_operating</th>\n",
              "      <th>sum_manager_exp</th>\n",
              "      <th>sum_clevel_exp</th>\n",
              "      <th>sum_engineering_exp</th>\n",
              "      <th>sum_sales_exp</th>\n",
              "      <th>sum_finance_exp</th>\n",
              "      <th>sum_human_capital_exp</th>\n",
              "      <th>sum_consulting_exp</th>\n",
              "      <th>sum_founder_exp</th>\n",
              "      <th>sum_number_of_startups</th>\n",
              "      <th>sum_gender</th>\n",
              "      <th>sum_foreing_studies</th>\n",
              "      <th>sum_foreing_work_experience</th>\n",
              "      <th>sum_foreing_founder</th>\n",
              "      <th>sum_dp_years_of_experience</th>\n",
              "      <th>sum_dp_years_of_experience_as_entreprenuer</th>\n",
              "    </tr>\n",
              "  </thead>\n",
              "  <tbody>\n",
              "    <tr>\n",
              "      <th>0</th>\n",
              "      <td>-0.077119</td>\n",
              "      <td>0.550262</td>\n",
              "      <td>-0.648216</td>\n",
              "      <td>-0.255195</td>\n",
              "      <td>-0.222746</td>\n",
              "      <td>-0.198866</td>\n",
              "      <td>-0.647841</td>\n",
              "      <td>0.594391</td>\n",
              "      <td>0.255979</td>\n",
              "      <td>-0.511106</td>\n",
              "      <td>-0.329367</td>\n",
              "      <td>-0.369021</td>\n",
              "      <td>-0.158019</td>\n",
              "      <td>-0.511237</td>\n",
              "      <td>1.485093</td>\n",
              "      <td>1.211503</td>\n",
              "      <td>1.378794</td>\n",
              "      <td>0.586579</td>\n",
              "      <td>-0.736431</td>\n",
              "      <td>-0.527433</td>\n",
              "      <td>1.063501</td>\n",
              "      <td>1.164139</td>\n",
              "    </tr>\n",
              "    <tr>\n",
              "      <th>1</th>\n",
              "      <td>-0.131298</td>\n",
              "      <td>0.174078</td>\n",
              "      <td>-0.648216</td>\n",
              "      <td>-0.315945</td>\n",
              "      <td>-0.300525</td>\n",
              "      <td>-0.280158</td>\n",
              "      <td>-0.647841</td>\n",
              "      <td>0.594391</td>\n",
              "      <td>0.255979</td>\n",
              "      <td>-0.511106</td>\n",
              "      <td>-0.329367</td>\n",
              "      <td>-0.369021</td>\n",
              "      <td>-0.158019</td>\n",
              "      <td>-0.511237</td>\n",
              "      <td>0.050628</td>\n",
              "      <td>1.211503</td>\n",
              "      <td>-0.139964</td>\n",
              "      <td>-0.901756</td>\n",
              "      <td>-0.736431</td>\n",
              "      <td>-0.527433</td>\n",
              "      <td>-0.229946</td>\n",
              "      <td>0.341445</td>\n",
              "    </tr>\n",
              "    <tr>\n",
              "      <th>2</th>\n",
              "      <td>-0.123909</td>\n",
              "      <td>1.302632</td>\n",
              "      <td>-0.648216</td>\n",
              "      <td>-0.307660</td>\n",
              "      <td>-0.289917</td>\n",
              "      <td>-0.269071</td>\n",
              "      <td>-0.647841</td>\n",
              "      <td>0.594391</td>\n",
              "      <td>0.255979</td>\n",
              "      <td>-0.511106</td>\n",
              "      <td>-0.329367</td>\n",
              "      <td>-0.369021</td>\n",
              "      <td>-0.158019</td>\n",
              "      <td>-0.511237</td>\n",
              "      <td>0.050628</td>\n",
              "      <td>-0.731474</td>\n",
              "      <td>-0.139964</td>\n",
              "      <td>-0.901756</td>\n",
              "      <td>-0.736431</td>\n",
              "      <td>-0.527433</td>\n",
              "      <td>-0.014372</td>\n",
              "      <td>-0.618365</td>\n",
              "    </tr>\n",
              "    <tr>\n",
              "      <th>3</th>\n",
              "      <td>-0.125859</td>\n",
              "      <td>-0.954477</td>\n",
              "      <td>1.796073</td>\n",
              "      <td>2.079502</td>\n",
              "      <td>1.937939</td>\n",
              "      <td>2.059404</td>\n",
              "      <td>4.055344</td>\n",
              "      <td>-0.928922</td>\n",
              "      <td>0.255979</td>\n",
              "      <td>-0.511106</td>\n",
              "      <td>-0.329367</td>\n",
              "      <td>-0.369021</td>\n",
              "      <td>-0.158019</td>\n",
              "      <td>-0.511237</td>\n",
              "      <td>0.050628</td>\n",
              "      <td>-0.083815</td>\n",
              "      <td>-0.139964</td>\n",
              "      <td>-0.901756</td>\n",
              "      <td>-0.736431</td>\n",
              "      <td>-0.527433</td>\n",
              "      <td>-0.122159</td>\n",
              "      <td>-0.344133</td>\n",
              "    </tr>\n",
              "    <tr>\n",
              "      <th>4</th>\n",
              "      <td>-0.130928</td>\n",
              "      <td>0.174078</td>\n",
              "      <td>-0.648216</td>\n",
              "      <td>-0.315530</td>\n",
              "      <td>-0.299993</td>\n",
              "      <td>-0.279602</td>\n",
              "      <td>-0.647841</td>\n",
              "      <td>-0.928922</td>\n",
              "      <td>0.255979</td>\n",
              "      <td>1.608115</td>\n",
              "      <td>-0.329367</td>\n",
              "      <td>-0.369021</td>\n",
              "      <td>-0.158019</td>\n",
              "      <td>-0.511237</td>\n",
              "      <td>-1.383837</td>\n",
              "      <td>-0.731474</td>\n",
              "      <td>-0.139964</td>\n",
              "      <td>0.586579</td>\n",
              "      <td>-0.736431</td>\n",
              "      <td>-0.527433</td>\n",
              "      <td>-0.768883</td>\n",
              "      <td>-0.892596</td>\n",
              "    </tr>\n",
              "    <tr>\n",
              "      <th>...</th>\n",
              "      <td>...</td>\n",
              "      <td>...</td>\n",
              "      <td>...</td>\n",
              "      <td>...</td>\n",
              "      <td>...</td>\n",
              "      <td>...</td>\n",
              "      <td>...</td>\n",
              "      <td>...</td>\n",
              "      <td>...</td>\n",
              "      <td>...</td>\n",
              "      <td>...</td>\n",
              "      <td>...</td>\n",
              "      <td>...</td>\n",
              "      <td>...</td>\n",
              "      <td>...</td>\n",
              "      <td>...</td>\n",
              "      <td>...</td>\n",
              "      <td>...</td>\n",
              "      <td>...</td>\n",
              "      <td>...</td>\n",
              "      <td>...</td>\n",
              "      <td>...</td>\n",
              "    </tr>\n",
              "    <tr>\n",
              "      <th>505</th>\n",
              "      <td>-0.102464</td>\n",
              "      <td>-0.954477</td>\n",
              "      <td>1.185001</td>\n",
              "      <td>0.230544</td>\n",
              "      <td>-0.023470</td>\n",
              "      <td>-0.099408</td>\n",
              "      <td>1.115854</td>\n",
              "      <td>0.594391</td>\n",
              "      <td>0.255979</td>\n",
              "      <td>-0.511106</td>\n",
              "      <td>2.470251</td>\n",
              "      <td>-0.369021</td>\n",
              "      <td>-0.158019</td>\n",
              "      <td>1.558055</td>\n",
              "      <td>0.050628</td>\n",
              "      <td>-0.731474</td>\n",
              "      <td>-0.139964</td>\n",
              "      <td>0.586579</td>\n",
              "      <td>0.664987</td>\n",
              "      <td>-0.527433</td>\n",
              "      <td>-0.014372</td>\n",
              "      <td>0.615676</td>\n",
              "    </tr>\n",
              "    <tr>\n",
              "      <th>506</th>\n",
              "      <td>8.641500</td>\n",
              "      <td>-0.954477</td>\n",
              "      <td>-0.648216</td>\n",
              "      <td>9.520803</td>\n",
              "      <td>12.293551</td>\n",
              "      <td>12.882717</td>\n",
              "      <td>-0.647841</td>\n",
              "      <td>-0.928922</td>\n",
              "      <td>0.255979</td>\n",
              "      <td>-0.511106</td>\n",
              "      <td>-0.329367</td>\n",
              "      <td>2.526378</td>\n",
              "      <td>-0.158019</td>\n",
              "      <td>1.558055</td>\n",
              "      <td>0.050628</td>\n",
              "      <td>-0.731474</td>\n",
              "      <td>-0.139964</td>\n",
              "      <td>0.586579</td>\n",
              "      <td>-0.736431</td>\n",
              "      <td>1.122817</td>\n",
              "      <td>-0.337734</td>\n",
              "      <td>0.204329</td>\n",
              "    </tr>\n",
              "    <tr>\n",
              "      <th>507</th>\n",
              "      <td>-0.126639</td>\n",
              "      <td>-0.954477</td>\n",
              "      <td>-0.648216</td>\n",
              "      <td>-0.310721</td>\n",
              "      <td>-0.293836</td>\n",
              "      <td>-0.273166</td>\n",
              "      <td>-0.647841</td>\n",
              "      <td>-0.928922</td>\n",
              "      <td>-1.336084</td>\n",
              "      <td>1.608115</td>\n",
              "      <td>-0.329367</td>\n",
              "      <td>-0.369021</td>\n",
              "      <td>-0.158019</td>\n",
              "      <td>-0.511237</td>\n",
              "      <td>0.050628</td>\n",
              "      <td>-0.083815</td>\n",
              "      <td>-0.139964</td>\n",
              "      <td>0.586579</td>\n",
              "      <td>-0.736431</td>\n",
              "      <td>-0.527433</td>\n",
              "      <td>-0.661096</td>\n",
              "      <td>-0.344133</td>\n",
              "    </tr>\n",
              "    <tr>\n",
              "      <th>508</th>\n",
              "      <td>-0.126639</td>\n",
              "      <td>-0.954477</td>\n",
              "      <td>-0.648216</td>\n",
              "      <td>-0.310721</td>\n",
              "      <td>-0.293836</td>\n",
              "      <td>-0.273166</td>\n",
              "      <td>-0.647841</td>\n",
              "      <td>-0.928922</td>\n",
              "      <td>-1.336084</td>\n",
              "      <td>-0.511106</td>\n",
              "      <td>-0.329367</td>\n",
              "      <td>-0.369021</td>\n",
              "      <td>-0.158019</td>\n",
              "      <td>-0.511237</td>\n",
              "      <td>0.050628</td>\n",
              "      <td>-0.083815</td>\n",
              "      <td>-0.139964</td>\n",
              "      <td>0.586579</td>\n",
              "      <td>-0.736431</td>\n",
              "      <td>-0.527433</td>\n",
              "      <td>-0.984457</td>\n",
              "      <td>-0.481249</td>\n",
              "    </tr>\n",
              "    <tr>\n",
              "      <th>509</th>\n",
              "      <td>0.059353</td>\n",
              "      <td>-0.954477</td>\n",
              "      <td>-0.648216</td>\n",
              "      <td>-0.102172</td>\n",
              "      <td>-0.026829</td>\n",
              "      <td>0.005899</td>\n",
              "      <td>-0.647841</td>\n",
              "      <td>-0.928922</td>\n",
              "      <td>0.255979</td>\n",
              "      <td>-0.511106</td>\n",
              "      <td>2.470251</td>\n",
              "      <td>-0.369021</td>\n",
              "      <td>-0.158019</td>\n",
              "      <td>1.558055</td>\n",
              "      <td>0.050628</td>\n",
              "      <td>-0.731474</td>\n",
              "      <td>-0.139964</td>\n",
              "      <td>0.586579</td>\n",
              "      <td>0.664987</td>\n",
              "      <td>-0.527433</td>\n",
              "      <td>-0.553308</td>\n",
              "      <td>0.067214</td>\n",
              "    </tr>\n",
              "  </tbody>\n",
              "</table>\n",
              "<p>510 rows × 22 columns</p>\n",
              "</div>"
            ],
            "text/plain": [
              "     first_r_amount  ...  sum_dp_years_of_experience_as_entreprenuer\n",
              "0         -0.077119  ...                                    1.164139\n",
              "1         -0.131298  ...                                    0.341445\n",
              "2         -0.123909  ...                                   -0.618365\n",
              "3         -0.125859  ...                                   -0.344133\n",
              "4         -0.130928  ...                                   -0.892596\n",
              "..              ...  ...                                         ...\n",
              "505       -0.102464  ...                                    0.615676\n",
              "506        8.641500  ...                                    0.204329\n",
              "507       -0.126639  ...                                   -0.344133\n",
              "508       -0.126639  ...                                   -0.481249\n",
              "509        0.059353  ...                                    0.067214\n",
              "\n",
              "[510 rows x 22 columns]"
            ]
          },
          "metadata": {},
          "execution_count": 269
        }
      ]
    },
    {
      "cell_type": "markdown",
      "metadata": {
        "id": "aMsSPil7PfyS"
      },
      "source": [
        "## More than 50 employees"
      ]
    },
    {
      "cell_type": "markdown",
      "metadata": {
        "id": "HwkglXsLmF5-"
      },
      "source": [
        "### Original"
      ]
    },
    {
      "cell_type": "code",
      "metadata": {
        "colab": {
          "base_uri": "https://localhost:8080/"
        },
        "id": "yIH_gASuOU45",
        "outputId": "492d6d26-db34-4240-f750-99970e0d4a26"
      },
      "source": [
        "# 1. Define variables X and y\n",
        "\n",
        "X = X_columns # Independent\n",
        "y = db_companies_Encode_Model.more50_employees # Dependent\n",
        "\n",
        "print(X)\n",
        "print(y)"
      ],
      "execution_count": 270,
      "outputs": [
        {
          "output_type": "stream",
          "name": "stdout",
          "text": [
            "     first_r_amount  ...  sum_dp_years_of_experience_as_entreprenuer\n",
            "0           1400000  ...                                          15\n",
            "1             10500  ...                                           9\n",
            "2            200000  ...                                           2\n",
            "3            150000  ...                                           4\n",
            "4             20000  ...                                           0\n",
            "..              ...  ...                                         ...\n",
            "505          750000  ...                                          11\n",
            "506       225000000  ...                                           8\n",
            "507          130000  ...                                           4\n",
            "508          130000  ...                                           3\n",
            "509         4900000  ...                                           7\n",
            "\n",
            "[510 rows x 22 columns]\n",
            "0      0\n",
            "1      0\n",
            "2      0\n",
            "3      1\n",
            "4      0\n",
            "      ..\n",
            "505    1\n",
            "506    1\n",
            "507    0\n",
            "508    0\n",
            "509    0\n",
            "Name: more50_employees, Length: 510, dtype: int64\n"
          ]
        }
      ]
    },
    {
      "cell_type": "code",
      "metadata": {
        "id": "Ym_gvDvLRbLT"
      },
      "source": [
        "# 2. Split the data\n",
        "\n",
        "from sklearn.model_selection import train_test_split\n",
        "\n",
        "# Split the preprocessed data into a training and testing dataset\n",
        "X_train, X_test, y_train, y_test = train_test_split(X, y, random_state=4281)"
      ],
      "execution_count": 271,
      "outputs": []
    },
    {
      "cell_type": "code",
      "metadata": {
        "colab": {
          "base_uri": "https://localhost:8080/"
        },
        "id": "_pTSEjINgN0d",
        "outputId": "e3fd6b6d-cc78-4cd9-d54b-8f7c51233c12"
      },
      "source": [
        "# 3. Choose your Logistic Regression\n",
        "from sklearn.linear_model import LogisticRegression\n",
        "classifier = LogisticRegression()\n",
        "classifier"
      ],
      "execution_count": 272,
      "outputs": [
        {
          "output_type": "execute_result",
          "data": {
            "text/plain": [
              "LogisticRegression()"
            ]
          },
          "metadata": {},
          "execution_count": 272
        }
      ]
    },
    {
      "cell_type": "code",
      "metadata": {
        "colab": {
          "base_uri": "https://localhost:8080/"
        },
        "id": "2nzlcOLkgQcq",
        "outputId": "a3aa56fb-ea26-403c-eecf-44f17c86e72d"
      },
      "source": [
        "# 4. Train your model and define your prediction variable\n",
        "\n",
        "classifier.fit(X_train, y_train)\n",
        "y_pred=classifier.predict(X_test)\n",
        "y_pred"
      ],
      "execution_count": 273,
      "outputs": [
        {
          "output_type": "execute_result",
          "data": {
            "text/plain": [
              "array([1, 1, 1, 1, 1, 1, 1, 1, 1, 1, 1, 1, 1, 1, 0, 1, 1, 1, 1, 1, 1, 1,\n",
              "       1, 1, 1, 1, 1, 1, 1, 1, 1, 1, 1, 1, 1, 0, 1, 1, 1, 1, 1, 1, 1, 1,\n",
              "       1, 1, 1, 1, 1, 1, 1, 1, 1, 1, 1, 1, 1, 1, 1, 1, 1, 1, 1, 1, 1, 1,\n",
              "       1, 1, 1, 1, 1, 1, 1, 1, 1, 1, 1, 1, 1, 1, 1, 1, 1, 1, 1, 1, 1, 1,\n",
              "       1, 1, 1, 1, 1, 1, 1, 1, 1, 1, 1, 1, 1, 1, 1, 1, 1, 1, 1, 1, 1, 1,\n",
              "       1, 1, 1, 1, 1, 1, 1, 1, 1, 1, 1, 1, 1, 1, 1, 1, 1, 1])"
            ]
          },
          "metadata": {},
          "execution_count": 273
        }
      ]
    },
    {
      "cell_type": "code",
      "metadata": {
        "colab": {
          "base_uri": "https://localhost:8080/"
        },
        "id": "T6XCMyP3gRa5",
        "outputId": "f448e442-a03a-4cfc-c987-0b5d8fab9bd1"
      },
      "source": [
        "# 5. Statistics for your model\n",
        "\n",
        "# Scores for model\n",
        "training_score = classifier.score(X_train, y_train)\n",
        "testing_score = classifier.score(X_test, y_test)\n",
        "\n",
        "print(f\"Training Data Score: {training_score}\")\n",
        "print(f\"Testing Data Score: {testing_score}\")"
      ],
      "execution_count": 274,
      "outputs": [
        {
          "output_type": "stream",
          "name": "stdout",
          "text": [
            "Training Data Score: 0.23821989528795812\n",
            "Testing Data Score: 0.2578125\n"
          ]
        }
      ]
    },
    {
      "cell_type": "code",
      "metadata": {
        "colab": {
          "base_uri": "https://localhost:8080/",
          "height": 350
        },
        "id": "3HTbkYqvvx1y",
        "outputId": "509c96d8-0e93-4470-d3f4-b57606e718c0"
      },
      "source": [
        "# 6. Confusion matrix\n",
        "\n",
        "confusion_matrix = pd.crosstab(y_test, y_pred, rownames=['Actual'], colnames=['Predicted'])\n",
        "sns.heatmap(confusion_matrix, annot=True)\n",
        "print(confusion_matrix)"
      ],
      "execution_count": 275,
      "outputs": [
        {
          "output_type": "stream",
          "name": "stdout",
          "text": [
            "Predicted  0   1\n",
            "Actual          \n",
            "0          2  95\n",
            "1          0  31\n"
          ]
        },
        {
          "output_type": "display_data",
          "data": {
            "image/png": "[encoded data removed]",
            "text/plain": [
              "<Figure size 432x288 with 2 Axes>"
            ]
          },
          "metadata": {
            "needs_background": "light"
          }
        }
      ]
    },
    {
      "cell_type": "code",
      "metadata": {
        "colab": {
          "base_uri": "https://localhost:8080/"
        },
        "id": "79fDM-6swkpd",
        "outputId": "71857bb4-87f5-4ce0-9eff-19de628abfff"
      },
      "source": [
        "# 7. Accuracy \n",
        "\n",
        "from sklearn.metrics import classification_report\n",
        "print(classification_report(y_test,y_pred))"
      ],
      "execution_count": 276,
      "outputs": [
        {
          "output_type": "stream",
          "name": "stdout",
          "text": [
            "              precision    recall  f1-score   support\n",
            "\n",
            "           0       1.00      0.02      0.04        97\n",
            "           1       0.25      1.00      0.39        31\n",
            "\n",
            "    accuracy                           0.26       128\n",
            "   macro avg       0.62      0.51      0.22       128\n",
            "weighted avg       0.82      0.26      0.13       128\n",
            "\n"
          ]
        }
      ]
    },
    {
      "cell_type": "code",
      "metadata": {
        "colab": {
          "base_uri": "https://localhost:8080/",
          "height": 723
        },
        "id": "mxqqm08N7-Sm",
        "outputId": "ed44a815-4ef5-405d-9b63-274db0953f8d"
      },
      "source": [
        "# 8. Importances by variable\n",
        "\n",
        "importances = pd.DataFrame(data={\n",
        "    'Attribute': X_train.columns,\n",
        "    'Importance': classifier.coef_[0]\n",
        "})\n",
        "importances"
      ],
      "execution_count": 277,
      "outputs": [
        {
          "output_type": "execute_result",
          "data": {
            "text/html": [
              "<div>\n",
              "<style scoped>\n",
              "    .dataframe tbody tr th:only-of-type {\n",
              "        vertical-align: middle;\n",
              "    }\n",
              "\n",
              "    .dataframe tbody tr th {\n",
              "        vertical-align: top;\n",
              "    }\n",
              "\n",
              "    .dataframe thead th {\n",
              "        text-align: right;\n",
              "    }\n",
              "</style>\n",
              "<table border=\"1\" class=\"dataframe\">\n",
              "  <thead>\n",
              "    <tr style=\"text-align: right;\">\n",
              "      <th></th>\n",
              "      <th>Attribute</th>\n",
              "      <th>Importance</th>\n",
              "    </tr>\n",
              "  </thead>\n",
              "  <tbody>\n",
              "    <tr>\n",
              "      <th>0</th>\n",
              "      <td>first_r_amount</td>\n",
              "      <td>2.532008e-08</td>\n",
              "    </tr>\n",
              "    <tr>\n",
              "      <th>1</th>\n",
              "      <td>rounds_funding_factor</td>\n",
              "      <td>-4.462318e-12</td>\n",
              "    </tr>\n",
              "    <tr>\n",
              "      <th>2</th>\n",
              "      <td>dp_rounds_count</td>\n",
              "      <td>-2.430770e-12</td>\n",
              "    </tr>\n",
              "    <tr>\n",
              "      <th>3</th>\n",
              "      <td>dp_rounds_amount_sum</td>\n",
              "      <td>1.629556e-07</td>\n",
              "    </tr>\n",
              "    <tr>\n",
              "      <th>4</th>\n",
              "      <td>dp_rounds_amount_max</td>\n",
              "      <td>-2.063513e-07</td>\n",
              "    </tr>\n",
              "    <tr>\n",
              "      <th>5</th>\n",
              "      <td>dp_last_round_amount</td>\n",
              "      <td>4.576197e-08</td>\n",
              "    </tr>\n",
              "    <tr>\n",
              "      <th>6</th>\n",
              "      <td>dp_years_operating</td>\n",
              "      <td>-8.002982e-13</td>\n",
              "    </tr>\n",
              "    <tr>\n",
              "      <th>7</th>\n",
              "      <td>sum_manager_exp</td>\n",
              "      <td>-8.389006e-13</td>\n",
              "    </tr>\n",
              "    <tr>\n",
              "      <th>8</th>\n",
              "      <td>sum_clevel_exp</td>\n",
              "      <td>-1.059445e-12</td>\n",
              "    </tr>\n",
              "    <tr>\n",
              "      <th>9</th>\n",
              "      <td>sum_engineering_exp</td>\n",
              "      <td>-4.403070e-13</td>\n",
              "    </tr>\n",
              "    <tr>\n",
              "      <th>10</th>\n",
              "      <td>sum_sales_exp</td>\n",
              "      <td>-1.878723e-13</td>\n",
              "    </tr>\n",
              "    <tr>\n",
              "      <th>11</th>\n",
              "      <td>sum_finance_exp</td>\n",
              "      <td>-1.292175e-13</td>\n",
              "    </tr>\n",
              "    <tr>\n",
              "      <th>12</th>\n",
              "      <td>sum_human_capital_exp</td>\n",
              "      <td>-5.150930e-14</td>\n",
              "    </tr>\n",
              "    <tr>\n",
              "      <th>13</th>\n",
              "      <td>sum_consulting_exp</td>\n",
              "      <td>-2.950986e-13</td>\n",
              "    </tr>\n",
              "    <tr>\n",
              "      <th>14</th>\n",
              "      <td>sum_founder_exp</td>\n",
              "      <td>-1.421320e-12</td>\n",
              "    </tr>\n",
              "    <tr>\n",
              "      <th>15</th>\n",
              "      <td>sum_number_of_startups</td>\n",
              "      <td>-2.858441e-12</td>\n",
              "    </tr>\n",
              "    <tr>\n",
              "      <th>16</th>\n",
              "      <td>sum_gender</td>\n",
              "      <td>-1.429297e-12</td>\n",
              "    </tr>\n",
              "    <tr>\n",
              "      <th>17</th>\n",
              "      <td>sum_foreing_studies</td>\n",
              "      <td>-6.314703e-13</td>\n",
              "    </tr>\n",
              "    <tr>\n",
              "      <th>18</th>\n",
              "      <td>sum_foreing_work_experience</td>\n",
              "      <td>-6.344749e-13</td>\n",
              "    </tr>\n",
              "    <tr>\n",
              "      <th>19</th>\n",
              "      <td>sum_foreing_founder</td>\n",
              "      <td>-3.730427e-13</td>\n",
              "    </tr>\n",
              "    <tr>\n",
              "      <th>20</th>\n",
              "      <td>sum_dp_years_of_experience</td>\n",
              "      <td>-1.511052e-11</td>\n",
              "    </tr>\n",
              "    <tr>\n",
              "      <th>21</th>\n",
              "      <td>sum_dp_years_of_experience_as_entreprenuer</td>\n",
              "      <td>-8.233751e-12</td>\n",
              "    </tr>\n",
              "  </tbody>\n",
              "</table>\n",
              "</div>"
            ],
            "text/plain": [
              "                                     Attribute    Importance\n",
              "0                               first_r_amount  2.532008e-08\n",
              "1                        rounds_funding_factor -4.462318e-12\n",
              "2                              dp_rounds_count -2.430770e-12\n",
              "3                         dp_rounds_amount_sum  1.629556e-07\n",
              "4                         dp_rounds_amount_max -2.063513e-07\n",
              "5                         dp_last_round_amount  4.576197e-08\n",
              "6                           dp_years_operating -8.002982e-13\n",
              "7                              sum_manager_exp -8.389006e-13\n",
              "8                               sum_clevel_exp -1.059445e-12\n",
              "9                          sum_engineering_exp -4.403070e-13\n",
              "10                               sum_sales_exp -1.878723e-13\n",
              "11                             sum_finance_exp -1.292175e-13\n",
              "12                       sum_human_capital_exp -5.150930e-14\n",
              "13                          sum_consulting_exp -2.950986e-13\n",
              "14                             sum_founder_exp -1.421320e-12\n",
              "15                      sum_number_of_startups -2.858441e-12\n",
              "16                                  sum_gender -1.429297e-12\n",
              "17                         sum_foreing_studies -6.314703e-13\n",
              "18                 sum_foreing_work_experience -6.344749e-13\n",
              "19                         sum_foreing_founder -3.730427e-13\n",
              "20                  sum_dp_years_of_experience -1.511052e-11\n",
              "21  sum_dp_years_of_experience_as_entreprenuer -8.233751e-12"
            ]
          },
          "metadata": {},
          "execution_count": 277
        }
      ]
    },
    {
      "cell_type": "markdown",
      "metadata": {
        "id": "ZlKIlNGK-6r8"
      },
      "source": [
        "### Standard"
      ]
    },
    {
      "cell_type": "code",
      "metadata": {
        "colab": {
          "base_uri": "https://localhost:8080/"
        },
        "id": "b9FtmT-W-6r9",
        "outputId": "d46df6da-dc99-4c47-e83d-99f083ddb40b"
      },
      "source": [
        "# 1. Define variables X and y\n",
        "\n",
        "X = X_columns_standard # Independent\n",
        "y = db_companies_Encode_Model.more50_employees # Dependent\n",
        "\n",
        "print(X)\n",
        "print(y)"
      ],
      "execution_count": 278,
      "outputs": [
        {
          "output_type": "stream",
          "name": "stdout",
          "text": [
            "     first_r_amount  ...  sum_dp_years_of_experience_as_entreprenuer\n",
            "0         -0.077119  ...                                    1.164139\n",
            "1         -0.131298  ...                                    0.341445\n",
            "2         -0.123909  ...                                   -0.618365\n",
            "3         -0.125859  ...                                   -0.344133\n",
            "4         -0.130928  ...                                   -0.892596\n",
            "..              ...  ...                                         ...\n",
            "505       -0.102464  ...                                    0.615676\n",
            "506        8.641500  ...                                    0.204329\n",
            "507       -0.126639  ...                                   -0.344133\n",
            "508       -0.126639  ...                                   -0.481249\n",
            "509        0.059353  ...                                    0.067214\n",
            "\n",
            "[510 rows x 22 columns]\n",
            "0      0\n",
            "1      0\n",
            "2      0\n",
            "3      1\n",
            "4      0\n",
            "      ..\n",
            "505    1\n",
            "506    1\n",
            "507    0\n",
            "508    0\n",
            "509    0\n",
            "Name: more50_employees, Length: 510, dtype: int64\n"
          ]
        }
      ]
    },
    {
      "cell_type": "code",
      "metadata": {
        "id": "y8sFNK7C-6r9"
      },
      "source": [
        "# 2. Split the data\n",
        "\n",
        "from sklearn.model_selection import train_test_split\n",
        "\n",
        "# Split the preprocessed data into a training and testing dataset\n",
        "X_train, X_test, y_train, y_test = train_test_split(X, y, random_state=4281)"
      ],
      "execution_count": 279,
      "outputs": []
    },
    {
      "cell_type": "code",
      "metadata": {
        "colab": {
          "base_uri": "https://localhost:8080/"
        },
        "id": "ZXg4Esuv-6r9",
        "outputId": "3c357fc1-535e-4271-f4e1-c55370636ac2"
      },
      "source": [
        "# 3. Choose your Logistic Regression\n",
        "from sklearn.linear_model import LogisticRegression\n",
        "classifier = LogisticRegression()\n",
        "classifier"
      ],
      "execution_count": 280,
      "outputs": [
        {
          "output_type": "execute_result",
          "data": {
            "text/plain": [
              "LogisticRegression()"
            ]
          },
          "metadata": {},
          "execution_count": 280
        }
      ]
    },
    {
      "cell_type": "code",
      "metadata": {
        "colab": {
          "base_uri": "https://localhost:8080/"
        },
        "id": "uJZPmL-S-6r9",
        "outputId": "718a14e4-671d-4618-8c0d-50bb274caa09"
      },
      "source": [
        "# 4. Train your model and define your prediction variable\n",
        "\n",
        "classifier.fit(X_train, y_train)\n",
        "y_pred=classifier.predict(X_test)\n",
        "y_pred"
      ],
      "execution_count": 281,
      "outputs": [
        {
          "output_type": "execute_result",
          "data": {
            "text/plain": [
              "array([1, 0, 0, 0, 0, 0, 1, 0, 0, 0, 0, 0, 0, 0, 0, 0, 0, 1, 0, 0, 0, 1,\n",
              "       0, 0, 0, 0, 0, 0, 1, 0, 0, 0, 1, 0, 0, 0, 0, 0, 1, 0, 0, 0, 0, 0,\n",
              "       0, 1, 1, 0, 0, 1, 0, 1, 0, 0, 0, 0, 0, 0, 0, 0, 0, 0, 0, 0, 1, 0,\n",
              "       0, 0, 0, 0, 0, 0, 0, 0, 0, 0, 1, 0, 0, 1, 0, 1, 1, 0, 0, 0, 0, 1,\n",
              "       0, 0, 0, 1, 0, 0, 0, 0, 0, 0, 0, 0, 0, 0, 1, 0, 0, 0, 0, 0, 0, 0,\n",
              "       0, 0, 0, 0, 0, 0, 1, 0, 0, 0, 0, 0, 0, 0, 0, 0, 0, 0])"
            ]
          },
          "metadata": {},
          "execution_count": 281
        }
      ]
    },
    {
      "cell_type": "code",
      "metadata": {
        "colab": {
          "base_uri": "https://localhost:8080/"
        },
        "id": "XRebRjVk-6r-",
        "outputId": "1b08ff59-8a9e-4726-84cd-ad764564d94b"
      },
      "source": [
        "# 5. Statistics for your model\n",
        "\n",
        "# Scores for model\n",
        "training_score = classifier.score(X_train, y_train)\n",
        "testing_score = classifier.score(X_test, y_test)\n",
        "\n",
        "print(f\"Training Data Score: {training_score}\")\n",
        "print(f\"Testing Data Score: {testing_score}\")"
      ],
      "execution_count": 282,
      "outputs": [
        {
          "output_type": "stream",
          "name": "stdout",
          "text": [
            "Training Data Score: 0.856020942408377\n",
            "Testing Data Score: 0.8359375\n"
          ]
        }
      ]
    },
    {
      "cell_type": "code",
      "metadata": {
        "colab": {
          "base_uri": "https://localhost:8080/",
          "height": 350
        },
        "id": "QVc0J9_y-6r-",
        "outputId": "6adabfd0-f130-47a6-fc90-5717d84bf227"
      },
      "source": [
        "# 6. Confusion matrix\n",
        "\n",
        "confusion_matrix = pd.crosstab(y_test, y_pred, rownames=['Actual'], colnames=['Predicted'])\n",
        "sns.heatmap(confusion_matrix, annot=True)\n",
        "print(confusion_matrix)"
      ],
      "execution_count": 283,
      "outputs": [
        {
          "output_type": "stream",
          "name": "stdout",
          "text": [
            "Predicted   0   1\n",
            "Actual           \n",
            "0          92   5\n",
            "1          16  15\n"
          ]
        },
        {
          "output_type": "display_data",
          "data": {
            "image/png": "[encoded data removed]",
            "text/plain": [
              "<Figure size 432x288 with 2 Axes>"
            ]
          },
          "metadata": {
            "needs_background": "light"
          }
        }
      ]
    },
    {
      "cell_type": "code",
      "metadata": {
        "colab": {
          "base_uri": "https://localhost:8080/"
        },
        "id": "DfkOWECQ-6r-",
        "outputId": "2226f55a-9780-4227-95da-92c51a5ccb5d"
      },
      "source": [
        "# 7. Accuracy \n",
        "\n",
        "from sklearn.metrics import classification_report\n",
        "print(classification_report(y_test,y_pred))"
      ],
      "execution_count": 284,
      "outputs": [
        {
          "output_type": "stream",
          "name": "stdout",
          "text": [
            "              precision    recall  f1-score   support\n",
            "\n",
            "           0       0.85      0.95      0.90        97\n",
            "           1       0.75      0.48      0.59        31\n",
            "\n",
            "    accuracy                           0.84       128\n",
            "   macro avg       0.80      0.72      0.74       128\n",
            "weighted avg       0.83      0.84      0.82       128\n",
            "\n"
          ]
        }
      ]
    },
    {
      "cell_type": "code",
      "metadata": {
        "colab": {
          "base_uri": "https://localhost:8080/",
          "height": 723
        },
        "id": "Fi2tG2gg-6r-",
        "outputId": "c91b3c06-2c14-4a60-e7c9-851e70199605"
      },
      "source": [
        "# 8. Importances by variable\n",
        "\n",
        "importances = pd.DataFrame(data={\n",
        "    'Attribute': X_train.columns,\n",
        "    'Importance': classifier.coef_[0]\n",
        "})\n",
        "importances"
      ],
      "execution_count": 285,
      "outputs": [
        {
          "output_type": "execute_result",
          "data": {
            "text/html": [
              "<div>\n",
              "<style scoped>\n",
              "    .dataframe tbody tr th:only-of-type {\n",
              "        vertical-align: middle;\n",
              "    }\n",
              "\n",
              "    .dataframe tbody tr th {\n",
              "        vertical-align: top;\n",
              "    }\n",
              "\n",
              "    .dataframe thead th {\n",
              "        text-align: right;\n",
              "    }\n",
              "</style>\n",
              "<table border=\"1\" class=\"dataframe\">\n",
              "  <thead>\n",
              "    <tr style=\"text-align: right;\">\n",
              "      <th></th>\n",
              "      <th>Attribute</th>\n",
              "      <th>Importance</th>\n",
              "    </tr>\n",
              "  </thead>\n",
              "  <tbody>\n",
              "    <tr>\n",
              "      <th>0</th>\n",
              "      <td>first_r_amount</td>\n",
              "      <td>0.827989</td>\n",
              "    </tr>\n",
              "    <tr>\n",
              "      <th>1</th>\n",
              "      <td>rounds_funding_factor</td>\n",
              "      <td>-0.013888</td>\n",
              "    </tr>\n",
              "    <tr>\n",
              "      <th>2</th>\n",
              "      <td>dp_rounds_count</td>\n",
              "      <td>-0.273207</td>\n",
              "    </tr>\n",
              "    <tr>\n",
              "      <th>3</th>\n",
              "      <td>dp_rounds_amount_sum</td>\n",
              "      <td>1.416360</td>\n",
              "    </tr>\n",
              "    <tr>\n",
              "      <th>4</th>\n",
              "      <td>dp_rounds_amount_max</td>\n",
              "      <td>-0.428625</td>\n",
              "    </tr>\n",
              "    <tr>\n",
              "      <th>5</th>\n",
              "      <td>dp_last_round_amount</td>\n",
              "      <td>1.602127</td>\n",
              "    </tr>\n",
              "    <tr>\n",
              "      <th>6</th>\n",
              "      <td>dp_years_operating</td>\n",
              "      <td>0.635808</td>\n",
              "    </tr>\n",
              "    <tr>\n",
              "      <th>7</th>\n",
              "      <td>sum_manager_exp</td>\n",
              "      <td>0.065849</td>\n",
              "    </tr>\n",
              "    <tr>\n",
              "      <th>8</th>\n",
              "      <td>sum_clevel_exp</td>\n",
              "      <td>0.145490</td>\n",
              "    </tr>\n",
              "    <tr>\n",
              "      <th>9</th>\n",
              "      <td>sum_engineering_exp</td>\n",
              "      <td>-0.677749</td>\n",
              "    </tr>\n",
              "    <tr>\n",
              "      <th>10</th>\n",
              "      <td>sum_sales_exp</td>\n",
              "      <td>-0.137950</td>\n",
              "    </tr>\n",
              "    <tr>\n",
              "      <th>11</th>\n",
              "      <td>sum_finance_exp</td>\n",
              "      <td>0.037307</td>\n",
              "    </tr>\n",
              "    <tr>\n",
              "      <th>12</th>\n",
              "      <td>sum_human_capital_exp</td>\n",
              "      <td>-0.133062</td>\n",
              "    </tr>\n",
              "    <tr>\n",
              "      <th>13</th>\n",
              "      <td>sum_consulting_exp</td>\n",
              "      <td>0.100497</td>\n",
              "    </tr>\n",
              "    <tr>\n",
              "      <th>14</th>\n",
              "      <td>sum_founder_exp</td>\n",
              "      <td>-0.605323</td>\n",
              "    </tr>\n",
              "    <tr>\n",
              "      <th>15</th>\n",
              "      <td>sum_number_of_startups</td>\n",
              "      <td>0.300651</td>\n",
              "    </tr>\n",
              "    <tr>\n",
              "      <th>16</th>\n",
              "      <td>sum_gender</td>\n",
              "      <td>0.468451</td>\n",
              "    </tr>\n",
              "    <tr>\n",
              "      <th>17</th>\n",
              "      <td>sum_foreing_studies</td>\n",
              "      <td>0.378899</td>\n",
              "    </tr>\n",
              "    <tr>\n",
              "      <th>18</th>\n",
              "      <td>sum_foreing_work_experience</td>\n",
              "      <td>0.062672</td>\n",
              "    </tr>\n",
              "    <tr>\n",
              "      <th>19</th>\n",
              "      <td>sum_foreing_founder</td>\n",
              "      <td>-0.012470</td>\n",
              "    </tr>\n",
              "    <tr>\n",
              "      <th>20</th>\n",
              "      <td>sum_dp_years_of_experience</td>\n",
              "      <td>0.212364</td>\n",
              "    </tr>\n",
              "    <tr>\n",
              "      <th>21</th>\n",
              "      <td>sum_dp_years_of_experience_as_entreprenuer</td>\n",
              "      <td>-0.189989</td>\n",
              "    </tr>\n",
              "  </tbody>\n",
              "</table>\n",
              "</div>"
            ],
            "text/plain": [
              "                                     Attribute  Importance\n",
              "0                               first_r_amount    0.827989\n",
              "1                        rounds_funding_factor   -0.013888\n",
              "2                              dp_rounds_count   -0.273207\n",
              "3                         dp_rounds_amount_sum    1.416360\n",
              "4                         dp_rounds_amount_max   -0.428625\n",
              "5                         dp_last_round_amount    1.602127\n",
              "6                           dp_years_operating    0.635808\n",
              "7                              sum_manager_exp    0.065849\n",
              "8                               sum_clevel_exp    0.145490\n",
              "9                          sum_engineering_exp   -0.677749\n",
              "10                               sum_sales_exp   -0.137950\n",
              "11                             sum_finance_exp    0.037307\n",
              "12                       sum_human_capital_exp   -0.133062\n",
              "13                          sum_consulting_exp    0.100497\n",
              "14                             sum_founder_exp   -0.605323\n",
              "15                      sum_number_of_startups    0.300651\n",
              "16                                  sum_gender    0.468451\n",
              "17                         sum_foreing_studies    0.378899\n",
              "18                 sum_foreing_work_experience    0.062672\n",
              "19                         sum_foreing_founder   -0.012470\n",
              "20                  sum_dp_years_of_experience    0.212364\n",
              "21  sum_dp_years_of_experience_as_entreprenuer   -0.189989"
            ]
          },
          "metadata": {},
          "execution_count": 285
        }
      ]
    },
    {
      "cell_type": "code",
      "metadata": {
        "id": "2OOmK2gn_eeO"
      },
      "source": [
        ""
      ],
      "execution_count": 285,
      "outputs": []
    },
    {
      "cell_type": "markdown",
      "metadata": {
        "id": "aB9BoDd9_fDY"
      },
      "source": [
        "### Standard and oversampled balance"
      ]
    },
    {
      "cell_type": "code",
      "metadata": {
        "colab": {
          "base_uri": "https://localhost:8080/"
        },
        "id": "UTOyMjTg_fDZ",
        "outputId": "057f574b-471e-4faf-fa09-effd2c66d2ff"
      },
      "source": [
        "# 1. Define variables X and y\n",
        "\n",
        "X = X_columns_standard # Independent\n",
        "y = db_companies_Encode_Model.more50_employees # Dependent\n",
        "\n",
        "print(X)\n",
        "print(y)"
      ],
      "execution_count": 286,
      "outputs": [
        {
          "output_type": "stream",
          "name": "stdout",
          "text": [
            "     first_r_amount  ...  sum_dp_years_of_experience_as_entreprenuer\n",
            "0         -0.077119  ...                                    1.164139\n",
            "1         -0.131298  ...                                    0.341445\n",
            "2         -0.123909  ...                                   -0.618365\n",
            "3         -0.125859  ...                                   -0.344133\n",
            "4         -0.130928  ...                                   -0.892596\n",
            "..              ...  ...                                         ...\n",
            "505       -0.102464  ...                                    0.615676\n",
            "506        8.641500  ...                                    0.204329\n",
            "507       -0.126639  ...                                   -0.344133\n",
            "508       -0.126639  ...                                   -0.481249\n",
            "509        0.059353  ...                                    0.067214\n",
            "\n",
            "[510 rows x 22 columns]\n",
            "0      0\n",
            "1      0\n",
            "2      0\n",
            "3      1\n",
            "4      0\n",
            "      ..\n",
            "505    1\n",
            "506    1\n",
            "507    0\n",
            "508    0\n",
            "509    0\n",
            "Name: more50_employees, Length: 510, dtype: int64\n"
          ]
        }
      ]
    },
    {
      "cell_type": "code",
      "metadata": {
        "id": "JP7pYnyx_fDZ"
      },
      "source": [
        "# 2. Split the data\n",
        "\n",
        "from sklearn.model_selection import train_test_split\n",
        "\n",
        "# Split the preprocessed data into a training and testing dataset\n",
        "X_train, X_test, y_train, y_test = train_test_split(X, y, random_state=4281)"
      ],
      "execution_count": 287,
      "outputs": []
    },
    {
      "cell_type": "markdown",
      "metadata": {
        "id": "iv3oPnK1_lW3"
      },
      "source": [
        "Over sampling"
      ]
    },
    {
      "cell_type": "code",
      "metadata": {
        "colab": {
          "base_uri": "https://localhost:8080/"
        },
        "id": "INjNkZlK_o-Y",
        "outputId": "585355a8-cc82-4ff7-bff2-da2e0bb8f99a"
      },
      "source": [
        "# Making balance w/over sampling\n",
        "from collections import Counter\n",
        "from imblearn.over_sampling import RandomOverSampler\n",
        "from sklearn.datasets import make_classification\n",
        "\n",
        "X_train=np.array(X_train)\n",
        "\n",
        "ros = RandomOverSampler(random_state=1)\n",
        "X_resampled, y_resampled = ros.fit_resample(X_train, y_train)\n",
        "\n",
        "from collections import Counter\n",
        "print(sorted(Counter(y_resampled).items()))"
      ],
      "execution_count": 288,
      "outputs": [
        {
          "output_type": "stream",
          "name": "stdout",
          "text": [
            "[(0, 294), (1, 294)]\n"
          ]
        }
      ]
    },
    {
      "cell_type": "markdown",
      "metadata": {
        "id": "1P-UZDu4_-zs"
      },
      "source": [
        "Modeling"
      ]
    },
    {
      "cell_type": "code",
      "metadata": {
        "id": "HBYQDjGIAKrv"
      },
      "source": [
        "X_resampled = pd.DataFrame(X_resampled)"
      ],
      "execution_count": 289,
      "outputs": []
    },
    {
      "cell_type": "code",
      "metadata": {
        "colab": {
          "base_uri": "https://localhost:8080/"
        },
        "id": "svWtJz8J_fDZ",
        "outputId": "93e9d411-493d-4f06-bae4-f1fa5915ec46"
      },
      "source": [
        "# 3. Choose your Logistic Regression\n",
        "from sklearn.linear_model import LogisticRegression\n",
        "classifier = LogisticRegression()\n",
        "classifier"
      ],
      "execution_count": 290,
      "outputs": [
        {
          "output_type": "execute_result",
          "data": {
            "text/plain": [
              "LogisticRegression()"
            ]
          },
          "metadata": {},
          "execution_count": 290
        }
      ]
    },
    {
      "cell_type": "code",
      "metadata": {
        "colab": {
          "base_uri": "https://localhost:8080/"
        },
        "id": "4KVxLeF5_fDZ",
        "outputId": "6f4c2324-91c3-4f9c-dc1d-c9a26e889d14"
      },
      "source": [
        "# 4. Train your model and define your prediction variable\n",
        "\n",
        "classifier.fit(X_resampled, y_resampled)\n",
        "y_pred=classifier.predict(X_test)\n",
        "y_pred"
      ],
      "execution_count": 291,
      "outputs": [
        {
          "output_type": "stream",
          "name": "stderr",
          "text": [
            "/usr/local/lib/python3.7/dist-packages/sklearn/base.py:439: UserWarning: X has feature names, but LogisticRegression was fitted without feature names\n",
            "  f\"X has feature names, but {self.__class__.__name__} was fitted without\"\n"
          ]
        },
        {
          "output_type": "execute_result",
          "data": {
            "text/plain": [
              "array([1, 0, 0, 0, 1, 0, 1, 0, 0, 1, 0, 0, 0, 0, 0, 1, 0, 1, 0, 1, 1, 1,\n",
              "       0, 0, 0, 0, 0, 0, 1, 0, 0, 0, 1, 0, 0, 0, 0, 0, 1, 0, 0, 0, 0, 0,\n",
              "       0, 1, 1, 0, 0, 1, 0, 1, 0, 0, 0, 0, 0, 0, 0, 0, 0, 0, 0, 0, 1, 0,\n",
              "       0, 0, 0, 0, 0, 0, 0, 0, 0, 0, 1, 0, 0, 1, 0, 1, 1, 1, 0, 0, 0, 1,\n",
              "       0, 0, 0, 1, 0, 1, 0, 0, 0, 0, 0, 0, 0, 0, 1, 0, 0, 0, 0, 1, 0, 0,\n",
              "       0, 0, 0, 0, 1, 0, 1, 0, 0, 0, 0, 0, 0, 1, 1, 0, 0, 0])"
            ]
          },
          "metadata": {},
          "execution_count": 291
        }
      ]
    },
    {
      "cell_type": "code",
      "metadata": {
        "colab": {
          "base_uri": "https://localhost:8080/"
        },
        "id": "2LtodQh9_fDZ",
        "outputId": "8e4b1f6a-b1de-48b2-f787-f1208d4fd302"
      },
      "source": [
        "# 5. Statistics for your model\n",
        "\n",
        "# Scores for model\n",
        "training_score = classifier.score(X_resampled, y_resampled)\n",
        "testing_score = classifier.score(X_test, y_test)\n",
        "\n",
        "print(f\"Training Data Score: {training_score}\")\n",
        "print(f\"Testing Data Score: {testing_score}\")"
      ],
      "execution_count": 292,
      "outputs": [
        {
          "output_type": "stream",
          "name": "stdout",
          "text": [
            "Training Data Score: 0.8282312925170068\n",
            "Testing Data Score: 0.765625\n"
          ]
        },
        {
          "output_type": "stream",
          "name": "stderr",
          "text": [
            "/usr/local/lib/python3.7/dist-packages/sklearn/base.py:439: UserWarning: X has feature names, but LogisticRegression was fitted without feature names\n",
            "  f\"X has feature names, but {self.__class__.__name__} was fitted without\"\n"
          ]
        }
      ]
    },
    {
      "cell_type": "code",
      "metadata": {
        "colab": {
          "base_uri": "https://localhost:8080/",
          "height": 350
        },
        "id": "9RLUVpFT_fDZ",
        "outputId": "c97dd29f-628d-4a9e-83c9-4dac68a9ff96"
      },
      "source": [
        "# 6. Confusion matrix\n",
        "\n",
        "confusion_matrix = pd.crosstab(y_test, y_pred, rownames=['Actual'], colnames=['Predicted'])\n",
        "sns.heatmap(confusion_matrix, annot=True)\n",
        "print(confusion_matrix)"
      ],
      "execution_count": 293,
      "outputs": [
        {
          "output_type": "stream",
          "name": "stdout",
          "text": [
            "Predicted   0   1\n",
            "Actual           \n",
            "0          82  15\n",
            "1          15  16\n"
          ]
        },
        {
          "output_type": "display_data",
          "data": {
            "image/png": "[encoded data removed]",
            "text/plain": [
              "<Figure size 432x288 with 2 Axes>"
            ]
          },
          "metadata": {
            "needs_background": "light"
          }
        }
      ]
    },
    {
      "cell_type": "code",
      "metadata": {
        "colab": {
          "base_uri": "https://localhost:8080/"
        },
        "id": "t2YZi_ZV_fDa",
        "outputId": "aaee6223-e757-4933-b942-d02b05e8787d"
      },
      "source": [
        "# 7. Accuracy \n",
        "\n",
        "from sklearn.metrics import classification_report\n",
        "print(classification_report(y_test,y_pred))"
      ],
      "execution_count": 294,
      "outputs": [
        {
          "output_type": "stream",
          "name": "stdout",
          "text": [
            "              precision    recall  f1-score   support\n",
            "\n",
            "           0       0.85      0.85      0.85        97\n",
            "           1       0.52      0.52      0.52        31\n",
            "\n",
            "    accuracy                           0.77       128\n",
            "   macro avg       0.68      0.68      0.68       128\n",
            "weighted avg       0.77      0.77      0.77       128\n",
            "\n"
          ]
        }
      ]
    },
    {
      "cell_type": "code",
      "metadata": {
        "colab": {
          "base_uri": "https://localhost:8080/",
          "height": 723
        },
        "id": "yK8r22kW_fDa",
        "outputId": "56bcbc09-d3b0-453f-f4b7-9a7d0e1cd04b"
      },
      "source": [
        "# 8. Importances by variable\n",
        "\n",
        "importances = pd.DataFrame(data={\n",
        "    'Attribute': X_columns.columns,\n",
        "    'Importance': classifier.coef_[0]\n",
        "})\n",
        "importances"
      ],
      "execution_count": 295,
      "outputs": [
        {
          "output_type": "execute_result",
          "data": {
            "text/html": [
              "<div>\n",
              "<style scoped>\n",
              "    .dataframe tbody tr th:only-of-type {\n",
              "        vertical-align: middle;\n",
              "    }\n",
              "\n",
              "    .dataframe tbody tr th {\n",
              "        vertical-align: top;\n",
              "    }\n",
              "\n",
              "    .dataframe thead th {\n",
              "        text-align: right;\n",
              "    }\n",
              "</style>\n",
              "<table border=\"1\" class=\"dataframe\">\n",
              "  <thead>\n",
              "    <tr style=\"text-align: right;\">\n",
              "      <th></th>\n",
              "      <th>Attribute</th>\n",
              "      <th>Importance</th>\n",
              "    </tr>\n",
              "  </thead>\n",
              "  <tbody>\n",
              "    <tr>\n",
              "      <th>0</th>\n",
              "      <td>first_r_amount</td>\n",
              "      <td>1.855751</td>\n",
              "    </tr>\n",
              "    <tr>\n",
              "      <th>1</th>\n",
              "      <td>rounds_funding_factor</td>\n",
              "      <td>-0.037206</td>\n",
              "    </tr>\n",
              "    <tr>\n",
              "      <th>2</th>\n",
              "      <td>dp_rounds_count</td>\n",
              "      <td>-0.313553</td>\n",
              "    </tr>\n",
              "    <tr>\n",
              "      <th>3</th>\n",
              "      <td>dp_rounds_amount_sum</td>\n",
              "      <td>1.823712</td>\n",
              "    </tr>\n",
              "    <tr>\n",
              "      <th>4</th>\n",
              "      <td>dp_rounds_amount_max</td>\n",
              "      <td>-0.670695</td>\n",
              "    </tr>\n",
              "    <tr>\n",
              "      <th>5</th>\n",
              "      <td>dp_last_round_amount</td>\n",
              "      <td>1.931342</td>\n",
              "    </tr>\n",
              "    <tr>\n",
              "      <th>6</th>\n",
              "      <td>dp_years_operating</td>\n",
              "      <td>0.594697</td>\n",
              "    </tr>\n",
              "    <tr>\n",
              "      <th>7</th>\n",
              "      <td>sum_manager_exp</td>\n",
              "      <td>0.040522</td>\n",
              "    </tr>\n",
              "    <tr>\n",
              "      <th>8</th>\n",
              "      <td>sum_clevel_exp</td>\n",
              "      <td>0.165442</td>\n",
              "    </tr>\n",
              "    <tr>\n",
              "      <th>9</th>\n",
              "      <td>sum_engineering_exp</td>\n",
              "      <td>-0.813897</td>\n",
              "    </tr>\n",
              "    <tr>\n",
              "      <th>10</th>\n",
              "      <td>sum_sales_exp</td>\n",
              "      <td>-0.217652</td>\n",
              "    </tr>\n",
              "    <tr>\n",
              "      <th>11</th>\n",
              "      <td>sum_finance_exp</td>\n",
              "      <td>-0.050782</td>\n",
              "    </tr>\n",
              "    <tr>\n",
              "      <th>12</th>\n",
              "      <td>sum_human_capital_exp</td>\n",
              "      <td>-0.281846</td>\n",
              "    </tr>\n",
              "    <tr>\n",
              "      <th>13</th>\n",
              "      <td>sum_consulting_exp</td>\n",
              "      <td>0.122134</td>\n",
              "    </tr>\n",
              "    <tr>\n",
              "      <th>14</th>\n",
              "      <td>sum_founder_exp</td>\n",
              "      <td>-0.722480</td>\n",
              "    </tr>\n",
              "    <tr>\n",
              "      <th>15</th>\n",
              "      <td>sum_number_of_startups</td>\n",
              "      <td>0.495178</td>\n",
              "    </tr>\n",
              "    <tr>\n",
              "      <th>16</th>\n",
              "      <td>sum_gender</td>\n",
              "      <td>0.655544</td>\n",
              "    </tr>\n",
              "    <tr>\n",
              "      <th>17</th>\n",
              "      <td>sum_foreing_studies</td>\n",
              "      <td>0.480898</td>\n",
              "    </tr>\n",
              "    <tr>\n",
              "      <th>18</th>\n",
              "      <td>sum_foreing_work_experience</td>\n",
              "      <td>-0.274630</td>\n",
              "    </tr>\n",
              "    <tr>\n",
              "      <th>19</th>\n",
              "      <td>sum_foreing_founder</td>\n",
              "      <td>0.156611</td>\n",
              "    </tr>\n",
              "    <tr>\n",
              "      <th>20</th>\n",
              "      <td>sum_dp_years_of_experience</td>\n",
              "      <td>0.209347</td>\n",
              "    </tr>\n",
              "    <tr>\n",
              "      <th>21</th>\n",
              "      <td>sum_dp_years_of_experience_as_entreprenuer</td>\n",
              "      <td>-0.199307</td>\n",
              "    </tr>\n",
              "  </tbody>\n",
              "</table>\n",
              "</div>"
            ],
            "text/plain": [
              "                                     Attribute  Importance\n",
              "0                               first_r_amount    1.855751\n",
              "1                        rounds_funding_factor   -0.037206\n",
              "2                              dp_rounds_count   -0.313553\n",
              "3                         dp_rounds_amount_sum    1.823712\n",
              "4                         dp_rounds_amount_max   -0.670695\n",
              "5                         dp_last_round_amount    1.931342\n",
              "6                           dp_years_operating    0.594697\n",
              "7                              sum_manager_exp    0.040522\n",
              "8                               sum_clevel_exp    0.165442\n",
              "9                          sum_engineering_exp   -0.813897\n",
              "10                               sum_sales_exp   -0.217652\n",
              "11                             sum_finance_exp   -0.050782\n",
              "12                       sum_human_capital_exp   -0.281846\n",
              "13                          sum_consulting_exp    0.122134\n",
              "14                             sum_founder_exp   -0.722480\n",
              "15                      sum_number_of_startups    0.495178\n",
              "16                                  sum_gender    0.655544\n",
              "17                         sum_foreing_studies    0.480898\n",
              "18                 sum_foreing_work_experience   -0.274630\n",
              "19                         sum_foreing_founder    0.156611\n",
              "20                  sum_dp_years_of_experience    0.209347\n",
              "21  sum_dp_years_of_experience_as_entreprenuer   -0.199307"
            ]
          },
          "metadata": {},
          "execution_count": 295
        }
      ]
    },
    {
      "cell_type": "markdown",
      "metadata": {
        "id": "CdZTYISbBv3g"
      },
      "source": [
        "### Standard and undersampled balance"
      ]
    },
    {
      "cell_type": "code",
      "metadata": {
        "colab": {
          "base_uri": "https://localhost:8080/"
        },
        "id": "W93b5ynrBv3g",
        "outputId": "3b6edc15-d8be-475f-ffe1-b72c4de2bc52"
      },
      "source": [
        "# 1. Define variables X and y\n",
        "\n",
        "X = X_columns_standard # Independent\n",
        "y = db_companies_Encode_Model.more50_employees # Dependent\n",
        "\n",
        "print(X)\n",
        "print(y)"
      ],
      "execution_count": 296,
      "outputs": [
        {
          "output_type": "stream",
          "name": "stdout",
          "text": [
            "     first_r_amount  ...  sum_dp_years_of_experience_as_entreprenuer\n",
            "0         -0.077119  ...                                    1.164139\n",
            "1         -0.131298  ...                                    0.341445\n",
            "2         -0.123909  ...                                   -0.618365\n",
            "3         -0.125859  ...                                   -0.344133\n",
            "4         -0.130928  ...                                   -0.892596\n",
            "..              ...  ...                                         ...\n",
            "505       -0.102464  ...                                    0.615676\n",
            "506        8.641500  ...                                    0.204329\n",
            "507       -0.126639  ...                                   -0.344133\n",
            "508       -0.126639  ...                                   -0.481249\n",
            "509        0.059353  ...                                    0.067214\n",
            "\n",
            "[510 rows x 22 columns]\n",
            "0      0\n",
            "1      0\n",
            "2      0\n",
            "3      1\n",
            "4      0\n",
            "      ..\n",
            "505    1\n",
            "506    1\n",
            "507    0\n",
            "508    0\n",
            "509    0\n",
            "Name: more50_employees, Length: 510, dtype: int64\n"
          ]
        }
      ]
    },
    {
      "cell_type": "code",
      "metadata": {
        "id": "HjrG3x54Bv3h"
      },
      "source": [
        "# 2. Split the data\n",
        "\n",
        "from sklearn.model_selection import train_test_split\n",
        "\n",
        "# Split the preprocessed data into a training and testing dataset\n",
        "X_train, X_test, y_train, y_test = train_test_split(X, y, random_state=4281)"
      ],
      "execution_count": 297,
      "outputs": []
    },
    {
      "cell_type": "markdown",
      "metadata": {
        "id": "pZIFEKd1Bv3h"
      },
      "source": [
        "Under sampling"
      ]
    },
    {
      "cell_type": "code",
      "metadata": {
        "colab": {
          "base_uri": "https://localhost:8080/"
        },
        "id": "JYjmoniGBv3h",
        "outputId": "a57cb49d-4738-4f95-90dd-bc8d125da97c"
      },
      "source": [
        "# Making balance w/under sampling\n",
        "from collections import Counter\n",
        "from imblearn.under_sampling import RandomUnderSampler\n",
        "from sklearn.datasets import make_classification\n",
        "\n",
        "X_train=np.array(X_train)\n",
        "\n",
        "ros = RandomUnderSampler(random_state=1)\n",
        "X_resampled, y_resampled = ros.fit_resample(X_train, y_train)\n",
        "\n",
        "from collections import Counter\n",
        "print(sorted(Counter(y_resampled).items()))"
      ],
      "execution_count": 298,
      "outputs": [
        {
          "output_type": "stream",
          "name": "stdout",
          "text": [
            "[(0, 88), (1, 88)]\n"
          ]
        }
      ]
    },
    {
      "cell_type": "markdown",
      "metadata": {
        "id": "LTytTjVlBv3h"
      },
      "source": [
        "Modeling"
      ]
    },
    {
      "cell_type": "code",
      "metadata": {
        "id": "ZNZZkKY6Bv3h"
      },
      "source": [
        "X_resampled = pd.DataFrame(X_resampled)"
      ],
      "execution_count": 299,
      "outputs": []
    },
    {
      "cell_type": "code",
      "metadata": {
        "colab": {
          "base_uri": "https://localhost:8080/"
        },
        "id": "f5ehfP_FBv3i",
        "outputId": "193aee19-3f01-4cd6-a8ce-385933726c06"
      },
      "source": [
        "# 3. Choose your Logistic Regression\n",
        "from sklearn.linear_model import LogisticRegression\n",
        "classifier = LogisticRegression()\n",
        "classifier"
      ],
      "execution_count": 300,
      "outputs": [
        {
          "output_type": "execute_result",
          "data": {
            "text/plain": [
              "LogisticRegression()"
            ]
          },
          "metadata": {},
          "execution_count": 300
        }
      ]
    },
    {
      "cell_type": "code",
      "metadata": {
        "colab": {
          "base_uri": "https://localhost:8080/"
        },
        "id": "1zC6bU8rBv3i",
        "outputId": "3b0f4a6c-89df-4dd4-897e-8b8dbc9bf536"
      },
      "source": [
        "# 4. Train your model and define your prediction variable\n",
        "\n",
        "classifier.fit(X_resampled, y_resampled)\n",
        "y_pred=classifier.predict(X_test)\n",
        "y_pred"
      ],
      "execution_count": 301,
      "outputs": [
        {
          "output_type": "stream",
          "name": "stderr",
          "text": [
            "/usr/local/lib/python3.7/dist-packages/sklearn/base.py:439: UserWarning: X has feature names, but LogisticRegression was fitted without feature names\n",
            "  f\"X has feature names, but {self.__class__.__name__} was fitted without\"\n"
          ]
        },
        {
          "output_type": "execute_result",
          "data": {
            "text/plain": [
              "array([1, 0, 0, 0, 1, 0, 1, 0, 0, 1, 0, 0, 0, 1, 0, 1, 0, 1, 0, 1, 1, 1,\n",
              "       0, 0, 0, 0, 0, 0, 1, 0, 0, 0, 1, 0, 0, 0, 0, 0, 1, 0, 0, 0, 0, 0,\n",
              "       0, 1, 1, 0, 0, 1, 0, 1, 0, 0, 0, 1, 0, 0, 0, 0, 0, 0, 0, 0, 1, 0,\n",
              "       0, 0, 0, 0, 0, 0, 0, 0, 1, 0, 1, 0, 0, 1, 0, 1, 1, 1, 0, 0, 0, 1,\n",
              "       0, 0, 0, 1, 0, 1, 0, 0, 0, 0, 0, 0, 1, 0, 1, 0, 0, 0, 0, 1, 0, 0,\n",
              "       0, 0, 0, 0, 1, 0, 1, 0, 0, 0, 0, 0, 0, 1, 1, 0, 0, 0])"
            ]
          },
          "metadata": {},
          "execution_count": 301
        }
      ]
    },
    {
      "cell_type": "code",
      "metadata": {
        "colab": {
          "base_uri": "https://localhost:8080/"
        },
        "id": "LSkiiePSBv3i",
        "outputId": "929f59e9-d5d3-4dfc-cd3d-41fdadab3d65"
      },
      "source": [
        "# 5. Statistics for your model\n",
        "\n",
        "# Scores for model\n",
        "training_score = classifier.score(X_resampled, y_resampled)\n",
        "testing_score = classifier.score(X_test, y_test)\n",
        "\n",
        "print(f\"Training Data Score: {training_score}\")\n",
        "print(f\"Testing Data Score: {testing_score}\")"
      ],
      "execution_count": 302,
      "outputs": [
        {
          "output_type": "stream",
          "name": "stdout",
          "text": [
            "Training Data Score: 0.8295454545454546\n",
            "Testing Data Score: 0.734375\n"
          ]
        },
        {
          "output_type": "stream",
          "name": "stderr",
          "text": [
            "/usr/local/lib/python3.7/dist-packages/sklearn/base.py:439: UserWarning: X has feature names, but LogisticRegression was fitted without feature names\n",
            "  f\"X has feature names, but {self.__class__.__name__} was fitted without\"\n"
          ]
        }
      ]
    },
    {
      "cell_type": "code",
      "metadata": {
        "colab": {
          "base_uri": "https://localhost:8080/",
          "height": 350
        },
        "id": "vh1cpdcdBv3i",
        "outputId": "8952177b-ece5-49e0-de25-0ba6de1ec32d"
      },
      "source": [
        "# 6. Confusion matrix\n",
        "\n",
        "confusion_matrix = pd.crosstab(y_test, y_pred, rownames=['Actual'], colnames=['Predicted'])\n",
        "sns.heatmap(confusion_matrix, annot=True)\n",
        "print(confusion_matrix)"
      ],
      "execution_count": 303,
      "outputs": [
        {
          "output_type": "stream",
          "name": "stdout",
          "text": [
            "Predicted   0   1\n",
            "Actual           \n",
            "0          78  19\n",
            "1          15  16\n"
          ]
        },
        {
          "output_type": "display_data",
          "data": {
            "image/png": "[encoded data removed]",
            "text/plain": [
              "<Figure size 432x288 with 2 Axes>"
            ]
          },
          "metadata": {
            "needs_background": "light"
          }
        }
      ]
    },
    {
      "cell_type": "code",
      "metadata": {
        "colab": {
          "base_uri": "https://localhost:8080/"
        },
        "id": "HK9bhr_jBv3i",
        "outputId": "1f438088-5c43-445a-b492-a77c559e2b01"
      },
      "source": [
        "# 7. Accuracy \n",
        "\n",
        "from sklearn.metrics import classification_report\n",
        "print(classification_report(y_test,y_pred))"
      ],
      "execution_count": 304,
      "outputs": [
        {
          "output_type": "stream",
          "name": "stdout",
          "text": [
            "              precision    recall  f1-score   support\n",
            "\n",
            "           0       0.84      0.80      0.82        97\n",
            "           1       0.46      0.52      0.48        31\n",
            "\n",
            "    accuracy                           0.73       128\n",
            "   macro avg       0.65      0.66      0.65       128\n",
            "weighted avg       0.75      0.73      0.74       128\n",
            "\n"
          ]
        }
      ]
    },
    {
      "cell_type": "code",
      "metadata": {
        "colab": {
          "base_uri": "https://localhost:8080/",
          "height": 723
        },
        "id": "kjhWjE6gBv3i",
        "outputId": "6629596a-be0d-48f1-de23-5c35318bed12"
      },
      "source": [
        "# 8. Importances by variable\n",
        "\n",
        "importances = pd.DataFrame(data={\n",
        "    'Attribute': X_columns.columns,\n",
        "    'Importance': classifier.coef_[0]\n",
        "})\n",
        "importances"
      ],
      "execution_count": 305,
      "outputs": [
        {
          "output_type": "execute_result",
          "data": {
            "text/html": [
              "<div>\n",
              "<style scoped>\n",
              "    .dataframe tbody tr th:only-of-type {\n",
              "        vertical-align: middle;\n",
              "    }\n",
              "\n",
              "    .dataframe tbody tr th {\n",
              "        vertical-align: top;\n",
              "    }\n",
              "\n",
              "    .dataframe thead th {\n",
              "        text-align: right;\n",
              "    }\n",
              "</style>\n",
              "<table border=\"1\" class=\"dataframe\">\n",
              "  <thead>\n",
              "    <tr style=\"text-align: right;\">\n",
              "      <th></th>\n",
              "      <th>Attribute</th>\n",
              "      <th>Importance</th>\n",
              "    </tr>\n",
              "  </thead>\n",
              "  <tbody>\n",
              "    <tr>\n",
              "      <th>0</th>\n",
              "      <td>first_r_amount</td>\n",
              "      <td>1.278294</td>\n",
              "    </tr>\n",
              "    <tr>\n",
              "      <th>1</th>\n",
              "      <td>rounds_funding_factor</td>\n",
              "      <td>0.020239</td>\n",
              "    </tr>\n",
              "    <tr>\n",
              "      <th>2</th>\n",
              "      <td>dp_rounds_count</td>\n",
              "      <td>-0.359856</td>\n",
              "    </tr>\n",
              "    <tr>\n",
              "      <th>3</th>\n",
              "      <td>dp_rounds_amount_sum</td>\n",
              "      <td>1.560949</td>\n",
              "    </tr>\n",
              "    <tr>\n",
              "      <th>4</th>\n",
              "      <td>dp_rounds_amount_max</td>\n",
              "      <td>1.099899</td>\n",
              "    </tr>\n",
              "    <tr>\n",
              "      <th>5</th>\n",
              "      <td>dp_last_round_amount</td>\n",
              "      <td>1.020138</td>\n",
              "    </tr>\n",
              "    <tr>\n",
              "      <th>6</th>\n",
              "      <td>dp_years_operating</td>\n",
              "      <td>0.457771</td>\n",
              "    </tr>\n",
              "    <tr>\n",
              "      <th>7</th>\n",
              "      <td>sum_manager_exp</td>\n",
              "      <td>0.117938</td>\n",
              "    </tr>\n",
              "    <tr>\n",
              "      <th>8</th>\n",
              "      <td>sum_clevel_exp</td>\n",
              "      <td>0.421434</td>\n",
              "    </tr>\n",
              "    <tr>\n",
              "      <th>9</th>\n",
              "      <td>sum_engineering_exp</td>\n",
              "      <td>-0.720550</td>\n",
              "    </tr>\n",
              "    <tr>\n",
              "      <th>10</th>\n",
              "      <td>sum_sales_exp</td>\n",
              "      <td>-0.290419</td>\n",
              "    </tr>\n",
              "    <tr>\n",
              "      <th>11</th>\n",
              "      <td>sum_finance_exp</td>\n",
              "      <td>-0.007367</td>\n",
              "    </tr>\n",
              "    <tr>\n",
              "      <th>12</th>\n",
              "      <td>sum_human_capital_exp</td>\n",
              "      <td>-0.097018</td>\n",
              "    </tr>\n",
              "    <tr>\n",
              "      <th>13</th>\n",
              "      <td>sum_consulting_exp</td>\n",
              "      <td>0.319113</td>\n",
              "    </tr>\n",
              "    <tr>\n",
              "      <th>14</th>\n",
              "      <td>sum_founder_exp</td>\n",
              "      <td>-0.659232</td>\n",
              "    </tr>\n",
              "    <tr>\n",
              "      <th>15</th>\n",
              "      <td>sum_number_of_startups</td>\n",
              "      <td>0.605437</td>\n",
              "    </tr>\n",
              "    <tr>\n",
              "      <th>16</th>\n",
              "      <td>sum_gender</td>\n",
              "      <td>0.431150</td>\n",
              "    </tr>\n",
              "    <tr>\n",
              "      <th>17</th>\n",
              "      <td>sum_foreing_studies</td>\n",
              "      <td>0.521725</td>\n",
              "    </tr>\n",
              "    <tr>\n",
              "      <th>18</th>\n",
              "      <td>sum_foreing_work_experience</td>\n",
              "      <td>-0.017385</td>\n",
              "    </tr>\n",
              "    <tr>\n",
              "      <th>19</th>\n",
              "      <td>sum_foreing_founder</td>\n",
              "      <td>0.149843</td>\n",
              "    </tr>\n",
              "    <tr>\n",
              "      <th>20</th>\n",
              "      <td>sum_dp_years_of_experience</td>\n",
              "      <td>-0.130291</td>\n",
              "    </tr>\n",
              "    <tr>\n",
              "      <th>21</th>\n",
              "      <td>sum_dp_years_of_experience_as_entreprenuer</td>\n",
              "      <td>0.013850</td>\n",
              "    </tr>\n",
              "  </tbody>\n",
              "</table>\n",
              "</div>"
            ],
            "text/plain": [
              "                                     Attribute  Importance\n",
              "0                               first_r_amount    1.278294\n",
              "1                        rounds_funding_factor    0.020239\n",
              "2                              dp_rounds_count   -0.359856\n",
              "3                         dp_rounds_amount_sum    1.560949\n",
              "4                         dp_rounds_amount_max    1.099899\n",
              "5                         dp_last_round_amount    1.020138\n",
              "6                           dp_years_operating    0.457771\n",
              "7                              sum_manager_exp    0.117938\n",
              "8                               sum_clevel_exp    0.421434\n",
              "9                          sum_engineering_exp   -0.720550\n",
              "10                               sum_sales_exp   -0.290419\n",
              "11                             sum_finance_exp   -0.007367\n",
              "12                       sum_human_capital_exp   -0.097018\n",
              "13                          sum_consulting_exp    0.319113\n",
              "14                             sum_founder_exp   -0.659232\n",
              "15                      sum_number_of_startups    0.605437\n",
              "16                                  sum_gender    0.431150\n",
              "17                         sum_foreing_studies    0.521725\n",
              "18                 sum_foreing_work_experience   -0.017385\n",
              "19                         sum_foreing_founder    0.149843\n",
              "20                  sum_dp_years_of_experience   -0.130291\n",
              "21  sum_dp_years_of_experience_as_entreprenuer    0.013850"
            ]
          },
          "metadata": {},
          "execution_count": 305
        }
      ]
    },
    {
      "cell_type": "code",
      "metadata": {
        "id": "sgPg1vpJ5xYk"
      },
      "source": [
        ""
      ],
      "execution_count": 305,
      "outputs": []
    },
    {
      "cell_type": "markdown",
      "metadata": {
        "id": "QYhz_jPL5ztf"
      },
      "source": [
        "### Standard and smote balance"
      ]
    },
    {
      "cell_type": "code",
      "metadata": {
        "colab": {
          "base_uri": "https://localhost:8080/"
        },
        "id": "w_UmmdIU5ztg",
        "outputId": "78fc761c-d65e-4c7a-d5bf-1117db96e8b9"
      },
      "source": [
        "# 1. Define variables X and y\n",
        "\n",
        "X = X_columns_standard # Independent\n",
        "y = db_companies_Encode_Model.more50_employees # Dependent\n",
        "\n",
        "print(X)\n",
        "print(y)"
      ],
      "execution_count": 306,
      "outputs": [
        {
          "output_type": "stream",
          "name": "stdout",
          "text": [
            "     first_r_amount  ...  sum_dp_years_of_experience_as_entreprenuer\n",
            "0         -0.077119  ...                                    1.164139\n",
            "1         -0.131298  ...                                    0.341445\n",
            "2         -0.123909  ...                                   -0.618365\n",
            "3         -0.125859  ...                                   -0.344133\n",
            "4         -0.130928  ...                                   -0.892596\n",
            "..              ...  ...                                         ...\n",
            "505       -0.102464  ...                                    0.615676\n",
            "506        8.641500  ...                                    0.204329\n",
            "507       -0.126639  ...                                   -0.344133\n",
            "508       -0.126639  ...                                   -0.481249\n",
            "509        0.059353  ...                                    0.067214\n",
            "\n",
            "[510 rows x 22 columns]\n",
            "0      0\n",
            "1      0\n",
            "2      0\n",
            "3      1\n",
            "4      0\n",
            "      ..\n",
            "505    1\n",
            "506    1\n",
            "507    0\n",
            "508    0\n",
            "509    0\n",
            "Name: more50_employees, Length: 510, dtype: int64\n"
          ]
        }
      ]
    },
    {
      "cell_type": "code",
      "metadata": {
        "id": "a7Ioy-dB5zth"
      },
      "source": [
        "# 2. Split the data\n",
        "\n",
        "from sklearn.model_selection import train_test_split\n",
        "\n",
        "# Split the preprocessed data into a training and testing dataset\n",
        "X_train, X_test, y_train, y_test = train_test_split(X, y, random_state=4281)"
      ],
      "execution_count": 307,
      "outputs": []
    },
    {
      "cell_type": "markdown",
      "metadata": {
        "id": "C5uawNaE5ztj"
      },
      "source": [
        "Under sampling"
      ]
    },
    {
      "cell_type": "code",
      "metadata": {
        "colab": {
          "base_uri": "https://localhost:8080/"
        },
        "id": "fBG4Q26Q5ztk",
        "outputId": "cbbbd821-052b-4f5e-f15a-fdb525fdb850"
      },
      "source": [
        "# Making balance w/smote sampling\n",
        "from collections import Counter\n",
        "from imblearn.over_sampling import SMOTE\n",
        "from sklearn.datasets import make_classification\n",
        "\n",
        "X_train=np.array(X_train)\n",
        "\n",
        "X_resampled, y_resampled = SMOTE(random_state=1,sampling_strategy='auto').fit_resample(X_train, y_train)\n",
        "\n",
        "from collections import Counter\n",
        "print(sorted(Counter(y_resampled).items()))"
      ],
      "execution_count": 308,
      "outputs": [
        {
          "output_type": "stream",
          "name": "stdout",
          "text": [
            "[(0, 294), (1, 294)]\n"
          ]
        }
      ]
    },
    {
      "cell_type": "markdown",
      "metadata": {
        "id": "3MRSeUOY5ztk"
      },
      "source": [
        "Modeling"
      ]
    },
    {
      "cell_type": "code",
      "metadata": {
        "id": "Npy8PLf65ztl"
      },
      "source": [
        "X_resampled = pd.DataFrame(X_resampled)"
      ],
      "execution_count": 309,
      "outputs": []
    },
    {
      "cell_type": "code",
      "metadata": {
        "colab": {
          "base_uri": "https://localhost:8080/"
        },
        "id": "-K-hXvvs5ztl",
        "outputId": "53ce505a-af7e-400e-bb5d-4f5fc6b07edf"
      },
      "source": [
        "# 3. Choose your Logistic Regression\n",
        "from sklearn.linear_model import LogisticRegression\n",
        "classifier = LogisticRegression()\n",
        "classifier"
      ],
      "execution_count": 310,
      "outputs": [
        {
          "output_type": "execute_result",
          "data": {
            "text/plain": [
              "LogisticRegression()"
            ]
          },
          "metadata": {},
          "execution_count": 310
        }
      ]
    },
    {
      "cell_type": "code",
      "metadata": {
        "colab": {
          "base_uri": "https://localhost:8080/"
        },
        "id": "6Sy4sftt5ztm",
        "outputId": "6ed4c6c7-4a28-4699-f01c-16324e3274cf"
      },
      "source": [
        "# 4. Train your model and define your prediction variable\n",
        "\n",
        "classifier.fit(X_resampled, y_resampled)\n",
        "y_pred=classifier.predict(X_test)\n",
        "y_pred"
      ],
      "execution_count": 311,
      "outputs": [
        {
          "output_type": "stream",
          "name": "stderr",
          "text": [
            "/usr/local/lib/python3.7/dist-packages/sklearn/base.py:439: UserWarning: X has feature names, but LogisticRegression was fitted without feature names\n",
            "  f\"X has feature names, but {self.__class__.__name__} was fitted without\"\n"
          ]
        },
        {
          "output_type": "execute_result",
          "data": {
            "text/plain": [
              "array([1, 0, 0, 0, 1, 0, 1, 0, 0, 1, 0, 0, 0, 1, 0, 1, 0, 1, 0, 1, 0, 1,\n",
              "       0, 0, 1, 0, 0, 0, 1, 1, 0, 0, 1, 0, 0, 0, 0, 0, 1, 0, 0, 0, 0, 0,\n",
              "       1, 1, 1, 0, 0, 1, 0, 1, 0, 0, 0, 0, 0, 0, 0, 0, 0, 0, 0, 0, 1, 0,\n",
              "       0, 0, 1, 0, 0, 0, 1, 0, 0, 0, 1, 0, 0, 1, 0, 1, 1, 1, 0, 0, 0, 1,\n",
              "       0, 0, 0, 1, 0, 1, 0, 0, 0, 0, 0, 0, 0, 0, 1, 0, 0, 0, 0, 0, 0, 0,\n",
              "       0, 0, 0, 0, 1, 0, 1, 0, 0, 0, 0, 0, 0, 1, 1, 0, 0, 0])"
            ]
          },
          "metadata": {},
          "execution_count": 311
        }
      ]
    },
    {
      "cell_type": "code",
      "metadata": {
        "colab": {
          "base_uri": "https://localhost:8080/"
        },
        "id": "IdVc0JFc5ztn",
        "outputId": "de0eb3c5-7d51-44d8-ae66-f4bc57711be5"
      },
      "source": [
        "# 5. Statistics for your model\n",
        "\n",
        "# Scores for model\n",
        "training_score = classifier.score(X_resampled, y_resampled)\n",
        "testing_score = classifier.score(X_test, y_test)\n",
        "\n",
        "print(f\"Training Data Score: {training_score}\")\n",
        "print(f\"Testing Data Score: {testing_score}\")"
      ],
      "execution_count": 312,
      "outputs": [
        {
          "output_type": "stream",
          "name": "stdout",
          "text": [
            "Training Data Score: 0.8333333333333334\n",
            "Testing Data Score: 0.78125\n"
          ]
        },
        {
          "output_type": "stream",
          "name": "stderr",
          "text": [
            "/usr/local/lib/python3.7/dist-packages/sklearn/base.py:439: UserWarning: X has feature names, but LogisticRegression was fitted without feature names\n",
            "  f\"X has feature names, but {self.__class__.__name__} was fitted without\"\n"
          ]
        }
      ]
    },
    {
      "cell_type": "code",
      "metadata": {
        "colab": {
          "base_uri": "https://localhost:8080/",
          "height": 351
        },
        "id": "DnjlI3I55zto",
        "outputId": "1ee3b6e7-20d8-40d6-d148-d5649c95ee97"
      },
      "source": [
        "# 6. Confusion matrix\n",
        "\n",
        "confusion_matrix = pd.crosstab(y_test, y_pred, rownames=['Actual'], colnames=['Predicted'])\n",
        "sns.heatmap(confusion_matrix, annot=True)\n",
        "print(confusion_matrix)"
      ],
      "execution_count": 313,
      "outputs": [
        {
          "output_type": "stream",
          "name": "stdout",
          "text": [
            "Predicted   0   1\n",
            "Actual           \n",
            "0          81  16\n",
            "1          12  19\n"
          ]
        },
        {
          "output_type": "display_data",
          "data": {
            "image/png": "[encoded data removed]",
            "text/plain": [
              "<Figure size 432x288 with 2 Axes>"
            ]
          },
          "metadata": {
            "needs_background": "light"
          }
        }
      ]
    },
    {
      "cell_type": "code",
      "metadata": {
        "colab": {
          "base_uri": "https://localhost:8080/"
        },
        "id": "ky5mb0qM5zto",
        "outputId": "292b4c84-dfa2-4f7f-a951-b1c23c631448"
      },
      "source": [
        "# 7. Accuracy \n",
        "\n",
        "from sklearn.metrics import classification_report\n",
        "print(classification_report(y_test,y_pred))"
      ],
      "execution_count": 314,
      "outputs": [
        {
          "output_type": "stream",
          "name": "stdout",
          "text": [
            "              precision    recall  f1-score   support\n",
            "\n",
            "           0       0.87      0.84      0.85        97\n",
            "           1       0.54      0.61      0.58        31\n",
            "\n",
            "    accuracy                           0.78       128\n",
            "   macro avg       0.71      0.72      0.71       128\n",
            "weighted avg       0.79      0.78      0.79       128\n",
            "\n"
          ]
        }
      ]
    },
    {
      "cell_type": "code",
      "metadata": {
        "colab": {
          "base_uri": "https://localhost:8080/",
          "height": 723
        },
        "id": "TgiS2XTG5ztp",
        "outputId": "40209575-7063-44b9-b48e-472743f8aef0"
      },
      "source": [
        "# 8. Importances by variable\n",
        "\n",
        "importances = pd.DataFrame(data={\n",
        "    'Attribute': X_columns.columns,\n",
        "    'Importance': classifier.coef_[0]\n",
        "})\n",
        "importances"
      ],
      "execution_count": 315,
      "outputs": [
        {
          "output_type": "execute_result",
          "data": {
            "text/html": [
              "<div>\n",
              "<style scoped>\n",
              "    .dataframe tbody tr th:only-of-type {\n",
              "        vertical-align: middle;\n",
              "    }\n",
              "\n",
              "    .dataframe tbody tr th {\n",
              "        vertical-align: top;\n",
              "    }\n",
              "\n",
              "    .dataframe thead th {\n",
              "        text-align: right;\n",
              "    }\n",
              "</style>\n",
              "<table border=\"1\" class=\"dataframe\">\n",
              "  <thead>\n",
              "    <tr style=\"text-align: right;\">\n",
              "      <th></th>\n",
              "      <th>Attribute</th>\n",
              "      <th>Importance</th>\n",
              "    </tr>\n",
              "  </thead>\n",
              "  <tbody>\n",
              "    <tr>\n",
              "      <th>0</th>\n",
              "      <td>first_r_amount</td>\n",
              "      <td>2.200103</td>\n",
              "    </tr>\n",
              "    <tr>\n",
              "      <th>1</th>\n",
              "      <td>rounds_funding_factor</td>\n",
              "      <td>-0.137088</td>\n",
              "    </tr>\n",
              "    <tr>\n",
              "      <th>2</th>\n",
              "      <td>dp_rounds_count</td>\n",
              "      <td>-0.443428</td>\n",
              "    </tr>\n",
              "    <tr>\n",
              "      <th>3</th>\n",
              "      <td>dp_rounds_amount_sum</td>\n",
              "      <td>1.879768</td>\n",
              "    </tr>\n",
              "    <tr>\n",
              "      <th>4</th>\n",
              "      <td>dp_rounds_amount_max</td>\n",
              "      <td>-0.509349</td>\n",
              "    </tr>\n",
              "    <tr>\n",
              "      <th>5</th>\n",
              "      <td>dp_last_round_amount</td>\n",
              "      <td>2.397680</td>\n",
              "    </tr>\n",
              "    <tr>\n",
              "      <th>6</th>\n",
              "      <td>dp_years_operating</td>\n",
              "      <td>0.655620</td>\n",
              "    </tr>\n",
              "    <tr>\n",
              "      <th>7</th>\n",
              "      <td>sum_manager_exp</td>\n",
              "      <td>0.121408</td>\n",
              "    </tr>\n",
              "    <tr>\n",
              "      <th>8</th>\n",
              "      <td>sum_clevel_exp</td>\n",
              "      <td>0.297338</td>\n",
              "    </tr>\n",
              "    <tr>\n",
              "      <th>9</th>\n",
              "      <td>sum_engineering_exp</td>\n",
              "      <td>-0.945858</td>\n",
              "    </tr>\n",
              "    <tr>\n",
              "      <th>10</th>\n",
              "      <td>sum_sales_exp</td>\n",
              "      <td>-0.305649</td>\n",
              "    </tr>\n",
              "    <tr>\n",
              "      <th>11</th>\n",
              "      <td>sum_finance_exp</td>\n",
              "      <td>-0.056071</td>\n",
              "    </tr>\n",
              "    <tr>\n",
              "      <th>12</th>\n",
              "      <td>sum_human_capital_exp</td>\n",
              "      <td>-0.239516</td>\n",
              "    </tr>\n",
              "    <tr>\n",
              "      <th>13</th>\n",
              "      <td>sum_consulting_exp</td>\n",
              "      <td>0.190185</td>\n",
              "    </tr>\n",
              "    <tr>\n",
              "      <th>14</th>\n",
              "      <td>sum_founder_exp</td>\n",
              "      <td>-0.701056</td>\n",
              "    </tr>\n",
              "    <tr>\n",
              "      <th>15</th>\n",
              "      <td>sum_number_of_startups</td>\n",
              "      <td>0.270671</td>\n",
              "    </tr>\n",
              "    <tr>\n",
              "      <th>16</th>\n",
              "      <td>sum_gender</td>\n",
              "      <td>0.380732</td>\n",
              "    </tr>\n",
              "    <tr>\n",
              "      <th>17</th>\n",
              "      <td>sum_foreing_studies</td>\n",
              "      <td>0.313134</td>\n",
              "    </tr>\n",
              "    <tr>\n",
              "      <th>18</th>\n",
              "      <td>sum_foreing_work_experience</td>\n",
              "      <td>0.089468</td>\n",
              "    </tr>\n",
              "    <tr>\n",
              "      <th>19</th>\n",
              "      <td>sum_foreing_founder</td>\n",
              "      <td>0.176776</td>\n",
              "    </tr>\n",
              "    <tr>\n",
              "      <th>20</th>\n",
              "      <td>sum_dp_years_of_experience</td>\n",
              "      <td>0.092702</td>\n",
              "    </tr>\n",
              "    <tr>\n",
              "      <th>21</th>\n",
              "      <td>sum_dp_years_of_experience_as_entreprenuer</td>\n",
              "      <td>-0.219121</td>\n",
              "    </tr>\n",
              "  </tbody>\n",
              "</table>\n",
              "</div>"
            ],
            "text/plain": [
              "                                     Attribute  Importance\n",
              "0                               first_r_amount    2.200103\n",
              "1                        rounds_funding_factor   -0.137088\n",
              "2                              dp_rounds_count   -0.443428\n",
              "3                         dp_rounds_amount_sum    1.879768\n",
              "4                         dp_rounds_amount_max   -0.509349\n",
              "5                         dp_last_round_amount    2.397680\n",
              "6                           dp_years_operating    0.655620\n",
              "7                              sum_manager_exp    0.121408\n",
              "8                               sum_clevel_exp    0.297338\n",
              "9                          sum_engineering_exp   -0.945858\n",
              "10                               sum_sales_exp   -0.305649\n",
              "11                             sum_finance_exp   -0.056071\n",
              "12                       sum_human_capital_exp   -0.239516\n",
              "13                          sum_consulting_exp    0.190185\n",
              "14                             sum_founder_exp   -0.701056\n",
              "15                      sum_number_of_startups    0.270671\n",
              "16                                  sum_gender    0.380732\n",
              "17                         sum_foreing_studies    0.313134\n",
              "18                 sum_foreing_work_experience    0.089468\n",
              "19                         sum_foreing_founder    0.176776\n",
              "20                  sum_dp_years_of_experience    0.092702\n",
              "21  sum_dp_years_of_experience_as_entreprenuer   -0.219121"
            ]
          },
          "metadata": {},
          "execution_count": 315
        }
      ]
    },
    {
      "cell_type": "code",
      "metadata": {
        "id": "v2PZMJcpC_zI"
      },
      "source": [
        ""
      ],
      "execution_count": 315,
      "outputs": []
    },
    {
      "cell_type": "markdown",
      "metadata": {
        "id": "Syf5JdOWDEiA"
      },
      "source": [
        "## More than 100 employees"
      ]
    },
    {
      "cell_type": "markdown",
      "metadata": {
        "id": "LP9DWLKBDEiB"
      },
      "source": [
        "### Original"
      ]
    },
    {
      "cell_type": "code",
      "metadata": {
        "colab": {
          "base_uri": "https://localhost:8080/"
        },
        "id": "0D7boeiBDEiB",
        "outputId": "abe505ee-f561-44bf-c516-488f16d2027d"
      },
      "source": [
        "# 1. Define variables X and y\n",
        "\n",
        "X = X_columns # Independent\n",
        "y = db_companies_Encode_Model.more100_employees # Dependent\n",
        "\n",
        "print(X)\n",
        "print(y)"
      ],
      "execution_count": 316,
      "outputs": [
        {
          "output_type": "stream",
          "name": "stdout",
          "text": [
            "     first_r_amount  ...  sum_dp_years_of_experience_as_entreprenuer\n",
            "0           1400000  ...                                          15\n",
            "1             10500  ...                                           9\n",
            "2            200000  ...                                           2\n",
            "3            150000  ...                                           4\n",
            "4             20000  ...                                           0\n",
            "..              ...  ...                                         ...\n",
            "505          750000  ...                                          11\n",
            "506       225000000  ...                                           8\n",
            "507          130000  ...                                           4\n",
            "508          130000  ...                                           3\n",
            "509         4900000  ...                                           7\n",
            "\n",
            "[510 rows x 22 columns]\n",
            "0      0\n",
            "1      0\n",
            "2      0\n",
            "3      1\n",
            "4      0\n",
            "      ..\n",
            "505    1\n",
            "506    1\n",
            "507    0\n",
            "508    0\n",
            "509    0\n",
            "Name: more100_employees, Length: 510, dtype: int64\n"
          ]
        }
      ]
    },
    {
      "cell_type": "code",
      "metadata": {
        "id": "ltOULfG5DEiB"
      },
      "source": [
        "# 2. Split the data\n",
        "\n",
        "from sklearn.model_selection import train_test_split\n",
        "\n",
        "# Split the preprocessed data into a training and testing dataset\n",
        "X_train, X_test, y_train, y_test = train_test_split(X, y, random_state=4281)"
      ],
      "execution_count": 317,
      "outputs": []
    },
    {
      "cell_type": "code",
      "metadata": {
        "colab": {
          "base_uri": "https://localhost:8080/"
        },
        "id": "sNaeBwTgDEiB",
        "outputId": "42d7a6b5-dcf6-4a7a-e0f9-e34321aa97b3"
      },
      "source": [
        "# 3. Choose your Logistic Regression\n",
        "from sklearn.linear_model import LogisticRegression\n",
        "classifier = LogisticRegression()\n",
        "classifier"
      ],
      "execution_count": 318,
      "outputs": [
        {
          "output_type": "execute_result",
          "data": {
            "text/plain": [
              "LogisticRegression()"
            ]
          },
          "metadata": {},
          "execution_count": 318
        }
      ]
    },
    {
      "cell_type": "code",
      "metadata": {
        "colab": {
          "base_uri": "https://localhost:8080/"
        },
        "id": "pDJZK4M9DEiB",
        "outputId": "0027ea1b-4b8f-4f7b-fd83-05277a2a047d"
      },
      "source": [
        "# 4. Train your model and define your prediction variable\n",
        "\n",
        "classifier.fit(X_train, y_train)\n",
        "y_pred=classifier.predict(X_test)\n",
        "y_pred"
      ],
      "execution_count": 319,
      "outputs": [
        {
          "output_type": "execute_result",
          "data": {
            "text/plain": [
              "array([1, 1, 1, 1, 1, 1, 1, 1, 1, 1, 1, 1, 1, 1, 0, 1, 1, 1, 1, 1, 1, 1,\n",
              "       1, 1, 1, 1, 1, 1, 1, 1, 1, 1, 1, 1, 1, 0, 1, 1, 1, 1, 1, 1, 1, 1,\n",
              "       1, 1, 1, 1, 1, 1, 1, 1, 1, 1, 1, 1, 1, 1, 1, 1, 1, 1, 1, 1, 1, 1,\n",
              "       1, 1, 1, 1, 1, 1, 1, 1, 1, 1, 1, 1, 1, 1, 1, 1, 1, 1, 1, 1, 1, 1,\n",
              "       1, 1, 1, 1, 1, 1, 1, 1, 1, 1, 1, 1, 1, 1, 1, 1, 1, 1, 1, 1, 1, 1,\n",
              "       1, 1, 1, 1, 1, 1, 1, 1, 1, 1, 1, 1, 1, 1, 1, 1, 1, 1])"
            ]
          },
          "metadata": {},
          "execution_count": 319
        }
      ]
    },
    {
      "cell_type": "code",
      "metadata": {
        "colab": {
          "base_uri": "https://localhost:8080/"
        },
        "id": "PurYK0AqDEiC",
        "outputId": "5cd5a573-fb94-4566-ba8c-064e9ba43548"
      },
      "source": [
        "# 5. Statistics for your model\n",
        "\n",
        "# Scores for model\n",
        "training_score = classifier.score(X_train, y_train)\n",
        "testing_score = classifier.score(X_test, y_test)\n",
        "\n",
        "print(f\"Training Data Score: {training_score}\")\n",
        "print(f\"Testing Data Score: {testing_score}\")"
      ],
      "execution_count": 320,
      "outputs": [
        {
          "output_type": "stream",
          "name": "stdout",
          "text": [
            "Training Data Score: 0.15968586387434555\n",
            "Testing Data Score: 0.1484375\n"
          ]
        }
      ]
    },
    {
      "cell_type": "code",
      "metadata": {
        "colab": {
          "base_uri": "https://localhost:8080/",
          "height": 350
        },
        "id": "4vKICoGuDEiC",
        "outputId": "a42267a3-406f-451c-a75a-e4b2bb630a2c"
      },
      "source": [
        "# 6. Confusion matrix\n",
        "\n",
        "confusion_matrix = pd.crosstab(y_test, y_pred, rownames=['Actual'], colnames=['Predicted'])\n",
        "sns.heatmap(confusion_matrix, annot=True)\n",
        "print(confusion_matrix)"
      ],
      "execution_count": 321,
      "outputs": [
        {
          "output_type": "stream",
          "name": "stdout",
          "text": [
            "Predicted  0    1\n",
            "Actual           \n",
            "0          2  109\n",
            "1          0   17\n"
          ]
        },
        {
          "output_type": "display_data",
          "data": {
            "image/png": "[encoded data removed]",
            "text/plain": [
              "<Figure size 432x288 with 2 Axes>"
            ]
          },
          "metadata": {
            "needs_background": "light"
          }
        }
      ]
    },
    {
      "cell_type": "code",
      "metadata": {
        "colab": {
          "base_uri": "https://localhost:8080/"
        },
        "id": "Zq7Rf61EDEiC",
        "outputId": "99a9eedd-26e7-4dca-9697-b7d8c3edf378"
      },
      "source": [
        "# 7. Accuracy \n",
        "\n",
        "from sklearn.metrics import classification_report\n",
        "print(classification_report(y_test,y_pred))"
      ],
      "execution_count": 322,
      "outputs": [
        {
          "output_type": "stream",
          "name": "stdout",
          "text": [
            "              precision    recall  f1-score   support\n",
            "\n",
            "           0       1.00      0.02      0.04       111\n",
            "           1       0.13      1.00      0.24        17\n",
            "\n",
            "    accuracy                           0.15       128\n",
            "   macro avg       0.57      0.51      0.14       128\n",
            "weighted avg       0.89      0.15      0.06       128\n",
            "\n"
          ]
        }
      ]
    },
    {
      "cell_type": "code",
      "metadata": {
        "colab": {
          "base_uri": "https://localhost:8080/",
          "height": 723
        },
        "id": "DI3ZVsfXDEiC",
        "outputId": "18654408-ecad-4eac-bbe3-37c1273c8b27"
      },
      "source": [
        "# 8. Importances by variable\n",
        "\n",
        "importances = pd.DataFrame(data={\n",
        "    'Attribute': X_train.columns,\n",
        "    'Importance': classifier.coef_[0]\n",
        "})\n",
        "importances"
      ],
      "execution_count": 323,
      "outputs": [
        {
          "output_type": "execute_result",
          "data": {
            "text/html": [
              "<div>\n",
              "<style scoped>\n",
              "    .dataframe tbody tr th:only-of-type {\n",
              "        vertical-align: middle;\n",
              "    }\n",
              "\n",
              "    .dataframe tbody tr th {\n",
              "        vertical-align: top;\n",
              "    }\n",
              "\n",
              "    .dataframe thead th {\n",
              "        text-align: right;\n",
              "    }\n",
              "</style>\n",
              "<table border=\"1\" class=\"dataframe\">\n",
              "  <thead>\n",
              "    <tr style=\"text-align: right;\">\n",
              "      <th></th>\n",
              "      <th>Attribute</th>\n",
              "      <th>Importance</th>\n",
              "    </tr>\n",
              "  </thead>\n",
              "  <tbody>\n",
              "    <tr>\n",
              "      <th>0</th>\n",
              "      <td>first_r_amount</td>\n",
              "      <td>5.638901e-09</td>\n",
              "    </tr>\n",
              "    <tr>\n",
              "      <th>1</th>\n",
              "      <td>rounds_funding_factor</td>\n",
              "      <td>-2.307016e-12</td>\n",
              "    </tr>\n",
              "    <tr>\n",
              "      <th>2</th>\n",
              "      <td>dp_rounds_count</td>\n",
              "      <td>-1.424158e-12</td>\n",
              "    </tr>\n",
              "    <tr>\n",
              "      <th>3</th>\n",
              "      <td>dp_rounds_amount_sum</td>\n",
              "      <td>7.705679e-08</td>\n",
              "    </tr>\n",
              "    <tr>\n",
              "      <th>4</th>\n",
              "      <td>dp_rounds_amount_max</td>\n",
              "      <td>-9.435736e-08</td>\n",
              "    </tr>\n",
              "    <tr>\n",
              "      <th>5</th>\n",
              "      <td>dp_last_round_amount</td>\n",
              "      <td>2.260699e-08</td>\n",
              "    </tr>\n",
              "    <tr>\n",
              "      <th>6</th>\n",
              "      <td>dp_years_operating</td>\n",
              "      <td>-5.040860e-13</td>\n",
              "    </tr>\n",
              "    <tr>\n",
              "      <th>7</th>\n",
              "      <td>sum_manager_exp</td>\n",
              "      <td>-4.972631e-13</td>\n",
              "    </tr>\n",
              "    <tr>\n",
              "      <th>8</th>\n",
              "      <td>sum_clevel_exp</td>\n",
              "      <td>-6.275318e-13</td>\n",
              "    </tr>\n",
              "    <tr>\n",
              "      <th>9</th>\n",
              "      <td>sum_engineering_exp</td>\n",
              "      <td>-2.135980e-13</td>\n",
              "    </tr>\n",
              "    <tr>\n",
              "      <th>10</th>\n",
              "      <td>sum_sales_exp</td>\n",
              "      <td>-9.921230e-14</td>\n",
              "    </tr>\n",
              "    <tr>\n",
              "      <th>11</th>\n",
              "      <td>sum_finance_exp</td>\n",
              "      <td>-8.160231e-14</td>\n",
              "    </tr>\n",
              "    <tr>\n",
              "      <th>12</th>\n",
              "      <td>sum_human_capital_exp</td>\n",
              "      <td>-2.860694e-14</td>\n",
              "    </tr>\n",
              "    <tr>\n",
              "      <th>13</th>\n",
              "      <td>sum_consulting_exp</td>\n",
              "      <td>-1.765821e-13</td>\n",
              "    </tr>\n",
              "    <tr>\n",
              "      <th>14</th>\n",
              "      <td>sum_founder_exp</td>\n",
              "      <td>-8.225303e-13</td>\n",
              "    </tr>\n",
              "    <tr>\n",
              "      <th>15</th>\n",
              "      <td>sum_number_of_startups</td>\n",
              "      <td>-1.714079e-12</td>\n",
              "    </tr>\n",
              "    <tr>\n",
              "      <th>16</th>\n",
              "      <td>sum_gender</td>\n",
              "      <td>-8.467680e-13</td>\n",
              "    </tr>\n",
              "    <tr>\n",
              "      <th>17</th>\n",
              "      <td>sum_foreing_studies</td>\n",
              "      <td>-4.422377e-13</td>\n",
              "    </tr>\n",
              "    <tr>\n",
              "      <th>18</th>\n",
              "      <td>sum_foreing_work_experience</td>\n",
              "      <td>-3.862357e-13</td>\n",
              "    </tr>\n",
              "    <tr>\n",
              "      <th>19</th>\n",
              "      <td>sum_foreing_founder</td>\n",
              "      <td>-2.344966e-13</td>\n",
              "    </tr>\n",
              "    <tr>\n",
              "      <th>20</th>\n",
              "      <td>sum_dp_years_of_experience</td>\n",
              "      <td>-9.305816e-12</td>\n",
              "    </tr>\n",
              "    <tr>\n",
              "      <th>21</th>\n",
              "      <td>sum_dp_years_of_experience_as_entreprenuer</td>\n",
              "      <td>-4.973440e-12</td>\n",
              "    </tr>\n",
              "  </tbody>\n",
              "</table>\n",
              "</div>"
            ],
            "text/plain": [
              "                                     Attribute    Importance\n",
              "0                               first_r_amount  5.638901e-09\n",
              "1                        rounds_funding_factor -2.307016e-12\n",
              "2                              dp_rounds_count -1.424158e-12\n",
              "3                         dp_rounds_amount_sum  7.705679e-08\n",
              "4                         dp_rounds_amount_max -9.435736e-08\n",
              "5                         dp_last_round_amount  2.260699e-08\n",
              "6                           dp_years_operating -5.040860e-13\n",
              "7                              sum_manager_exp -4.972631e-13\n",
              "8                               sum_clevel_exp -6.275318e-13\n",
              "9                          sum_engineering_exp -2.135980e-13\n",
              "10                               sum_sales_exp -9.921230e-14\n",
              "11                             sum_finance_exp -8.160231e-14\n",
              "12                       sum_human_capital_exp -2.860694e-14\n",
              "13                          sum_consulting_exp -1.765821e-13\n",
              "14                             sum_founder_exp -8.225303e-13\n",
              "15                      sum_number_of_startups -1.714079e-12\n",
              "16                                  sum_gender -8.467680e-13\n",
              "17                         sum_foreing_studies -4.422377e-13\n",
              "18                 sum_foreing_work_experience -3.862357e-13\n",
              "19                         sum_foreing_founder -2.344966e-13\n",
              "20                  sum_dp_years_of_experience -9.305816e-12\n",
              "21  sum_dp_years_of_experience_as_entreprenuer -4.973440e-12"
            ]
          },
          "metadata": {},
          "execution_count": 323
        }
      ]
    },
    {
      "cell_type": "markdown",
      "metadata": {
        "id": "9NQeYUV6DEiC"
      },
      "source": [
        "### Standard"
      ]
    },
    {
      "cell_type": "code",
      "metadata": {
        "colab": {
          "base_uri": "https://localhost:8080/"
        },
        "id": "SVq2Sx7SDEiC",
        "outputId": "82211eb1-5488-4a31-f65d-eb252622b2a0"
      },
      "source": [
        "# 1. Define variables X and y\n",
        "\n",
        "X = X_columns_standard # Independent\n",
        "y = db_companies_Encode_Model.more100_employees # Dependent\n",
        "\n",
        "print(X)\n",
        "print(y)"
      ],
      "execution_count": 324,
      "outputs": [
        {
          "output_type": "stream",
          "name": "stdout",
          "text": [
            "     first_r_amount  ...  sum_dp_years_of_experience_as_entreprenuer\n",
            "0         -0.077119  ...                                    1.164139\n",
            "1         -0.131298  ...                                    0.341445\n",
            "2         -0.123909  ...                                   -0.618365\n",
            "3         -0.125859  ...                                   -0.344133\n",
            "4         -0.130928  ...                                   -0.892596\n",
            "..              ...  ...                                         ...\n",
            "505       -0.102464  ...                                    0.615676\n",
            "506        8.641500  ...                                    0.204329\n",
            "507       -0.126639  ...                                   -0.344133\n",
            "508       -0.126639  ...                                   -0.481249\n",
            "509        0.059353  ...                                    0.067214\n",
            "\n",
            "[510 rows x 22 columns]\n",
            "0      0\n",
            "1      0\n",
            "2      0\n",
            "3      1\n",
            "4      0\n",
            "      ..\n",
            "505    1\n",
            "506    1\n",
            "507    0\n",
            "508    0\n",
            "509    0\n",
            "Name: more100_employees, Length: 510, dtype: int64\n"
          ]
        }
      ]
    },
    {
      "cell_type": "code",
      "metadata": {
        "id": "pHVyIwevDEiC"
      },
      "source": [
        "# 2. Split the data\n",
        "\n",
        "from sklearn.model_selection import train_test_split\n",
        "\n",
        "# Split the preprocessed data into a training and testing dataset\n",
        "X_train, X_test, y_train, y_test = train_test_split(X, y, random_state=4281)"
      ],
      "execution_count": 325,
      "outputs": []
    },
    {
      "cell_type": "code",
      "metadata": {
        "colab": {
          "base_uri": "https://localhost:8080/"
        },
        "id": "oWXx-HxSDEiC",
        "outputId": "db574c24-dad9-4c87-cae7-1353508bb537"
      },
      "source": [
        "# 3. Choose your Logistic Regression\n",
        "from sklearn.linear_model import LogisticRegression\n",
        "classifier = LogisticRegression()\n",
        "classifier"
      ],
      "execution_count": 326,
      "outputs": [
        {
          "output_type": "execute_result",
          "data": {
            "text/plain": [
              "LogisticRegression()"
            ]
          },
          "metadata": {},
          "execution_count": 326
        }
      ]
    },
    {
      "cell_type": "code",
      "metadata": {
        "colab": {
          "base_uri": "https://localhost:8080/"
        },
        "id": "ZGTooW5EDEiD",
        "outputId": "a7d219c4-957c-467c-8389-c9dad9b26de8"
      },
      "source": [
        "# 4. Train your model and define your prediction variable\n",
        "\n",
        "classifier.fit(X_train, y_train)\n",
        "y_pred=classifier.predict(X_test)\n",
        "y_pred"
      ],
      "execution_count": 327,
      "outputs": [
        {
          "output_type": "execute_result",
          "data": {
            "text/plain": [
              "array([1, 0, 0, 0, 0, 0, 1, 0, 0, 0, 0, 0, 0, 0, 0, 0, 0, 0, 0, 0, 0, 0,\n",
              "       0, 0, 0, 0, 0, 0, 1, 0, 0, 0, 0, 0, 0, 0, 0, 0, 1, 0, 0, 0, 0, 0,\n",
              "       0, 1, 1, 0, 0, 1, 0, 1, 0, 0, 0, 0, 0, 0, 0, 0, 0, 0, 0, 0, 1, 0,\n",
              "       0, 0, 0, 0, 0, 0, 0, 0, 0, 0, 0, 0, 0, 1, 0, 1, 1, 0, 0, 0, 0, 1,\n",
              "       0, 0, 0, 1, 0, 0, 0, 0, 0, 0, 0, 0, 0, 0, 1, 0, 0, 0, 0, 0, 0, 0,\n",
              "       0, 0, 0, 0, 0, 0, 1, 0, 0, 0, 0, 0, 0, 0, 0, 0, 0, 0])"
            ]
          },
          "metadata": {},
          "execution_count": 327
        }
      ]
    },
    {
      "cell_type": "code",
      "metadata": {
        "colab": {
          "base_uri": "https://localhost:8080/"
        },
        "id": "UCR469MODEiD",
        "outputId": "b86c54b6-0407-439a-c4d9-1c97a25e2e53"
      },
      "source": [
        "# 5. Statistics for your model\n",
        "\n",
        "# Scores for model\n",
        "training_score = classifier.score(X_train, y_train)\n",
        "testing_score = classifier.score(X_test, y_test)\n",
        "\n",
        "print(f\"Training Data Score: {training_score}\")\n",
        "print(f\"Testing Data Score: {testing_score}\")"
      ],
      "execution_count": 328,
      "outputs": [
        {
          "output_type": "stream",
          "name": "stdout",
          "text": [
            "Training Data Score: 0.918848167539267\n",
            "Testing Data Score: 0.9140625\n"
          ]
        }
      ]
    },
    {
      "cell_type": "code",
      "metadata": {
        "colab": {
          "base_uri": "https://localhost:8080/",
          "height": 350
        },
        "id": "mYLqcYcvDEiD",
        "outputId": "c0e8be6d-8dcf-42c4-f58c-0670c9744d30"
      },
      "source": [
        "# 6. Confusion matrix\n",
        "\n",
        "confusion_matrix = pd.crosstab(y_test, y_pred, rownames=['Actual'], colnames=['Predicted'])\n",
        "sns.heatmap(confusion_matrix, annot=True)\n",
        "print(confusion_matrix)"
      ],
      "execution_count": 329,
      "outputs": [
        {
          "output_type": "stream",
          "name": "stdout",
          "text": [
            "Predicted    0   1\n",
            "Actual            \n",
            "0          106   5\n",
            "1            6  11\n"
          ]
        },
        {
          "output_type": "display_data",
          "data": {
            "image/png": "[encoded data removed]",
            "text/plain": [
              "<Figure size 432x288 with 2 Axes>"
            ]
          },
          "metadata": {
            "needs_background": "light"
          }
        }
      ]
    },
    {
      "cell_type": "code",
      "metadata": {
        "colab": {
          "base_uri": "https://localhost:8080/"
        },
        "id": "xbSuFHlzDEiD",
        "outputId": "4560e296-a008-443d-b6d0-12f5472920be"
      },
      "source": [
        "# 7. Accuracy \n",
        "\n",
        "from sklearn.metrics import classification_report\n",
        "print(classification_report(y_test,y_pred))"
      ],
      "execution_count": 330,
      "outputs": [
        {
          "output_type": "stream",
          "name": "stdout",
          "text": [
            "              precision    recall  f1-score   support\n",
            "\n",
            "           0       0.95      0.95      0.95       111\n",
            "           1       0.69      0.65      0.67        17\n",
            "\n",
            "    accuracy                           0.91       128\n",
            "   macro avg       0.82      0.80      0.81       128\n",
            "weighted avg       0.91      0.91      0.91       128\n",
            "\n"
          ]
        }
      ]
    },
    {
      "cell_type": "code",
      "metadata": {
        "colab": {
          "base_uri": "https://localhost:8080/",
          "height": 723
        },
        "id": "CFTCJzZSDEiD",
        "outputId": "0f250224-c9b8-4cfd-f46a-af715c796625"
      },
      "source": [
        "# 8. Importances by variable\n",
        "\n",
        "importances = pd.DataFrame(data={\n",
        "    'Attribute': X_train.columns,\n",
        "    'Importance': classifier.coef_[0]\n",
        "})\n",
        "importances"
      ],
      "execution_count": 331,
      "outputs": [
        {
          "output_type": "execute_result",
          "data": {
            "text/html": [
              "<div>\n",
              "<style scoped>\n",
              "    .dataframe tbody tr th:only-of-type {\n",
              "        vertical-align: middle;\n",
              "    }\n",
              "\n",
              "    .dataframe tbody tr th {\n",
              "        vertical-align: top;\n",
              "    }\n",
              "\n",
              "    .dataframe thead th {\n",
              "        text-align: right;\n",
              "    }\n",
              "</style>\n",
              "<table border=\"1\" class=\"dataframe\">\n",
              "  <thead>\n",
              "    <tr style=\"text-align: right;\">\n",
              "      <th></th>\n",
              "      <th>Attribute</th>\n",
              "      <th>Importance</th>\n",
              "    </tr>\n",
              "  </thead>\n",
              "  <tbody>\n",
              "    <tr>\n",
              "      <th>0</th>\n",
              "      <td>first_r_amount</td>\n",
              "      <td>0.505580</td>\n",
              "    </tr>\n",
              "    <tr>\n",
              "      <th>1</th>\n",
              "      <td>rounds_funding_factor</td>\n",
              "      <td>0.167998</td>\n",
              "    </tr>\n",
              "    <tr>\n",
              "      <th>2</th>\n",
              "      <td>dp_rounds_count</td>\n",
              "      <td>-0.460997</td>\n",
              "    </tr>\n",
              "    <tr>\n",
              "      <th>3</th>\n",
              "      <td>dp_rounds_amount_sum</td>\n",
              "      <td>1.465468</td>\n",
              "    </tr>\n",
              "    <tr>\n",
              "      <th>4</th>\n",
              "      <td>dp_rounds_amount_max</td>\n",
              "      <td>-0.096362</td>\n",
              "    </tr>\n",
              "    <tr>\n",
              "      <th>5</th>\n",
              "      <td>dp_last_round_amount</td>\n",
              "      <td>1.634085</td>\n",
              "    </tr>\n",
              "    <tr>\n",
              "      <th>6</th>\n",
              "      <td>dp_years_operating</td>\n",
              "      <td>1.021096</td>\n",
              "    </tr>\n",
              "    <tr>\n",
              "      <th>7</th>\n",
              "      <td>sum_manager_exp</td>\n",
              "      <td>0.042070</td>\n",
              "    </tr>\n",
              "    <tr>\n",
              "      <th>8</th>\n",
              "      <td>sum_clevel_exp</td>\n",
              "      <td>0.146683</td>\n",
              "    </tr>\n",
              "    <tr>\n",
              "      <th>9</th>\n",
              "      <td>sum_engineering_exp</td>\n",
              "      <td>-0.619990</td>\n",
              "    </tr>\n",
              "    <tr>\n",
              "      <th>10</th>\n",
              "      <td>sum_sales_exp</td>\n",
              "      <td>-0.108655</td>\n",
              "    </tr>\n",
              "    <tr>\n",
              "      <th>11</th>\n",
              "      <td>sum_finance_exp</td>\n",
              "      <td>-0.022205</td>\n",
              "    </tr>\n",
              "    <tr>\n",
              "      <th>12</th>\n",
              "      <td>sum_human_capital_exp</td>\n",
              "      <td>-0.514387</td>\n",
              "    </tr>\n",
              "    <tr>\n",
              "      <th>13</th>\n",
              "      <td>sum_consulting_exp</td>\n",
              "      <td>0.265903</td>\n",
              "    </tr>\n",
              "    <tr>\n",
              "      <th>14</th>\n",
              "      <td>sum_founder_exp</td>\n",
              "      <td>-0.744295</td>\n",
              "    </tr>\n",
              "    <tr>\n",
              "      <th>15</th>\n",
              "      <td>sum_number_of_startups</td>\n",
              "      <td>0.223914</td>\n",
              "    </tr>\n",
              "    <tr>\n",
              "      <th>16</th>\n",
              "      <td>sum_gender</td>\n",
              "      <td>0.567206</td>\n",
              "    </tr>\n",
              "    <tr>\n",
              "      <th>17</th>\n",
              "      <td>sum_foreing_studies</td>\n",
              "      <td>-0.002822</td>\n",
              "    </tr>\n",
              "    <tr>\n",
              "      <th>18</th>\n",
              "      <td>sum_foreing_work_experience</td>\n",
              "      <td>0.347020</td>\n",
              "    </tr>\n",
              "    <tr>\n",
              "      <th>19</th>\n",
              "      <td>sum_foreing_founder</td>\n",
              "      <td>-0.039139</td>\n",
              "    </tr>\n",
              "    <tr>\n",
              "      <th>20</th>\n",
              "      <td>sum_dp_years_of_experience</td>\n",
              "      <td>-0.000483</td>\n",
              "    </tr>\n",
              "    <tr>\n",
              "      <th>21</th>\n",
              "      <td>sum_dp_years_of_experience_as_entreprenuer</td>\n",
              "      <td>-0.059117</td>\n",
              "    </tr>\n",
              "  </tbody>\n",
              "</table>\n",
              "</div>"
            ],
            "text/plain": [
              "                                     Attribute  Importance\n",
              "0                               first_r_amount    0.505580\n",
              "1                        rounds_funding_factor    0.167998\n",
              "2                              dp_rounds_count   -0.460997\n",
              "3                         dp_rounds_amount_sum    1.465468\n",
              "4                         dp_rounds_amount_max   -0.096362\n",
              "5                         dp_last_round_amount    1.634085\n",
              "6                           dp_years_operating    1.021096\n",
              "7                              sum_manager_exp    0.042070\n",
              "8                               sum_clevel_exp    0.146683\n",
              "9                          sum_engineering_exp   -0.619990\n",
              "10                               sum_sales_exp   -0.108655\n",
              "11                             sum_finance_exp   -0.022205\n",
              "12                       sum_human_capital_exp   -0.514387\n",
              "13                          sum_consulting_exp    0.265903\n",
              "14                             sum_founder_exp   -0.744295\n",
              "15                      sum_number_of_startups    0.223914\n",
              "16                                  sum_gender    0.567206\n",
              "17                         sum_foreing_studies   -0.002822\n",
              "18                 sum_foreing_work_experience    0.347020\n",
              "19                         sum_foreing_founder   -0.039139\n",
              "20                  sum_dp_years_of_experience   -0.000483\n",
              "21  sum_dp_years_of_experience_as_entreprenuer   -0.059117"
            ]
          },
          "metadata": {},
          "execution_count": 331
        }
      ]
    },
    {
      "cell_type": "code",
      "metadata": {
        "id": "niCfAIy_DEiD"
      },
      "source": [
        ""
      ],
      "execution_count": 331,
      "outputs": []
    },
    {
      "cell_type": "markdown",
      "metadata": {
        "id": "rVJxPeiaDEiE"
      },
      "source": [
        "### Standard and oversampled balance"
      ]
    },
    {
      "cell_type": "code",
      "metadata": {
        "colab": {
          "base_uri": "https://localhost:8080/"
        },
        "id": "lMUBFdu4DEiE",
        "outputId": "7f0dcb7c-92cb-478f-a26a-f13d7ae4d461"
      },
      "source": [
        "# 1. Define variables X and y\n",
        "\n",
        "X = X_columns_standard # Independent\n",
        "y = db_companies_Encode_Model.more100_employees # Dependent\n",
        "\n",
        "print(X)\n",
        "print(y)"
      ],
      "execution_count": 332,
      "outputs": [
        {
          "output_type": "stream",
          "name": "stdout",
          "text": [
            "     first_r_amount  ...  sum_dp_years_of_experience_as_entreprenuer\n",
            "0         -0.077119  ...                                    1.164139\n",
            "1         -0.131298  ...                                    0.341445\n",
            "2         -0.123909  ...                                   -0.618365\n",
            "3         -0.125859  ...                                   -0.344133\n",
            "4         -0.130928  ...                                   -0.892596\n",
            "..              ...  ...                                         ...\n",
            "505       -0.102464  ...                                    0.615676\n",
            "506        8.641500  ...                                    0.204329\n",
            "507       -0.126639  ...                                   -0.344133\n",
            "508       -0.126639  ...                                   -0.481249\n",
            "509        0.059353  ...                                    0.067214\n",
            "\n",
            "[510 rows x 22 columns]\n",
            "0      0\n",
            "1      0\n",
            "2      0\n",
            "3      1\n",
            "4      0\n",
            "      ..\n",
            "505    1\n",
            "506    1\n",
            "507    0\n",
            "508    0\n",
            "509    0\n",
            "Name: more100_employees, Length: 510, dtype: int64\n"
          ]
        }
      ]
    },
    {
      "cell_type": "code",
      "metadata": {
        "id": "IiIKuTbmDEiE"
      },
      "source": [
        "# 2. Split the data\n",
        "\n",
        "from sklearn.model_selection import train_test_split\n",
        "\n",
        "# Split the preprocessed data into a training and testing dataset\n",
        "X_train, X_test, y_train, y_test = train_test_split(X, y, random_state=4281)"
      ],
      "execution_count": 333,
      "outputs": []
    },
    {
      "cell_type": "markdown",
      "metadata": {
        "id": "lmdVbiQBDEiE"
      },
      "source": [
        "Over sampling"
      ]
    },
    {
      "cell_type": "code",
      "metadata": {
        "colab": {
          "base_uri": "https://localhost:8080/"
        },
        "id": "mJqfw8iLDEiE",
        "outputId": "cc182a67-a735-42a3-a366-571b151170bf"
      },
      "source": [
        "# Making balance w/over sampling\n",
        "from collections import Counter\n",
        "from imblearn.over_sampling import RandomOverSampler\n",
        "from sklearn.datasets import make_classification\n",
        "\n",
        "X_train=np.array(X_train)\n",
        "\n",
        "ros = RandomOverSampler(random_state=1)\n",
        "X_resampled, y_resampled = ros.fit_resample(X_train, y_train)\n",
        "\n",
        "from collections import Counter\n",
        "print(sorted(Counter(y_resampled).items()))"
      ],
      "execution_count": 334,
      "outputs": [
        {
          "output_type": "stream",
          "name": "stdout",
          "text": [
            "[(0, 326), (1, 326)]\n"
          ]
        }
      ]
    },
    {
      "cell_type": "markdown",
      "metadata": {
        "id": "oouSDv7mDEiE"
      },
      "source": [
        "Modeling"
      ]
    },
    {
      "cell_type": "code",
      "metadata": {
        "id": "A1zGadqdDEiE"
      },
      "source": [
        "X_resampled = pd.DataFrame(X_resampled)"
      ],
      "execution_count": 335,
      "outputs": []
    },
    {
      "cell_type": "code",
      "metadata": {
        "colab": {
          "base_uri": "https://localhost:8080/"
        },
        "id": "5ayat2TPDEiE",
        "outputId": "cbb1e3e6-8372-4073-9462-e11346f4dece"
      },
      "source": [
        "# 3. Choose your Logistic Regression\n",
        "from sklearn.linear_model import LogisticRegression\n",
        "classifier = LogisticRegression()\n",
        "classifier"
      ],
      "execution_count": 336,
      "outputs": [
        {
          "output_type": "execute_result",
          "data": {
            "text/plain": [
              "LogisticRegression()"
            ]
          },
          "metadata": {},
          "execution_count": 336
        }
      ]
    },
    {
      "cell_type": "code",
      "metadata": {
        "colab": {
          "base_uri": "https://localhost:8080/"
        },
        "id": "PKkS9KMEDEiE",
        "outputId": "0fa6543e-c131-4b0e-bbd3-871eb009bfcd"
      },
      "source": [
        "# 4. Train your model and define your prediction variable\n",
        "\n",
        "classifier.fit(X_resampled, y_resampled)\n",
        "y_pred=classifier.predict(X_test)\n",
        "y_pred"
      ],
      "execution_count": 337,
      "outputs": [
        {
          "output_type": "stream",
          "name": "stderr",
          "text": [
            "/usr/local/lib/python3.7/dist-packages/sklearn/base.py:439: UserWarning: X has feature names, but LogisticRegression was fitted without feature names\n",
            "  f\"X has feature names, but {self.__class__.__name__} was fitted without\"\n"
          ]
        },
        {
          "output_type": "execute_result",
          "data": {
            "text/plain": [
              "array([1, 0, 0, 0, 1, 0, 1, 0, 0, 1, 0, 0, 0, 0, 0, 1, 0, 1, 0, 1, 0, 1,\n",
              "       0, 0, 1, 0, 0, 0, 1, 0, 0, 0, 1, 0, 0, 0, 0, 0, 1, 0, 0, 0, 0, 0,\n",
              "       1, 1, 1, 0, 0, 1, 0, 1, 0, 0, 0, 0, 0, 0, 0, 0, 0, 0, 0, 0, 1, 0,\n",
              "       0, 0, 1, 0, 0, 0, 1, 0, 0, 0, 1, 0, 0, 1, 0, 1, 1, 1, 1, 0, 0, 1,\n",
              "       0, 0, 0, 1, 0, 1, 0, 0, 0, 0, 0, 0, 0, 0, 1, 0, 0, 0, 0, 0, 0, 0,\n",
              "       0, 0, 0, 0, 1, 0, 1, 0, 0, 0, 0, 0, 0, 0, 1, 0, 0, 0])"
            ]
          },
          "metadata": {},
          "execution_count": 337
        }
      ]
    },
    {
      "cell_type": "code",
      "metadata": {
        "colab": {
          "base_uri": "https://localhost:8080/"
        },
        "id": "rXzG6h_VDEiF",
        "outputId": "ba9c6efa-0c7e-4d6c-97f2-766cf6dad46f"
      },
      "source": [
        "# 5. Statistics for your model\n",
        "\n",
        "# Scores for model\n",
        "training_score = classifier.score(X_resampled, y_resampled)\n",
        "testing_score = classifier.score(X_test, y_test)\n",
        "\n",
        "print(f\"Training Data Score: {training_score}\")\n",
        "print(f\"Testing Data Score: {testing_score}\")"
      ],
      "execution_count": 338,
      "outputs": [
        {
          "output_type": "stream",
          "name": "stdout",
          "text": [
            "Training Data Score: 0.8665644171779141\n",
            "Testing Data Score: 0.8125\n"
          ]
        },
        {
          "output_type": "stream",
          "name": "stderr",
          "text": [
            "/usr/local/lib/python3.7/dist-packages/sklearn/base.py:439: UserWarning: X has feature names, but LogisticRegression was fitted without feature names\n",
            "  f\"X has feature names, but {self.__class__.__name__} was fitted without\"\n"
          ]
        }
      ]
    },
    {
      "cell_type": "code",
      "metadata": {
        "colab": {
          "base_uri": "https://localhost:8080/",
          "height": 352
        },
        "id": "aOa3CMq3DEiF",
        "outputId": "dcb5f4e1-cbd1-4c82-fc54-12eac91ea548"
      },
      "source": [
        "# 6. Confusion matrix\n",
        "\n",
        "confusion_matrix = pd.crosstab(y_test, y_pred, rownames=['Actual'], colnames=['Predicted'])\n",
        "sns.heatmap(confusion_matrix, annot=True)\n",
        "print(confusion_matrix)"
      ],
      "execution_count": 339,
      "outputs": [
        {
          "output_type": "stream",
          "name": "stdout",
          "text": [
            "Predicted   0   1\n",
            "Actual           \n",
            "0          91  20\n",
            "1           4  13\n"
          ]
        },
        {
          "output_type": "display_data",
          "data": {
            "image/png": "[encoded data removed]",
            "text/plain": [
              "<Figure size 432x288 with 2 Axes>"
            ]
          },
          "metadata": {
            "needs_background": "light"
          }
        }
      ]
    },
    {
      "cell_type": "code",
      "metadata": {
        "colab": {
          "base_uri": "https://localhost:8080/"
        },
        "id": "ds64FO1dDEiF",
        "outputId": "e6277441-72dc-4b5b-9e7d-b086e95eceb5"
      },
      "source": [
        "# 7. Accuracy \n",
        "\n",
        "from sklearn.metrics import classification_report\n",
        "print(classification_report(y_test,y_pred))"
      ],
      "execution_count": 340,
      "outputs": [
        {
          "output_type": "stream",
          "name": "stdout",
          "text": [
            "              precision    recall  f1-score   support\n",
            "\n",
            "           0       0.96      0.82      0.88       111\n",
            "           1       0.39      0.76      0.52        17\n",
            "\n",
            "    accuracy                           0.81       128\n",
            "   macro avg       0.68      0.79      0.70       128\n",
            "weighted avg       0.88      0.81      0.84       128\n",
            "\n"
          ]
        }
      ]
    },
    {
      "cell_type": "code",
      "metadata": {
        "colab": {
          "base_uri": "https://localhost:8080/",
          "height": 723
        },
        "id": "2sHqK5bWDEiF",
        "outputId": "20630302-0392-4546-c755-224ef47bc9e9"
      },
      "source": [
        "# 8. Importances by variable\n",
        "\n",
        "importances = pd.DataFrame(data={\n",
        "    'Attribute': X_columns.columns,\n",
        "    'Importance': classifier.coef_[0]\n",
        "})\n",
        "importances"
      ],
      "execution_count": 341,
      "outputs": [
        {
          "output_type": "execute_result",
          "data": {
            "text/html": [
              "<div>\n",
              "<style scoped>\n",
              "    .dataframe tbody tr th:only-of-type {\n",
              "        vertical-align: middle;\n",
              "    }\n",
              "\n",
              "    .dataframe tbody tr th {\n",
              "        vertical-align: top;\n",
              "    }\n",
              "\n",
              "    .dataframe thead th {\n",
              "        text-align: right;\n",
              "    }\n",
              "</style>\n",
              "<table border=\"1\" class=\"dataframe\">\n",
              "  <thead>\n",
              "    <tr style=\"text-align: right;\">\n",
              "      <th></th>\n",
              "      <th>Attribute</th>\n",
              "      <th>Importance</th>\n",
              "    </tr>\n",
              "  </thead>\n",
              "  <tbody>\n",
              "    <tr>\n",
              "      <th>0</th>\n",
              "      <td>first_r_amount</td>\n",
              "      <td>0.988889</td>\n",
              "    </tr>\n",
              "    <tr>\n",
              "      <th>1</th>\n",
              "      <td>rounds_funding_factor</td>\n",
              "      <td>0.039619</td>\n",
              "    </tr>\n",
              "    <tr>\n",
              "      <th>2</th>\n",
              "      <td>dp_rounds_count</td>\n",
              "      <td>-0.447714</td>\n",
              "    </tr>\n",
              "    <tr>\n",
              "      <th>3</th>\n",
              "      <td>dp_rounds_amount_sum</td>\n",
              "      <td>2.079574</td>\n",
              "    </tr>\n",
              "    <tr>\n",
              "      <th>4</th>\n",
              "      <td>dp_rounds_amount_max</td>\n",
              "      <td>-0.546233</td>\n",
              "    </tr>\n",
              "    <tr>\n",
              "      <th>5</th>\n",
              "      <td>dp_last_round_amount</td>\n",
              "      <td>2.199613</td>\n",
              "    </tr>\n",
              "    <tr>\n",
              "      <th>6</th>\n",
              "      <td>dp_years_operating</td>\n",
              "      <td>0.922976</td>\n",
              "    </tr>\n",
              "    <tr>\n",
              "      <th>7</th>\n",
              "      <td>sum_manager_exp</td>\n",
              "      <td>-0.203868</td>\n",
              "    </tr>\n",
              "    <tr>\n",
              "      <th>8</th>\n",
              "      <td>sum_clevel_exp</td>\n",
              "      <td>0.300494</td>\n",
              "    </tr>\n",
              "    <tr>\n",
              "      <th>9</th>\n",
              "      <td>sum_engineering_exp</td>\n",
              "      <td>-0.955163</td>\n",
              "    </tr>\n",
              "    <tr>\n",
              "      <th>10</th>\n",
              "      <td>sum_sales_exp</td>\n",
              "      <td>-0.191395</td>\n",
              "    </tr>\n",
              "    <tr>\n",
              "      <th>11</th>\n",
              "      <td>sum_finance_exp</td>\n",
              "      <td>-0.044984</td>\n",
              "    </tr>\n",
              "    <tr>\n",
              "      <th>12</th>\n",
              "      <td>sum_human_capital_exp</td>\n",
              "      <td>-0.802913</td>\n",
              "    </tr>\n",
              "    <tr>\n",
              "      <th>13</th>\n",
              "      <td>sum_consulting_exp</td>\n",
              "      <td>0.234298</td>\n",
              "    </tr>\n",
              "    <tr>\n",
              "      <th>14</th>\n",
              "      <td>sum_founder_exp</td>\n",
              "      <td>-0.756036</td>\n",
              "    </tr>\n",
              "    <tr>\n",
              "      <th>15</th>\n",
              "      <td>sum_number_of_startups</td>\n",
              "      <td>0.264020</td>\n",
              "    </tr>\n",
              "    <tr>\n",
              "      <th>16</th>\n",
              "      <td>sum_gender</td>\n",
              "      <td>0.801023</td>\n",
              "    </tr>\n",
              "    <tr>\n",
              "      <th>17</th>\n",
              "      <td>sum_foreing_studies</td>\n",
              "      <td>0.072852</td>\n",
              "    </tr>\n",
              "    <tr>\n",
              "      <th>18</th>\n",
              "      <td>sum_foreing_work_experience</td>\n",
              "      <td>0.091668</td>\n",
              "    </tr>\n",
              "    <tr>\n",
              "      <th>19</th>\n",
              "      <td>sum_foreing_founder</td>\n",
              "      <td>-0.062124</td>\n",
              "    </tr>\n",
              "    <tr>\n",
              "      <th>20</th>\n",
              "      <td>sum_dp_years_of_experience</td>\n",
              "      <td>-0.010353</td>\n",
              "    </tr>\n",
              "    <tr>\n",
              "      <th>21</th>\n",
              "      <td>sum_dp_years_of_experience_as_entreprenuer</td>\n",
              "      <td>0.153904</td>\n",
              "    </tr>\n",
              "  </tbody>\n",
              "</table>\n",
              "</div>"
            ],
            "text/plain": [
              "                                     Attribute  Importance\n",
              "0                               first_r_amount    0.988889\n",
              "1                        rounds_funding_factor    0.039619\n",
              "2                              dp_rounds_count   -0.447714\n",
              "3                         dp_rounds_amount_sum    2.079574\n",
              "4                         dp_rounds_amount_max   -0.546233\n",
              "5                         dp_last_round_amount    2.199613\n",
              "6                           dp_years_operating    0.922976\n",
              "7                              sum_manager_exp   -0.203868\n",
              "8                               sum_clevel_exp    0.300494\n",
              "9                          sum_engineering_exp   -0.955163\n",
              "10                               sum_sales_exp   -0.191395\n",
              "11                             sum_finance_exp   -0.044984\n",
              "12                       sum_human_capital_exp   -0.802913\n",
              "13                          sum_consulting_exp    0.234298\n",
              "14                             sum_founder_exp   -0.756036\n",
              "15                      sum_number_of_startups    0.264020\n",
              "16                                  sum_gender    0.801023\n",
              "17                         sum_foreing_studies    0.072852\n",
              "18                 sum_foreing_work_experience    0.091668\n",
              "19                         sum_foreing_founder   -0.062124\n",
              "20                  sum_dp_years_of_experience   -0.010353\n",
              "21  sum_dp_years_of_experience_as_entreprenuer    0.153904"
            ]
          },
          "metadata": {},
          "execution_count": 341
        }
      ]
    },
    {
      "cell_type": "markdown",
      "metadata": {
        "id": "qJttRUfNDEiF"
      },
      "source": [
        "### Standard and undersampled balance"
      ]
    },
    {
      "cell_type": "code",
      "metadata": {
        "colab": {
          "base_uri": "https://localhost:8080/"
        },
        "id": "mWVVH0gIDEiF",
        "outputId": "47fb75b2-aea2-4d62-f6e1-065aa7f299be"
      },
      "source": [
        "# 1. Define variables X and y\n",
        "\n",
        "X = X_columns_standard # Independent\n",
        "y = db_companies_Encode_Model.more100_employees # Dependent\n",
        "\n",
        "print(X)\n",
        "print(y)"
      ],
      "execution_count": 342,
      "outputs": [
        {
          "output_type": "stream",
          "name": "stdout",
          "text": [
            "     first_r_amount  ...  sum_dp_years_of_experience_as_entreprenuer\n",
            "0         -0.077119  ...                                    1.164139\n",
            "1         -0.131298  ...                                    0.341445\n",
            "2         -0.123909  ...                                   -0.618365\n",
            "3         -0.125859  ...                                   -0.344133\n",
            "4         -0.130928  ...                                   -0.892596\n",
            "..              ...  ...                                         ...\n",
            "505       -0.102464  ...                                    0.615676\n",
            "506        8.641500  ...                                    0.204329\n",
            "507       -0.126639  ...                                   -0.344133\n",
            "508       -0.126639  ...                                   -0.481249\n",
            "509        0.059353  ...                                    0.067214\n",
            "\n",
            "[510 rows x 22 columns]\n",
            "0      0\n",
            "1      0\n",
            "2      0\n",
            "3      1\n",
            "4      0\n",
            "      ..\n",
            "505    1\n",
            "506    1\n",
            "507    0\n",
            "508    0\n",
            "509    0\n",
            "Name: more100_employees, Length: 510, dtype: int64\n"
          ]
        }
      ]
    },
    {
      "cell_type": "code",
      "metadata": {
        "id": "jutL2sCUDEiF"
      },
      "source": [
        "# 2. Split the data\n",
        "\n",
        "from sklearn.model_selection import train_test_split\n",
        "\n",
        "# Split the preprocessed data into a training and testing dataset\n",
        "X_train, X_test, y_train, y_test = train_test_split(X, y, random_state=4281)"
      ],
      "execution_count": 343,
      "outputs": []
    },
    {
      "cell_type": "markdown",
      "metadata": {
        "id": "7Ao5lnVuDEiG"
      },
      "source": [
        "Under sampling"
      ]
    },
    {
      "cell_type": "code",
      "metadata": {
        "colab": {
          "base_uri": "https://localhost:8080/"
        },
        "id": "Sbfy2Hx-DEiG",
        "outputId": "7861931a-29b2-477d-c8a7-a91c357c1ba8"
      },
      "source": [
        "# Making balance w/over sampling\n",
        "from collections import Counter\n",
        "from imblearn.under_sampling import RandomUnderSampler\n",
        "from sklearn.datasets import make_classification\n",
        "\n",
        "X_train=np.array(X_train)\n",
        "\n",
        "ros = RandomUnderSampler(random_state=1)\n",
        "X_resampled, y_resampled = ros.fit_resample(X_train, y_train)\n",
        "\n",
        "from collections import Counter\n",
        "print(sorted(Counter(y_resampled).items()))"
      ],
      "execution_count": 344,
      "outputs": [
        {
          "output_type": "stream",
          "name": "stdout",
          "text": [
            "[(0, 56), (1, 56)]\n"
          ]
        }
      ]
    },
    {
      "cell_type": "markdown",
      "metadata": {
        "id": "uDmKMmQwDEiG"
      },
      "source": [
        "Modeling"
      ]
    },
    {
      "cell_type": "code",
      "metadata": {
        "id": "AwXoYwkoDEiG"
      },
      "source": [
        "X_resampled = pd.DataFrame(X_resampled)"
      ],
      "execution_count": 345,
      "outputs": []
    },
    {
      "cell_type": "code",
      "metadata": {
        "colab": {
          "base_uri": "https://localhost:8080/"
        },
        "id": "pnany8VzDEiG",
        "outputId": "fc46c91c-9653-4cc1-d7bd-85fcfb011aea"
      },
      "source": [
        "# 3. Choose your Logistic Regression\n",
        "from sklearn.linear_model import LogisticRegression\n",
        "classifier = LogisticRegression()\n",
        "classifier"
      ],
      "execution_count": 346,
      "outputs": [
        {
          "output_type": "execute_result",
          "data": {
            "text/plain": [
              "LogisticRegression()"
            ]
          },
          "metadata": {},
          "execution_count": 346
        }
      ]
    },
    {
      "cell_type": "code",
      "metadata": {
        "colab": {
          "base_uri": "https://localhost:8080/"
        },
        "id": "cyvul284DEiG",
        "outputId": "ceb4598d-af2d-4695-bd57-17a3ddce9d43"
      },
      "source": [
        "# 4. Train your model and define your prediction variable\n",
        "\n",
        "classifier.fit(X_resampled, y_resampled)\n",
        "y_pred=classifier.predict(X_test)\n",
        "y_pred"
      ],
      "execution_count": 347,
      "outputs": [
        {
          "output_type": "stream",
          "name": "stderr",
          "text": [
            "/usr/local/lib/python3.7/dist-packages/sklearn/base.py:439: UserWarning: X has feature names, but LogisticRegression was fitted without feature names\n",
            "  f\"X has feature names, but {self.__class__.__name__} was fitted without\"\n"
          ]
        },
        {
          "output_type": "execute_result",
          "data": {
            "text/plain": [
              "array([1, 0, 0, 0, 1, 0, 1, 0, 0, 1, 0, 0, 0, 1, 0, 1, 0, 1, 0, 1, 1, 1,\n",
              "       0, 0, 0, 0, 0, 0, 1, 0, 0, 0, 1, 0, 0, 0, 0, 0, 1, 1, 0, 0, 0, 0,\n",
              "       0, 1, 1, 0, 0, 1, 0, 1, 0, 0, 0, 1, 0, 0, 0, 0, 0, 0, 0, 0, 1, 0,\n",
              "       0, 0, 1, 0, 0, 0, 1, 0, 0, 0, 1, 0, 0, 1, 0, 1, 1, 1, 0, 0, 0, 1,\n",
              "       0, 0, 0, 1, 0, 1, 0, 0, 0, 0, 1, 0, 0, 0, 1, 0, 0, 0, 0, 1, 0, 0,\n",
              "       0, 0, 0, 0, 0, 0, 1, 0, 0, 0, 0, 0, 0, 1, 1, 0, 0, 0])"
            ]
          },
          "metadata": {},
          "execution_count": 347
        }
      ]
    },
    {
      "cell_type": "code",
      "metadata": {
        "colab": {
          "base_uri": "https://localhost:8080/"
        },
        "id": "_ZOJDwEWDEiG",
        "outputId": "8d737f3f-effc-479c-a095-dc0d2d20ddcc"
      },
      "source": [
        "# 5. Statistics for your model\n",
        "\n",
        "# Scores for model\n",
        "training_score = classifier.score(X_resampled, y_resampled)\n",
        "testing_score = classifier.score(X_test, y_test)\n",
        "\n",
        "print(f\"Training Data Score: {training_score}\")\n",
        "print(f\"Testing Data Score: {testing_score}\")"
      ],
      "execution_count": 348,
      "outputs": [
        {
          "output_type": "stream",
          "name": "stdout",
          "text": [
            "Training Data Score: 0.9107142857142857\n",
            "Testing Data Score: 0.7734375\n"
          ]
        },
        {
          "output_type": "stream",
          "name": "stderr",
          "text": [
            "/usr/local/lib/python3.7/dist-packages/sklearn/base.py:439: UserWarning: X has feature names, but LogisticRegression was fitted without feature names\n",
            "  f\"X has feature names, but {self.__class__.__name__} was fitted without\"\n"
          ]
        }
      ]
    },
    {
      "cell_type": "code",
      "metadata": {
        "colab": {
          "base_uri": "https://localhost:8080/",
          "height": 350
        },
        "id": "06Ipl4oxDEiG",
        "outputId": "4a2f010b-a08d-473d-d4b8-18f2b61a2ce7"
      },
      "source": [
        "# 6. Confusion matrix\n",
        "\n",
        "confusion_matrix = pd.crosstab(y_test, y_pred, rownames=['Actual'], colnames=['Predicted'])\n",
        "sns.heatmap(confusion_matrix, annot=True)\n",
        "print(confusion_matrix)"
      ],
      "execution_count": 349,
      "outputs": [
        {
          "output_type": "stream",
          "name": "stdout",
          "text": [
            "Predicted   0   1\n",
            "Actual           \n",
            "0          87  24\n",
            "1           5  12\n"
          ]
        },
        {
          "output_type": "display_data",
          "data": {
            "image/png": "[encoded data removed]",
            "text/plain": [
              "<Figure size 432x288 with 2 Axes>"
            ]
          },
          "metadata": {
            "needs_background": "light"
          }
        }
      ]
    },
    {
      "cell_type": "code",
      "metadata": {
        "colab": {
          "base_uri": "https://localhost:8080/"
        },
        "id": "7yTPehuvDEiH",
        "outputId": "04e56055-91cf-410f-af8b-97ffad7c14e5"
      },
      "source": [
        "# 7. Accuracy \n",
        "\n",
        "from sklearn.metrics import classification_report\n",
        "print(classification_report(y_test,y_pred))"
      ],
      "execution_count": 350,
      "outputs": [
        {
          "output_type": "stream",
          "name": "stdout",
          "text": [
            "              precision    recall  f1-score   support\n",
            "\n",
            "           0       0.95      0.78      0.86       111\n",
            "           1       0.33      0.71      0.45        17\n",
            "\n",
            "    accuracy                           0.77       128\n",
            "   macro avg       0.64      0.74      0.65       128\n",
            "weighted avg       0.86      0.77      0.80       128\n",
            "\n"
          ]
        }
      ]
    },
    {
      "cell_type": "code",
      "metadata": {
        "colab": {
          "base_uri": "https://localhost:8080/",
          "height": 723
        },
        "id": "76V-jnK6DEiH",
        "outputId": "8751467b-a3cb-423e-9ffe-bc2a61fe73d6"
      },
      "source": [
        "# 8. Importances by variable\n",
        "\n",
        "importances = pd.DataFrame(data={\n",
        "    'Attribute': X_columns.columns,\n",
        "    'Importance': classifier.coef_[0]\n",
        "})\n",
        "importances"
      ],
      "execution_count": 351,
      "outputs": [
        {
          "output_type": "execute_result",
          "data": {
            "text/html": [
              "<div>\n",
              "<style scoped>\n",
              "    .dataframe tbody tr th:only-of-type {\n",
              "        vertical-align: middle;\n",
              "    }\n",
              "\n",
              "    .dataframe tbody tr th {\n",
              "        vertical-align: top;\n",
              "    }\n",
              "\n",
              "    .dataframe thead th {\n",
              "        text-align: right;\n",
              "    }\n",
              "</style>\n",
              "<table border=\"1\" class=\"dataframe\">\n",
              "  <thead>\n",
              "    <tr style=\"text-align: right;\">\n",
              "      <th></th>\n",
              "      <th>Attribute</th>\n",
              "      <th>Importance</th>\n",
              "    </tr>\n",
              "  </thead>\n",
              "  <tbody>\n",
              "    <tr>\n",
              "      <th>0</th>\n",
              "      <td>first_r_amount</td>\n",
              "      <td>1.132416</td>\n",
              "    </tr>\n",
              "    <tr>\n",
              "      <th>1</th>\n",
              "      <td>rounds_funding_factor</td>\n",
              "      <td>0.174003</td>\n",
              "    </tr>\n",
              "    <tr>\n",
              "      <th>2</th>\n",
              "      <td>dp_rounds_count</td>\n",
              "      <td>-0.178362</td>\n",
              "    </tr>\n",
              "    <tr>\n",
              "      <th>3</th>\n",
              "      <td>dp_rounds_amount_sum</td>\n",
              "      <td>1.374500</td>\n",
              "    </tr>\n",
              "    <tr>\n",
              "      <th>4</th>\n",
              "      <td>dp_rounds_amount_max</td>\n",
              "      <td>0.879122</td>\n",
              "    </tr>\n",
              "    <tr>\n",
              "      <th>5</th>\n",
              "      <td>dp_last_round_amount</td>\n",
              "      <td>1.631535</td>\n",
              "    </tr>\n",
              "    <tr>\n",
              "      <th>6</th>\n",
              "      <td>dp_years_operating</td>\n",
              "      <td>0.804978</td>\n",
              "    </tr>\n",
              "    <tr>\n",
              "      <th>7</th>\n",
              "      <td>sum_manager_exp</td>\n",
              "      <td>0.056317</td>\n",
              "    </tr>\n",
              "    <tr>\n",
              "      <th>8</th>\n",
              "      <td>sum_clevel_exp</td>\n",
              "      <td>0.541781</td>\n",
              "    </tr>\n",
              "    <tr>\n",
              "      <th>9</th>\n",
              "      <td>sum_engineering_exp</td>\n",
              "      <td>-1.233802</td>\n",
              "    </tr>\n",
              "    <tr>\n",
              "      <th>10</th>\n",
              "      <td>sum_sales_exp</td>\n",
              "      <td>-0.143501</td>\n",
              "    </tr>\n",
              "    <tr>\n",
              "      <th>11</th>\n",
              "      <td>sum_finance_exp</td>\n",
              "      <td>-0.078412</td>\n",
              "    </tr>\n",
              "    <tr>\n",
              "      <th>12</th>\n",
              "      <td>sum_human_capital_exp</td>\n",
              "      <td>-0.601524</td>\n",
              "    </tr>\n",
              "    <tr>\n",
              "      <th>13</th>\n",
              "      <td>sum_consulting_exp</td>\n",
              "      <td>0.308108</td>\n",
              "    </tr>\n",
              "    <tr>\n",
              "      <th>14</th>\n",
              "      <td>sum_founder_exp</td>\n",
              "      <td>-0.493807</td>\n",
              "    </tr>\n",
              "    <tr>\n",
              "      <th>15</th>\n",
              "      <td>sum_number_of_startups</td>\n",
              "      <td>0.680980</td>\n",
              "    </tr>\n",
              "    <tr>\n",
              "      <th>16</th>\n",
              "      <td>sum_gender</td>\n",
              "      <td>0.368412</td>\n",
              "    </tr>\n",
              "    <tr>\n",
              "      <th>17</th>\n",
              "      <td>sum_foreing_studies</td>\n",
              "      <td>0.749831</td>\n",
              "    </tr>\n",
              "    <tr>\n",
              "      <th>18</th>\n",
              "      <td>sum_foreing_work_experience</td>\n",
              "      <td>-0.069276</td>\n",
              "    </tr>\n",
              "    <tr>\n",
              "      <th>19</th>\n",
              "      <td>sum_foreing_founder</td>\n",
              "      <td>-0.106871</td>\n",
              "    </tr>\n",
              "    <tr>\n",
              "      <th>20</th>\n",
              "      <td>sum_dp_years_of_experience</td>\n",
              "      <td>-0.055908</td>\n",
              "    </tr>\n",
              "    <tr>\n",
              "      <th>21</th>\n",
              "      <td>sum_dp_years_of_experience_as_entreprenuer</td>\n",
              "      <td>0.001660</td>\n",
              "    </tr>\n",
              "  </tbody>\n",
              "</table>\n",
              "</div>"
            ],
            "text/plain": [
              "                                     Attribute  Importance\n",
              "0                               first_r_amount    1.132416\n",
              "1                        rounds_funding_factor    0.174003\n",
              "2                              dp_rounds_count   -0.178362\n",
              "3                         dp_rounds_amount_sum    1.374500\n",
              "4                         dp_rounds_amount_max    0.879122\n",
              "5                         dp_last_round_amount    1.631535\n",
              "6                           dp_years_operating    0.804978\n",
              "7                              sum_manager_exp    0.056317\n",
              "8                               sum_clevel_exp    0.541781\n",
              "9                          sum_engineering_exp   -1.233802\n",
              "10                               sum_sales_exp   -0.143501\n",
              "11                             sum_finance_exp   -0.078412\n",
              "12                       sum_human_capital_exp   -0.601524\n",
              "13                          sum_consulting_exp    0.308108\n",
              "14                             sum_founder_exp   -0.493807\n",
              "15                      sum_number_of_startups    0.680980\n",
              "16                                  sum_gender    0.368412\n",
              "17                         sum_foreing_studies    0.749831\n",
              "18                 sum_foreing_work_experience   -0.069276\n",
              "19                         sum_foreing_founder   -0.106871\n",
              "20                  sum_dp_years_of_experience   -0.055908\n",
              "21  sum_dp_years_of_experience_as_entreprenuer    0.001660"
            ]
          },
          "metadata": {},
          "execution_count": 351
        }
      ]
    },
    {
      "cell_type": "code",
      "metadata": {
        "id": "n3kwpGlYDEiH"
      },
      "source": [
        ""
      ],
      "execution_count": 351,
      "outputs": []
    },
    {
      "cell_type": "markdown",
      "metadata": {
        "id": "3VmvnZyUEwPA"
      },
      "source": [
        "### Standard and smote balance"
      ]
    },
    {
      "cell_type": "code",
      "metadata": {
        "colab": {
          "base_uri": "https://localhost:8080/"
        },
        "id": "E25PNBomEwPB",
        "outputId": "8c51bbee-ad0c-4c80-8e41-a84d230aa09e"
      },
      "source": [
        "# 1. Define variables X and y\n",
        "\n",
        "X = X_columns_standard # Independent\n",
        "y = db_companies_Encode_Model.more100_employees # Dependent\n",
        "\n",
        "print(X)\n",
        "print(y)"
      ],
      "execution_count": 388,
      "outputs": [
        {
          "output_type": "stream",
          "name": "stdout",
          "text": [
            "     first_r_amount  ...  sum_dp_years_of_experience_as_entreprenuer\n",
            "0         -0.077119  ...                                    1.164139\n",
            "1         -0.131298  ...                                    0.341445\n",
            "2         -0.123909  ...                                   -0.618365\n",
            "3         -0.125859  ...                                   -0.344133\n",
            "4         -0.130928  ...                                   -0.892596\n",
            "..              ...  ...                                         ...\n",
            "505       -0.102464  ...                                    0.615676\n",
            "506        8.641500  ...                                    0.204329\n",
            "507       -0.126639  ...                                   -0.344133\n",
            "508       -0.126639  ...                                   -0.481249\n",
            "509        0.059353  ...                                    0.067214\n",
            "\n",
            "[510 rows x 22 columns]\n",
            "0      0\n",
            "1      0\n",
            "2      0\n",
            "3      1\n",
            "4      0\n",
            "      ..\n",
            "505    1\n",
            "506    1\n",
            "507    0\n",
            "508    0\n",
            "509    0\n",
            "Name: more100_employees, Length: 510, dtype: int64\n"
          ]
        }
      ]
    },
    {
      "cell_type": "code",
      "metadata": {
        "id": "I_Svv7vYEwPC"
      },
      "source": [
        "# 2. Split the data\n",
        "\n",
        "from sklearn.model_selection import train_test_split\n",
        "\n",
        "# Split the preprocessed data into a training and testing dataset\n",
        "X_train, X_test, y_train, y_test = train_test_split(X, y, random_state=4281)"
      ],
      "execution_count": 389,
      "outputs": []
    },
    {
      "cell_type": "markdown",
      "metadata": {
        "id": "ZaSU4F1nEwPC"
      },
      "source": [
        "Under sampling"
      ]
    },
    {
      "cell_type": "code",
      "metadata": {
        "colab": {
          "base_uri": "https://localhost:8080/"
        },
        "id": "SrOtO3AHEwPD",
        "outputId": "23e78c4a-4c73-4a1f-96f6-632563568f36"
      },
      "source": [
        "# Making balance w/smote sampling\n",
        "from collections import Counter\n",
        "from imblearn.over_sampling import SMOTE\n",
        "from sklearn.datasets import make_classification\n",
        "\n",
        "X_train=np.array(X_train)\n",
        "\n",
        "X_resampled, y_resampled = SMOTE(random_state=1,sampling_strategy='auto').fit_resample(X_train, y_train)\n",
        "\n",
        "from collections import Counter\n",
        "print(sorted(Counter(y_resampled).items()))"
      ],
      "execution_count": 390,
      "outputs": [
        {
          "output_type": "stream",
          "name": "stdout",
          "text": [
            "[(0, 326), (1, 326)]\n"
          ]
        }
      ]
    },
    {
      "cell_type": "markdown",
      "metadata": {
        "id": "4umH9I1rEwPE"
      },
      "source": [
        "Modeling"
      ]
    },
    {
      "cell_type": "code",
      "metadata": {
        "id": "5yuStWQxEwPE"
      },
      "source": [
        "X_resampled = pd.DataFrame(X_resampled)"
      ],
      "execution_count": 391,
      "outputs": []
    },
    {
      "cell_type": "code",
      "metadata": {
        "colab": {
          "base_uri": "https://localhost:8080/"
        },
        "id": "5m74DuxtEwPF",
        "outputId": "a548ddbc-5be1-4956-f628-88ca798dee7b"
      },
      "source": [
        "# 3. Choose your Logistic Regression\n",
        "from sklearn.linear_model import LogisticRegression\n",
        "classifier = LogisticRegression()\n",
        "classifier"
      ],
      "execution_count": 392,
      "outputs": [
        {
          "output_type": "execute_result",
          "data": {
            "text/plain": [
              "LogisticRegression()"
            ]
          },
          "metadata": {},
          "execution_count": 392
        }
      ]
    },
    {
      "cell_type": "code",
      "metadata": {
        "colab": {
          "base_uri": "https://localhost:8080/"
        },
        "id": "ERLTcpjiEwPG",
        "outputId": "2f896e76-0280-456a-c35e-82bcd73a27f1"
      },
      "source": [
        "# 4. Train your model and define your prediction variable\n",
        "\n",
        "classifier.fit(X_resampled, y_resampled)\n",
        "y_pred=classifier.predict(X_test)\n",
        "y_pred"
      ],
      "execution_count": 393,
      "outputs": [
        {
          "output_type": "stream",
          "name": "stderr",
          "text": [
            "/usr/local/lib/python3.7/dist-packages/sklearn/base.py:439: UserWarning: X has feature names, but LogisticRegression was fitted without feature names\n",
            "  f\"X has feature names, but {self.__class__.__name__} was fitted without\"\n"
          ]
        },
        {
          "output_type": "execute_result",
          "data": {
            "text/plain": [
              "array([1, 0, 0, 0, 1, 0, 1, 0, 0, 1, 0, 0, 0, 1, 0, 1, 0, 1, 0, 1, 0, 1,\n",
              "       0, 0, 1, 0, 0, 0, 1, 0, 0, 0, 1, 0, 0, 0, 0, 0, 1, 0, 0, 0, 0, 0,\n",
              "       0, 1, 1, 0, 0, 1, 0, 1, 0, 0, 0, 0, 0, 0, 0, 0, 0, 0, 0, 0, 1, 0,\n",
              "       0, 0, 1, 0, 0, 0, 0, 0, 0, 0, 1, 0, 0, 1, 0, 1, 1, 1, 0, 0, 0, 1,\n",
              "       0, 0, 0, 1, 0, 1, 0, 0, 0, 0, 0, 0, 0, 0, 1, 0, 0, 0, 0, 0, 0, 0,\n",
              "       0, 0, 0, 0, 1, 0, 1, 0, 0, 0, 0, 0, 0, 0, 1, 0, 0, 0])"
            ]
          },
          "metadata": {},
          "execution_count": 393
        }
      ]
    },
    {
      "cell_type": "code",
      "metadata": {
        "colab": {
          "base_uri": "https://localhost:8080/"
        },
        "id": "zLlDHhgLEwPG",
        "outputId": "c8403814-2dfe-474f-9081-7771fcfab32a"
      },
      "source": [
        "# 5. Statistics for your model\n",
        "\n",
        "# Scores for model\n",
        "training_score = classifier.score(X_resampled, y_resampled)\n",
        "testing_score = classifier.score(X_test, y_test)\n",
        "\n",
        "print(f\"Training Data Score: {training_score}\")\n",
        "print(f\"Testing Data Score: {testing_score}\")"
      ],
      "execution_count": 394,
      "outputs": [
        {
          "output_type": "stream",
          "name": "stdout",
          "text": [
            "Training Data Score: 0.8834355828220859\n",
            "Testing Data Score: 0.8125\n"
          ]
        },
        {
          "output_type": "stream",
          "name": "stderr",
          "text": [
            "/usr/local/lib/python3.7/dist-packages/sklearn/base.py:439: UserWarning: X has feature names, but LogisticRegression was fitted without feature names\n",
            "  f\"X has feature names, but {self.__class__.__name__} was fitted without\"\n"
          ]
        }
      ]
    },
    {
      "cell_type": "code",
      "metadata": {
        "colab": {
          "base_uri": "https://localhost:8080/",
          "height": 350
        },
        "id": "qiGtvbCqEwPH",
        "outputId": "e0f1a1b8-4a54-4b1c-8b62-699d839f81fc"
      },
      "source": [
        "# 6. Confusion matrix\n",
        "\n",
        "confusion_matrix = pd.crosstab(y_test, y_pred, rownames=['Actual'], colnames=['Predicted'])\n",
        "sns.heatmap(confusion_matrix, annot=True)\n",
        "print(confusion_matrix)"
      ],
      "execution_count": 395,
      "outputs": [
        {
          "output_type": "stream",
          "name": "stdout",
          "text": [
            "Predicted   0   1\n",
            "Actual           \n",
            "0          92  19\n",
            "1           5  12\n"
          ]
        },
        {
          "output_type": "display_data",
          "data": {
            "image/png": "[encoded data removed]",
            "text/plain": [
              "<Figure size 432x288 with 2 Axes>"
            ]
          },
          "metadata": {
            "needs_background": "light"
          }
        }
      ]
    },
    {
      "cell_type": "code",
      "metadata": {
        "colab": {
          "base_uri": "https://localhost:8080/"
        },
        "id": "7Ke8IZV6EwPI",
        "outputId": "923598ad-4250-4e2d-fcba-35f1d63f426d"
      },
      "source": [
        "# 7. Accuracy \n",
        "\n",
        "from sklearn.metrics import classification_report\n",
        "print(classification_report(y_test,y_pred))"
      ],
      "execution_count": 396,
      "outputs": [
        {
          "output_type": "stream",
          "name": "stdout",
          "text": [
            "              precision    recall  f1-score   support\n",
            "\n",
            "           0       0.95      0.83      0.88       111\n",
            "           1       0.39      0.71      0.50        17\n",
            "\n",
            "    accuracy                           0.81       128\n",
            "   macro avg       0.67      0.77      0.69       128\n",
            "weighted avg       0.87      0.81      0.83       128\n",
            "\n"
          ]
        }
      ]
    },
    {
      "cell_type": "code",
      "metadata": {
        "colab": {
          "base_uri": "https://localhost:8080/",
          "height": 723
        },
        "id": "uoukq2wzEwPI",
        "outputId": "1a37b581-7be9-4d85-c6a0-1730f9f13d62"
      },
      "source": [
        "# 8. Importances by variable\n",
        "\n",
        "importances = pd.DataFrame(data={\n",
        "    'Attribute': X_columns.columns,\n",
        "    'Importance': classifier.coef_[0]\n",
        "})\n",
        "importances"
      ],
      "execution_count": 397,
      "outputs": [
        {
          "output_type": "execute_result",
          "data": {
            "text/html": [
              "<div>\n",
              "<style scoped>\n",
              "    .dataframe tbody tr th:only-of-type {\n",
              "        vertical-align: middle;\n",
              "    }\n",
              "\n",
              "    .dataframe tbody tr th {\n",
              "        vertical-align: top;\n",
              "    }\n",
              "\n",
              "    .dataframe thead th {\n",
              "        text-align: right;\n",
              "    }\n",
              "</style>\n",
              "<table border=\"1\" class=\"dataframe\">\n",
              "  <thead>\n",
              "    <tr style=\"text-align: right;\">\n",
              "      <th></th>\n",
              "      <th>Attribute</th>\n",
              "      <th>Importance</th>\n",
              "    </tr>\n",
              "  </thead>\n",
              "  <tbody>\n",
              "    <tr>\n",
              "      <th>0</th>\n",
              "      <td>first_r_amount</td>\n",
              "      <td>1.610383</td>\n",
              "    </tr>\n",
              "    <tr>\n",
              "      <th>1</th>\n",
              "      <td>rounds_funding_factor</td>\n",
              "      <td>0.038972</td>\n",
              "    </tr>\n",
              "    <tr>\n",
              "      <th>2</th>\n",
              "      <td>dp_rounds_count</td>\n",
              "      <td>-0.662945</td>\n",
              "    </tr>\n",
              "    <tr>\n",
              "      <th>3</th>\n",
              "      <td>dp_rounds_amount_sum</td>\n",
              "      <td>2.168248</td>\n",
              "    </tr>\n",
              "    <tr>\n",
              "      <th>4</th>\n",
              "      <td>dp_rounds_amount_max</td>\n",
              "      <td>-0.474412</td>\n",
              "    </tr>\n",
              "    <tr>\n",
              "      <th>5</th>\n",
              "      <td>dp_last_round_amount</td>\n",
              "      <td>2.453691</td>\n",
              "    </tr>\n",
              "    <tr>\n",
              "      <th>6</th>\n",
              "      <td>dp_years_operating</td>\n",
              "      <td>1.112384</td>\n",
              "    </tr>\n",
              "    <tr>\n",
              "      <th>7</th>\n",
              "      <td>sum_manager_exp</td>\n",
              "      <td>-0.096682</td>\n",
              "    </tr>\n",
              "    <tr>\n",
              "      <th>8</th>\n",
              "      <td>sum_clevel_exp</td>\n",
              "      <td>0.185802</td>\n",
              "    </tr>\n",
              "    <tr>\n",
              "      <th>9</th>\n",
              "      <td>sum_engineering_exp</td>\n",
              "      <td>-1.211710</td>\n",
              "    </tr>\n",
              "    <tr>\n",
              "      <th>10</th>\n",
              "      <td>sum_sales_exp</td>\n",
              "      <td>-0.252984</td>\n",
              "    </tr>\n",
              "    <tr>\n",
              "      <th>11</th>\n",
              "      <td>sum_finance_exp</td>\n",
              "      <td>-0.073832</td>\n",
              "    </tr>\n",
              "    <tr>\n",
              "      <th>12</th>\n",
              "      <td>sum_human_capital_exp</td>\n",
              "      <td>-0.780384</td>\n",
              "    </tr>\n",
              "    <tr>\n",
              "      <th>13</th>\n",
              "      <td>sum_consulting_exp</td>\n",
              "      <td>0.190381</td>\n",
              "    </tr>\n",
              "    <tr>\n",
              "      <th>14</th>\n",
              "      <td>sum_founder_exp</td>\n",
              "      <td>-1.028706</td>\n",
              "    </tr>\n",
              "    <tr>\n",
              "      <th>15</th>\n",
              "      <td>sum_number_of_startups</td>\n",
              "      <td>0.291039</td>\n",
              "    </tr>\n",
              "    <tr>\n",
              "      <th>16</th>\n",
              "      <td>sum_gender</td>\n",
              "      <td>0.894481</td>\n",
              "    </tr>\n",
              "    <tr>\n",
              "      <th>17</th>\n",
              "      <td>sum_foreing_studies</td>\n",
              "      <td>0.290242</td>\n",
              "    </tr>\n",
              "    <tr>\n",
              "      <th>18</th>\n",
              "      <td>sum_foreing_work_experience</td>\n",
              "      <td>0.280661</td>\n",
              "    </tr>\n",
              "    <tr>\n",
              "      <th>19</th>\n",
              "      <td>sum_foreing_founder</td>\n",
              "      <td>-0.038098</td>\n",
              "    </tr>\n",
              "    <tr>\n",
              "      <th>20</th>\n",
              "      <td>sum_dp_years_of_experience</td>\n",
              "      <td>-0.142693</td>\n",
              "    </tr>\n",
              "    <tr>\n",
              "      <th>21</th>\n",
              "      <td>sum_dp_years_of_experience_as_entreprenuer</td>\n",
              "      <td>0.030003</td>\n",
              "    </tr>\n",
              "  </tbody>\n",
              "</table>\n",
              "</div>"
            ],
            "text/plain": [
              "                                     Attribute  Importance\n",
              "0                               first_r_amount    1.610383\n",
              "1                        rounds_funding_factor    0.038972\n",
              "2                              dp_rounds_count   -0.662945\n",
              "3                         dp_rounds_amount_sum    2.168248\n",
              "4                         dp_rounds_amount_max   -0.474412\n",
              "5                         dp_last_round_amount    2.453691\n",
              "6                           dp_years_operating    1.112384\n",
              "7                              sum_manager_exp   -0.096682\n",
              "8                               sum_clevel_exp    0.185802\n",
              "9                          sum_engineering_exp   -1.211710\n",
              "10                               sum_sales_exp   -0.252984\n",
              "11                             sum_finance_exp   -0.073832\n",
              "12                       sum_human_capital_exp   -0.780384\n",
              "13                          sum_consulting_exp    0.190381\n",
              "14                             sum_founder_exp   -1.028706\n",
              "15                      sum_number_of_startups    0.291039\n",
              "16                                  sum_gender    0.894481\n",
              "17                         sum_foreing_studies    0.290242\n",
              "18                 sum_foreing_work_experience    0.280661\n",
              "19                         sum_foreing_founder   -0.038098\n",
              "20                  sum_dp_years_of_experience   -0.142693\n",
              "21  sum_dp_years_of_experience_as_entreprenuer    0.030003"
            ]
          },
          "metadata": {},
          "execution_count": 397
        }
      ]
    },
    {
      "cell_type": "code",
      "metadata": {
        "id": "cnL2yOCHEwPJ"
      },
      "source": [
        ""
      ],
      "execution_count": 397,
      "outputs": []
    },
    {
      "cell_type": "markdown",
      "metadata": {
        "id": "Ot4wRG3jDFlc"
      },
      "source": [
        "## Soonicorn"
      ]
    },
    {
      "cell_type": "markdown",
      "metadata": {
        "id": "q1fTQNvHDFlc"
      },
      "source": [
        "### Original"
      ]
    },
    {
      "cell_type": "code",
      "metadata": {
        "colab": {
          "base_uri": "https://localhost:8080/"
        },
        "id": "RLjTQom2DFlc",
        "outputId": "5777bfc4-f0f0-4c97-a4e4-7126749429ad"
      },
      "source": [
        "# 1. Define variables X and y\n",
        "\n",
        "X = X_columns # Independent\n",
        "y = db_companies_Encode_Model.soonicorn # Dependent\n",
        "\n",
        "print(X)\n",
        "print(y)"
      ],
      "execution_count": 352,
      "outputs": [
        {
          "output_type": "stream",
          "name": "stdout",
          "text": [
            "     first_r_amount  ...  sum_dp_years_of_experience_as_entreprenuer\n",
            "0           1400000  ...                                          15\n",
            "1             10500  ...                                           9\n",
            "2            200000  ...                                           2\n",
            "3            150000  ...                                           4\n",
            "4             20000  ...                                           0\n",
            "..              ...  ...                                         ...\n",
            "505          750000  ...                                          11\n",
            "506       225000000  ...                                           8\n",
            "507          130000  ...                                           4\n",
            "508          130000  ...                                           3\n",
            "509         4900000  ...                                           7\n",
            "\n",
            "[510 rows x 22 columns]\n",
            "0      0\n",
            "1      0\n",
            "2      0\n",
            "3      1\n",
            "4      0\n",
            "      ..\n",
            "505    0\n",
            "506    1\n",
            "507    0\n",
            "508    0\n",
            "509    0\n",
            "Name: soonicorn, Length: 510, dtype: int64\n"
          ]
        }
      ]
    },
    {
      "cell_type": "code",
      "metadata": {
        "id": "3W3XIU00DFld"
      },
      "source": [
        "# 2. Split the data\n",
        "\n",
        "from sklearn.model_selection import train_test_split\n",
        "\n",
        "# Split the preprocessed data into a training and testing dataset\n",
        "X_train, X_test, y_train, y_test = train_test_split(X, y, random_state=4281)"
      ],
      "execution_count": 353,
      "outputs": []
    },
    {
      "cell_type": "code",
      "metadata": {
        "colab": {
          "base_uri": "https://localhost:8080/"
        },
        "id": "WlcQsQJeDFld",
        "outputId": "36a818ca-8e14-43e3-f497-2caabd23af51"
      },
      "source": [
        "# 3. Choose your Logistic Regression\n",
        "from sklearn.linear_model import LogisticRegression\n",
        "classifier = LogisticRegression()\n",
        "classifier"
      ],
      "execution_count": 354,
      "outputs": [
        {
          "output_type": "execute_result",
          "data": {
            "text/plain": [
              "LogisticRegression()"
            ]
          },
          "metadata": {},
          "execution_count": 354
        }
      ]
    },
    {
      "cell_type": "code",
      "metadata": {
        "colab": {
          "base_uri": "https://localhost:8080/"
        },
        "id": "gFKP4pkmDFld",
        "outputId": "e9671d62-ef16-48f0-84fc-34a622afc63f"
      },
      "source": [
        "# 4. Train your model and define your prediction variable\n",
        "\n",
        "classifier.fit(X_train, y_train)\n",
        "y_pred=classifier.predict(X_test)\n",
        "y_pred"
      ],
      "execution_count": 355,
      "outputs": [
        {
          "output_type": "execute_result",
          "data": {
            "text/plain": [
              "array([1, 1, 1, 1, 1, 1, 1, 1, 1, 1, 1, 1, 1, 1, 1, 1, 1, 1, 1, 1, 1, 1,\n",
              "       1, 1, 1, 1, 1, 1, 1, 1, 1, 1, 1, 1, 1, 1, 1, 1, 1, 1, 1, 1, 1, 1,\n",
              "       1, 1, 1, 1, 1, 1, 1, 1, 1, 1, 1, 1, 1, 1, 1, 1, 1, 1, 1, 1, 1, 1,\n",
              "       1, 1, 1, 1, 1, 1, 1, 1, 1, 1, 1, 1, 1, 1, 1, 1, 1, 1, 1, 1, 1, 1,\n",
              "       1, 1, 1, 1, 1, 1, 1, 1, 1, 1, 1, 1, 1, 1, 1, 1, 1, 1, 1, 1, 1, 1,\n",
              "       1, 1, 1, 1, 1, 1, 1, 1, 1, 1, 1, 1, 1, 1, 1, 1, 1, 1])"
            ]
          },
          "metadata": {},
          "execution_count": 355
        }
      ]
    },
    {
      "cell_type": "code",
      "metadata": {
        "colab": {
          "base_uri": "https://localhost:8080/"
        },
        "id": "Lyksv8PfDFld",
        "outputId": "48088dae-23d6-43b0-bb09-a611ce80a63d"
      },
      "source": [
        "# 5. Statistics for your model\n",
        "\n",
        "# Scores for model\n",
        "training_score = classifier.score(X_train, y_train)\n",
        "testing_score = classifier.score(X_test, y_test)\n",
        "\n",
        "print(f\"Training Data Score: {training_score}\")\n",
        "print(f\"Testing Data Score: {testing_score}\")"
      ],
      "execution_count": 356,
      "outputs": [
        {
          "output_type": "stream",
          "name": "stdout",
          "text": [
            "Training Data Score: 0.07591623036649214\n",
            "Testing Data Score: 0.1015625\n"
          ]
        }
      ]
    },
    {
      "cell_type": "code",
      "metadata": {
        "colab": {
          "base_uri": "https://localhost:8080/",
          "height": 350
        },
        "id": "uGX4QFhNDFld",
        "outputId": "2580dafb-93c4-43c8-99f7-01b2590a804d"
      },
      "source": [
        "# 6. Confusion matrix\n",
        "\n",
        "confusion_matrix = pd.crosstab(y_test, y_pred, rownames=['Actual'], colnames=['Predicted'])\n",
        "sns.heatmap(confusion_matrix, annot=True)\n",
        "print(confusion_matrix)"
      ],
      "execution_count": 357,
      "outputs": [
        {
          "output_type": "stream",
          "name": "stdout",
          "text": [
            "Predicted    1\n",
            "Actual        \n",
            "0          115\n",
            "1           13\n"
          ]
        },
        {
          "output_type": "display_data",
          "data": {
            "image/png": "[encoded data removed]",
            "text/plain": [
              "<Figure size 432x288 with 2 Axes>"
            ]
          },
          "metadata": {
            "needs_background": "light"
          }
        }
      ]
    },
    {
      "cell_type": "code",
      "metadata": {
        "colab": {
          "base_uri": "https://localhost:8080/"
        },
        "id": "c_ycoF5ADFld",
        "outputId": "abc820c5-488c-4d73-eaf8-10b25cbf518d"
      },
      "source": [
        "# 7. Accuracy \n",
        "\n",
        "from sklearn.metrics import classification_report\n",
        "print(classification_report(y_test,y_pred))"
      ],
      "execution_count": 358,
      "outputs": [
        {
          "output_type": "stream",
          "name": "stdout",
          "text": [
            "              precision    recall  f1-score   support\n",
            "\n",
            "           0       0.00      0.00      0.00       115\n",
            "           1       0.10      1.00      0.18        13\n",
            "\n",
            "    accuracy                           0.10       128\n",
            "   macro avg       0.05      0.50      0.09       128\n",
            "weighted avg       0.01      0.10      0.02       128\n",
            "\n"
          ]
        },
        {
          "output_type": "stream",
          "name": "stderr",
          "text": [
            "/usr/local/lib/python3.7/dist-packages/sklearn/metrics/_classification.py:1308: UndefinedMetricWarning: Precision and F-score are ill-defined and being set to 0.0 in labels with no predicted samples. Use `zero_division` parameter to control this behavior.\n",
            "  _warn_prf(average, modifier, msg_start, len(result))\n",
            "/usr/local/lib/python3.7/dist-packages/sklearn/metrics/_classification.py:1308: UndefinedMetricWarning: Precision and F-score are ill-defined and being set to 0.0 in labels with no predicted samples. Use `zero_division` parameter to control this behavior.\n",
            "  _warn_prf(average, modifier, msg_start, len(result))\n",
            "/usr/local/lib/python3.7/dist-packages/sklearn/metrics/_classification.py:1308: UndefinedMetricWarning: Precision and F-score are ill-defined and being set to 0.0 in labels with no predicted samples. Use `zero_division` parameter to control this behavior.\n",
            "  _warn_prf(average, modifier, msg_start, len(result))\n"
          ]
        }
      ]
    },
    {
      "cell_type": "code",
      "metadata": {
        "colab": {
          "base_uri": "https://localhost:8080/",
          "height": 723
        },
        "id": "2poctXu3DFle",
        "outputId": "4094d8b3-7241-49c3-84af-12374ac8449e"
      },
      "source": [
        "# 8. Importances by variable\n",
        "\n",
        "importances = pd.DataFrame(data={\n",
        "    'Attribute': X_train.columns,\n",
        "    'Importance': classifier.coef_[0]\n",
        "})\n",
        "importances"
      ],
      "execution_count": 359,
      "outputs": [
        {
          "output_type": "execute_result",
          "data": {
            "text/html": [
              "<div>\n",
              "<style scoped>\n",
              "    .dataframe tbody tr th:only-of-type {\n",
              "        vertical-align: middle;\n",
              "    }\n",
              "\n",
              "    .dataframe tbody tr th {\n",
              "        vertical-align: top;\n",
              "    }\n",
              "\n",
              "    .dataframe thead th {\n",
              "        text-align: right;\n",
              "    }\n",
              "</style>\n",
              "<table border=\"1\" class=\"dataframe\">\n",
              "  <thead>\n",
              "    <tr style=\"text-align: right;\">\n",
              "      <th></th>\n",
              "      <th>Attribute</th>\n",
              "      <th>Importance</th>\n",
              "    </tr>\n",
              "  </thead>\n",
              "  <tbody>\n",
              "    <tr>\n",
              "      <th>0</th>\n",
              "      <td>first_r_amount</td>\n",
              "      <td>2.536416e-09</td>\n",
              "    </tr>\n",
              "    <tr>\n",
              "      <th>1</th>\n",
              "      <td>rounds_funding_factor</td>\n",
              "      <td>-1.936985e-12</td>\n",
              "    </tr>\n",
              "    <tr>\n",
              "      <th>2</th>\n",
              "      <td>dp_rounds_count</td>\n",
              "      <td>-1.267412e-12</td>\n",
              "    </tr>\n",
              "    <tr>\n",
              "      <th>3</th>\n",
              "      <td>dp_rounds_amount_sum</td>\n",
              "      <td>-4.093239e-10</td>\n",
              "    </tr>\n",
              "    <tr>\n",
              "      <th>4</th>\n",
              "      <td>dp_rounds_amount_max</td>\n",
              "      <td>4.849404e-08</td>\n",
              "    </tr>\n",
              "    <tr>\n",
              "      <th>5</th>\n",
              "      <td>dp_last_round_amount</td>\n",
              "      <td>-3.864733e-08</td>\n",
              "    </tr>\n",
              "    <tr>\n",
              "      <th>6</th>\n",
              "      <td>dp_years_operating</td>\n",
              "      <td>-6.074335e-13</td>\n",
              "    </tr>\n",
              "    <tr>\n",
              "      <th>7</th>\n",
              "      <td>sum_manager_exp</td>\n",
              "      <td>-4.179387e-13</td>\n",
              "    </tr>\n",
              "    <tr>\n",
              "      <th>8</th>\n",
              "      <td>sum_clevel_exp</td>\n",
              "      <td>-5.498104e-13</td>\n",
              "    </tr>\n",
              "    <tr>\n",
              "      <th>9</th>\n",
              "      <td>sum_engineering_exp</td>\n",
              "      <td>-1.493365e-13</td>\n",
              "    </tr>\n",
              "    <tr>\n",
              "      <th>10</th>\n",
              "      <td>sum_sales_exp</td>\n",
              "      <td>-8.526240e-14</td>\n",
              "    </tr>\n",
              "    <tr>\n",
              "      <th>11</th>\n",
              "      <td>sum_finance_exp</td>\n",
              "      <td>-7.216745e-14</td>\n",
              "    </tr>\n",
              "    <tr>\n",
              "      <th>12</th>\n",
              "      <td>sum_human_capital_exp</td>\n",
              "      <td>-2.023062e-14</td>\n",
              "    </tr>\n",
              "    <tr>\n",
              "      <th>13</th>\n",
              "      <td>sum_consulting_exp</td>\n",
              "      <td>-1.578679e-13</td>\n",
              "    </tr>\n",
              "    <tr>\n",
              "      <th>14</th>\n",
              "      <td>sum_founder_exp</td>\n",
              "      <td>-6.498037e-13</td>\n",
              "    </tr>\n",
              "    <tr>\n",
              "      <th>15</th>\n",
              "      <td>sum_number_of_startups</td>\n",
              "      <td>-1.458356e-12</td>\n",
              "    </tr>\n",
              "    <tr>\n",
              "      <th>16</th>\n",
              "      <td>sum_gender</td>\n",
              "      <td>-7.280814e-13</td>\n",
              "    </tr>\n",
              "    <tr>\n",
              "      <th>17</th>\n",
              "      <td>sum_foreing_studies</td>\n",
              "      <td>-3.889189e-13</td>\n",
              "    </tr>\n",
              "    <tr>\n",
              "      <th>18</th>\n",
              "      <td>sum_foreing_work_experience</td>\n",
              "      <td>-3.578918e-13</td>\n",
              "    </tr>\n",
              "    <tr>\n",
              "      <th>19</th>\n",
              "      <td>sum_foreing_founder</td>\n",
              "      <td>-2.280127e-13</td>\n",
              "    </tr>\n",
              "    <tr>\n",
              "      <th>20</th>\n",
              "      <td>sum_dp_years_of_experience</td>\n",
              "      <td>-7.997933e-12</td>\n",
              "    </tr>\n",
              "    <tr>\n",
              "      <th>21</th>\n",
              "      <td>sum_dp_years_of_experience_as_entreprenuer</td>\n",
              "      <td>-4.068422e-12</td>\n",
              "    </tr>\n",
              "  </tbody>\n",
              "</table>\n",
              "</div>"
            ],
            "text/plain": [
              "                                     Attribute    Importance\n",
              "0                               first_r_amount  2.536416e-09\n",
              "1                        rounds_funding_factor -1.936985e-12\n",
              "2                              dp_rounds_count -1.267412e-12\n",
              "3                         dp_rounds_amount_sum -4.093239e-10\n",
              "4                         dp_rounds_amount_max  4.849404e-08\n",
              "5                         dp_last_round_amount -3.864733e-08\n",
              "6                           dp_years_operating -6.074335e-13\n",
              "7                              sum_manager_exp -4.179387e-13\n",
              "8                               sum_clevel_exp -5.498104e-13\n",
              "9                          sum_engineering_exp -1.493365e-13\n",
              "10                               sum_sales_exp -8.526240e-14\n",
              "11                             sum_finance_exp -7.216745e-14\n",
              "12                       sum_human_capital_exp -2.023062e-14\n",
              "13                          sum_consulting_exp -1.578679e-13\n",
              "14                             sum_founder_exp -6.498037e-13\n",
              "15                      sum_number_of_startups -1.458356e-12\n",
              "16                                  sum_gender -7.280814e-13\n",
              "17                         sum_foreing_studies -3.889189e-13\n",
              "18                 sum_foreing_work_experience -3.578918e-13\n",
              "19                         sum_foreing_founder -2.280127e-13\n",
              "20                  sum_dp_years_of_experience -7.997933e-12\n",
              "21  sum_dp_years_of_experience_as_entreprenuer -4.068422e-12"
            ]
          },
          "metadata": {},
          "execution_count": 359
        }
      ]
    },
    {
      "cell_type": "markdown",
      "metadata": {
        "id": "BHLcv59ZDFle"
      },
      "source": [
        "### Standard"
      ]
    },
    {
      "cell_type": "code",
      "metadata": {
        "colab": {
          "base_uri": "https://localhost:8080/"
        },
        "id": "jtkHnBoNDFle",
        "outputId": "88ebc620-34e8-4c45-8d76-d048a15e372a"
      },
      "source": [
        "# 1. Define variables X and y\n",
        "\n",
        "X = X_columns_standard # Independent\n",
        "y = db_companies_Encode_Model.soonicorn # Dependent\n",
        "\n",
        "print(X)\n",
        "print(y)"
      ],
      "execution_count": 360,
      "outputs": [
        {
          "output_type": "stream",
          "name": "stdout",
          "text": [
            "     first_r_amount  ...  sum_dp_years_of_experience_as_entreprenuer\n",
            "0         -0.077119  ...                                    1.164139\n",
            "1         -0.131298  ...                                    0.341445\n",
            "2         -0.123909  ...                                   -0.618365\n",
            "3         -0.125859  ...                                   -0.344133\n",
            "4         -0.130928  ...                                   -0.892596\n",
            "..              ...  ...                                         ...\n",
            "505       -0.102464  ...                                    0.615676\n",
            "506        8.641500  ...                                    0.204329\n",
            "507       -0.126639  ...                                   -0.344133\n",
            "508       -0.126639  ...                                   -0.481249\n",
            "509        0.059353  ...                                    0.067214\n",
            "\n",
            "[510 rows x 22 columns]\n",
            "0      0\n",
            "1      0\n",
            "2      0\n",
            "3      1\n",
            "4      0\n",
            "      ..\n",
            "505    0\n",
            "506    1\n",
            "507    0\n",
            "508    0\n",
            "509    0\n",
            "Name: soonicorn, Length: 510, dtype: int64\n"
          ]
        }
      ]
    },
    {
      "cell_type": "code",
      "metadata": {
        "id": "Zc-s0eVRDFle"
      },
      "source": [
        "# 2. Split the data\n",
        "\n",
        "from sklearn.model_selection import train_test_split\n",
        "\n",
        "# Split the preprocessed data into a training and testing dataset\n",
        "X_train, X_test, y_train, y_test = train_test_split(X, y, random_state=4281)"
      ],
      "execution_count": 361,
      "outputs": []
    },
    {
      "cell_type": "code",
      "metadata": {
        "colab": {
          "base_uri": "https://localhost:8080/"
        },
        "id": "AkkJPlTxDFle",
        "outputId": "4992656c-92e6-45fb-bae6-f35e0d3a9f5d"
      },
      "source": [
        "# 3. Choose your Logistic Regression\n",
        "from sklearn.linear_model import LogisticRegression\n",
        "classifier = LogisticRegression()\n",
        "classifier"
      ],
      "execution_count": 362,
      "outputs": [
        {
          "output_type": "execute_result",
          "data": {
            "text/plain": [
              "LogisticRegression()"
            ]
          },
          "metadata": {},
          "execution_count": 362
        }
      ]
    },
    {
      "cell_type": "code",
      "metadata": {
        "colab": {
          "base_uri": "https://localhost:8080/"
        },
        "id": "im-z6DEpDFle",
        "outputId": "71ffdf70-685d-4d04-d085-2dc827b393b8"
      },
      "source": [
        "# 4. Train your model and define your prediction variable\n",
        "\n",
        "classifier.fit(X_train, y_train)\n",
        "y_pred=classifier.predict(X_test)\n",
        "y_pred"
      ],
      "execution_count": 363,
      "outputs": [
        {
          "output_type": "execute_result",
          "data": {
            "text/plain": [
              "array([1, 0, 0, 0, 1, 0, 1, 0, 0, 0, 0, 0, 0, 0, 0, 0, 0, 0, 0, 0, 0, 0,\n",
              "       0, 0, 0, 0, 0, 0, 0, 0, 0, 0, 0, 0, 0, 0, 0, 0, 1, 0, 0, 0, 0, 0,\n",
              "       0, 1, 0, 0, 0, 1, 0, 0, 0, 0, 0, 0, 0, 0, 0, 0, 0, 0, 0, 0, 0, 0,\n",
              "       0, 0, 0, 0, 0, 0, 0, 0, 0, 0, 1, 0, 0, 1, 0, 1, 1, 0, 0, 0, 0, 0,\n",
              "       0, 0, 0, 1, 0, 0, 0, 0, 0, 0, 0, 0, 0, 0, 1, 0, 0, 0, 0, 0, 0, 0,\n",
              "       0, 0, 0, 0, 0, 0, 0, 0, 0, 0, 0, 0, 0, 0, 0, 0, 0, 0])"
            ]
          },
          "metadata": {},
          "execution_count": 363
        }
      ]
    },
    {
      "cell_type": "code",
      "metadata": {
        "colab": {
          "base_uri": "https://localhost:8080/"
        },
        "id": "gfXjeL3-DFlf",
        "outputId": "cc7e839c-5f0e-4a48-f368-f027aeec8d83"
      },
      "source": [
        "# 5. Statistics for your model\n",
        "\n",
        "# Scores for model\n",
        "training_score = classifier.score(X_train, y_train)\n",
        "testing_score = classifier.score(X_test, y_test)\n",
        "\n",
        "print(f\"Training Data Score: {training_score}\")\n",
        "print(f\"Testing Data Score: {testing_score}\")"
      ],
      "execution_count": 364,
      "outputs": [
        {
          "output_type": "stream",
          "name": "stdout",
          "text": [
            "Training Data Score: 0.9790575916230366\n",
            "Testing Data Score: 0.9765625\n"
          ]
        }
      ]
    },
    {
      "cell_type": "code",
      "metadata": {
        "colab": {
          "base_uri": "https://localhost:8080/",
          "height": 350
        },
        "id": "ruJGnqSRDFlf",
        "outputId": "5dcdafe1-998c-4177-ac7c-436caacff953"
      },
      "source": [
        "# 6. Confusion matrix\n",
        "\n",
        "confusion_matrix = pd.crosstab(y_test, y_pred, rownames=['Actual'], colnames=['Predicted'])\n",
        "sns.heatmap(confusion_matrix, annot=True)\n",
        "print(confusion_matrix)"
      ],
      "execution_count": 365,
      "outputs": [
        {
          "output_type": "stream",
          "name": "stdout",
          "text": [
            "Predicted    0   1\n",
            "Actual            \n",
            "0          114   1\n",
            "1            2  11\n"
          ]
        },
        {
          "output_type": "display_data",
          "data": {
            "image/png": "[encoded data removed]",
            "text/plain": [
              "<Figure size 432x288 with 2 Axes>"
            ]
          },
          "metadata": {
            "needs_background": "light"
          }
        }
      ]
    },
    {
      "cell_type": "code",
      "metadata": {
        "colab": {
          "base_uri": "https://localhost:8080/"
        },
        "id": "MXGhDCEKDFlf",
        "outputId": "7854b39e-2667-4b7c-f153-cd394772c599"
      },
      "source": [
        "# 7. Accuracy \n",
        "\n",
        "from sklearn.metrics import classification_report\n",
        "print(classification_report(y_test,y_pred))"
      ],
      "execution_count": 366,
      "outputs": [
        {
          "output_type": "stream",
          "name": "stdout",
          "text": [
            "              precision    recall  f1-score   support\n",
            "\n",
            "           0       0.98      0.99      0.99       115\n",
            "           1       0.92      0.85      0.88        13\n",
            "\n",
            "    accuracy                           0.98       128\n",
            "   macro avg       0.95      0.92      0.93       128\n",
            "weighted avg       0.98      0.98      0.98       128\n",
            "\n"
          ]
        }
      ]
    },
    {
      "cell_type": "code",
      "metadata": {
        "colab": {
          "base_uri": "https://localhost:8080/",
          "height": 723
        },
        "id": "rwXo-mlKDFlf",
        "outputId": "ed72486c-fc79-42f1-9ba1-a26a63ae22dc"
      },
      "source": [
        "# 8. Importances by variable\n",
        "\n",
        "importances = pd.DataFrame(data={\n",
        "    'Attribute': X_train.columns,\n",
        "    'Importance': classifier.coef_[0]\n",
        "})\n",
        "importances"
      ],
      "execution_count": 367,
      "outputs": [
        {
          "output_type": "execute_result",
          "data": {
            "text/html": [
              "<div>\n",
              "<style scoped>\n",
              "    .dataframe tbody tr th:only-of-type {\n",
              "        vertical-align: middle;\n",
              "    }\n",
              "\n",
              "    .dataframe tbody tr th {\n",
              "        vertical-align: top;\n",
              "    }\n",
              "\n",
              "    .dataframe thead th {\n",
              "        text-align: right;\n",
              "    }\n",
              "</style>\n",
              "<table border=\"1\" class=\"dataframe\">\n",
              "  <thead>\n",
              "    <tr style=\"text-align: right;\">\n",
              "      <th></th>\n",
              "      <th>Attribute</th>\n",
              "      <th>Importance</th>\n",
              "    </tr>\n",
              "  </thead>\n",
              "  <tbody>\n",
              "    <tr>\n",
              "      <th>0</th>\n",
              "      <td>first_r_amount</td>\n",
              "      <td>0.956566</td>\n",
              "    </tr>\n",
              "    <tr>\n",
              "      <th>1</th>\n",
              "      <td>rounds_funding_factor</td>\n",
              "      <td>-0.469355</td>\n",
              "    </tr>\n",
              "    <tr>\n",
              "      <th>2</th>\n",
              "      <td>dp_rounds_count</td>\n",
              "      <td>-0.000223</td>\n",
              "    </tr>\n",
              "    <tr>\n",
              "      <th>3</th>\n",
              "      <td>dp_rounds_amount_sum</td>\n",
              "      <td>1.595275</td>\n",
              "    </tr>\n",
              "    <tr>\n",
              "      <th>4</th>\n",
              "      <td>dp_rounds_amount_max</td>\n",
              "      <td>1.695732</td>\n",
              "    </tr>\n",
              "    <tr>\n",
              "      <th>5</th>\n",
              "      <td>dp_last_round_amount</td>\n",
              "      <td>0.929711</td>\n",
              "    </tr>\n",
              "    <tr>\n",
              "      <th>6</th>\n",
              "      <td>dp_years_operating</td>\n",
              "      <td>-0.449493</td>\n",
              "    </tr>\n",
              "    <tr>\n",
              "      <th>7</th>\n",
              "      <td>sum_manager_exp</td>\n",
              "      <td>0.291512</td>\n",
              "    </tr>\n",
              "    <tr>\n",
              "      <th>8</th>\n",
              "      <td>sum_clevel_exp</td>\n",
              "      <td>0.074364</td>\n",
              "    </tr>\n",
              "    <tr>\n",
              "      <th>9</th>\n",
              "      <td>sum_engineering_exp</td>\n",
              "      <td>0.202618</td>\n",
              "    </tr>\n",
              "    <tr>\n",
              "      <th>10</th>\n",
              "      <td>sum_sales_exp</td>\n",
              "      <td>-0.584222</td>\n",
              "    </tr>\n",
              "    <tr>\n",
              "      <th>11</th>\n",
              "      <td>sum_finance_exp</td>\n",
              "      <td>-0.013660</td>\n",
              "    </tr>\n",
              "    <tr>\n",
              "      <th>12</th>\n",
              "      <td>sum_human_capital_exp</td>\n",
              "      <td>-0.162297</td>\n",
              "    </tr>\n",
              "    <tr>\n",
              "      <th>13</th>\n",
              "      <td>sum_consulting_exp</td>\n",
              "      <td>-0.147010</td>\n",
              "    </tr>\n",
              "    <tr>\n",
              "      <th>14</th>\n",
              "      <td>sum_founder_exp</td>\n",
              "      <td>0.132717</td>\n",
              "    </tr>\n",
              "    <tr>\n",
              "      <th>15</th>\n",
              "      <td>sum_number_of_startups</td>\n",
              "      <td>-0.164517</td>\n",
              "    </tr>\n",
              "    <tr>\n",
              "      <th>16</th>\n",
              "      <td>sum_gender</td>\n",
              "      <td>0.221183</td>\n",
              "    </tr>\n",
              "    <tr>\n",
              "      <th>17</th>\n",
              "      <td>sum_foreing_studies</td>\n",
              "      <td>-0.154991</td>\n",
              "    </tr>\n",
              "    <tr>\n",
              "      <th>18</th>\n",
              "      <td>sum_foreing_work_experience</td>\n",
              "      <td>-0.185722</td>\n",
              "    </tr>\n",
              "    <tr>\n",
              "      <th>19</th>\n",
              "      <td>sum_foreing_founder</td>\n",
              "      <td>-0.508256</td>\n",
              "    </tr>\n",
              "    <tr>\n",
              "      <th>20</th>\n",
              "      <td>sum_dp_years_of_experience</td>\n",
              "      <td>-0.162768</td>\n",
              "    </tr>\n",
              "    <tr>\n",
              "      <th>21</th>\n",
              "      <td>sum_dp_years_of_experience_as_entreprenuer</td>\n",
              "      <td>0.446834</td>\n",
              "    </tr>\n",
              "  </tbody>\n",
              "</table>\n",
              "</div>"
            ],
            "text/plain": [
              "                                     Attribute  Importance\n",
              "0                               first_r_amount    0.956566\n",
              "1                        rounds_funding_factor   -0.469355\n",
              "2                              dp_rounds_count   -0.000223\n",
              "3                         dp_rounds_amount_sum    1.595275\n",
              "4                         dp_rounds_amount_max    1.695732\n",
              "5                         dp_last_round_amount    0.929711\n",
              "6                           dp_years_operating   -0.449493\n",
              "7                              sum_manager_exp    0.291512\n",
              "8                               sum_clevel_exp    0.074364\n",
              "9                          sum_engineering_exp    0.202618\n",
              "10                               sum_sales_exp   -0.584222\n",
              "11                             sum_finance_exp   -0.013660\n",
              "12                       sum_human_capital_exp   -0.162297\n",
              "13                          sum_consulting_exp   -0.147010\n",
              "14                             sum_founder_exp    0.132717\n",
              "15                      sum_number_of_startups   -0.164517\n",
              "16                                  sum_gender    0.221183\n",
              "17                         sum_foreing_studies   -0.154991\n",
              "18                 sum_foreing_work_experience   -0.185722\n",
              "19                         sum_foreing_founder   -0.508256\n",
              "20                  sum_dp_years_of_experience   -0.162768\n",
              "21  sum_dp_years_of_experience_as_entreprenuer    0.446834"
            ]
          },
          "metadata": {},
          "execution_count": 367
        }
      ]
    },
    {
      "cell_type": "code",
      "metadata": {
        "id": "2FuwqC1uDFlh"
      },
      "source": [
        ""
      ],
      "execution_count": 367,
      "outputs": []
    },
    {
      "cell_type": "markdown",
      "metadata": {
        "id": "mbNbskHRDFlh"
      },
      "source": [
        "### Standard and oversampled balance"
      ]
    },
    {
      "cell_type": "code",
      "metadata": {
        "colab": {
          "base_uri": "https://localhost:8080/"
        },
        "id": "--dK2fuCDFlh",
        "outputId": "6ea2bbfd-ef50-4300-92cb-7bc307c7dc1f"
      },
      "source": [
        "# 1. Define variables X and y\n",
        "\n",
        "X = X_columns_standard # Independent\n",
        "y = db_companies_Encode_Model.soonicorn # Dependent\n",
        "\n",
        "print(X)\n",
        "print(y)"
      ],
      "execution_count": 368,
      "outputs": [
        {
          "output_type": "stream",
          "name": "stdout",
          "text": [
            "     first_r_amount  ...  sum_dp_years_of_experience_as_entreprenuer\n",
            "0         -0.077119  ...                                    1.164139\n",
            "1         -0.131298  ...                                    0.341445\n",
            "2         -0.123909  ...                                   -0.618365\n",
            "3         -0.125859  ...                                   -0.344133\n",
            "4         -0.130928  ...                                   -0.892596\n",
            "..              ...  ...                                         ...\n",
            "505       -0.102464  ...                                    0.615676\n",
            "506        8.641500  ...                                    0.204329\n",
            "507       -0.126639  ...                                   -0.344133\n",
            "508       -0.126639  ...                                   -0.481249\n",
            "509        0.059353  ...                                    0.067214\n",
            "\n",
            "[510 rows x 22 columns]\n",
            "0      0\n",
            "1      0\n",
            "2      0\n",
            "3      1\n",
            "4      0\n",
            "      ..\n",
            "505    0\n",
            "506    1\n",
            "507    0\n",
            "508    0\n",
            "509    0\n",
            "Name: soonicorn, Length: 510, dtype: int64\n"
          ]
        }
      ]
    },
    {
      "cell_type": "code",
      "metadata": {
        "id": "rIVF_QeODFlh"
      },
      "source": [
        "# 2. Split the data\n",
        "\n",
        "from sklearn.model_selection import train_test_split\n",
        "\n",
        "# Split the preprocessed data into a training and testing dataset\n",
        "X_train, X_test, y_train, y_test = train_test_split(X, y, random_state=4281)"
      ],
      "execution_count": 369,
      "outputs": []
    },
    {
      "cell_type": "markdown",
      "metadata": {
        "id": "bIAVvz43DFlh"
      },
      "source": [
        "Over sampling"
      ]
    },
    {
      "cell_type": "code",
      "metadata": {
        "colab": {
          "base_uri": "https://localhost:8080/"
        },
        "id": "niJwMDaiDFlh",
        "outputId": "97a13d0e-b52c-4ad5-bdde-dfcb1033b153"
      },
      "source": [
        "# Making balance w/over sampling\n",
        "from collections import Counter\n",
        "from imblearn.over_sampling import RandomOverSampler\n",
        "from sklearn.datasets import make_classification\n",
        "\n",
        "X_train=np.array(X_train)\n",
        "\n",
        "ros = RandomOverSampler(random_state=1)\n",
        "X_resampled, y_resampled = ros.fit_resample(X_train, y_train)\n",
        "\n",
        "from collections import Counter\n",
        "print(sorted(Counter(y_resampled).items()))"
      ],
      "execution_count": 370,
      "outputs": [
        {
          "output_type": "stream",
          "name": "stdout",
          "text": [
            "[(0, 353), (1, 353)]\n"
          ]
        }
      ]
    },
    {
      "cell_type": "markdown",
      "metadata": {
        "id": "sld6qPhFDFlh"
      },
      "source": [
        "Modeling"
      ]
    },
    {
      "cell_type": "code",
      "metadata": {
        "id": "uLuBa0SODFli"
      },
      "source": [
        "X_resampled = pd.DataFrame(X_resampled)"
      ],
      "execution_count": 371,
      "outputs": []
    },
    {
      "cell_type": "code",
      "metadata": {
        "colab": {
          "base_uri": "https://localhost:8080/"
        },
        "id": "cxu8k-ZDDFli",
        "outputId": "7a4e4f54-1b5a-4bf7-8c10-4912c2b7deb1"
      },
      "source": [
        "# 3. Choose your Logistic Regression\n",
        "from sklearn.linear_model import LogisticRegression\n",
        "classifier = LogisticRegression()\n",
        "classifier"
      ],
      "execution_count": 372,
      "outputs": [
        {
          "output_type": "execute_result",
          "data": {
            "text/plain": [
              "LogisticRegression()"
            ]
          },
          "metadata": {},
          "execution_count": 372
        }
      ]
    },
    {
      "cell_type": "code",
      "metadata": {
        "colab": {
          "base_uri": "https://localhost:8080/"
        },
        "id": "uE6CR4j1DFli",
        "outputId": "1069e0f0-b9cb-4186-a85c-acda4c3c04b2"
      },
      "source": [
        "# 4. Train your model and define your prediction variable\n",
        "\n",
        "classifier.fit(X_resampled, y_resampled)\n",
        "y_pred=classifier.predict(X_test)\n",
        "y_pred"
      ],
      "execution_count": 373,
      "outputs": [
        {
          "output_type": "stream",
          "name": "stderr",
          "text": [
            "/usr/local/lib/python3.7/dist-packages/sklearn/base.py:439: UserWarning: X has feature names, but LogisticRegression was fitted without feature names\n",
            "  f\"X has feature names, but {self.__class__.__name__} was fitted without\"\n"
          ]
        },
        {
          "output_type": "execute_result",
          "data": {
            "text/plain": [
              "array([1, 0, 0, 0, 1, 0, 1, 0, 0, 1, 0, 0, 0, 0, 0, 0, 0, 0, 0, 0, 0, 1,\n",
              "       0, 0, 0, 0, 0, 0, 0, 0, 0, 0, 0, 0, 0, 0, 0, 0, 1, 0, 0, 0, 0, 0,\n",
              "       0, 1, 0, 0, 0, 1, 0, 0, 0, 0, 0, 0, 0, 0, 0, 0, 0, 0, 0, 0, 0, 0,\n",
              "       0, 0, 0, 0, 0, 0, 0, 0, 0, 0, 1, 0, 0, 1, 0, 1, 1, 0, 0, 0, 0, 0,\n",
              "       0, 0, 0, 1, 0, 0, 0, 0, 0, 0, 0, 0, 0, 0, 1, 0, 0, 0, 0, 0, 0, 0,\n",
              "       1, 0, 0, 0, 1, 0, 0, 0, 0, 0, 0, 0, 0, 0, 0, 0, 0, 0])"
            ]
          },
          "metadata": {},
          "execution_count": 373
        }
      ]
    },
    {
      "cell_type": "code",
      "metadata": {
        "colab": {
          "base_uri": "https://localhost:8080/"
        },
        "id": "yF353-SWDFli",
        "outputId": "6545bf1e-109e-44e0-cdc3-3040668e9824"
      },
      "source": [
        "# 5. Statistics for your model\n",
        "\n",
        "# Scores for model\n",
        "training_score = classifier.score(X_resampled, y_resampled)\n",
        "testing_score = classifier.score(X_test, y_test)\n",
        "\n",
        "print(f\"Training Data Score: {training_score}\")\n",
        "print(f\"Testing Data Score: {testing_score}\")"
      ],
      "execution_count": 374,
      "outputs": [
        {
          "output_type": "stream",
          "name": "stdout",
          "text": [
            "Training Data Score: 0.9376770538243626\n",
            "Testing Data Score: 0.9453125\n"
          ]
        },
        {
          "output_type": "stream",
          "name": "stderr",
          "text": [
            "/usr/local/lib/python3.7/dist-packages/sklearn/base.py:439: UserWarning: X has feature names, but LogisticRegression was fitted without feature names\n",
            "  f\"X has feature names, but {self.__class__.__name__} was fitted without\"\n"
          ]
        }
      ]
    },
    {
      "cell_type": "code",
      "metadata": {
        "colab": {
          "base_uri": "https://localhost:8080/",
          "height": 350
        },
        "id": "FyZ5WbTgDFli",
        "outputId": "fed97776-3005-4b26-a3f7-86ed53749c60"
      },
      "source": [
        "# 6. Confusion matrix\n",
        "\n",
        "confusion_matrix = pd.crosstab(y_test, y_pred, rownames=['Actual'], colnames=['Predicted'])\n",
        "sns.heatmap(confusion_matrix, annot=True)\n",
        "print(confusion_matrix)"
      ],
      "execution_count": 375,
      "outputs": [
        {
          "output_type": "stream",
          "name": "stdout",
          "text": [
            "Predicted    0   1\n",
            "Actual            \n",
            "0          110   5\n",
            "1            2  11\n"
          ]
        },
        {
          "output_type": "display_data",
          "data": {
            "image/png": "[encoded data removed]",
            "text/plain": [
              "<Figure size 432x288 with 2 Axes>"
            ]
          },
          "metadata": {
            "needs_background": "light"
          }
        }
      ]
    },
    {
      "cell_type": "code",
      "metadata": {
        "colab": {
          "base_uri": "https://localhost:8080/"
        },
        "id": "39V8cccqDFli",
        "outputId": "e7236401-93a1-4926-d5b4-989c28e3eec3"
      },
      "source": [
        "# 7. Accuracy \n",
        "\n",
        "from sklearn.metrics import classification_report\n",
        "print(classification_report(y_test,y_pred))"
      ],
      "execution_count": 376,
      "outputs": [
        {
          "output_type": "stream",
          "name": "stdout",
          "text": [
            "              precision    recall  f1-score   support\n",
            "\n",
            "           0       0.98      0.96      0.97       115\n",
            "           1       0.69      0.85      0.76        13\n",
            "\n",
            "    accuracy                           0.95       128\n",
            "   macro avg       0.83      0.90      0.86       128\n",
            "weighted avg       0.95      0.95      0.95       128\n",
            "\n"
          ]
        }
      ]
    },
    {
      "cell_type": "code",
      "metadata": {
        "colab": {
          "base_uri": "https://localhost:8080/",
          "height": 723
        },
        "id": "PHmo20P5DFlj",
        "outputId": "6c657853-e293-4d73-8ea7-6150d07a422b"
      },
      "source": [
        "# 8. Importances by variable\n",
        "\n",
        "importances = pd.DataFrame(data={\n",
        "    'Attribute': X_columns.columns,\n",
        "    'Importance': classifier.coef_[0]\n",
        "})\n",
        "importances"
      ],
      "execution_count": 377,
      "outputs": [
        {
          "output_type": "execute_result",
          "data": {
            "text/html": [
              "<div>\n",
              "<style scoped>\n",
              "    .dataframe tbody tr th:only-of-type {\n",
              "        vertical-align: middle;\n",
              "    }\n",
              "\n",
              "    .dataframe tbody tr th {\n",
              "        vertical-align: top;\n",
              "    }\n",
              "\n",
              "    .dataframe thead th {\n",
              "        text-align: right;\n",
              "    }\n",
              "</style>\n",
              "<table border=\"1\" class=\"dataframe\">\n",
              "  <thead>\n",
              "    <tr style=\"text-align: right;\">\n",
              "      <th></th>\n",
              "      <th>Attribute</th>\n",
              "      <th>Importance</th>\n",
              "    </tr>\n",
              "  </thead>\n",
              "  <tbody>\n",
              "    <tr>\n",
              "      <th>0</th>\n",
              "      <td>first_r_amount</td>\n",
              "      <td>3.863241</td>\n",
              "    </tr>\n",
              "    <tr>\n",
              "      <th>1</th>\n",
              "      <td>rounds_funding_factor</td>\n",
              "      <td>-1.173786</td>\n",
              "    </tr>\n",
              "    <tr>\n",
              "      <th>2</th>\n",
              "      <td>dp_rounds_count</td>\n",
              "      <td>-0.244634</td>\n",
              "    </tr>\n",
              "    <tr>\n",
              "      <th>3</th>\n",
              "      <td>dp_rounds_amount_sum</td>\n",
              "      <td>2.604460</td>\n",
              "    </tr>\n",
              "    <tr>\n",
              "      <th>4</th>\n",
              "      <td>dp_rounds_amount_max</td>\n",
              "      <td>1.940179</td>\n",
              "    </tr>\n",
              "    <tr>\n",
              "      <th>5</th>\n",
              "      <td>dp_last_round_amount</td>\n",
              "      <td>1.251383</td>\n",
              "    </tr>\n",
              "    <tr>\n",
              "      <th>6</th>\n",
              "      <td>dp_years_operating</td>\n",
              "      <td>-0.977506</td>\n",
              "    </tr>\n",
              "    <tr>\n",
              "      <th>7</th>\n",
              "      <td>sum_manager_exp</td>\n",
              "      <td>0.584278</td>\n",
              "    </tr>\n",
              "    <tr>\n",
              "      <th>8</th>\n",
              "      <td>sum_clevel_exp</td>\n",
              "      <td>0.043689</td>\n",
              "    </tr>\n",
              "    <tr>\n",
              "      <th>9</th>\n",
              "      <td>sum_engineering_exp</td>\n",
              "      <td>0.284414</td>\n",
              "    </tr>\n",
              "    <tr>\n",
              "      <th>10</th>\n",
              "      <td>sum_sales_exp</td>\n",
              "      <td>-1.189316</td>\n",
              "    </tr>\n",
              "    <tr>\n",
              "      <th>11</th>\n",
              "      <td>sum_finance_exp</td>\n",
              "      <td>-0.059596</td>\n",
              "    </tr>\n",
              "    <tr>\n",
              "      <th>12</th>\n",
              "      <td>sum_human_capital_exp</td>\n",
              "      <td>-0.323965</td>\n",
              "    </tr>\n",
              "    <tr>\n",
              "      <th>13</th>\n",
              "      <td>sum_consulting_exp</td>\n",
              "      <td>-0.077376</td>\n",
              "    </tr>\n",
              "    <tr>\n",
              "      <th>14</th>\n",
              "      <td>sum_founder_exp</td>\n",
              "      <td>-0.139238</td>\n",
              "    </tr>\n",
              "    <tr>\n",
              "      <th>15</th>\n",
              "      <td>sum_number_of_startups</td>\n",
              "      <td>-0.429449</td>\n",
              "    </tr>\n",
              "    <tr>\n",
              "      <th>16</th>\n",
              "      <td>sum_gender</td>\n",
              "      <td>0.500214</td>\n",
              "    </tr>\n",
              "    <tr>\n",
              "      <th>17</th>\n",
              "      <td>sum_foreing_studies</td>\n",
              "      <td>-0.215885</td>\n",
              "    </tr>\n",
              "    <tr>\n",
              "      <th>18</th>\n",
              "      <td>sum_foreing_work_experience</td>\n",
              "      <td>0.209387</td>\n",
              "    </tr>\n",
              "    <tr>\n",
              "      <th>19</th>\n",
              "      <td>sum_foreing_founder</td>\n",
              "      <td>-1.316959</td>\n",
              "    </tr>\n",
              "    <tr>\n",
              "      <th>20</th>\n",
              "      <td>sum_dp_years_of_experience</td>\n",
              "      <td>-0.358084</td>\n",
              "    </tr>\n",
              "    <tr>\n",
              "      <th>21</th>\n",
              "      <td>sum_dp_years_of_experience_as_entreprenuer</td>\n",
              "      <td>0.792307</td>\n",
              "    </tr>\n",
              "  </tbody>\n",
              "</table>\n",
              "</div>"
            ],
            "text/plain": [
              "                                     Attribute  Importance\n",
              "0                               first_r_amount    3.863241\n",
              "1                        rounds_funding_factor   -1.173786\n",
              "2                              dp_rounds_count   -0.244634\n",
              "3                         dp_rounds_amount_sum    2.604460\n",
              "4                         dp_rounds_amount_max    1.940179\n",
              "5                         dp_last_round_amount    1.251383\n",
              "6                           dp_years_operating   -0.977506\n",
              "7                              sum_manager_exp    0.584278\n",
              "8                               sum_clevel_exp    0.043689\n",
              "9                          sum_engineering_exp    0.284414\n",
              "10                               sum_sales_exp   -1.189316\n",
              "11                             sum_finance_exp   -0.059596\n",
              "12                       sum_human_capital_exp   -0.323965\n",
              "13                          sum_consulting_exp   -0.077376\n",
              "14                             sum_founder_exp   -0.139238\n",
              "15                      sum_number_of_startups   -0.429449\n",
              "16                                  sum_gender    0.500214\n",
              "17                         sum_foreing_studies   -0.215885\n",
              "18                 sum_foreing_work_experience    0.209387\n",
              "19                         sum_foreing_founder   -1.316959\n",
              "20                  sum_dp_years_of_experience   -0.358084\n",
              "21  sum_dp_years_of_experience_as_entreprenuer    0.792307"
            ]
          },
          "metadata": {},
          "execution_count": 377
        }
      ]
    },
    {
      "cell_type": "markdown",
      "metadata": {
        "id": "357IvMDGDFlj"
      },
      "source": [
        "### Standard and undersampled balance"
      ]
    },
    {
      "cell_type": "code",
      "metadata": {
        "colab": {
          "base_uri": "https://localhost:8080/"
        },
        "id": "jHy2qnXvDFlj",
        "outputId": "e292a32a-b016-423b-fe67-75f5d484dd5e"
      },
      "source": [
        "# 1. Define variables X and y\n",
        "\n",
        "X = X_columns_standard # Independent\n",
        "y = db_companies_Encode_Model.soonicorn # Dependent\n",
        "\n",
        "print(X)\n",
        "print(y)"
      ],
      "execution_count": 378,
      "outputs": [
        {
          "output_type": "stream",
          "name": "stdout",
          "text": [
            "     first_r_amount  ...  sum_dp_years_of_experience_as_entreprenuer\n",
            "0         -0.077119  ...                                    1.164139\n",
            "1         -0.131298  ...                                    0.341445\n",
            "2         -0.123909  ...                                   -0.618365\n",
            "3         -0.125859  ...                                   -0.344133\n",
            "4         -0.130928  ...                                   -0.892596\n",
            "..              ...  ...                                         ...\n",
            "505       -0.102464  ...                                    0.615676\n",
            "506        8.641500  ...                                    0.204329\n",
            "507       -0.126639  ...                                   -0.344133\n",
            "508       -0.126639  ...                                   -0.481249\n",
            "509        0.059353  ...                                    0.067214\n",
            "\n",
            "[510 rows x 22 columns]\n",
            "0      0\n",
            "1      0\n",
            "2      0\n",
            "3      1\n",
            "4      0\n",
            "      ..\n",
            "505    0\n",
            "506    1\n",
            "507    0\n",
            "508    0\n",
            "509    0\n",
            "Name: soonicorn, Length: 510, dtype: int64\n"
          ]
        }
      ]
    },
    {
      "cell_type": "code",
      "metadata": {
        "id": "7RkGa_WyDFlj"
      },
      "source": [
        "# 2. Split the data\n",
        "\n",
        "from sklearn.model_selection import train_test_split\n",
        "\n",
        "# Split the preprocessed data into a training and testing dataset\n",
        "X_train, X_test, y_train, y_test = train_test_split(X, y, random_state=4281)"
      ],
      "execution_count": 379,
      "outputs": []
    },
    {
      "cell_type": "markdown",
      "metadata": {
        "id": "vDcgYa1cDFlj"
      },
      "source": [
        "Under sampling"
      ]
    },
    {
      "cell_type": "code",
      "metadata": {
        "colab": {
          "base_uri": "https://localhost:8080/"
        },
        "id": "vjZtXn_ODFlj",
        "outputId": "58eee419-91dc-44ad-a35c-979ab6102aa7"
      },
      "source": [
        "# Making balance w/over sampling\n",
        "from collections import Counter\n",
        "from imblearn.under_sampling import RandomUnderSampler\n",
        "from sklearn.datasets import make_classification\n",
        "\n",
        "X_train=np.array(X_train)\n",
        "\n",
        "ros = RandomUnderSampler(random_state=1)\n",
        "X_resampled, y_resampled = ros.fit_resample(X_train, y_train)\n",
        "\n",
        "from collections import Counter\n",
        "print(sorted(Counter(y_resampled).items()))"
      ],
      "execution_count": 380,
      "outputs": [
        {
          "output_type": "stream",
          "name": "stdout",
          "text": [
            "[(0, 29), (1, 29)]\n"
          ]
        }
      ]
    },
    {
      "cell_type": "markdown",
      "metadata": {
        "id": "YkB2vM7JDFlj"
      },
      "source": [
        "Modeling"
      ]
    },
    {
      "cell_type": "code",
      "metadata": {
        "id": "hO0_5n1XDFlk"
      },
      "source": [
        "X_resampled = pd.DataFrame(X_resampled)"
      ],
      "execution_count": 381,
      "outputs": []
    },
    {
      "cell_type": "code",
      "metadata": {
        "colab": {
          "base_uri": "https://localhost:8080/"
        },
        "id": "DkLiQZH0DFll",
        "outputId": "e28e7c35-92a4-4631-a3e4-ecda311ea4d7"
      },
      "source": [
        "# 3. Choose your Logistic Regression\n",
        "from sklearn.linear_model import LogisticRegression\n",
        "classifier = LogisticRegression()\n",
        "classifier"
      ],
      "execution_count": 382,
      "outputs": [
        {
          "output_type": "execute_result",
          "data": {
            "text/plain": [
              "LogisticRegression()"
            ]
          },
          "metadata": {},
          "execution_count": 382
        }
      ]
    },
    {
      "cell_type": "code",
      "metadata": {
        "colab": {
          "base_uri": "https://localhost:8080/"
        },
        "id": "DQSRxEn-DFll",
        "outputId": "bdce68d1-72dd-4261-f957-9c0cc3349bed"
      },
      "source": [
        "# 4. Train your model and define your prediction variable\n",
        "\n",
        "classifier.fit(X_resampled, y_resampled)\n",
        "y_pred=classifier.predict(X_test)\n",
        "y_pred"
      ],
      "execution_count": 383,
      "outputs": [
        {
          "output_type": "stream",
          "name": "stderr",
          "text": [
            "/usr/local/lib/python3.7/dist-packages/sklearn/base.py:439: UserWarning: X has feature names, but LogisticRegression was fitted without feature names\n",
            "  f\"X has feature names, but {self.__class__.__name__} was fitted without\"\n"
          ]
        },
        {
          "output_type": "execute_result",
          "data": {
            "text/plain": [
              "array([1, 1, 0, 0, 1, 0, 1, 0, 0, 1, 0, 0, 0, 0, 0, 0, 0, 0, 0, 0, 1, 1,\n",
              "       0, 0, 0, 0, 0, 0, 0, 0, 0, 0, 1, 0, 0, 0, 0, 0, 1, 0, 0, 0, 0, 0,\n",
              "       0, 1, 0, 0, 0, 1, 0, 0, 0, 0, 0, 0, 0, 0, 0, 0, 0, 0, 0, 0, 0, 0,\n",
              "       0, 0, 0, 0, 0, 0, 0, 0, 0, 0, 1, 0, 0, 1, 0, 1, 1, 0, 0, 0, 0, 0,\n",
              "       0, 0, 0, 1, 0, 0, 0, 0, 1, 0, 0, 0, 0, 0, 1, 0, 0, 0, 0, 0, 0, 0,\n",
              "       0, 0, 0, 0, 0, 0, 1, 0, 0, 0, 0, 0, 0, 0, 0, 0, 1, 0])"
            ]
          },
          "metadata": {},
          "execution_count": 383
        }
      ]
    },
    {
      "cell_type": "code",
      "metadata": {
        "colab": {
          "base_uri": "https://localhost:8080/"
        },
        "id": "dEuQ6K0cDFll",
        "outputId": "74dbb2c9-d5ef-4e14-a2c3-4dc07ada582d"
      },
      "source": [
        "# 5. Statistics for your model\n",
        "\n",
        "# Scores for model\n",
        "training_score = classifier.score(X_resampled, y_resampled)\n",
        "testing_score = classifier.score(X_test, y_test)\n",
        "\n",
        "print(f\"Training Data Score: {training_score}\")\n",
        "print(f\"Testing Data Score: {testing_score}\")"
      ],
      "execution_count": 384,
      "outputs": [
        {
          "output_type": "stream",
          "name": "stdout",
          "text": [
            "Training Data Score: 0.9482758620689655\n",
            "Testing Data Score: 0.9140625\n"
          ]
        },
        {
          "output_type": "stream",
          "name": "stderr",
          "text": [
            "/usr/local/lib/python3.7/dist-packages/sklearn/base.py:439: UserWarning: X has feature names, but LogisticRegression was fitted without feature names\n",
            "  f\"X has feature names, but {self.__class__.__name__} was fitted without\"\n"
          ]
        }
      ]
    },
    {
      "cell_type": "code",
      "metadata": {
        "colab": {
          "base_uri": "https://localhost:8080/",
          "height": 350
        },
        "id": "DuxOA_EPDFll",
        "outputId": "41a28db5-a8f5-4656-baf6-59509334ed16"
      },
      "source": [
        "# 6. Confusion matrix\n",
        "\n",
        "confusion_matrix = pd.crosstab(y_test, y_pred, rownames=['Actual'], colnames=['Predicted'])\n",
        "sns.heatmap(confusion_matrix, annot=True)\n",
        "print(confusion_matrix)"
      ],
      "execution_count": 385,
      "outputs": [
        {
          "output_type": "stream",
          "name": "stdout",
          "text": [
            "Predicted    0   1\n",
            "Actual            \n",
            "0          106   9\n",
            "1            2  11\n"
          ]
        },
        {
          "output_type": "display_data",
          "data": {
            "image/png": "[encoded data removed]",
            "text/plain": [
              "<Figure size 432x288 with 2 Axes>"
            ]
          },
          "metadata": {
            "needs_background": "light"
          }
        }
      ]
    },
    {
      "cell_type": "code",
      "metadata": {
        "colab": {
          "base_uri": "https://localhost:8080/"
        },
        "id": "G_LHdU8xDFlm",
        "outputId": "9229e01c-7752-498d-fe2e-42391b954b5a"
      },
      "source": [
        "# 7. Accuracy \n",
        "\n",
        "from sklearn.metrics import classification_report\n",
        "print(classification_report(y_test,y_pred))"
      ],
      "execution_count": 386,
      "outputs": [
        {
          "output_type": "stream",
          "name": "stdout",
          "text": [
            "              precision    recall  f1-score   support\n",
            "\n",
            "           0       0.98      0.92      0.95       115\n",
            "           1       0.55      0.85      0.67        13\n",
            "\n",
            "    accuracy                           0.91       128\n",
            "   macro avg       0.77      0.88      0.81       128\n",
            "weighted avg       0.94      0.91      0.92       128\n",
            "\n"
          ]
        }
      ]
    },
    {
      "cell_type": "code",
      "metadata": {
        "colab": {
          "base_uri": "https://localhost:8080/",
          "height": 723
        },
        "id": "0KHG53tmDFlm",
        "outputId": "87c3bf1c-2dff-4f57-cb4f-afe10bdd4514"
      },
      "source": [
        "# 8. Importances by variable\n",
        "\n",
        "importances = pd.DataFrame(data={\n",
        "    'Attribute': X_columns.columns,\n",
        "    'Importance': classifier.coef_[0]\n",
        "})\n",
        "importances"
      ],
      "execution_count": 387,
      "outputs": [
        {
          "output_type": "execute_result",
          "data": {
            "text/html": [
              "<div>\n",
              "<style scoped>\n",
              "    .dataframe tbody tr th:only-of-type {\n",
              "        vertical-align: middle;\n",
              "    }\n",
              "\n",
              "    .dataframe tbody tr th {\n",
              "        vertical-align: top;\n",
              "    }\n",
              "\n",
              "    .dataframe thead th {\n",
              "        text-align: right;\n",
              "    }\n",
              "</style>\n",
              "<table border=\"1\" class=\"dataframe\">\n",
              "  <thead>\n",
              "    <tr style=\"text-align: right;\">\n",
              "      <th></th>\n",
              "      <th>Attribute</th>\n",
              "      <th>Importance</th>\n",
              "    </tr>\n",
              "  </thead>\n",
              "  <tbody>\n",
              "    <tr>\n",
              "      <th>0</th>\n",
              "      <td>first_r_amount</td>\n",
              "      <td>0.789428</td>\n",
              "    </tr>\n",
              "    <tr>\n",
              "      <th>1</th>\n",
              "      <td>rounds_funding_factor</td>\n",
              "      <td>-0.645300</td>\n",
              "    </tr>\n",
              "    <tr>\n",
              "      <th>2</th>\n",
              "      <td>dp_rounds_count</td>\n",
              "      <td>-0.229378</td>\n",
              "    </tr>\n",
              "    <tr>\n",
              "      <th>3</th>\n",
              "      <td>dp_rounds_amount_sum</td>\n",
              "      <td>1.209764</td>\n",
              "    </tr>\n",
              "    <tr>\n",
              "      <th>4</th>\n",
              "      <td>dp_rounds_amount_max</td>\n",
              "      <td>1.267800</td>\n",
              "    </tr>\n",
              "    <tr>\n",
              "      <th>5</th>\n",
              "      <td>dp_last_round_amount</td>\n",
              "      <td>0.909009</td>\n",
              "    </tr>\n",
              "    <tr>\n",
              "      <th>6</th>\n",
              "      <td>dp_years_operating</td>\n",
              "      <td>-0.450036</td>\n",
              "    </tr>\n",
              "    <tr>\n",
              "      <th>7</th>\n",
              "      <td>sum_manager_exp</td>\n",
              "      <td>0.441822</td>\n",
              "    </tr>\n",
              "    <tr>\n",
              "      <th>8</th>\n",
              "      <td>sum_clevel_exp</td>\n",
              "      <td>-0.037647</td>\n",
              "    </tr>\n",
              "    <tr>\n",
              "      <th>9</th>\n",
              "      <td>sum_engineering_exp</td>\n",
              "      <td>-0.229395</td>\n",
              "    </tr>\n",
              "    <tr>\n",
              "      <th>10</th>\n",
              "      <td>sum_sales_exp</td>\n",
              "      <td>-0.674725</td>\n",
              "    </tr>\n",
              "    <tr>\n",
              "      <th>11</th>\n",
              "      <td>sum_finance_exp</td>\n",
              "      <td>0.088403</td>\n",
              "    </tr>\n",
              "    <tr>\n",
              "      <th>12</th>\n",
              "      <td>sum_human_capital_exp</td>\n",
              "      <td>-0.106032</td>\n",
              "    </tr>\n",
              "    <tr>\n",
              "      <th>13</th>\n",
              "      <td>sum_consulting_exp</td>\n",
              "      <td>0.314350</td>\n",
              "    </tr>\n",
              "    <tr>\n",
              "      <th>14</th>\n",
              "      <td>sum_founder_exp</td>\n",
              "      <td>-0.288460</td>\n",
              "    </tr>\n",
              "    <tr>\n",
              "      <th>15</th>\n",
              "      <td>sum_number_of_startups</td>\n",
              "      <td>0.386341</td>\n",
              "    </tr>\n",
              "    <tr>\n",
              "      <th>16</th>\n",
              "      <td>sum_gender</td>\n",
              "      <td>0.203994</td>\n",
              "    </tr>\n",
              "    <tr>\n",
              "      <th>17</th>\n",
              "      <td>sum_foreing_studies</td>\n",
              "      <td>0.042566</td>\n",
              "    </tr>\n",
              "    <tr>\n",
              "      <th>18</th>\n",
              "      <td>sum_foreing_work_experience</td>\n",
              "      <td>-0.214241</td>\n",
              "    </tr>\n",
              "    <tr>\n",
              "      <th>19</th>\n",
              "      <td>sum_foreing_founder</td>\n",
              "      <td>-0.584768</td>\n",
              "    </tr>\n",
              "    <tr>\n",
              "      <th>20</th>\n",
              "      <td>sum_dp_years_of_experience</td>\n",
              "      <td>-0.180252</td>\n",
              "    </tr>\n",
              "    <tr>\n",
              "      <th>21</th>\n",
              "      <td>sum_dp_years_of_experience_as_entreprenuer</td>\n",
              "      <td>-0.027946</td>\n",
              "    </tr>\n",
              "  </tbody>\n",
              "</table>\n",
              "</div>"
            ],
            "text/plain": [
              "                                     Attribute  Importance\n",
              "0                               first_r_amount    0.789428\n",
              "1                        rounds_funding_factor   -0.645300\n",
              "2                              dp_rounds_count   -0.229378\n",
              "3                         dp_rounds_amount_sum    1.209764\n",
              "4                         dp_rounds_amount_max    1.267800\n",
              "5                         dp_last_round_amount    0.909009\n",
              "6                           dp_years_operating   -0.450036\n",
              "7                              sum_manager_exp    0.441822\n",
              "8                               sum_clevel_exp   -0.037647\n",
              "9                          sum_engineering_exp   -0.229395\n",
              "10                               sum_sales_exp   -0.674725\n",
              "11                             sum_finance_exp    0.088403\n",
              "12                       sum_human_capital_exp   -0.106032\n",
              "13                          sum_consulting_exp    0.314350\n",
              "14                             sum_founder_exp   -0.288460\n",
              "15                      sum_number_of_startups    0.386341\n",
              "16                                  sum_gender    0.203994\n",
              "17                         sum_foreing_studies    0.042566\n",
              "18                 sum_foreing_work_experience   -0.214241\n",
              "19                         sum_foreing_founder   -0.584768\n",
              "20                  sum_dp_years_of_experience   -0.180252\n",
              "21  sum_dp_years_of_experience_as_entreprenuer   -0.027946"
            ]
          },
          "metadata": {},
          "execution_count": 387
        }
      ]
    },
    {
      "cell_type": "code",
      "metadata": {
        "id": "NfV6_A25DFlm"
      },
      "source": [
        ""
      ],
      "execution_count": 387,
      "outputs": []
    },
    {
      "cell_type": "markdown",
      "metadata": {
        "id": "ZSjI7flSE-qL"
      },
      "source": [
        "### Standard and smote balance"
      ]
    },
    {
      "cell_type": "code",
      "metadata": {
        "colab": {
          "base_uri": "https://localhost:8080/"
        },
        "id": "a6ruSnXTE-qd",
        "outputId": "649de094-64e7-4c16-a0be-7156490ed7f0"
      },
      "source": [
        "# 1. Define variables X and y\n",
        "\n",
        "X = X_columns_standard # Independent\n",
        "y = db_companies_Encode_Model.soonicorn # Dependent\n",
        "\n",
        "print(X)\n",
        "print(y)"
      ],
      "execution_count": 408,
      "outputs": [
        {
          "output_type": "stream",
          "name": "stdout",
          "text": [
            "     first_r_amount  ...  sum_dp_years_of_experience_as_entreprenuer\n",
            "0         -0.077119  ...                                    1.164139\n",
            "1         -0.131298  ...                                    0.341445\n",
            "2         -0.123909  ...                                   -0.618365\n",
            "3         -0.125859  ...                                   -0.344133\n",
            "4         -0.130928  ...                                   -0.892596\n",
            "..              ...  ...                                         ...\n",
            "505       -0.102464  ...                                    0.615676\n",
            "506        8.641500  ...                                    0.204329\n",
            "507       -0.126639  ...                                   -0.344133\n",
            "508       -0.126639  ...                                   -0.481249\n",
            "509        0.059353  ...                                    0.067214\n",
            "\n",
            "[510 rows x 22 columns]\n",
            "0      0\n",
            "1      0\n",
            "2      0\n",
            "3      1\n",
            "4      0\n",
            "      ..\n",
            "505    0\n",
            "506    1\n",
            "507    0\n",
            "508    0\n",
            "509    0\n",
            "Name: soonicorn, Length: 510, dtype: int64\n"
          ]
        }
      ]
    },
    {
      "cell_type": "code",
      "metadata": {
        "id": "aTDjh5x4E-qg"
      },
      "source": [
        "# 2. Split the data\n",
        "\n",
        "from sklearn.model_selection import train_test_split\n",
        "\n",
        "# Split the preprocessed data into a training and testing dataset\n",
        "X_train, X_test, y_train, y_test = train_test_split(X, y, random_state=4281)"
      ],
      "execution_count": 409,
      "outputs": []
    },
    {
      "cell_type": "markdown",
      "metadata": {
        "id": "C8efZPQWE-qg"
      },
      "source": [
        "Under sampling"
      ]
    },
    {
      "cell_type": "code",
      "metadata": {
        "colab": {
          "base_uri": "https://localhost:8080/"
        },
        "id": "ZYp3cHUxE-qh",
        "outputId": "98def5fb-40bd-4027-a50a-69f3fd9cb9fc"
      },
      "source": [
        "# Making balance w/smote sampling\n",
        "from collections import Counter\n",
        "from imblearn.over_sampling import SMOTE\n",
        "from sklearn.datasets import make_classification\n",
        "\n",
        "X_train=np.array(X_train)\n",
        "\n",
        "X_resampled, y_resampled = SMOTE(random_state=1,sampling_strategy='auto').fit_resample(X_train, y_train)\n",
        "\n",
        "from collections import Counter\n",
        "print(sorted(Counter(y_resampled).items()))"
      ],
      "execution_count": 410,
      "outputs": [
        {
          "output_type": "stream",
          "name": "stdout",
          "text": [
            "[(0, 353), (1, 353)]\n"
          ]
        }
      ]
    },
    {
      "cell_type": "markdown",
      "metadata": {
        "id": "FNF3iJTCE-qh"
      },
      "source": [
        "Modeling"
      ]
    },
    {
      "cell_type": "code",
      "metadata": {
        "id": "xf62APXLE-qh"
      },
      "source": [
        "X_resampled = pd.DataFrame(X_resampled)"
      ],
      "execution_count": 411,
      "outputs": []
    },
    {
      "cell_type": "code",
      "metadata": {
        "colab": {
          "base_uri": "https://localhost:8080/"
        },
        "id": "AmWy1tX0E-qi",
        "outputId": "1bdd4f28-1646-44ad-ae44-63bbbc1457ee"
      },
      "source": [
        "# 3. Choose your Logistic Regression\n",
        "from sklearn.linear_model import LogisticRegression\n",
        "classifier = LogisticRegression()\n",
        "classifier"
      ],
      "execution_count": 412,
      "outputs": [
        {
          "output_type": "execute_result",
          "data": {
            "text/plain": [
              "LogisticRegression()"
            ]
          },
          "metadata": {},
          "execution_count": 412
        }
      ]
    },
    {
      "cell_type": "code",
      "metadata": {
        "colab": {
          "base_uri": "https://localhost:8080/"
        },
        "id": "wxEUuNi2E-qi",
        "outputId": "ab810959-bca4-4f1c-f35b-1761e3c3cba7"
      },
      "source": [
        "# 4. Train your model and define your prediction variable\n",
        "\n",
        "classifier.fit(X_resampled, y_resampled)\n",
        "y_pred=classifier.predict(X_test)\n",
        "y_pred"
      ],
      "execution_count": 413,
      "outputs": [
        {
          "output_type": "stream",
          "name": "stderr",
          "text": [
            "/usr/local/lib/python3.7/dist-packages/sklearn/base.py:439: UserWarning: X has feature names, but LogisticRegression was fitted without feature names\n",
            "  f\"X has feature names, but {self.__class__.__name__} was fitted without\"\n"
          ]
        },
        {
          "output_type": "execute_result",
          "data": {
            "text/plain": [
              "array([1, 0, 0, 0, 1, 0, 1, 0, 0, 1, 0, 0, 0, 0, 0, 0, 0, 0, 0, 0, 0, 1,\n",
              "       0, 0, 0, 0, 0, 0, 0, 0, 0, 0, 0, 0, 0, 0, 0, 0, 1, 0, 0, 0, 0, 0,\n",
              "       0, 1, 0, 0, 0, 1, 0, 0, 0, 0, 0, 0, 0, 0, 0, 0, 0, 0, 0, 0, 0, 0,\n",
              "       0, 0, 0, 0, 0, 0, 0, 0, 0, 0, 1, 0, 0, 1, 0, 1, 1, 0, 0, 0, 0, 0,\n",
              "       0, 0, 0, 1, 0, 0, 0, 0, 0, 0, 0, 0, 0, 0, 1, 0, 0, 0, 0, 0, 0, 0,\n",
              "       0, 0, 0, 0, 0, 0, 0, 0, 0, 0, 0, 0, 0, 0, 0, 0, 0, 0])"
            ]
          },
          "metadata": {},
          "execution_count": 413
        }
      ]
    },
    {
      "cell_type": "code",
      "metadata": {
        "colab": {
          "base_uri": "https://localhost:8080/"
        },
        "id": "2RaCKCEWE-qj",
        "outputId": "eb6e0bfa-8fc8-49b9-98ec-046695eced70"
      },
      "source": [
        "# 5. Statistics for your model\n",
        "\n",
        "# Scores for model\n",
        "training_score = classifier.score(X_resampled, y_resampled)\n",
        "testing_score = classifier.score(X_test, y_test)\n",
        "\n",
        "print(f\"Training Data Score: {training_score}\")\n",
        "print(f\"Testing Data Score: {testing_score}\")"
      ],
      "execution_count": 414,
      "outputs": [
        {
          "output_type": "stream",
          "name": "stdout",
          "text": [
            "Training Data Score: 0.9589235127478754\n",
            "Testing Data Score: 0.9609375\n"
          ]
        },
        {
          "output_type": "stream",
          "name": "stderr",
          "text": [
            "/usr/local/lib/python3.7/dist-packages/sklearn/base.py:439: UserWarning: X has feature names, but LogisticRegression was fitted without feature names\n",
            "  f\"X has feature names, but {self.__class__.__name__} was fitted without\"\n"
          ]
        }
      ]
    },
    {
      "cell_type": "code",
      "metadata": {
        "colab": {
          "base_uri": "https://localhost:8080/",
          "height": 350
        },
        "id": "dHppg-HYE-qk",
        "outputId": "7acc5913-d0a3-434c-aefc-a2ce13fc55be"
      },
      "source": [
        "# 6. Confusion matrix\n",
        "\n",
        "confusion_matrix = pd.crosstab(y_test, y_pred, rownames=['Actual'], colnames=['Predicted'])\n",
        "sns.heatmap(confusion_matrix, annot=True)\n",
        "print(confusion_matrix)"
      ],
      "execution_count": 415,
      "outputs": [
        {
          "output_type": "stream",
          "name": "stdout",
          "text": [
            "Predicted    0   1\n",
            "Actual            \n",
            "0          112   3\n",
            "1            2  11\n"
          ]
        },
        {
          "output_type": "display_data",
          "data": {
            "image/png": "[encoded data removed]",
            "text/plain": [
              "<Figure size 432x288 with 2 Axes>"
            ]
          },
          "metadata": {
            "needs_background": "light"
          }
        }
      ]
    },
    {
      "cell_type": "code",
      "metadata": {
        "colab": {
          "base_uri": "https://localhost:8080/"
        },
        "id": "MaIEfXIEE-qm",
        "outputId": "bacc4f73-a8b5-4db6-ab16-fce4c416fe03"
      },
      "source": [
        "# 7. Accuracy \n",
        "\n",
        "from sklearn.metrics import classification_report\n",
        "print(classification_report(y_test,y_pred))"
      ],
      "execution_count": 416,
      "outputs": [
        {
          "output_type": "stream",
          "name": "stdout",
          "text": [
            "              precision    recall  f1-score   support\n",
            "\n",
            "           0       0.98      0.97      0.98       115\n",
            "           1       0.79      0.85      0.81        13\n",
            "\n",
            "    accuracy                           0.96       128\n",
            "   macro avg       0.88      0.91      0.90       128\n",
            "weighted avg       0.96      0.96      0.96       128\n",
            "\n"
          ]
        }
      ]
    },
    {
      "cell_type": "code",
      "metadata": {
        "colab": {
          "base_uri": "https://localhost:8080/",
          "height": 723
        },
        "id": "bBQS-vWZE-qm",
        "outputId": "f72a9b11-e9a1-438a-f56e-428f8faa1fad"
      },
      "source": [
        "# 8. Importances by variable\n",
        "\n",
        "importances = pd.DataFrame(data={\n",
        "    'Attribute': X_columns.columns,\n",
        "    'Importance': classifier.coef_[0]\n",
        "})\n",
        "importances"
      ],
      "execution_count": 417,
      "outputs": [
        {
          "output_type": "execute_result",
          "data": {
            "text/html": [
              "<div>\n",
              "<style scoped>\n",
              "    .dataframe tbody tr th:only-of-type {\n",
              "        vertical-align: middle;\n",
              "    }\n",
              "\n",
              "    .dataframe tbody tr th {\n",
              "        vertical-align: top;\n",
              "    }\n",
              "\n",
              "    .dataframe thead th {\n",
              "        text-align: right;\n",
              "    }\n",
              "</style>\n",
              "<table border=\"1\" class=\"dataframe\">\n",
              "  <thead>\n",
              "    <tr style=\"text-align: right;\">\n",
              "      <th></th>\n",
              "      <th>Attribute</th>\n",
              "      <th>Importance</th>\n",
              "    </tr>\n",
              "  </thead>\n",
              "  <tbody>\n",
              "    <tr>\n",
              "      <th>0</th>\n",
              "      <td>first_r_amount</td>\n",
              "      <td>3.293818</td>\n",
              "    </tr>\n",
              "    <tr>\n",
              "      <th>1</th>\n",
              "      <td>rounds_funding_factor</td>\n",
              "      <td>-1.003990</td>\n",
              "    </tr>\n",
              "    <tr>\n",
              "      <th>2</th>\n",
              "      <td>dp_rounds_count</td>\n",
              "      <td>-0.310149</td>\n",
              "    </tr>\n",
              "    <tr>\n",
              "      <th>3</th>\n",
              "      <td>dp_rounds_amount_sum</td>\n",
              "      <td>2.725479</td>\n",
              "    </tr>\n",
              "    <tr>\n",
              "      <th>4</th>\n",
              "      <td>dp_rounds_amount_max</td>\n",
              "      <td>2.613053</td>\n",
              "    </tr>\n",
              "    <tr>\n",
              "      <th>5</th>\n",
              "      <td>dp_last_round_amount</td>\n",
              "      <td>0.978870</td>\n",
              "    </tr>\n",
              "    <tr>\n",
              "      <th>6</th>\n",
              "      <td>dp_years_operating</td>\n",
              "      <td>-0.988681</td>\n",
              "    </tr>\n",
              "    <tr>\n",
              "      <th>7</th>\n",
              "      <td>sum_manager_exp</td>\n",
              "      <td>0.699812</td>\n",
              "    </tr>\n",
              "    <tr>\n",
              "      <th>8</th>\n",
              "      <td>sum_clevel_exp</td>\n",
              "      <td>0.158069</td>\n",
              "    </tr>\n",
              "    <tr>\n",
              "      <th>9</th>\n",
              "      <td>sum_engineering_exp</td>\n",
              "      <td>0.169714</td>\n",
              "    </tr>\n",
              "    <tr>\n",
              "      <th>10</th>\n",
              "      <td>sum_sales_exp</td>\n",
              "      <td>-1.123014</td>\n",
              "    </tr>\n",
              "    <tr>\n",
              "      <th>11</th>\n",
              "      <td>sum_finance_exp</td>\n",
              "      <td>-0.243285</td>\n",
              "    </tr>\n",
              "    <tr>\n",
              "      <th>12</th>\n",
              "      <td>sum_human_capital_exp</td>\n",
              "      <td>-0.269710</td>\n",
              "    </tr>\n",
              "    <tr>\n",
              "      <th>13</th>\n",
              "      <td>sum_consulting_exp</td>\n",
              "      <td>-0.322182</td>\n",
              "    </tr>\n",
              "    <tr>\n",
              "      <th>14</th>\n",
              "      <td>sum_founder_exp</td>\n",
              "      <td>-0.089345</td>\n",
              "    </tr>\n",
              "    <tr>\n",
              "      <th>15</th>\n",
              "      <td>sum_number_of_startups</td>\n",
              "      <td>-0.366290</td>\n",
              "    </tr>\n",
              "    <tr>\n",
              "      <th>16</th>\n",
              "      <td>sum_gender</td>\n",
              "      <td>0.383579</td>\n",
              "    </tr>\n",
              "    <tr>\n",
              "      <th>17</th>\n",
              "      <td>sum_foreing_studies</td>\n",
              "      <td>-0.191256</td>\n",
              "    </tr>\n",
              "    <tr>\n",
              "      <th>18</th>\n",
              "      <td>sum_foreing_work_experience</td>\n",
              "      <td>0.321433</td>\n",
              "    </tr>\n",
              "    <tr>\n",
              "      <th>19</th>\n",
              "      <td>sum_foreing_founder</td>\n",
              "      <td>-1.393788</td>\n",
              "    </tr>\n",
              "    <tr>\n",
              "      <th>20</th>\n",
              "      <td>sum_dp_years_of_experience</td>\n",
              "      <td>-0.878267</td>\n",
              "    </tr>\n",
              "    <tr>\n",
              "      <th>21</th>\n",
              "      <td>sum_dp_years_of_experience_as_entreprenuer</td>\n",
              "      <td>0.972477</td>\n",
              "    </tr>\n",
              "  </tbody>\n",
              "</table>\n",
              "</div>"
            ],
            "text/plain": [
              "                                     Attribute  Importance\n",
              "0                               first_r_amount    3.293818\n",
              "1                        rounds_funding_factor   -1.003990\n",
              "2                              dp_rounds_count   -0.310149\n",
              "3                         dp_rounds_amount_sum    2.725479\n",
              "4                         dp_rounds_amount_max    2.613053\n",
              "5                         dp_last_round_amount    0.978870\n",
              "6                           dp_years_operating   -0.988681\n",
              "7                              sum_manager_exp    0.699812\n",
              "8                               sum_clevel_exp    0.158069\n",
              "9                          sum_engineering_exp    0.169714\n",
              "10                               sum_sales_exp   -1.123014\n",
              "11                             sum_finance_exp   -0.243285\n",
              "12                       sum_human_capital_exp   -0.269710\n",
              "13                          sum_consulting_exp   -0.322182\n",
              "14                             sum_founder_exp   -0.089345\n",
              "15                      sum_number_of_startups   -0.366290\n",
              "16                                  sum_gender    0.383579\n",
              "17                         sum_foreing_studies   -0.191256\n",
              "18                 sum_foreing_work_experience    0.321433\n",
              "19                         sum_foreing_founder   -1.393788\n",
              "20                  sum_dp_years_of_experience   -0.878267\n",
              "21  sum_dp_years_of_experience_as_entreprenuer    0.972477"
            ]
          },
          "metadata": {},
          "execution_count": 417
        }
      ]
    },
    {
      "cell_type": "code",
      "metadata": {
        "id": "In9H-1MLE-qn"
      },
      "source": [
        ""
      ],
      "execution_count": 417,
      "outputs": []
    },
    {
      "cell_type": "code",
      "metadata": {
        "id": "A9xtooYUDDc9"
      },
      "source": [
        ""
      ],
      "execution_count": 417,
      "outputs": []
    }
  ]
}
